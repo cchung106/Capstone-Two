{
 "cells": [
  {
   "cell_type": "markdown",
   "id": "d394401f",
   "metadata": {},
   "source": [
    "# Identifying Credit Card Fraud - Modeling\n",
    "\n",
    "## Introduction\n",
    "\n",
    "### 1. The Problem:\n",
    "\n",
    "\n",
    "\n",
    "### 2. The data:\n",
    "\n",
    "\n",
    "\n",
    "### 3. Features:\n",
    "\n",
    "\n",
    "\n",
    "### 4. Scenario:\n",
    "\n",
    "Our goal is to approach this as an actual business problem, to the best of our ability.  Unfortunately, given the nature of this project, there is no actual \"client\" or \"customer\" where we can discuss and properly assess the objectives of our solution.  As a result, I've consulted with my mentor and we have put forth the following scenario:\n",
    "\n",
    "- We will set our objective to be to catch as many fraudulent transactions as possible, at the expense of incorrectly labeling some valid transactions as fraud. \n",
    "- As a result, our goal will be to optimize <b>recall</b>.\n",
    "\n",
    "\n",
    "### 5. Plan:\n",
    "\n",
    "In our previous notebook, we generated a baseline model that with poor performance due to the highly imbalanced nature of classes in this dataset.  In this notebook, we plan on dealing with the imbalance so that we can train more effective models.  We will try multiple combinations of sampling methods and algorithms to construct multiple models to compare.  \n",
    "\n",
    "As for sampling methods, we will try random undersampling and random oversampling. A drawback of these two methods is that random undersampling of the majority class can potentially remove important data points, and random oversampling of the minority class can lead to overfitting.  As a result, we will also try to synthetically generate samples that are similar to the minority class distribution using SMOTE.  And finally, we will also try the \"class_weight\" parameter in each of the models to balance the weight of the majority and minority classes.\n",
    "\n",
    "Speaking of models, we will try Logistic Regression, Random Forest, and XGBoost. In order to compare, our end goal will be to construct a table such as this:\n",
    "\n",
    "\n",
    "| Algorithm | Class Balance | Train Precision | Train Recall | Train f1-score | Train Support | Test Precision | Test Recall | Test f1-score | Test Support |\n",
    "| --- | --- | --- | --- | --- | --- | --- | --- | --- | --- |\n",
    "| <b>Logistic Regression</b> | Undersample majority | ? | ? | ? | ? | ? | ? | ? | ? |\n",
    "| | Oversample minority | ? | ? | ? | ? | ? | ? | ? | ? |\n",
    "| | SMOTE | ? | ? | ? | ? | ? | ? | ? | ? |\n",
    "| | class_weight balance | ? | ? | ? | ? | ? | ? | ? | ? |\n",
    "| <b>Random Forest</b> | Undersample majority | ? | ? | ? | ? | ? | ? | ? | ? |\n",
    "| | Oversample minority | ? | ? | ? | ? | ? | ? | ? | ? |\n",
    "| | SMOTE | ? | ? | ? | ? | ? | ? | ? | ? |\n",
    "| | class_weight balance | ? | ? | ? | ? | ? | ? | ? | ? |\n",
    "| <b>XGboost</b> | Undersample majority | ? | ? | ? | ? | ? | ? | ? | ? |\n",
    "| | Oversample minority | ? | ? | ? | ? | ? | ? | ? | ? |\n",
    "| | SMOTE | ? | ? | ? | ? | ? | ? | ? | ? |\n",
    "| | class_weight balance | ? | ? | ? | ? | ? | ? | ? | ? |\n",
    "\n"
   ]
  },
  {
   "cell_type": "markdown",
   "id": "441128fb",
   "metadata": {},
   "source": [
    "## Imports"
   ]
  },
  {
   "cell_type": "code",
   "execution_count": 1,
   "id": "503c7b65",
   "metadata": {},
   "outputs": [],
   "source": [
    "import pandas as pd\n",
    "import numpy as np\n",
    "import matplotlib.pyplot as plt\n",
    "import seaborn as sns"
   ]
  },
  {
   "cell_type": "code",
   "execution_count": 2,
   "id": "07be101d",
   "metadata": {},
   "outputs": [],
   "source": [
    "X_train = pd.read_csv('../raw_data/X_train.csv', index_col=0)\n",
    "X_test = pd.read_csv('../raw_data/X_test.csv', index_col=0)\n",
    "y_train = pd.read_csv('../raw_data/y_train.csv', index_col=0)\n",
    "y_test = pd.read_csv('../raw_data/y_test.csv', index_col=0)"
   ]
  },
  {
   "cell_type": "code",
   "execution_count": 29,
   "id": "ddc8c285",
   "metadata": {},
   "outputs": [
    {
     "name": "stdout",
     "output_type": "stream",
     "text": [
      "<class 'pandas.core.frame.DataFrame'>\n",
      "Int64Index: 1481794 entries, 572842 to 269493\n",
      "Data columns (total 31 columns):\n",
      " #   Column              Non-Null Count    Dtype  \n",
      "---  ------              --------------    -----  \n",
      " 0   amt                 1481794 non-null  float64\n",
      " 1   city_pop            1481794 non-null  int64  \n",
      " 2   abnormal_hours      1481794 non-null  int64  \n",
      " 3   time_diff           1481794 non-null  float64\n",
      " 4   count_24_hour       1481794 non-null  float64\n",
      " 5   count_7_days        1481794 non-null  float64\n",
      " 6   count_30_days       1481794 non-null  float64\n",
      " 7   gender_M            1481794 non-null  int64  \n",
      " 8   dist_haversine      1481794 non-null  float64\n",
      " 9   age                 1481794 non-null  int64  \n",
      " 10  cat_entertainment   1481794 non-null  int64  \n",
      " 11  cat_food_dining     1481794 non-null  int64  \n",
      " 12  cat_gas_transport   1481794 non-null  int64  \n",
      " 13  cat_grocery_net     1481794 non-null  int64  \n",
      " 14  cat_grocery_pos     1481794 non-null  int64  \n",
      " 15  cat_health_fitness  1481794 non-null  int64  \n",
      " 16  cat_home            1481794 non-null  int64  \n",
      " 17  cat_kids_pets       1481794 non-null  int64  \n",
      " 18  cat_misc_net        1481794 non-null  int64  \n",
      " 19  cat_misc_pos        1481794 non-null  int64  \n",
      " 20  cat_personal_care   1481794 non-null  int64  \n",
      " 21  cat_shopping_net    1481794 non-null  int64  \n",
      " 22  cat_shopping_pos    1481794 non-null  int64  \n",
      " 23  cat_travel          1481794 non-null  int64  \n",
      " 24  day_Friday          1481794 non-null  int64  \n",
      " 25  day_Monday          1481794 non-null  int64  \n",
      " 26  day_Saturday        1481794 non-null  int64  \n",
      " 27  day_Sunday          1481794 non-null  int64  \n",
      " 28  day_Thursday        1481794 non-null  int64  \n",
      " 29  day_Tuesday         1481794 non-null  int64  \n",
      " 30  day_Wednesday       1481794 non-null  int64  \n",
      "dtypes: float64(6), int64(25)\n",
      "memory usage: 361.8 MB\n"
     ]
    }
   ],
   "source": [
    "X_train.info()"
   ]
  },
  {
   "cell_type": "code",
   "execution_count": 30,
   "id": "0ad08bc5",
   "metadata": {},
   "outputs": [
    {
     "name": "stdout",
     "output_type": "stream",
     "text": [
      "<class 'pandas.core.frame.DataFrame'>\n",
      "Int64Index: 370449 entries, 1634393 to 1228030\n",
      "Data columns (total 31 columns):\n",
      " #   Column              Non-Null Count   Dtype  \n",
      "---  ------              --------------   -----  \n",
      " 0   amt                 370449 non-null  float64\n",
      " 1   city_pop            370449 non-null  int64  \n",
      " 2   abnormal_hours      370449 non-null  int64  \n",
      " 3   time_diff           370449 non-null  float64\n",
      " 4   count_24_hour       370449 non-null  float64\n",
      " 5   count_7_days        370449 non-null  float64\n",
      " 6   count_30_days       370449 non-null  float64\n",
      " 7   gender_M            370449 non-null  int64  \n",
      " 8   dist_haversine      370449 non-null  float64\n",
      " 9   age                 370449 non-null  int64  \n",
      " 10  cat_entertainment   370449 non-null  int64  \n",
      " 11  cat_food_dining     370449 non-null  int64  \n",
      " 12  cat_gas_transport   370449 non-null  int64  \n",
      " 13  cat_grocery_net     370449 non-null  int64  \n",
      " 14  cat_grocery_pos     370449 non-null  int64  \n",
      " 15  cat_health_fitness  370449 non-null  int64  \n",
      " 16  cat_home            370449 non-null  int64  \n",
      " 17  cat_kids_pets       370449 non-null  int64  \n",
      " 18  cat_misc_net        370449 non-null  int64  \n",
      " 19  cat_misc_pos        370449 non-null  int64  \n",
      " 20  cat_personal_care   370449 non-null  int64  \n",
      " 21  cat_shopping_net    370449 non-null  int64  \n",
      " 22  cat_shopping_pos    370449 non-null  int64  \n",
      " 23  cat_travel          370449 non-null  int64  \n",
      " 24  day_Friday          370449 non-null  int64  \n",
      " 25  day_Monday          370449 non-null  int64  \n",
      " 26  day_Saturday        370449 non-null  int64  \n",
      " 27  day_Sunday          370449 non-null  int64  \n",
      " 28  day_Thursday        370449 non-null  int64  \n",
      " 29  day_Tuesday         370449 non-null  int64  \n",
      " 30  day_Wednesday       370449 non-null  int64  \n",
      "dtypes: float64(6), int64(25)\n",
      "memory usage: 90.4 MB\n"
     ]
    }
   ],
   "source": [
    "X_test.info()"
   ]
  },
  {
   "cell_type": "code",
   "execution_count": 31,
   "id": "6744ad0e",
   "metadata": {},
   "outputs": [
    {
     "name": "stdout",
     "output_type": "stream",
     "text": [
      "<class 'pandas.core.frame.DataFrame'>\n",
      "Int64Index: 1481794 entries, 572842 to 269493\n",
      "Data columns (total 1 columns):\n",
      " #   Column    Non-Null Count    Dtype\n",
      "---  ------    --------------    -----\n",
      " 0   is_fraud  1481794 non-null  int64\n",
      "dtypes: int64(1)\n",
      "memory usage: 22.6 MB\n"
     ]
    }
   ],
   "source": [
    "y_train.info()"
   ]
  },
  {
   "cell_type": "code",
   "execution_count": 32,
   "id": "c9f69e64",
   "metadata": {
    "scrolled": true
   },
   "outputs": [
    {
     "name": "stdout",
     "output_type": "stream",
     "text": [
      "<class 'pandas.core.frame.DataFrame'>\n",
      "Int64Index: 370449 entries, 1634393 to 1228030\n",
      "Data columns (total 1 columns):\n",
      " #   Column    Non-Null Count   Dtype\n",
      "---  ------    --------------   -----\n",
      " 0   is_fraud  370449 non-null  int64\n",
      "dtypes: int64(1)\n",
      "memory usage: 5.7 MB\n"
     ]
    }
   ],
   "source": [
    "y_test.info()"
   ]
  },
  {
   "cell_type": "code",
   "execution_count": 33,
   "id": "d3dab433",
   "metadata": {},
   "outputs": [
    {
     "data": {
      "text/plain": [
       "is_fraud\n",
       "0           1474073\n",
       "1              7721\n",
       "dtype: int64"
      ]
     },
     "execution_count": 33,
     "metadata": {},
     "output_type": "execute_result"
    }
   ],
   "source": [
    "y_train.value_counts()"
   ]
  },
  {
   "cell_type": "code",
   "execution_count": 34,
   "id": "c3f70f4d",
   "metadata": {},
   "outputs": [
    {
     "data": {
      "text/plain": [
       "is_fraud\n",
       "0           368519\n",
       "1             1930\n",
       "dtype: int64"
      ]
     },
     "execution_count": 34,
     "metadata": {},
     "output_type": "execute_result"
    }
   ],
   "source": [
    "y_test.value_counts()"
   ]
  },
  {
   "cell_type": "markdown",
   "id": "dfc77f33",
   "metadata": {},
   "source": [
    "## Resampling"
   ]
  },
  {
   "cell_type": "markdown",
   "id": "e70ad5b2",
   "metadata": {},
   "source": [
    "First, we'll create a dataframe with the counts of observations in X_train, y_train, as well as the counts of each class of the target variable \"is_fraud\"."
   ]
  },
  {
   "cell_type": "code",
   "execution_count": 7,
   "id": "6857814b",
   "metadata": {},
   "outputs": [
    {
     "data": {
      "text/html": [
       "<div>\n",
       "<style scoped>\n",
       "    .dataframe tbody tr th:only-of-type {\n",
       "        vertical-align: middle;\n",
       "    }\n",
       "\n",
       "    .dataframe tbody tr th {\n",
       "        vertical-align: top;\n",
       "    }\n",
       "\n",
       "    .dataframe thead th {\n",
       "        text-align: right;\n",
       "    }\n",
       "</style>\n",
       "<table border=\"1\" class=\"dataframe\">\n",
       "  <thead>\n",
       "    <tr style=\"text-align: right;\">\n",
       "      <th></th>\n",
       "      <th>technique</th>\n",
       "      <th>X_train_shape</th>\n",
       "      <th>y_train_shape</th>\n",
       "      <th>is_fraud_0</th>\n",
       "      <th>is_fraud_1</th>\n",
       "    </tr>\n",
       "  </thead>\n",
       "  <tbody>\n",
       "    <tr>\n",
       "      <th>0</th>\n",
       "      <td>Original Data</td>\n",
       "      <td>1481794</td>\n",
       "      <td>1481794</td>\n",
       "      <td>1474073</td>\n",
       "      <td>7721</td>\n",
       "    </tr>\n",
       "  </tbody>\n",
       "</table>\n",
       "</div>"
      ],
      "text/plain": [
       "       technique  X_train_shape  y_train_shape  is_fraud_0  is_fraud_1\n",
       "0  Original Data        1481794        1481794     1474073        7721"
      ]
     },
     "execution_count": 7,
     "metadata": {},
     "output_type": "execute_result"
    }
   ],
   "source": [
    "counts_table = pd.DataFrame()\n",
    "\n",
    "counts_table['technique'] = ['Original Data']\n",
    "counts_table['X_train_shape'] = [X_train.shape[0]]\n",
    "counts_table['y_train_shape'] = [y_train.shape[0]]\n",
    "counts_table['is_fraud_0'] = [y_train.value_counts()[0]]\n",
    "counts_table['is_fraud_1'] = [y_train.value_counts()[1]]\n",
    "\n",
    "counts_table"
   ]
  },
  {
   "cell_type": "markdown",
   "id": "ad4384ed",
   "metadata": {},
   "source": [
    "#### Undersampling\n",
    "\n",
    "We'll create new variables for X_train, y_train after they have been undersampled using RandomUnderSampler."
   ]
  },
  {
   "cell_type": "code",
   "execution_count": 8,
   "id": "f082eb01",
   "metadata": {},
   "outputs": [],
   "source": [
    "from imblearn.under_sampling import RandomUnderSampler\n",
    "\n",
    "rus = RandomUnderSampler(random_state=42, replacement=True)\n",
    "\n",
    "X_train_rus, y_train_rus = rus.fit_sample(X_train, y_train)"
   ]
  },
  {
   "cell_type": "markdown",
   "id": "8dc2d1f1",
   "metadata": {},
   "source": [
    "Next, we'll create a new row in our counts_table dataframe and append the counts."
   ]
  },
  {
   "cell_type": "code",
   "execution_count": 9,
   "id": "6f0e0e42",
   "metadata": {},
   "outputs": [
    {
     "data": {
      "text/html": [
       "<div>\n",
       "<style scoped>\n",
       "    .dataframe tbody tr th:only-of-type {\n",
       "        vertical-align: middle;\n",
       "    }\n",
       "\n",
       "    .dataframe tbody tr th {\n",
       "        vertical-align: top;\n",
       "    }\n",
       "\n",
       "    .dataframe thead th {\n",
       "        text-align: right;\n",
       "    }\n",
       "</style>\n",
       "<table border=\"1\" class=\"dataframe\">\n",
       "  <thead>\n",
       "    <tr style=\"text-align: right;\">\n",
       "      <th></th>\n",
       "      <th>technique</th>\n",
       "      <th>X_train_shape</th>\n",
       "      <th>y_train_shape</th>\n",
       "      <th>is_fraud_0</th>\n",
       "      <th>is_fraud_1</th>\n",
       "    </tr>\n",
       "  </thead>\n",
       "  <tbody>\n",
       "    <tr>\n",
       "      <th>0</th>\n",
       "      <td>Original Data</td>\n",
       "      <td>1481794</td>\n",
       "      <td>1481794</td>\n",
       "      <td>1474073</td>\n",
       "      <td>7721</td>\n",
       "    </tr>\n",
       "    <tr>\n",
       "      <th>1</th>\n",
       "      <td>Random Under Sampling</td>\n",
       "      <td>15442</td>\n",
       "      <td>15442</td>\n",
       "      <td>7721</td>\n",
       "      <td>7721</td>\n",
       "    </tr>\n",
       "  </tbody>\n",
       "</table>\n",
       "</div>"
      ],
      "text/plain": [
       "               technique  X_train_shape  y_train_shape  is_fraud_0  is_fraud_1\n",
       "0          Original Data        1481794        1481794     1474073        7721\n",
       "1  Random Under Sampling          15442          15442        7721        7721"
      ]
     },
     "execution_count": 9,
     "metadata": {},
     "output_type": "execute_result"
    }
   ],
   "source": [
    "new_row = {'technique':'Random Under Sampling', \n",
    "           'X_train_shape': X_train_rus.shape[0],\n",
    "          'y_train_shape': y_train_rus.shape[0],\n",
    "           'is_fraud_0': y_train_rus.value_counts()[0],\n",
    "          'is_fraud_1': y_train_rus.value_counts()[1]}\n",
    "\n",
    "counts_table = counts_table.append(new_row, ignore_index=True)\n",
    "counts_table"
   ]
  },
  {
   "cell_type": "markdown",
   "id": "6b01a8cd",
   "metadata": {},
   "source": [
    "#### Oversampling\n",
    "\n",
    "We'll create new variables for X_train, y_train after they have been oversampled using RandomOversampler."
   ]
  },
  {
   "cell_type": "code",
   "execution_count": 10,
   "id": "2a9be74f",
   "metadata": {},
   "outputs": [],
   "source": [
    "from imblearn.over_sampling import RandomOverSampler\n",
    "\n",
    "ros = RandomOverSampler()\n",
    "\n",
    "X_train_ros, y_train_ros = ros.fit_sample(X_train, y_train)"
   ]
  },
  {
   "cell_type": "code",
   "execution_count": 11,
   "id": "d25903c9",
   "metadata": {},
   "outputs": [
    {
     "data": {
      "text/html": [
       "<div>\n",
       "<style scoped>\n",
       "    .dataframe tbody tr th:only-of-type {\n",
       "        vertical-align: middle;\n",
       "    }\n",
       "\n",
       "    .dataframe tbody tr th {\n",
       "        vertical-align: top;\n",
       "    }\n",
       "\n",
       "    .dataframe thead th {\n",
       "        text-align: right;\n",
       "    }\n",
       "</style>\n",
       "<table border=\"1\" class=\"dataframe\">\n",
       "  <thead>\n",
       "    <tr style=\"text-align: right;\">\n",
       "      <th></th>\n",
       "      <th>technique</th>\n",
       "      <th>X_train_shape</th>\n",
       "      <th>y_train_shape</th>\n",
       "      <th>is_fraud_0</th>\n",
       "      <th>is_fraud_1</th>\n",
       "    </tr>\n",
       "  </thead>\n",
       "  <tbody>\n",
       "    <tr>\n",
       "      <th>0</th>\n",
       "      <td>Original Data</td>\n",
       "      <td>1481794</td>\n",
       "      <td>1481794</td>\n",
       "      <td>1474073</td>\n",
       "      <td>7721</td>\n",
       "    </tr>\n",
       "    <tr>\n",
       "      <th>1</th>\n",
       "      <td>Random Under Sampling</td>\n",
       "      <td>15442</td>\n",
       "      <td>15442</td>\n",
       "      <td>7721</td>\n",
       "      <td>7721</td>\n",
       "    </tr>\n",
       "    <tr>\n",
       "      <th>2</th>\n",
       "      <td>Random Over Sampling</td>\n",
       "      <td>2948146</td>\n",
       "      <td>2948146</td>\n",
       "      <td>1474073</td>\n",
       "      <td>1474073</td>\n",
       "    </tr>\n",
       "  </tbody>\n",
       "</table>\n",
       "</div>"
      ],
      "text/plain": [
       "               technique  X_train_shape  y_train_shape  is_fraud_0  is_fraud_1\n",
       "0          Original Data        1481794        1481794     1474073        7721\n",
       "1  Random Under Sampling          15442          15442        7721        7721\n",
       "2   Random Over Sampling        2948146        2948146     1474073     1474073"
      ]
     },
     "execution_count": 11,
     "metadata": {},
     "output_type": "execute_result"
    }
   ],
   "source": [
    "new_row = {'technique':'Random Over Sampling', \n",
    "           'X_train_shape': X_train_ros.shape[0],\n",
    "          'y_train_shape': y_train_ros.shape[0],\n",
    "           'is_fraud_0': y_train_ros.value_counts()[0],\n",
    "          'is_fraud_1': y_train_ros.value_counts()[1]}\n",
    "\n",
    "counts_table = counts_table.append(new_row, ignore_index=True)\n",
    "counts_table"
   ]
  },
  {
   "cell_type": "markdown",
   "id": "d298115d",
   "metadata": {},
   "source": [
    "#### SMOTE\n",
    "\n",
    "We'll create new variables for X_train, y_train after SMOTE"
   ]
  },
  {
   "cell_type": "code",
   "execution_count": 12,
   "id": "608a3022",
   "metadata": {},
   "outputs": [],
   "source": [
    "from imblearn.over_sampling import SMOTE\n",
    "\n",
    "smote = SMOTE(sampling_strategy = 'minority')\n",
    "\n",
    "X_train_sm, y_train_sm = smote.fit_sample(X_train, y_train)"
   ]
  },
  {
   "cell_type": "code",
   "execution_count": 13,
   "id": "9e3c37d8",
   "metadata": {
    "scrolled": true
   },
   "outputs": [
    {
     "data": {
      "text/html": [
       "<div>\n",
       "<style scoped>\n",
       "    .dataframe tbody tr th:only-of-type {\n",
       "        vertical-align: middle;\n",
       "    }\n",
       "\n",
       "    .dataframe tbody tr th {\n",
       "        vertical-align: top;\n",
       "    }\n",
       "\n",
       "    .dataframe thead th {\n",
       "        text-align: right;\n",
       "    }\n",
       "</style>\n",
       "<table border=\"1\" class=\"dataframe\">\n",
       "  <thead>\n",
       "    <tr style=\"text-align: right;\">\n",
       "      <th></th>\n",
       "      <th>technique</th>\n",
       "      <th>X_train_shape</th>\n",
       "      <th>y_train_shape</th>\n",
       "      <th>is_fraud_0</th>\n",
       "      <th>is_fraud_1</th>\n",
       "    </tr>\n",
       "  </thead>\n",
       "  <tbody>\n",
       "    <tr>\n",
       "      <th>0</th>\n",
       "      <td>Original Data</td>\n",
       "      <td>1481794</td>\n",
       "      <td>1481794</td>\n",
       "      <td>1474073</td>\n",
       "      <td>7721</td>\n",
       "    </tr>\n",
       "    <tr>\n",
       "      <th>1</th>\n",
       "      <td>Random Under Sampling</td>\n",
       "      <td>15442</td>\n",
       "      <td>15442</td>\n",
       "      <td>7721</td>\n",
       "      <td>7721</td>\n",
       "    </tr>\n",
       "    <tr>\n",
       "      <th>2</th>\n",
       "      <td>Random Over Sampling</td>\n",
       "      <td>2948146</td>\n",
       "      <td>2948146</td>\n",
       "      <td>1474073</td>\n",
       "      <td>1474073</td>\n",
       "    </tr>\n",
       "    <tr>\n",
       "      <th>3</th>\n",
       "      <td>SMOTE - minority</td>\n",
       "      <td>2948146</td>\n",
       "      <td>2948146</td>\n",
       "      <td>1474073</td>\n",
       "      <td>1474073</td>\n",
       "    </tr>\n",
       "  </tbody>\n",
       "</table>\n",
       "</div>"
      ],
      "text/plain": [
       "               technique  X_train_shape  y_train_shape  is_fraud_0  is_fraud_1\n",
       "0          Original Data        1481794        1481794     1474073        7721\n",
       "1  Random Under Sampling          15442          15442        7721        7721\n",
       "2   Random Over Sampling        2948146        2948146     1474073     1474073\n",
       "3       SMOTE - minority        2948146        2948146     1474073     1474073"
      ]
     },
     "execution_count": 13,
     "metadata": {},
     "output_type": "execute_result"
    }
   ],
   "source": [
    "new_row = {'technique':'SMOTE - minority', \n",
    "           'X_train_shape': X_train_sm.shape[0],\n",
    "          'y_train_shape': y_train_sm.shape[0],\n",
    "           'is_fraud_0': y_train_sm.value_counts()[0],\n",
    "          'is_fraud_1': y_train_sm.value_counts()[1]}\n",
    "\n",
    "counts_table = counts_table.append(new_row, ignore_index=True)\n",
    "counts_table"
   ]
  },
  {
   "cell_type": "markdown",
   "id": "ec28d34e",
   "metadata": {},
   "source": [
    "## Setting up table for model metric comparison"
   ]
  },
  {
   "cell_type": "code",
   "execution_count": null,
   "id": "5d668d6d",
   "metadata": {},
   "outputs": [],
   "source": []
  },
  {
   "cell_type": "markdown",
   "id": "69457372",
   "metadata": {},
   "source": [
    "## Algorithm 1: Logistic Regression"
   ]
  },
  {
   "cell_type": "markdown",
   "id": "34d42392",
   "metadata": {},
   "source": [
    "### a) with Random Under Sampling\n",
    "We'll begin by applying a baseline logistic regression to the random UNDER sampled data."
   ]
  },
  {
   "cell_type": "code",
   "execution_count": 14,
   "id": "b8d442bd",
   "metadata": {},
   "outputs": [],
   "source": [
    "from sklearn.linear_model import LogisticRegression\n",
    "\n",
    "lr_rus = LogisticRegression()\n",
    "# Fit the model on the trainng data.\n",
    "lr_rus.fit(X_train_rus, y_train_rus.values.ravel())\n",
    "\n",
    "y_pred_train_1a = lr_rus.predict(X_train_rus)\n",
    "y_pred_test_1a = lr_rus.predict(X_test)"
   ]
  },
  {
   "cell_type": "code",
   "execution_count": 15,
   "id": "89c1d17c",
   "metadata": {},
   "outputs": [
    {
     "data": {
      "image/png": "[encoded data removed]",
      "text/plain": [
       "<Figure size 432x288 with 2 Axes>"
      ]
     },
     "metadata": {
      "needs_background": "light"
     },
     "output_type": "display_data"
    },
    {
     "data": {
      "image/png": "[encoded data removed]",
      "text/plain": [
       "<Figure size 432x288 with 2 Axes>"
      ]
     },
     "metadata": {
      "needs_background": "light"
     },
     "output_type": "display_data"
    }
   ],
   "source": [
    "from sklearn.metrics import plot_confusion_matrix\n",
    "plot_confusion_matrix(lr_rus, X_train_rus, y_train_rus)  \n",
    "plot_confusion_matrix(lr_rus, X_test, y_test) \n",
    "plt.show()"
   ]
  },
  {
   "cell_type": "code",
   "execution_count": 16,
   "id": "a5a784dc",
   "metadata": {
    "scrolled": false
   },
   "outputs": [
    {
     "name": "stdout",
     "output_type": "stream",
     "text": [
      "[Training Classification Report]\n",
      "              precision    recall  f1-score   support\n",
      "\n",
      "       valid       0.79      0.95      0.86      7721\n",
      "       fraud       0.94      0.75      0.83      7721\n",
      "\n",
      "    accuracy                           0.85     15442\n",
      "   macro avg       0.87      0.85      0.85     15442\n",
      "weighted avg       0.87      0.85      0.85     15442\n",
      "\n",
      "[Test Classification Report]\n",
      "              precision    recall  f1-score   support\n",
      "\n",
      "       valid       1.00      0.95      0.97    368519\n",
      "       fraud       0.08      0.74      0.14      1930\n",
      "\n",
      "    accuracy                           0.95    370449\n",
      "   macro avg       0.54      0.85      0.56    370449\n",
      "weighted avg       0.99      0.95      0.97    370449\n",
      "\n"
     ]
    }
   ],
   "source": [
    "from sklearn.metrics import classification_report\n",
    "\n",
    "target_names = ['valid', 'fraud']\n",
    "\n",
    "print(\"[Training Classification Report]\")\n",
    "print(classification_report(y_train_rus, y_pred_train_1a, target_names=target_names))\n",
    "\n",
    "print(\"[Test Classification Report]\")\n",
    "print(classification_report(y_test, y_pred_test_1a, target_names=target_names))"
   ]
  },
  {
   "cell_type": "markdown",
   "id": "94ef657d",
   "metadata": {},
   "source": [
    "### b) with Random Over Sampling"
   ]
  },
  {
   "cell_type": "code",
   "execution_count": 17,
   "id": "a95739ff",
   "metadata": {},
   "outputs": [],
   "source": [
    "lr_ros = LogisticRegression()\n",
    "# Fit the model on the trainng data.\n",
    "lr_ros.fit(X_train_ros, y_train_ros.values.ravel())\n",
    "\n",
    "y_pred_train_1b = lr_ros.predict(X_train_ros)\n",
    "y_pred_test_1b = lr_ros.predict(X_test)"
   ]
  },
  {
   "cell_type": "code",
   "execution_count": 18,
   "id": "25e63c51",
   "metadata": {},
   "outputs": [
    {
     "name": "stdout",
     "output_type": "stream",
     "text": [
      "Training Confusion Matrix\n",
      "Testing Confusion Matrix\n"
     ]
    },
    {
     "data": {
      "image/png": "[encoded data removed]",
      "text/plain": [
       "<Figure size 432x288 with 2 Axes>"
      ]
     },
     "metadata": {
      "needs_background": "light"
     },
     "output_type": "display_data"
    },
    {
     "data": {
      "image/png": "[encoded data removed]",
      "text/plain": [
       "<Figure size 432x288 with 2 Axes>"
      ]
     },
     "metadata": {
      "needs_background": "light"
     },
     "output_type": "display_data"
    }
   ],
   "source": [
    "print('Training Confusion Matrix')\n",
    "plot_confusion_matrix(lr_ros, X_train_ros, y_train_ros)  \n",
    "print('Testing Confusion Matrix')\n",
    "plot_confusion_matrix(lr_ros, X_test, y_test) \n",
    "plt.show()"
   ]
  },
  {
   "cell_type": "code",
   "execution_count": 19,
   "id": "dcb1c861",
   "metadata": {},
   "outputs": [
    {
     "name": "stdout",
     "output_type": "stream",
     "text": [
      "[Training Classification Report]\n",
      "              precision    recall  f1-score   support\n",
      "\n",
      "       valid       0.79      0.95      0.87   1474073\n",
      "       fraud       0.94      0.75      0.84   1474073\n",
      "\n",
      "    accuracy                           0.85   2948146\n",
      "   macro avg       0.87      0.85      0.85   2948146\n",
      "weighted avg       0.87      0.85      0.85   2948146\n",
      "\n",
      "[Test Classification Report]\n",
      "              precision    recall  f1-score   support\n",
      "\n",
      "       valid       1.00      0.95      0.98    368519\n",
      "       fraud       0.08      0.74      0.14      1930\n",
      "\n",
      "    accuracy                           0.95    370449\n",
      "   macro avg       0.54      0.85      0.56    370449\n",
      "weighted avg       0.99      0.95      0.97    370449\n",
      "\n"
     ]
    }
   ],
   "source": [
    "target_names = ['valid', 'fraud']\n",
    "\n",
    "print(\"[Training Classification Report]\")\n",
    "print(classification_report(y_train_ros, y_pred_train_1b, target_names=target_names))\n",
    "\n",
    "print(\"[Test Classification Report]\")\n",
    "print(classification_report(y_test, y_pred_test_1b, target_names=target_names))"
   ]
  },
  {
   "cell_type": "markdown",
   "id": "4326f5b5",
   "metadata": {},
   "source": [
    "### c) with SMOTE"
   ]
  },
  {
   "cell_type": "code",
   "execution_count": 20,
   "id": "d062f247",
   "metadata": {},
   "outputs": [],
   "source": [
    "lr_sm = LogisticRegression()\n",
    "# Fit the model on the trainng data.\n",
    "lr_sm.fit(X_train_sm, y_train_sm.values.ravel())\n",
    "\n",
    "y_pred_train_1c = lr_sm.predict(X_train_ros)\n",
    "y_pred_test_1c = lr_sm.predict(X_test)"
   ]
  },
  {
   "cell_type": "code",
   "execution_count": 21,
   "id": "da2fbece",
   "metadata": {},
   "outputs": [
    {
     "name": "stdout",
     "output_type": "stream",
     "text": [
      "Training Confusion Matrix\n",
      "Testing Confusion Matrix\n"
     ]
    },
    {
     "data": {
      "image/png": "[encoded data removed]",
      "text/plain": [
       "<Figure size 432x288 with 2 Axes>"
      ]
     },
     "metadata": {
      "needs_background": "light"
     },
     "output_type": "display_data"
    },
    {
     "data": {
      "image/png": "[encoded data removed]",
      "text/plain": [
       "<Figure size 432x288 with 2 Axes>"
      ]
     },
     "metadata": {
      "needs_background": "light"
     },
     "output_type": "display_data"
    }
   ],
   "source": [
    "print('Training Confusion Matrix')\n",
    "plot_confusion_matrix(lr_sm, X_train_sm, y_train_sm)  \n",
    "print('Testing Confusion Matrix')\n",
    "plot_confusion_matrix(lr_sm, X_test, y_test) \n",
    "plt.show()"
   ]
  },
  {
   "cell_type": "code",
   "execution_count": 22,
   "id": "49f42b4b",
   "metadata": {},
   "outputs": [
    {
     "name": "stdout",
     "output_type": "stream",
     "text": [
      "[Training Classification Report]\n",
      "              precision    recall  f1-score   support\n",
      "\n",
      "       valid       0.79      0.95      0.87   1474073\n",
      "       fraud       0.94      0.75      0.84   1474073\n",
      "\n",
      "    accuracy                           0.85   2948146\n",
      "   macro avg       0.87      0.85      0.85   2948146\n",
      "weighted avg       0.87      0.85      0.85   2948146\n",
      "\n",
      "[Test Classification Report]\n",
      "              precision    recall  f1-score   support\n",
      "\n",
      "       valid       1.00      0.95      0.97    368519\n",
      "       fraud       0.07      0.75      0.13      1930\n",
      "\n",
      "    accuracy                           0.95    370449\n",
      "   macro avg       0.54      0.85      0.55    370449\n",
      "weighted avg       0.99      0.95      0.97    370449\n",
      "\n"
     ]
    }
   ],
   "source": [
    "target_names = ['valid', 'fraud']\n",
    "\n",
    "print(\"[Training Classification Report]\")\n",
    "print(classification_report(y_train_sm, y_pred_train_1c, target_names=target_names))\n",
    "\n",
    "print(\"[Test Classification Report]\")\n",
    "print(classification_report(y_test, y_pred_test_1c, target_names=target_names))"
   ]
  },
  {
   "cell_type": "markdown",
   "id": "91eddec1",
   "metadata": {},
   "source": [
    "### d) with class_weight = balanced"
   ]
  },
  {
   "cell_type": "code",
   "execution_count": 26,
   "id": "6f4453ba",
   "metadata": {},
   "outputs": [],
   "source": [
    "lr_cw = LogisticRegression(class_weight='balanced')\n",
    "# Fit the model on the trainng data.\n",
    "lr_cw.fit(X_train, y_train.values.ravel())\n",
    "\n",
    "y_pred_train_1d = lr_cw.predict(X_train)\n",
    "y_pred_test_1d = lr_cw.predict(X_test)"
   ]
  },
  {
   "cell_type": "code",
   "execution_count": 27,
   "id": "f9c65748",
   "metadata": {},
   "outputs": [
    {
     "name": "stdout",
     "output_type": "stream",
     "text": [
      "Training Confusion Matrix\n",
      "Testing Confusion Matrix\n"
     ]
    },
    {
     "data": {
      "image/png": "[encoded data removed]",
      "text/plain": [
       "<Figure size 432x288 with 2 Axes>"
      ]
     },
     "metadata": {
      "needs_background": "light"
     },
     "output_type": "display_data"
    },
    {
     "data": {
      "image/png": "[encoded data removed]",
      "text/plain": [
       "<Figure size 432x288 with 2 Axes>"
      ]
     },
     "metadata": {
      "needs_background": "light"
     },
     "output_type": "display_data"
    }
   ],
   "source": [
    "print('Training Confusion Matrix')\n",
    "plot_confusion_matrix(lr_cw, X_train, y_train)  \n",
    "print('Testing Confusion Matrix')\n",
    "plot_confusion_matrix(lr_cw, X_test, y_test) \n",
    "plt.show()"
   ]
  },
  {
   "cell_type": "code",
   "execution_count": 28,
   "id": "3e8f39a8",
   "metadata": {},
   "outputs": [
    {
     "name": "stdout",
     "output_type": "stream",
     "text": [
      "[Training Classification Report]\n",
      "              precision    recall  f1-score   support\n",
      "\n",
      "       valid       1.00      0.95      0.98   1474073\n",
      "       fraud       0.08      0.75      0.14      7721\n",
      "\n",
      "    accuracy                           0.95   1481794\n",
      "   macro avg       0.54      0.85      0.56   1481794\n",
      "weighted avg       0.99      0.95      0.97   1481794\n",
      "\n",
      "[Test Classification Report]\n",
      "              precision    recall  f1-score   support\n",
      "\n",
      "       valid       1.00      0.95      0.98    368519\n",
      "       fraud       0.08      0.74      0.14      1930\n",
      "\n",
      "    accuracy                           0.95    370449\n",
      "   macro avg       0.54      0.85      0.56    370449\n",
      "weighted avg       0.99      0.95      0.97    370449\n",
      "\n"
     ]
    }
   ],
   "source": [
    "target_names = ['valid', 'fraud']\n",
    "\n",
    "print(\"[Training Classification Report]\")\n",
    "print(classification_report(y_train, y_pred_train_1d, target_names=target_names))\n",
    "\n",
    "print(\"[Test Classification Report]\")\n",
    "print(classification_report(y_test, y_pred_test_1d, target_names=target_names))"
   ]
  },
  {
   "cell_type": "code",
   "execution_count": null,
   "id": "27f55f53",
   "metadata": {},
   "outputs": [],
   "source": []
  },
  {
   "cell_type": "markdown",
   "id": "07589ed3",
   "metadata": {},
   "source": [
    "## Algorithm 2: Random Forest"
   ]
  },
  {
   "cell_type": "markdown",
   "id": "8cdfd588",
   "metadata": {},
   "source": [
    "### a) with Random Under Sampling"
   ]
  },
  {
   "cell_type": "code",
   "execution_count": 35,
   "id": "b8b23f0a",
   "metadata": {},
   "outputs": [],
   "source": [
    "from sklearn.ensemble import RandomForestClassifier\n",
    "\n",
    "rf_rus = RandomForestClassifier()\n",
    "rf_rus.fit(X_train_rus, y_train_rus.values.ravel())\n",
    "\n",
    "y_pred_train_2a = rf_rus.predict(X_train_rus)\n",
    "y_pred_test_2a = rf_rus.predict(X_test)"
   ]
  },
  {
   "cell_type": "code",
   "execution_count": 36,
   "id": "9b592291",
   "metadata": {},
   "outputs": [
    {
     "name": "stdout",
     "output_type": "stream",
     "text": [
      "Training Confusion Matrix\n",
      "Testing Confusion Matrix\n"
     ]
    },
    {
     "data": {
      "image/png": "[encoded data removed]",
      "text/plain": [
       "<Figure size 432x288 with 2 Axes>"
      ]
     },
     "metadata": {
      "needs_background": "light"
     },
     "output_type": "display_data"
    },
    {
     "data": {
      "image/png": "[encoded data removed]",
      "text/plain": [
       "<Figure size 432x288 with 2 Axes>"
      ]
     },
     "metadata": {
      "needs_background": "light"
     },
     "output_type": "display_data"
    }
   ],
   "source": [
    "print('Training Confusion Matrix')\n",
    "plot_confusion_matrix(rf_rus, X_train_rus, y_train_rus)  \n",
    "print('Testing Confusion Matrix')\n",
    "plot_confusion_matrix(rf_rus, X_test, y_test) \n",
    "plt.show()"
   ]
  },
  {
   "cell_type": "code",
   "execution_count": 37,
   "id": "e21a31cb",
   "metadata": {},
   "outputs": [
    {
     "name": "stdout",
     "output_type": "stream",
     "text": [
      "[Training Classification Report]\n",
      "              precision    recall  f1-score   support\n",
      "\n",
      "       valid       1.00      1.00      1.00      7721\n",
      "       fraud       1.00      1.00      1.00      7721\n",
      "\n",
      "    accuracy                           1.00     15442\n",
      "   macro avg       1.00      1.00      1.00     15442\n",
      "weighted avg       1.00      1.00      1.00     15442\n",
      "\n",
      "[Test Classification Report]\n",
      "              precision    recall  f1-score   support\n",
      "\n",
      "       valid       1.00      0.98      0.99    368519\n",
      "       fraud       0.19      0.95      0.32      1930\n",
      "\n",
      "    accuracy                           0.98    370449\n",
      "   macro avg       0.60      0.96      0.65    370449\n",
      "weighted avg       1.00      0.98      0.99    370449\n",
      "\n"
     ]
    }
   ],
   "source": [
    "target_names = ['valid', 'fraud']\n",
    "\n",
    "print(\"[Training Classification Report]\")\n",
    "print(classification_report(y_train_rus, y_pred_train_2a, target_names=target_names))\n",
    "\n",
    "print(\"[Test Classification Report]\")\n",
    "print(classification_report(y_test, y_pred_test_2a, target_names=target_names))"
   ]
  },
  {
   "cell_type": "markdown",
   "id": "d64a2872",
   "metadata": {},
   "source": [
    "### b) with Random Over Sampling"
   ]
  },
  {
   "cell_type": "code",
   "execution_count": 38,
   "id": "42d3da09",
   "metadata": {},
   "outputs": [],
   "source": [
    "rf_ros = RandomForestClassifier()\n",
    "rf_ros.fit(X_train_ros, y_train_ros.values.ravel())\n",
    "\n",
    "y_pred_train_2b = rf_ros.predict(X_train_ros)\n",
    "y_pred_test_2b = rf_ros.predict(X_test)"
   ]
  },
  {
   "cell_type": "code",
   "execution_count": 40,
   "id": "8d6e28ad",
   "metadata": {},
   "outputs": [],
   "source": [
    "from sklearn.metrics import confusion_matrix\n",
    "cm_2b_train = confusion_matrix(y_train_ros.values.ravel(),y_pred_train_2b)\n",
    "cm_2b_test = confusion_matrix(y_test.values.ravel(),y_pred_test_2b)"
   ]
  },
  {
   "cell_type": "code",
   "execution_count": 45,
   "id": "f8f12646",
   "metadata": {},
   "outputs": [
    {
     "data": {
      "text/plain": [
       "Text(0.5, 1.0, 'Training confusion matrix')"
      ]
     },
     "execution_count": 45,
     "metadata": {},
     "output_type": "execute_result"
    },
    {
     "data": {
      "image/png": "[encoded data removed]",
      "text/plain": [
       "<Figure size 432x288 with 2 Axes>"
      ]
     },
     "metadata": {
      "needs_background": "light"
     },
     "output_type": "display_data"
    }
   ],
   "source": [
    "sns.heatmap(cm_2b_train, annot=True, fmt = '', cmap = 'Blues')\n",
    "plt.xlabel('Predicted label')\n",
    "plt.ylabel('True label')\n",
    "plt.title('Training confusion matrix')"
   ]
  },
  {
   "cell_type": "code",
   "execution_count": 46,
   "id": "b8278c26",
   "metadata": {},
   "outputs": [
    {
     "data": {
      "text/plain": [
       "Text(0.5, 1.0, 'Test confusion matrix')"
      ]
     },
     "execution_count": 46,
     "metadata": {},
     "output_type": "execute_result"
    },
    {
     "data": {
      "image/png": "[encoded data removed]",
      "text/plain": [
       "<Figure size 432x288 with 2 Axes>"
      ]
     },
     "metadata": {
      "needs_background": "light"
     },
     "output_type": "display_data"
    }
   ],
   "source": [
    "sns.heatmap(cm_2b_test, annot=True, fmt = '', cmap = 'Reds')\n",
    "plt.xlabel('Predicted label')\n",
    "plt.ylabel('True label')\n",
    "plt.title('Test confusion matrix')"
   ]
  },
  {
   "cell_type": "code",
   "execution_count": 47,
   "id": "766c1e96",
   "metadata": {},
   "outputs": [
    {
     "name": "stdout",
     "output_type": "stream",
     "text": [
      "[Training Classification Report]\n",
      "              precision    recall  f1-score   support\n",
      "\n",
      "       valid       1.00      1.00      1.00   1474073\n",
      "       fraud       1.00      1.00      1.00   1474073\n",
      "\n",
      "    accuracy                           1.00   2948146\n",
      "   macro avg       1.00      1.00      1.00   2948146\n",
      "weighted avg       1.00      1.00      1.00   2948146\n",
      "\n",
      "[Test Classification Report]\n",
      "              precision    recall  f1-score   support\n",
      "\n",
      "       valid       1.00      1.00      1.00    368519\n",
      "       fraud       0.93      0.70      0.80      1930\n",
      "\n",
      "    accuracy                           1.00    370449\n",
      "   macro avg       0.96      0.85      0.90    370449\n",
      "weighted avg       1.00      1.00      1.00    370449\n",
      "\n"
     ]
    }
   ],
   "source": [
    "target_names = ['valid', 'fraud']\n",
    "\n",
    "print(\"[Training Classification Report]\")\n",
    "print(classification_report(y_train_ros, y_pred_train_2b, target_names=target_names))\n",
    "\n",
    "print(\"[Test Classification Report]\")\n",
    "print(classification_report(y_test, y_pred_test_2b, target_names=target_names))"
   ]
  },
  {
   "cell_type": "code",
   "execution_count": null,
   "id": "cfc07860",
   "metadata": {},
   "outputs": [],
   "source": []
  }
 ],
 "metadata": {
  "kernelspec": {
   "display_name": "Python 3 (ipykernel)",
   "language": "python",
   "name": "python3"
  },
  "language_info": {
   "codemirror_mode": {
    "name": "ipython",
    "version": 3
   },
   "file_extension": ".py",
   "mimetype": "text/x-python",
   "name": "python",
   "nbconvert_exporter": "python",
   "pygments_lexer": "ipython3",
   "version": "3.8.12"
  }
 },
 "nbformat": 4,
 "nbformat_minor": 5
}
