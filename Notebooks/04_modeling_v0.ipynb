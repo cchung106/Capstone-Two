{
 "cells": [
  {
   "cell_type": "markdown",
   "id": "d394401f",
   "metadata": {},
   "source": [
    "# Identifying Credit Card Fraud - Modeling\n",
    "\n",
    "## Introduction\n",
    "\n",
    "### 1. The Problem:\n",
    "\n",
    "\n",
    "\n",
    "### 2. The data:\n",
    "\n",
    "\n",
    "\n",
    "### 3. Features:\n",
    "\n",
    "\n",
    "\n",
    "### 4. Scenario:\n",
    "\n",
    "Our goal is to approach this as an actual business problem, to the best of our ability.  Unfortunately, given the nature of this project, there is no actual \"client\" or \"customer\" where we can discuss and properly assess the objectives of our solution.  As a result, I've consulted with my mentor and we have put forth the following scenario:\n",
    "\n",
    "- We will set our objective to be to catch as many fraudulent transactions as possible, at the expense of incorrectly labeling some valid transactions as fraud (false positives). \n",
    "- With that said, we want to avoid having an exorbitant amount of false positives because that can become a major nuisance to consumers.\n",
    "- We want to maximize <b>recall</b>, while still keeping an eye on <b>precision</b>.\n",
    "- As a result, our goal will be to optimize the <b>f1-score</b>.\n",
    "\n",
    "\n",
    "### 5. Plan:\n",
    "\n",
    "In our previous notebook, we generated a baseline model that with poor performance due to the highly imbalanced nature of classes in this dataset.  In this notebook, we plan on dealing with the imbalance so that we can train more effective models.  We will try multiple combinations of sampling methods and algorithms to construct multiple models to compare.  \n",
    "\n",
    "As for sampling methods, we will try random undersampling and random oversampling. A drawback of these two methods is that random undersampling of the majority class can potentially remove important data points, and random oversampling of the minority class can lead to overfitting.  As a result, we will also try to synthetically generate samples that are similar to the minority class distribution using SMOTE.  And finally, we will also try the \"class_weight\" parameter in each of the models to balance the weight of the majority and minority classes.\n",
    "\n",
    "Speaking of models, we will try Logistic Regression, Random Forest, and XGBoost. In order to compare, our end goal will be to construct a table such as this:\n",
    "\n",
    "\n",
    "| Algorithm | Class Balance | Train Precision | Train Recall | Train f1-score | Train Support | Test Precision | Test Recall | Test f1-score | Test Support |\n",
    "| --- | --- | --- | --- | --- | --- | --- | --- | --- | --- |\n",
    "| <b>Logistic Regression</b> | Undersample majority | ? | ? | ? | ? | ? | ? | ? | ? |\n",
    "| | Oversample minority | ? | ? | ? | ? | ? | ? | ? | ? |\n",
    "| | SMOTE | ? | ? | ? | ? | ? | ? | ? | ? |\n",
    "| | class_weight balance | ? | ? | ? | ? | ? | ? | ? | ? |\n",
    "| <b>Random Forest</b> | Undersample majority | ? | ? | ? | ? | ? | ? | ? | ? |\n",
    "| | Oversample minority | ? | ? | ? | ? | ? | ? | ? | ? |\n",
    "| | SMOTE | ? | ? | ? | ? | ? | ? | ? | ? |\n",
    "| | class_weight balance | ? | ? | ? | ? | ? | ? | ? | ? |\n",
    "| <b>XGboost</b> | Undersample majority | ? | ? | ? | ? | ? | ? | ? | ? |\n",
    "| | Oversample minority | ? | ? | ? | ? | ? | ? | ? | ? |\n",
    "| | SMOTE | ? | ? | ? | ? | ? | ? | ? | ? |\n",
    "| | class_weight balance | ? | ? | ? | ? | ? | ? | ? | ? |\n",
    "\n"
   ]
  },
  {
   "cell_type": "markdown",
   "id": "441128fb",
   "metadata": {},
   "source": [
    "## Imports"
   ]
  },
  {
   "cell_type": "code",
   "execution_count": 1,
   "id": "503c7b65",
   "metadata": {},
   "outputs": [],
   "source": [
    "import pandas as pd\n",
    "import numpy as np\n",
    "import matplotlib.pyplot as plt\n",
    "import seaborn as sns\n",
    "from sklearn.metrics import confusion_matrix\n",
    "from sklearn.metrics import classification_report"
   ]
  },
  {
   "cell_type": "code",
   "execution_count": 2,
   "id": "07be101d",
   "metadata": {},
   "outputs": [],
   "source": [
    "X_train = pd.read_csv('../raw_data/X_train.csv', index_col=0)\n",
    "X_test = pd.read_csv('../raw_data/X_test.csv', index_col=0)\n",
    "y_train = pd.read_csv('../raw_data/y_train.csv', index_col=0)\n",
    "y_test = pd.read_csv('../raw_data/y_test.csv', index_col=0)"
   ]
  },
  {
   "cell_type": "code",
   "execution_count": 3,
   "id": "ddc8c285",
   "metadata": {},
   "outputs": [
    {
     "name": "stdout",
     "output_type": "stream",
     "text": [
      "<class 'pandas.core.frame.DataFrame'>\n",
      "Int64Index: 1481794 entries, 572842 to 269493\n",
      "Data columns (total 31 columns):\n",
      " #   Column              Non-Null Count    Dtype  \n",
      "---  ------              --------------    -----  \n",
      " 0   amt                 1481794 non-null  float64\n",
      " 1   city_pop            1481794 non-null  int64  \n",
      " 2   abnormal_hours      1481794 non-null  int64  \n",
      " 3   time_diff           1481794 non-null  float64\n",
      " 4   count_24_hour       1481794 non-null  float64\n",
      " 5   count_7_days        1481794 non-null  float64\n",
      " 6   count_30_days       1481794 non-null  float64\n",
      " 7   gender_M            1481794 non-null  int64  \n",
      " 8   dist_haversine      1481794 non-null  float64\n",
      " 9   age                 1481794 non-null  int64  \n",
      " 10  cat_entertainment   1481794 non-null  int64  \n",
      " 11  cat_food_dining     1481794 non-null  int64  \n",
      " 12  cat_gas_transport   1481794 non-null  int64  \n",
      " 13  cat_grocery_net     1481794 non-null  int64  \n",
      " 14  cat_grocery_pos     1481794 non-null  int64  \n",
      " 15  cat_health_fitness  1481794 non-null  int64  \n",
      " 16  cat_home            1481794 non-null  int64  \n",
      " 17  cat_kids_pets       1481794 non-null  int64  \n",
      " 18  cat_misc_net        1481794 non-null  int64  \n",
      " 19  cat_misc_pos        1481794 non-null  int64  \n",
      " 20  cat_personal_care   1481794 non-null  int64  \n",
      " 21  cat_shopping_net    1481794 non-null  int64  \n",
      " 22  cat_shopping_pos    1481794 non-null  int64  \n",
      " 23  cat_travel          1481794 non-null  int64  \n",
      " 24  day_Friday          1481794 non-null  int64  \n",
      " 25  day_Monday          1481794 non-null  int64  \n",
      " 26  day_Saturday        1481794 non-null  int64  \n",
      " 27  day_Sunday          1481794 non-null  int64  \n",
      " 28  day_Thursday        1481794 non-null  int64  \n",
      " 29  day_Tuesday         1481794 non-null  int64  \n",
      " 30  day_Wednesday       1481794 non-null  int64  \n",
      "dtypes: float64(6), int64(25)\n",
      "memory usage: 361.8 MB\n"
     ]
    }
   ],
   "source": [
    "X_train.info()"
   ]
  },
  {
   "cell_type": "code",
   "execution_count": 4,
   "id": "0ad08bc5",
   "metadata": {},
   "outputs": [
    {
     "name": "stdout",
     "output_type": "stream",
     "text": [
      "<class 'pandas.core.frame.DataFrame'>\n",
      "Int64Index: 370449 entries, 1634393 to 1228030\n",
      "Data columns (total 31 columns):\n",
      " #   Column              Non-Null Count   Dtype  \n",
      "---  ------              --------------   -----  \n",
      " 0   amt                 370449 non-null  float64\n",
      " 1   city_pop            370449 non-null  int64  \n",
      " 2   abnormal_hours      370449 non-null  int64  \n",
      " 3   time_diff           370449 non-null  float64\n",
      " 4   count_24_hour       370449 non-null  float64\n",
      " 5   count_7_days        370449 non-null  float64\n",
      " 6   count_30_days       370449 non-null  float64\n",
      " 7   gender_M            370449 non-null  int64  \n",
      " 8   dist_haversine      370449 non-null  float64\n",
      " 9   age                 370449 non-null  int64  \n",
      " 10  cat_entertainment   370449 non-null  int64  \n",
      " 11  cat_food_dining     370449 non-null  int64  \n",
      " 12  cat_gas_transport   370449 non-null  int64  \n",
      " 13  cat_grocery_net     370449 non-null  int64  \n",
      " 14  cat_grocery_pos     370449 non-null  int64  \n",
      " 15  cat_health_fitness  370449 non-null  int64  \n",
      " 16  cat_home            370449 non-null  int64  \n",
      " 17  cat_kids_pets       370449 non-null  int64  \n",
      " 18  cat_misc_net        370449 non-null  int64  \n",
      " 19  cat_misc_pos        370449 non-null  int64  \n",
      " 20  cat_personal_care   370449 non-null  int64  \n",
      " 21  cat_shopping_net    370449 non-null  int64  \n",
      " 22  cat_shopping_pos    370449 non-null  int64  \n",
      " 23  cat_travel          370449 non-null  int64  \n",
      " 24  day_Friday          370449 non-null  int64  \n",
      " 25  day_Monday          370449 non-null  int64  \n",
      " 26  day_Saturday        370449 non-null  int64  \n",
      " 27  day_Sunday          370449 non-null  int64  \n",
      " 28  day_Thursday        370449 non-null  int64  \n",
      " 29  day_Tuesday         370449 non-null  int64  \n",
      " 30  day_Wednesday       370449 non-null  int64  \n",
      "dtypes: float64(6), int64(25)\n",
      "memory usage: 90.4 MB\n"
     ]
    }
   ],
   "source": [
    "X_test.info()"
   ]
  },
  {
   "cell_type": "code",
   "execution_count": 5,
   "id": "6744ad0e",
   "metadata": {},
   "outputs": [
    {
     "name": "stdout",
     "output_type": "stream",
     "text": [
      "<class 'pandas.core.frame.DataFrame'>\n",
      "Int64Index: 1481794 entries, 572842 to 269493\n",
      "Data columns (total 1 columns):\n",
      " #   Column    Non-Null Count    Dtype\n",
      "---  ------    --------------    -----\n",
      " 0   is_fraud  1481794 non-null  int64\n",
      "dtypes: int64(1)\n",
      "memory usage: 22.6 MB\n"
     ]
    }
   ],
   "source": [
    "y_train.info()"
   ]
  },
  {
   "cell_type": "code",
   "execution_count": 6,
   "id": "c9f69e64",
   "metadata": {
    "scrolled": true
   },
   "outputs": [
    {
     "name": "stdout",
     "output_type": "stream",
     "text": [
      "<class 'pandas.core.frame.DataFrame'>\n",
      "Int64Index: 370449 entries, 1634393 to 1228030\n",
      "Data columns (total 1 columns):\n",
      " #   Column    Non-Null Count   Dtype\n",
      "---  ------    --------------   -----\n",
      " 0   is_fraud  370449 non-null  int64\n",
      "dtypes: int64(1)\n",
      "memory usage: 5.7 MB\n"
     ]
    }
   ],
   "source": [
    "y_test.info()"
   ]
  },
  {
   "cell_type": "code",
   "execution_count": 7,
   "id": "d3dab433",
   "metadata": {},
   "outputs": [
    {
     "data": {
      "text/plain": [
       "is_fraud\n",
       "0           1474073\n",
       "1              7721\n",
       "dtype: int64"
      ]
     },
     "execution_count": 7,
     "metadata": {},
     "output_type": "execute_result"
    }
   ],
   "source": [
    "y_train.value_counts()"
   ]
  },
  {
   "cell_type": "code",
   "execution_count": 8,
   "id": "c3f70f4d",
   "metadata": {},
   "outputs": [
    {
     "data": {
      "text/plain": [
       "is_fraud\n",
       "0           368519\n",
       "1             1930\n",
       "dtype: int64"
      ]
     },
     "execution_count": 8,
     "metadata": {},
     "output_type": "execute_result"
    }
   ],
   "source": [
    "y_test.value_counts()"
   ]
  },
  {
   "cell_type": "markdown",
   "id": "dfc77f33",
   "metadata": {},
   "source": [
    "## Resampling"
   ]
  },
  {
   "cell_type": "markdown",
   "id": "e70ad5b2",
   "metadata": {},
   "source": [
    "First, we'll create a dataframe with the counts of observations in X_train, y_train, as well as the counts of each class of the target variable \"is_fraud\"."
   ]
  },
  {
   "cell_type": "code",
   "execution_count": 9,
   "id": "6857814b",
   "metadata": {},
   "outputs": [
    {
     "data": {
      "text/html": [
       "<div>\n",
       "<style scoped>\n",
       "    .dataframe tbody tr th:only-of-type {\n",
       "        vertical-align: middle;\n",
       "    }\n",
       "\n",
       "    .dataframe tbody tr th {\n",
       "        vertical-align: top;\n",
       "    }\n",
       "\n",
       "    .dataframe thead th {\n",
       "        text-align: right;\n",
       "    }\n",
       "</style>\n",
       "<table border=\"1\" class=\"dataframe\">\n",
       "  <thead>\n",
       "    <tr style=\"text-align: right;\">\n",
       "      <th></th>\n",
       "      <th>technique</th>\n",
       "      <th>X_train_shape</th>\n",
       "      <th>y_train_shape</th>\n",
       "      <th>is_fraud_0</th>\n",
       "      <th>is_fraud_1</th>\n",
       "    </tr>\n",
       "  </thead>\n",
       "  <tbody>\n",
       "    <tr>\n",
       "      <th>0</th>\n",
       "      <td>Original Data</td>\n",
       "      <td>1481794</td>\n",
       "      <td>1481794</td>\n",
       "      <td>1474073</td>\n",
       "      <td>7721</td>\n",
       "    </tr>\n",
       "  </tbody>\n",
       "</table>\n",
       "</div>"
      ],
      "text/plain": [
       "       technique  X_train_shape  y_train_shape  is_fraud_0  is_fraud_1\n",
       "0  Original Data        1481794        1481794     1474073        7721"
      ]
     },
     "execution_count": 9,
     "metadata": {},
     "output_type": "execute_result"
    }
   ],
   "source": [
    "counts_table = pd.DataFrame()\n",
    "\n",
    "counts_table['technique'] = ['Original Data']\n",
    "counts_table['X_train_shape'] = [X_train.shape[0]]\n",
    "counts_table['y_train_shape'] = [y_train.shape[0]]\n",
    "counts_table['is_fraud_0'] = [y_train.value_counts()[0]]\n",
    "counts_table['is_fraud_1'] = [y_train.value_counts()[1]]\n",
    "\n",
    "counts_table"
   ]
  },
  {
   "cell_type": "markdown",
   "id": "ad4384ed",
   "metadata": {},
   "source": [
    "#### Undersampling\n",
    "\n",
    "We'll create new variables for X_train, y_train after they have been undersampled using RandomUnderSampler."
   ]
  },
  {
   "cell_type": "code",
   "execution_count": 10,
   "id": "f082eb01",
   "metadata": {},
   "outputs": [],
   "source": [
    "from imblearn.under_sampling import RandomUnderSampler\n",
    "\n",
    "rus = RandomUnderSampler(random_state=42, replacement=True)\n",
    "\n",
    "X_train_rus, y_train_rus = rus.fit_sample(X_train, y_train)"
   ]
  },
  {
   "cell_type": "markdown",
   "id": "8dc2d1f1",
   "metadata": {},
   "source": [
    "Next, we'll create a new row in our counts_table dataframe and append the counts."
   ]
  },
  {
   "cell_type": "code",
   "execution_count": 11,
   "id": "6f0e0e42",
   "metadata": {},
   "outputs": [
    {
     "data": {
      "text/html": [
       "<div>\n",
       "<style scoped>\n",
       "    .dataframe tbody tr th:only-of-type {\n",
       "        vertical-align: middle;\n",
       "    }\n",
       "\n",
       "    .dataframe tbody tr th {\n",
       "        vertical-align: top;\n",
       "    }\n",
       "\n",
       "    .dataframe thead th {\n",
       "        text-align: right;\n",
       "    }\n",
       "</style>\n",
       "<table border=\"1\" class=\"dataframe\">\n",
       "  <thead>\n",
       "    <tr style=\"text-align: right;\">\n",
       "      <th></th>\n",
       "      <th>technique</th>\n",
       "      <th>X_train_shape</th>\n",
       "      <th>y_train_shape</th>\n",
       "      <th>is_fraud_0</th>\n",
       "      <th>is_fraud_1</th>\n",
       "    </tr>\n",
       "  </thead>\n",
       "  <tbody>\n",
       "    <tr>\n",
       "      <th>0</th>\n",
       "      <td>Original Data</td>\n",
       "      <td>1481794</td>\n",
       "      <td>1481794</td>\n",
       "      <td>1474073</td>\n",
       "      <td>7721</td>\n",
       "    </tr>\n",
       "    <tr>\n",
       "      <th>1</th>\n",
       "      <td>Random Under Sampling</td>\n",
       "      <td>15442</td>\n",
       "      <td>15442</td>\n",
       "      <td>7721</td>\n",
       "      <td>7721</td>\n",
       "    </tr>\n",
       "  </tbody>\n",
       "</table>\n",
       "</div>"
      ],
      "text/plain": [
       "               technique  X_train_shape  y_train_shape  is_fraud_0  is_fraud_1\n",
       "0          Original Data        1481794        1481794     1474073        7721\n",
       "1  Random Under Sampling          15442          15442        7721        7721"
      ]
     },
     "execution_count": 11,
     "metadata": {},
     "output_type": "execute_result"
    }
   ],
   "source": [
    "new_row = {'technique':'Random Under Sampling', \n",
    "           'X_train_shape': X_train_rus.shape[0],\n",
    "          'y_train_shape': y_train_rus.shape[0],\n",
    "           'is_fraud_0': y_train_rus.value_counts()[0],\n",
    "          'is_fraud_1': y_train_rus.value_counts()[1]}\n",
    "\n",
    "counts_table = counts_table.append(new_row, ignore_index=True)\n",
    "counts_table"
   ]
  },
  {
   "cell_type": "markdown",
   "id": "6b01a8cd",
   "metadata": {},
   "source": [
    "#### Oversampling\n",
    "\n",
    "We'll create new variables for X_train, y_train after they have been oversampled using RandomOversampler."
   ]
  },
  {
   "cell_type": "code",
   "execution_count": 12,
   "id": "2a9be74f",
   "metadata": {},
   "outputs": [],
   "source": [
    "from imblearn.over_sampling import RandomOverSampler\n",
    "\n",
    "ros = RandomOverSampler()\n",
    "\n",
    "X_train_ros, y_train_ros = ros.fit_sample(X_train, y_train)"
   ]
  },
  {
   "cell_type": "code",
   "execution_count": 13,
   "id": "d25903c9",
   "metadata": {},
   "outputs": [
    {
     "data": {
      "text/html": [
       "<div>\n",
       "<style scoped>\n",
       "    .dataframe tbody tr th:only-of-type {\n",
       "        vertical-align: middle;\n",
       "    }\n",
       "\n",
       "    .dataframe tbody tr th {\n",
       "        vertical-align: top;\n",
       "    }\n",
       "\n",
       "    .dataframe thead th {\n",
       "        text-align: right;\n",
       "    }\n",
       "</style>\n",
       "<table border=\"1\" class=\"dataframe\">\n",
       "  <thead>\n",
       "    <tr style=\"text-align: right;\">\n",
       "      <th></th>\n",
       "      <th>technique</th>\n",
       "      <th>X_train_shape</th>\n",
       "      <th>y_train_shape</th>\n",
       "      <th>is_fraud_0</th>\n",
       "      <th>is_fraud_1</th>\n",
       "    </tr>\n",
       "  </thead>\n",
       "  <tbody>\n",
       "    <tr>\n",
       "      <th>0</th>\n",
       "      <td>Original Data</td>\n",
       "      <td>1481794</td>\n",
       "      <td>1481794</td>\n",
       "      <td>1474073</td>\n",
       "      <td>7721</td>\n",
       "    </tr>\n",
       "    <tr>\n",
       "      <th>1</th>\n",
       "      <td>Random Under Sampling</td>\n",
       "      <td>15442</td>\n",
       "      <td>15442</td>\n",
       "      <td>7721</td>\n",
       "      <td>7721</td>\n",
       "    </tr>\n",
       "    <tr>\n",
       "      <th>2</th>\n",
       "      <td>Random Over Sampling</td>\n",
       "      <td>2948146</td>\n",
       "      <td>2948146</td>\n",
       "      <td>1474073</td>\n",
       "      <td>1474073</td>\n",
       "    </tr>\n",
       "  </tbody>\n",
       "</table>\n",
       "</div>"
      ],
      "text/plain": [
       "               technique  X_train_shape  y_train_shape  is_fraud_0  is_fraud_1\n",
       "0          Original Data        1481794        1481794     1474073        7721\n",
       "1  Random Under Sampling          15442          15442        7721        7721\n",
       "2   Random Over Sampling        2948146        2948146     1474073     1474073"
      ]
     },
     "execution_count": 13,
     "metadata": {},
     "output_type": "execute_result"
    }
   ],
   "source": [
    "new_row = {'technique':'Random Over Sampling', \n",
    "           'X_train_shape': X_train_ros.shape[0],\n",
    "          'y_train_shape': y_train_ros.shape[0],\n",
    "           'is_fraud_0': y_train_ros.value_counts()[0],\n",
    "          'is_fraud_1': y_train_ros.value_counts()[1]}\n",
    "\n",
    "counts_table = counts_table.append(new_row, ignore_index=True)\n",
    "counts_table"
   ]
  },
  {
   "cell_type": "markdown",
   "id": "d298115d",
   "metadata": {},
   "source": [
    "#### SMOTE\n",
    "\n",
    "We'll create new variables for X_train, y_train after SMOTE"
   ]
  },
  {
   "cell_type": "code",
   "execution_count": 14,
   "id": "608a3022",
   "metadata": {},
   "outputs": [],
   "source": [
    "from imblearn.over_sampling import SMOTE\n",
    "\n",
    "smote = SMOTE(sampling_strategy = 'minority')\n",
    "\n",
    "X_train_sm, y_train_sm = smote.fit_sample(X_train, y_train)"
   ]
  },
  {
   "cell_type": "code",
   "execution_count": 15,
   "id": "9e3c37d8",
   "metadata": {
    "scrolled": true
   },
   "outputs": [
    {
     "data": {
      "text/html": [
       "<div>\n",
       "<style scoped>\n",
       "    .dataframe tbody tr th:only-of-type {\n",
       "        vertical-align: middle;\n",
       "    }\n",
       "\n",
       "    .dataframe tbody tr th {\n",
       "        vertical-align: top;\n",
       "    }\n",
       "\n",
       "    .dataframe thead th {\n",
       "        text-align: right;\n",
       "    }\n",
       "</style>\n",
       "<table border=\"1\" class=\"dataframe\">\n",
       "  <thead>\n",
       "    <tr style=\"text-align: right;\">\n",
       "      <th></th>\n",
       "      <th>technique</th>\n",
       "      <th>X_train_shape</th>\n",
       "      <th>y_train_shape</th>\n",
       "      <th>is_fraud_0</th>\n",
       "      <th>is_fraud_1</th>\n",
       "    </tr>\n",
       "  </thead>\n",
       "  <tbody>\n",
       "    <tr>\n",
       "      <th>0</th>\n",
       "      <td>Original Data</td>\n",
       "      <td>1481794</td>\n",
       "      <td>1481794</td>\n",
       "      <td>1474073</td>\n",
       "      <td>7721</td>\n",
       "    </tr>\n",
       "    <tr>\n",
       "      <th>1</th>\n",
       "      <td>Random Under Sampling</td>\n",
       "      <td>15442</td>\n",
       "      <td>15442</td>\n",
       "      <td>7721</td>\n",
       "      <td>7721</td>\n",
       "    </tr>\n",
       "    <tr>\n",
       "      <th>2</th>\n",
       "      <td>Random Over Sampling</td>\n",
       "      <td>2948146</td>\n",
       "      <td>2948146</td>\n",
       "      <td>1474073</td>\n",
       "      <td>1474073</td>\n",
       "    </tr>\n",
       "    <tr>\n",
       "      <th>3</th>\n",
       "      <td>SMOTE - minority</td>\n",
       "      <td>2948146</td>\n",
       "      <td>2948146</td>\n",
       "      <td>1474073</td>\n",
       "      <td>1474073</td>\n",
       "    </tr>\n",
       "  </tbody>\n",
       "</table>\n",
       "</div>"
      ],
      "text/plain": [
       "               technique  X_train_shape  y_train_shape  is_fraud_0  is_fraud_1\n",
       "0          Original Data        1481794        1481794     1474073        7721\n",
       "1  Random Under Sampling          15442          15442        7721        7721\n",
       "2   Random Over Sampling        2948146        2948146     1474073     1474073\n",
       "3       SMOTE - minority        2948146        2948146     1474073     1474073"
      ]
     },
     "execution_count": 15,
     "metadata": {},
     "output_type": "execute_result"
    }
   ],
   "source": [
    "new_row = {'technique':'SMOTE - minority', \n",
    "           'X_train_shape': X_train_sm.shape[0],\n",
    "          'y_train_shape': y_train_sm.shape[0],\n",
    "           'is_fraud_0': y_train_sm.value_counts()[0],\n",
    "          'is_fraud_1': y_train_sm.value_counts()[1]}\n",
    "\n",
    "counts_table = counts_table.append(new_row, ignore_index=True)\n",
    "counts_table"
   ]
  },
  {
   "cell_type": "markdown",
   "id": "ec28d34e",
   "metadata": {},
   "source": [
    "## Setting up table for model metric comparison"
   ]
  },
  {
   "cell_type": "code",
   "execution_count": 16,
   "id": "5d668d6d",
   "metadata": {},
   "outputs": [],
   "source": [
    "column_names = [\"Algorithm\", \"Class Balancing\", \"Train Precision\", \"Train Recall\", \"Train f1\", \"Train Support\", \"Test Precision\", \"Test Recall\", \"Test f1\", \"Test Support\"]\n",
    "\n",
    "metrics = pd.DataFrame(columns = column_names)"
   ]
  },
  {
   "cell_type": "markdown",
   "id": "25eafc51",
   "metadata": {},
   "source": [
    "We'll define a function that will take metrics from classification report and add them to this table."
   ]
  },
  {
   "cell_type": "code",
   "execution_count": 17,
   "id": "84ef1fbf",
   "metadata": {},
   "outputs": [],
   "source": [
    "def add_metrics(algorithm, class_balancing, train_report, test_report):\n",
    "    new_row = {'Algorithm':algorithm,\n",
    "              'Class Balancing':class_balancing,\n",
    "              'Train Precision': train_report['fraud']['precision'],\n",
    "              'Train Recall': train_report['fraud']['recall'],\n",
    "              'Train f1': train_report['fraud']['f1-score'],\n",
    "              'Train Support': train_report['fraud']['support'],\n",
    "              'Test Precision': test_report['fraud']['precision'],\n",
    "              'Test Recall': test_report['fraud']['recall'],\n",
    "              'Test f1': test_report['fraud']['f1-score'],\n",
    "              'Test Support': test_report['fraud']['support']}\n",
    "    \n",
    "    global metrics\n",
    "    \n",
    "    metrics = metrics.append(new_row, ignore_index = True)"
   ]
  },
  {
   "cell_type": "markdown",
   "id": "69457372",
   "metadata": {},
   "source": [
    "## Algorithm 1: Logistic Regression"
   ]
  },
  {
   "cell_type": "markdown",
   "id": "34d42392",
   "metadata": {},
   "source": [
    "### 1a) with Random Under Sampling\n",
    "We'll begin by applying a baseline logistic regression to the random UNDER sampled data."
   ]
  },
  {
   "cell_type": "code",
   "execution_count": 18,
   "id": "b8d442bd",
   "metadata": {},
   "outputs": [],
   "source": [
    "from sklearn.linear_model import LogisticRegression\n",
    "\n",
    "lr_rus = LogisticRegression()\n",
    "# Fit the model on the trainng data.\n",
    "lr_rus.fit(X_train_rus, y_train_rus.values.ravel())\n",
    "\n",
    "y_pred_train_1a = lr_rus.predict(X_train_rus)\n",
    "y_pred_test_1a = lr_rus.predict(X_test)"
   ]
  },
  {
   "cell_type": "code",
   "execution_count": 19,
   "id": "5604e05b",
   "metadata": {},
   "outputs": [],
   "source": [
    "cm_1a_train = confusion_matrix(y_train_rus.values.ravel(),y_pred_train_1a)\n",
    "cm_1a_test = confusion_matrix(y_test.values.ravel(),y_pred_test_1a)"
   ]
  },
  {
   "cell_type": "code",
   "execution_count": 20,
   "id": "5e1ae3dc",
   "metadata": {},
   "outputs": [
    {
     "data": {
      "text/plain": [
       "Text(0.5, 1.0, 'LogisticRegression RUS - Testing confusion matrix')"
      ]
     },
     "execution_count": 20,
     "metadata": {},
     "output_type": "execute_result"
    },
    {
     "data": {
      "image/png": "[encoded data removed]",
      "text/plain": [
       "<Figure size 864x360 with 4 Axes>"
      ]
     },
     "metadata": {
      "needs_background": "light"
     },
     "output_type": "display_data"
    }
   ],
   "source": [
    "fig, ax = plt.subplots(1,2, figsize=(12,5))\n",
    "sns.heatmap(cm_1a_train, annot=True, fmt = '', cmap = 'Blues',ax = ax[0])\n",
    "ax[0].set_xlabel('Predicted label')\n",
    "ax[0].set_ylabel('True label')\n",
    "ax[0].set_title('LogisticRegression RUS - Training confusion matrix')\n",
    "\n",
    "sns.heatmap(cm_1a_test, annot=True, fmt = '', cmap = 'Reds',ax = ax[1])\n",
    "ax[1].set_xlabel('Predicted label')\n",
    "ax[1].set_ylabel('True label')\n",
    "ax[1].set_title('LogisticRegression RUS - Testing confusion matrix')"
   ]
  },
  {
   "cell_type": "code",
   "execution_count": 21,
   "id": "a5a784dc",
   "metadata": {
    "scrolled": false
   },
   "outputs": [
    {
     "name": "stdout",
     "output_type": "stream",
     "text": [
      "[Training Classification Report]\n",
      "              precision    recall  f1-score   support\n",
      "\n",
      "       valid       0.79      0.95      0.86      7721\n",
      "       fraud       0.94      0.75      0.83      7721\n",
      "\n",
      "    accuracy                           0.85     15442\n",
      "   macro avg       0.87      0.85      0.85     15442\n",
      "weighted avg       0.87      0.85      0.85     15442\n",
      "\n",
      "[Test Classification Report]\n",
      "              precision    recall  f1-score   support\n",
      "\n",
      "       valid       1.00      0.95      0.97    368519\n",
      "       fraud       0.08      0.74      0.14      1930\n",
      "\n",
      "    accuracy                           0.95    370449\n",
      "   macro avg       0.54      0.85      0.56    370449\n",
      "weighted avg       0.99      0.95      0.97    370449\n",
      "\n"
     ]
    }
   ],
   "source": [
    "from sklearn.metrics import classification_report\n",
    "\n",
    "target_names = ['valid', 'fraud']\n",
    "\n",
    "print(\"[Training Classification Report]\")\n",
    "print(classification_report(y_train_rus.values.ravel(), y_pred_train_1a, target_names=target_names))\n",
    "\n",
    "print(\"[Test Classification Report]\")\n",
    "print(classification_report(y_test.values.ravel(), y_pred_test_1a, target_names=target_names))"
   ]
  },
  {
   "cell_type": "markdown",
   "id": "bd056e00",
   "metadata": {},
   "source": [
    "Create dictionary versions of classification reports and add them to metrics dataframe"
   ]
  },
  {
   "cell_type": "code",
   "execution_count": 22,
   "id": "6f07e54b",
   "metadata": {},
   "outputs": [
    {
     "data": {
      "text/html": [
       "<div>\n",
       "<style scoped>\n",
       "    .dataframe tbody tr th:only-of-type {\n",
       "        vertical-align: middle;\n",
       "    }\n",
       "\n",
       "    .dataframe tbody tr th {\n",
       "        vertical-align: top;\n",
       "    }\n",
       "\n",
       "    .dataframe thead th {\n",
       "        text-align: right;\n",
       "    }\n",
       "</style>\n",
       "<table border=\"1\" class=\"dataframe\">\n",
       "  <thead>\n",
       "    <tr style=\"text-align: right;\">\n",
       "      <th></th>\n",
       "      <th>Algorithm</th>\n",
       "      <th>Class Balancing</th>\n",
       "      <th>Train Precision</th>\n",
       "      <th>Train Recall</th>\n",
       "      <th>Train f1</th>\n",
       "      <th>Train Support</th>\n",
       "      <th>Test Precision</th>\n",
       "      <th>Test Recall</th>\n",
       "      <th>Test f1</th>\n",
       "      <th>Test Support</th>\n",
       "    </tr>\n",
       "  </thead>\n",
       "  <tbody>\n",
       "    <tr>\n",
       "      <th>0</th>\n",
       "      <td>Logistic Regression</td>\n",
       "      <td>Random Under Sampling</td>\n",
       "      <td>0.939576</td>\n",
       "      <td>0.751198</td>\n",
       "      <td>0.834893</td>\n",
       "      <td>7721</td>\n",
       "      <td>0.075695</td>\n",
       "      <td>0.74456</td>\n",
       "      <td>0.13742</td>\n",
       "      <td>1930</td>\n",
       "    </tr>\n",
       "  </tbody>\n",
       "</table>\n",
       "</div>"
      ],
      "text/plain": [
       "             Algorithm        Class Balancing  Train Precision  Train Recall  \\\n",
       "0  Logistic Regression  Random Under Sampling         0.939576      0.751198   \n",
       "\n",
       "   Train f1 Train Support  Test Precision  Test Recall  Test f1 Test Support  \n",
       "0  0.834893          7721        0.075695      0.74456  0.13742         1930  "
      ]
     },
     "execution_count": 22,
     "metadata": {},
     "output_type": "execute_result"
    }
   ],
   "source": [
    "train_report_1a = classification_report(y_train_rus.values.ravel(), y_pred_train_1a, target_names=target_names, output_dict = True)\n",
    "test_report_1a = classification_report(y_test.values.ravel(), y_pred_test_1a, target_names=target_names, output_dict = True)\n",
    "\n",
    "add_metrics('Logistic Regression', 'Random Under Sampling', train_report_1a, test_report_1a)\n",
    "metrics"
   ]
  },
  {
   "cell_type": "markdown",
   "id": "94ef657d",
   "metadata": {},
   "source": [
    "### 1b) with Random Over Sampling"
   ]
  },
  {
   "cell_type": "code",
   "execution_count": 23,
   "id": "a95739ff",
   "metadata": {},
   "outputs": [],
   "source": [
    "lr_ros = LogisticRegression()\n",
    "# Fit the model on the trainng data.\n",
    "lr_ros.fit(X_train_ros, y_train_ros.values.ravel())\n",
    "\n",
    "y_pred_train_1b = lr_ros.predict(X_train_ros)\n",
    "y_pred_test_1b = lr_ros.predict(X_test)"
   ]
  },
  {
   "cell_type": "code",
   "execution_count": 24,
   "id": "575a37f2",
   "metadata": {},
   "outputs": [],
   "source": [
    "cm_1b_train = confusion_matrix(y_train_ros.values.ravel(),y_pred_train_1b)\n",
    "cm_1b_test = confusion_matrix(y_test.values.ravel(),y_pred_test_1b)"
   ]
  },
  {
   "cell_type": "code",
   "execution_count": 25,
   "id": "9f34f187",
   "metadata": {},
   "outputs": [
    {
     "data": {
      "text/plain": [
       "Text(0.5, 1.0, 'LogisticRegression ROS - Testing confusion matrix')"
      ]
     },
     "execution_count": 25,
     "metadata": {},
     "output_type": "execute_result"
    },
    {
     "data": {
      "image/png": "[encoded data removed]",
      "text/plain": [
       "<Figure size 864x360 with 4 Axes>"
      ]
     },
     "metadata": {
      "needs_background": "light"
     },
     "output_type": "display_data"
    }
   ],
   "source": [
    "fig, ax = plt.subplots(1,2, figsize=(12,5))\n",
    "sns.heatmap(cm_1b_train, annot=True, fmt = '', cmap = 'Blues',ax = ax[0])\n",
    "ax[0].set_xlabel('Predicted label')\n",
    "ax[0].set_ylabel('True label')\n",
    "ax[0].set_title('LogisticRegression ROS - Training confusion matrix')\n",
    "\n",
    "sns.heatmap(cm_1b_test, annot=True, fmt = '', cmap = 'Reds',ax = ax[1])\n",
    "ax[1].set_xlabel('Predicted label')\n",
    "ax[1].set_ylabel('True label')\n",
    "ax[1].set_title('LogisticRegression ROS - Testing confusion matrix')"
   ]
  },
  {
   "cell_type": "code",
   "execution_count": 26,
   "id": "dcb1c861",
   "metadata": {
    "scrolled": true
   },
   "outputs": [
    {
     "name": "stdout",
     "output_type": "stream",
     "text": [
      "[Training Classification Report]\n",
      "              precision    recall  f1-score   support\n",
      "\n",
      "       valid       0.79      0.94      0.86   1474073\n",
      "       fraud       0.93      0.75      0.83   1474073\n",
      "\n",
      "    accuracy                           0.85   2948146\n",
      "   macro avg       0.86      0.85      0.85   2948146\n",
      "weighted avg       0.86      0.85      0.85   2948146\n",
      "\n",
      "[Test Classification Report]\n",
      "              precision    recall  f1-score   support\n",
      "\n",
      "       valid       1.00      0.94      0.97    368519\n",
      "       fraud       0.07      0.74      0.12      1930\n",
      "\n",
      "    accuracy                           0.94    370449\n",
      "   macro avg       0.53      0.84      0.55    370449\n",
      "weighted avg       0.99      0.94      0.97    370449\n",
      "\n"
     ]
    }
   ],
   "source": [
    "target_names = ['valid', 'fraud']\n",
    "\n",
    "print(\"[Training Classification Report]\")\n",
    "print(classification_report(y_train_ros.values.ravel(), y_pred_train_1b, target_names=target_names))\n",
    "\n",
    "print(\"[Test Classification Report]\")\n",
    "print(classification_report(y_test.values.ravel(), y_pred_test_1b, target_names=target_names))"
   ]
  },
  {
   "cell_type": "markdown",
   "id": "04483fe5",
   "metadata": {},
   "source": [
    "Create dictionary versions of classification reports and add them to metrics dataframe"
   ]
  },
  {
   "cell_type": "code",
   "execution_count": 27,
   "id": "e7574490",
   "metadata": {
    "scrolled": true
   },
   "outputs": [
    {
     "data": {
      "text/html": [
       "<div>\n",
       "<style scoped>\n",
       "    .dataframe tbody tr th:only-of-type {\n",
       "        vertical-align: middle;\n",
       "    }\n",
       "\n",
       "    .dataframe tbody tr th {\n",
       "        vertical-align: top;\n",
       "    }\n",
       "\n",
       "    .dataframe thead th {\n",
       "        text-align: right;\n",
       "    }\n",
       "</style>\n",
       "<table border=\"1\" class=\"dataframe\">\n",
       "  <thead>\n",
       "    <tr style=\"text-align: right;\">\n",
       "      <th></th>\n",
       "      <th>Algorithm</th>\n",
       "      <th>Class Balancing</th>\n",
       "      <th>Train Precision</th>\n",
       "      <th>Train Recall</th>\n",
       "      <th>Train f1</th>\n",
       "      <th>Train Support</th>\n",
       "      <th>Test Precision</th>\n",
       "      <th>Test Recall</th>\n",
       "      <th>Test f1</th>\n",
       "      <th>Test Support</th>\n",
       "    </tr>\n",
       "  </thead>\n",
       "  <tbody>\n",
       "    <tr>\n",
       "      <th>0</th>\n",
       "      <td>Logistic Regression</td>\n",
       "      <td>Random Under Sampling</td>\n",
       "      <td>0.939576</td>\n",
       "      <td>0.751198</td>\n",
       "      <td>0.834893</td>\n",
       "      <td>7721</td>\n",
       "      <td>0.075695</td>\n",
       "      <td>0.744560</td>\n",
       "      <td>0.137420</td>\n",
       "      <td>1930</td>\n",
       "    </tr>\n",
       "    <tr>\n",
       "      <th>1</th>\n",
       "      <td>Logistic Regression</td>\n",
       "      <td>Random Over Sampling</td>\n",
       "      <td>0.930625</td>\n",
       "      <td>0.750658</td>\n",
       "      <td>0.831010</td>\n",
       "      <td>1474073</td>\n",
       "      <td>0.065051</td>\n",
       "      <td>0.741451</td>\n",
       "      <td>0.119609</td>\n",
       "      <td>1930</td>\n",
       "    </tr>\n",
       "  </tbody>\n",
       "</table>\n",
       "</div>"
      ],
      "text/plain": [
       "             Algorithm        Class Balancing  Train Precision  Train Recall  \\\n",
       "0  Logistic Regression  Random Under Sampling         0.939576      0.751198   \n",
       "1  Logistic Regression   Random Over Sampling         0.930625      0.750658   \n",
       "\n",
       "   Train f1 Train Support  Test Precision  Test Recall   Test f1 Test Support  \n",
       "0  0.834893          7721        0.075695     0.744560  0.137420         1930  \n",
       "1  0.831010       1474073        0.065051     0.741451  0.119609         1930  "
      ]
     },
     "execution_count": 27,
     "metadata": {},
     "output_type": "execute_result"
    }
   ],
   "source": [
    "train_report_1b = classification_report(y_train_ros.values.ravel(), y_pred_train_1b, target_names=target_names, output_dict = True)\n",
    "test_report_1b = classification_report(y_test.values.ravel(), y_pred_test_1b, target_names=target_names, output_dict = True)\n",
    "\n",
    "add_metrics('Logistic Regression', 'Random Over Sampling', train_report_1b, test_report_1b)\n",
    "metrics"
   ]
  },
  {
   "cell_type": "markdown",
   "id": "4326f5b5",
   "metadata": {},
   "source": [
    "### 1c) with SMOTE"
   ]
  },
  {
   "cell_type": "code",
   "execution_count": 28,
   "id": "d062f247",
   "metadata": {},
   "outputs": [],
   "source": [
    "lr_sm = LogisticRegression()\n",
    "# Fit the model on the trainng data.\n",
    "lr_sm.fit(X_train_sm, y_train_sm.values.ravel())\n",
    "\n",
    "y_pred_train_1c = lr_sm.predict(X_train_ros)\n",
    "y_pred_test_1c = lr_sm.predict(X_test)"
   ]
  },
  {
   "cell_type": "code",
   "execution_count": 29,
   "id": "97592c0a",
   "metadata": {},
   "outputs": [],
   "source": [
    "cm_1c_train = confusion_matrix(y_train_sm.values.ravel(),y_pred_train_1c)\n",
    "cm_1c_test = confusion_matrix(y_test.values.ravel(),y_pred_test_1c)"
   ]
  },
  {
   "cell_type": "code",
   "execution_count": 30,
   "id": "ac1a40af",
   "metadata": {},
   "outputs": [
    {
     "data": {
      "text/plain": [
       "Text(0.5, 1.0, 'LogisticRegression SMOTE - Testing confusion matrix')"
      ]
     },
     "execution_count": 30,
     "metadata": {},
     "output_type": "execute_result"
    },
    {
     "data": {
      "image/png": "[encoded data removed]",
      "text/plain": [
       "<Figure size 864x360 with 4 Axes>"
      ]
     },
     "metadata": {
      "needs_background": "light"
     },
     "output_type": "display_data"
    }
   ],
   "source": [
    "fig, ax = plt.subplots(1,2, figsize=(12,5))\n",
    "sns.heatmap(cm_1c_train, annot=True, fmt = '', cmap = 'Blues',ax = ax[0])\n",
    "ax[0].set_xlabel('Predicted label')\n",
    "ax[0].set_ylabel('True label')\n",
    "ax[0].set_title('LogisticRegression SMOTE - Training confusion matrix')\n",
    "\n",
    "sns.heatmap(cm_1c_test, annot=True, fmt = '', cmap = 'Reds',ax = ax[1])\n",
    "ax[1].set_xlabel('Predicted label')\n",
    "ax[1].set_ylabel('True label')\n",
    "ax[1].set_title('LogisticRegression SMOTE - Testing confusion matrix')"
   ]
  },
  {
   "cell_type": "code",
   "execution_count": 31,
   "id": "49f42b4b",
   "metadata": {},
   "outputs": [
    {
     "name": "stdout",
     "output_type": "stream",
     "text": [
      "[Training Classification Report]\n",
      "              precision    recall  f1-score   support\n",
      "\n",
      "       valid       0.79      0.95      0.87   1474073\n",
      "       fraud       0.94      0.75      0.84   1474073\n",
      "\n",
      "    accuracy                           0.85   2948146\n",
      "   macro avg       0.87      0.85      0.85   2948146\n",
      "weighted avg       0.87      0.85      0.85   2948146\n",
      "\n",
      "[Test Classification Report]\n",
      "              precision    recall  f1-score   support\n",
      "\n",
      "       valid       1.00      0.95      0.97    368519\n",
      "       fraud       0.07      0.75      0.14      1930\n",
      "\n",
      "    accuracy                           0.95    370449\n",
      "   macro avg       0.54      0.85      0.55    370449\n",
      "weighted avg       0.99      0.95      0.97    370449\n",
      "\n"
     ]
    }
   ],
   "source": [
    "target_names = ['valid', 'fraud']\n",
    "\n",
    "print(\"[Training Classification Report]\")\n",
    "print(classification_report(y_train_sm, y_pred_train_1c, target_names=target_names))\n",
    "\n",
    "print(\"[Test Classification Report]\")\n",
    "print(classification_report(y_test, y_pred_test_1c, target_names=target_names))"
   ]
  },
  {
   "cell_type": "markdown",
   "id": "bdf51f00",
   "metadata": {},
   "source": [
    "Create dictionary versions of classification reports and add them to metrics dataframe"
   ]
  },
  {
   "cell_type": "code",
   "execution_count": 32,
   "id": "012341ed",
   "metadata": {},
   "outputs": [
    {
     "data": {
      "text/html": [
       "<div>\n",
       "<style scoped>\n",
       "    .dataframe tbody tr th:only-of-type {\n",
       "        vertical-align: middle;\n",
       "    }\n",
       "\n",
       "    .dataframe tbody tr th {\n",
       "        vertical-align: top;\n",
       "    }\n",
       "\n",
       "    .dataframe thead th {\n",
       "        text-align: right;\n",
       "    }\n",
       "</style>\n",
       "<table border=\"1\" class=\"dataframe\">\n",
       "  <thead>\n",
       "    <tr style=\"text-align: right;\">\n",
       "      <th></th>\n",
       "      <th>Algorithm</th>\n",
       "      <th>Class Balancing</th>\n",
       "      <th>Train Precision</th>\n",
       "      <th>Train Recall</th>\n",
       "      <th>Train f1</th>\n",
       "      <th>Train Support</th>\n",
       "      <th>Test Precision</th>\n",
       "      <th>Test Recall</th>\n",
       "      <th>Test f1</th>\n",
       "      <th>Test Support</th>\n",
       "    </tr>\n",
       "  </thead>\n",
       "  <tbody>\n",
       "    <tr>\n",
       "      <th>0</th>\n",
       "      <td>Logistic Regression</td>\n",
       "      <td>Random Under Sampling</td>\n",
       "      <td>0.939576</td>\n",
       "      <td>0.751198</td>\n",
       "      <td>0.834893</td>\n",
       "      <td>7721</td>\n",
       "      <td>0.075695</td>\n",
       "      <td>0.744560</td>\n",
       "      <td>0.137420</td>\n",
       "      <td>1930</td>\n",
       "    </tr>\n",
       "    <tr>\n",
       "      <th>1</th>\n",
       "      <td>Logistic Regression</td>\n",
       "      <td>Random Over Sampling</td>\n",
       "      <td>0.930625</td>\n",
       "      <td>0.750658</td>\n",
       "      <td>0.831010</td>\n",
       "      <td>1474073</td>\n",
       "      <td>0.065051</td>\n",
       "      <td>0.741451</td>\n",
       "      <td>0.119609</td>\n",
       "      <td>1930</td>\n",
       "    </tr>\n",
       "    <tr>\n",
       "      <th>2</th>\n",
       "      <td>Logistic Regression</td>\n",
       "      <td>SMOTE</td>\n",
       "      <td>0.939261</td>\n",
       "      <td>0.751991</td>\n",
       "      <td>0.835257</td>\n",
       "      <td>1474073</td>\n",
       "      <td>0.074254</td>\n",
       "      <td>0.745078</td>\n",
       "      <td>0.135049</td>\n",
       "      <td>1930</td>\n",
       "    </tr>\n",
       "  </tbody>\n",
       "</table>\n",
       "</div>"
      ],
      "text/plain": [
       "             Algorithm        Class Balancing  Train Precision  Train Recall  \\\n",
       "0  Logistic Regression  Random Under Sampling         0.939576      0.751198   \n",
       "1  Logistic Regression   Random Over Sampling         0.930625      0.750658   \n",
       "2  Logistic Regression                  SMOTE         0.939261      0.751991   \n",
       "\n",
       "   Train f1 Train Support  Test Precision  Test Recall   Test f1 Test Support  \n",
       "0  0.834893          7721        0.075695     0.744560  0.137420         1930  \n",
       "1  0.831010       1474073        0.065051     0.741451  0.119609         1930  \n",
       "2  0.835257       1474073        0.074254     0.745078  0.135049         1930  "
      ]
     },
     "execution_count": 32,
     "metadata": {},
     "output_type": "execute_result"
    }
   ],
   "source": [
    "train_report_1c = classification_report(y_train_sm, y_pred_train_1c, target_names=target_names, output_dict = True)\n",
    "test_report_1c = classification_report(y_test, y_pred_test_1c, target_names=target_names, output_dict = True)\n",
    "\n",
    "add_metrics('Logistic Regression', 'SMOTE', train_report_1c, test_report_1c)\n",
    "metrics"
   ]
  },
  {
   "cell_type": "markdown",
   "id": "91eddec1",
   "metadata": {},
   "source": [
    "### 1d) with class_weight = balanced"
   ]
  },
  {
   "cell_type": "code",
   "execution_count": 33,
   "id": "6f4453ba",
   "metadata": {},
   "outputs": [],
   "source": [
    "lr_cw = LogisticRegression(class_weight='balanced')\n",
    "# Fit the model on the trainng data.\n",
    "lr_cw.fit(X_train, y_train.values.ravel())\n",
    "\n",
    "y_pred_train_1d = lr_cw.predict(X_train)\n",
    "y_pred_test_1d = lr_cw.predict(X_test)"
   ]
  },
  {
   "cell_type": "code",
   "execution_count": 34,
   "id": "4432749c",
   "metadata": {},
   "outputs": [],
   "source": [
    "cm_1d_train = confusion_matrix(y_train.values.ravel(),y_pred_train_1d)\n",
    "cm_1d_test = confusion_matrix(y_test.values.ravel(),y_pred_test_1d)"
   ]
  },
  {
   "cell_type": "code",
   "execution_count": 35,
   "id": "23683f90",
   "metadata": {},
   "outputs": [
    {
     "data": {
      "text/plain": [
       "Text(0.5, 1.0, 'LogisticRegression class_weight - Testing confusion matrix')"
      ]
     },
     "execution_count": 35,
     "metadata": {},
     "output_type": "execute_result"
    },
    {
     "data": {
      "image/png": "[encoded data removed]",
      "text/plain": [
       "<Figure size 864x360 with 4 Axes>"
      ]
     },
     "metadata": {
      "needs_background": "light"
     },
     "output_type": "display_data"
    }
   ],
   "source": [
    "fig, ax = plt.subplots(1,2, figsize=(12,5))\n",
    "sns.heatmap(cm_1d_train, annot=True, fmt = '', cmap = 'Blues',ax = ax[0])\n",
    "ax[0].set_xlabel('Predicted label')\n",
    "ax[0].set_ylabel('True label')\n",
    "ax[0].set_title('LogisticRegression class_weight - Training confusion matrix')\n",
    "\n",
    "sns.heatmap(cm_1d_test, annot=True, fmt = '', cmap = 'Reds',ax = ax[1])\n",
    "ax[1].set_xlabel('Predicted label')\n",
    "ax[1].set_ylabel('True label')\n",
    "ax[1].set_title('LogisticRegression class_weight - Testing confusion matrix')"
   ]
  },
  {
   "cell_type": "code",
   "execution_count": 36,
   "id": "3e8f39a8",
   "metadata": {},
   "outputs": [
    {
     "name": "stdout",
     "output_type": "stream",
     "text": [
      "[Training Classification Report]\n",
      "              precision    recall  f1-score   support\n",
      "\n",
      "       valid       1.00      0.95      0.98   1474073\n",
      "       fraud       0.08      0.75      0.14      7721\n",
      "\n",
      "    accuracy                           0.95   1481794\n",
      "   macro avg       0.54      0.85      0.56   1481794\n",
      "weighted avg       0.99      0.95      0.97   1481794\n",
      "\n",
      "[Test Classification Report]\n",
      "              precision    recall  f1-score   support\n",
      "\n",
      "       valid       1.00      0.95      0.98    368519\n",
      "       fraud       0.08      0.74      0.14      1930\n",
      "\n",
      "    accuracy                           0.95    370449\n",
      "   macro avg       0.54      0.85      0.56    370449\n",
      "weighted avg       0.99      0.95      0.97    370449\n",
      "\n"
     ]
    }
   ],
   "source": [
    "target_names = ['valid', 'fraud']\n",
    "\n",
    "print(\"[Training Classification Report]\")\n",
    "print(classification_report(y_train, y_pred_train_1d, target_names=target_names))\n",
    "\n",
    "print(\"[Test Classification Report]\")\n",
    "print(classification_report(y_test, y_pred_test_1d, target_names=target_names))"
   ]
  },
  {
   "cell_type": "markdown",
   "id": "e3b73dd8",
   "metadata": {},
   "source": [
    "Create dictionary versions of classification reports and add them to metrics dataframe"
   ]
  },
  {
   "cell_type": "code",
   "execution_count": 37,
   "id": "64d19a9f",
   "metadata": {},
   "outputs": [
    {
     "data": {
      "text/html": [
       "<div>\n",
       "<style scoped>\n",
       "    .dataframe tbody tr th:only-of-type {\n",
       "        vertical-align: middle;\n",
       "    }\n",
       "\n",
       "    .dataframe tbody tr th {\n",
       "        vertical-align: top;\n",
       "    }\n",
       "\n",
       "    .dataframe thead th {\n",
       "        text-align: right;\n",
       "    }\n",
       "</style>\n",
       "<table border=\"1\" class=\"dataframe\">\n",
       "  <thead>\n",
       "    <tr style=\"text-align: right;\">\n",
       "      <th></th>\n",
       "      <th>Algorithm</th>\n",
       "      <th>Class Balancing</th>\n",
       "      <th>Train Precision</th>\n",
       "      <th>Train Recall</th>\n",
       "      <th>Train f1</th>\n",
       "      <th>Train Support</th>\n",
       "      <th>Test Precision</th>\n",
       "      <th>Test Recall</th>\n",
       "      <th>Test f1</th>\n",
       "      <th>Test Support</th>\n",
       "    </tr>\n",
       "  </thead>\n",
       "  <tbody>\n",
       "    <tr>\n",
       "      <th>0</th>\n",
       "      <td>Logistic Regression</td>\n",
       "      <td>Random Under Sampling</td>\n",
       "      <td>0.939576</td>\n",
       "      <td>0.751198</td>\n",
       "      <td>0.834893</td>\n",
       "      <td>7721</td>\n",
       "      <td>0.075695</td>\n",
       "      <td>0.744560</td>\n",
       "      <td>0.137420</td>\n",
       "      <td>1930</td>\n",
       "    </tr>\n",
       "    <tr>\n",
       "      <th>1</th>\n",
       "      <td>Logistic Regression</td>\n",
       "      <td>Random Over Sampling</td>\n",
       "      <td>0.930625</td>\n",
       "      <td>0.750658</td>\n",
       "      <td>0.831010</td>\n",
       "      <td>1474073</td>\n",
       "      <td>0.065051</td>\n",
       "      <td>0.741451</td>\n",
       "      <td>0.119609</td>\n",
       "      <td>1930</td>\n",
       "    </tr>\n",
       "    <tr>\n",
       "      <th>2</th>\n",
       "      <td>Logistic Regression</td>\n",
       "      <td>SMOTE</td>\n",
       "      <td>0.939261</td>\n",
       "      <td>0.751991</td>\n",
       "      <td>0.835257</td>\n",
       "      <td>1474073</td>\n",
       "      <td>0.074254</td>\n",
       "      <td>0.745078</td>\n",
       "      <td>0.135049</td>\n",
       "      <td>1930</td>\n",
       "    </tr>\n",
       "    <tr>\n",
       "      <th>3</th>\n",
       "      <td>Logistic Regression</td>\n",
       "      <td>Balanced weight</td>\n",
       "      <td>0.077041</td>\n",
       "      <td>0.750809</td>\n",
       "      <td>0.139742</td>\n",
       "      <td>7721</td>\n",
       "      <td>0.076416</td>\n",
       "      <td>0.744560</td>\n",
       "      <td>0.138606</td>\n",
       "      <td>1930</td>\n",
       "    </tr>\n",
       "  </tbody>\n",
       "</table>\n",
       "</div>"
      ],
      "text/plain": [
       "             Algorithm        Class Balancing  Train Precision  Train Recall  \\\n",
       "0  Logistic Regression  Random Under Sampling         0.939576      0.751198   \n",
       "1  Logistic Regression   Random Over Sampling         0.930625      0.750658   \n",
       "2  Logistic Regression                  SMOTE         0.939261      0.751991   \n",
       "3  Logistic Regression        Balanced weight         0.077041      0.750809   \n",
       "\n",
       "   Train f1 Train Support  Test Precision  Test Recall   Test f1 Test Support  \n",
       "0  0.834893          7721        0.075695     0.744560  0.137420         1930  \n",
       "1  0.831010       1474073        0.065051     0.741451  0.119609         1930  \n",
       "2  0.835257       1474073        0.074254     0.745078  0.135049         1930  \n",
       "3  0.139742          7721        0.076416     0.744560  0.138606         1930  "
      ]
     },
     "execution_count": 37,
     "metadata": {},
     "output_type": "execute_result"
    }
   ],
   "source": [
    "train_report_1d = classification_report(y_train, y_pred_train_1d, target_names=target_names, output_dict = True)\n",
    "test_report_1d = classification_report(y_test, y_pred_test_1d, target_names=target_names, output_dict = True)\n",
    "\n",
    "add_metrics('Logistic Regression', 'Balanced weight', train_report_1d, test_report_1d)\n",
    "metrics"
   ]
  },
  {
   "cell_type": "markdown",
   "id": "07589ed3",
   "metadata": {},
   "source": [
    "## Algorithm 2: Random Forest"
   ]
  },
  {
   "cell_type": "markdown",
   "id": "8cdfd588",
   "metadata": {},
   "source": [
    "### 2a) with Random Under Sampling"
   ]
  },
  {
   "cell_type": "code",
   "execution_count": 38,
   "id": "b8b23f0a",
   "metadata": {},
   "outputs": [],
   "source": [
    "from sklearn.ensemble import RandomForestClassifier\n",
    "\n",
    "rf_rus = RandomForestClassifier()\n",
    "rf_rus.fit(X_train_rus, y_train_rus.values.ravel())\n",
    "\n",
    "y_pred_train_2a = rf_rus.predict(X_train_rus)\n",
    "y_pred_test_2a = rf_rus.predict(X_test)"
   ]
  },
  {
   "cell_type": "code",
   "execution_count": 39,
   "id": "e43f3447",
   "metadata": {},
   "outputs": [],
   "source": [
    "cm_2a_train = confusion_matrix(y_train_rus.values.ravel(),y_pred_train_2a)\n",
    "cm_2a_test = confusion_matrix(y_test.values.ravel(),y_pred_test_2a)"
   ]
  },
  {
   "cell_type": "code",
   "execution_count": 40,
   "id": "d932556a",
   "metadata": {},
   "outputs": [
    {
     "data": {
      "text/plain": [
       "Text(0.5, 1.0, 'RandomForest RUS - Testing confusion matrix')"
      ]
     },
     "execution_count": 40,
     "metadata": {},
     "output_type": "execute_result"
    },
    {
     "data": {
      "image/png": "[encoded data removed]",
      "text/plain": [
       "<Figure size 864x360 with 4 Axes>"
      ]
     },
     "metadata": {
      "needs_background": "light"
     },
     "output_type": "display_data"
    }
   ],
   "source": [
    "fig, ax = plt.subplots(1,2, figsize=(12,5))\n",
    "sns.heatmap(cm_2a_train, annot=True, fmt = '', cmap = 'Blues',ax = ax[0])\n",
    "ax[0].set_xlabel('Predicted label')\n",
    "ax[0].set_ylabel('True label')\n",
    "ax[0].set_title('RandomForest RUS - Training confusion matrix')\n",
    "\n",
    "sns.heatmap(cm_2a_test, annot=True, fmt = '', cmap = 'Reds',ax = ax[1])\n",
    "ax[1].set_xlabel('Predicted label')\n",
    "ax[1].set_ylabel('True label')\n",
    "ax[1].set_title('RandomForest RUS - Testing confusion matrix')"
   ]
  },
  {
   "cell_type": "code",
   "execution_count": 41,
   "id": "e21a31cb",
   "metadata": {},
   "outputs": [
    {
     "name": "stdout",
     "output_type": "stream",
     "text": [
      "[Training Classification Report]\n",
      "              precision    recall  f1-score   support\n",
      "\n",
      "       valid       1.00      1.00      1.00      7721\n",
      "       fraud       1.00      1.00      1.00      7721\n",
      "\n",
      "    accuracy                           1.00     15442\n",
      "   macro avg       1.00      1.00      1.00     15442\n",
      "weighted avg       1.00      1.00      1.00     15442\n",
      "\n",
      "[Test Classification Report]\n",
      "              precision    recall  f1-score   support\n",
      "\n",
      "       valid       1.00      0.98      0.99    368519\n",
      "       fraud       0.20      0.95      0.33      1930\n",
      "\n",
      "    accuracy                           0.98    370449\n",
      "   macro avg       0.60      0.96      0.66    370449\n",
      "weighted avg       1.00      0.98      0.99    370449\n",
      "\n"
     ]
    }
   ],
   "source": [
    "target_names = ['valid', 'fraud']\n",
    "\n",
    "print(\"[Training Classification Report]\")\n",
    "print(classification_report(y_train_rus, y_pred_train_2a, target_names=target_names))\n",
    "\n",
    "print(\"[Test Classification Report]\")\n",
    "print(classification_report(y_test, y_pred_test_2a, target_names=target_names))"
   ]
  },
  {
   "cell_type": "markdown",
   "id": "0474badf",
   "metadata": {},
   "source": [
    "Create dictionary versions of classification reports and add them to metrics dataframe"
   ]
  },
  {
   "cell_type": "code",
   "execution_count": 42,
   "id": "f5dea864",
   "metadata": {},
   "outputs": [
    {
     "data": {
      "text/html": [
       "<div>\n",
       "<style scoped>\n",
       "    .dataframe tbody tr th:only-of-type {\n",
       "        vertical-align: middle;\n",
       "    }\n",
       "\n",
       "    .dataframe tbody tr th {\n",
       "        vertical-align: top;\n",
       "    }\n",
       "\n",
       "    .dataframe thead th {\n",
       "        text-align: right;\n",
       "    }\n",
       "</style>\n",
       "<table border=\"1\" class=\"dataframe\">\n",
       "  <thead>\n",
       "    <tr style=\"text-align: right;\">\n",
       "      <th></th>\n",
       "      <th>Algorithm</th>\n",
       "      <th>Class Balancing</th>\n",
       "      <th>Train Precision</th>\n",
       "      <th>Train Recall</th>\n",
       "      <th>Train f1</th>\n",
       "      <th>Train Support</th>\n",
       "      <th>Test Precision</th>\n",
       "      <th>Test Recall</th>\n",
       "      <th>Test f1</th>\n",
       "      <th>Test Support</th>\n",
       "    </tr>\n",
       "  </thead>\n",
       "  <tbody>\n",
       "    <tr>\n",
       "      <th>0</th>\n",
       "      <td>Logistic Regression</td>\n",
       "      <td>Random Under Sampling</td>\n",
       "      <td>0.939576</td>\n",
       "      <td>0.751198</td>\n",
       "      <td>0.834893</td>\n",
       "      <td>7721</td>\n",
       "      <td>0.075695</td>\n",
       "      <td>0.744560</td>\n",
       "      <td>0.137420</td>\n",
       "      <td>1930</td>\n",
       "    </tr>\n",
       "    <tr>\n",
       "      <th>1</th>\n",
       "      <td>Logistic Regression</td>\n",
       "      <td>Random Over Sampling</td>\n",
       "      <td>0.930625</td>\n",
       "      <td>0.750658</td>\n",
       "      <td>0.831010</td>\n",
       "      <td>1474073</td>\n",
       "      <td>0.065051</td>\n",
       "      <td>0.741451</td>\n",
       "      <td>0.119609</td>\n",
       "      <td>1930</td>\n",
       "    </tr>\n",
       "    <tr>\n",
       "      <th>2</th>\n",
       "      <td>Logistic Regression</td>\n",
       "      <td>SMOTE</td>\n",
       "      <td>0.939261</td>\n",
       "      <td>0.751991</td>\n",
       "      <td>0.835257</td>\n",
       "      <td>1474073</td>\n",
       "      <td>0.074254</td>\n",
       "      <td>0.745078</td>\n",
       "      <td>0.135049</td>\n",
       "      <td>1930</td>\n",
       "    </tr>\n",
       "    <tr>\n",
       "      <th>3</th>\n",
       "      <td>Logistic Regression</td>\n",
       "      <td>Balanced weight</td>\n",
       "      <td>0.077041</td>\n",
       "      <td>0.750809</td>\n",
       "      <td>0.139742</td>\n",
       "      <td>7721</td>\n",
       "      <td>0.076416</td>\n",
       "      <td>0.744560</td>\n",
       "      <td>0.138606</td>\n",
       "      <td>1930</td>\n",
       "    </tr>\n",
       "    <tr>\n",
       "      <th>4</th>\n",
       "      <td>Random Forest</td>\n",
       "      <td>Random Under Sampling</td>\n",
       "      <td>1.000000</td>\n",
       "      <td>1.000000</td>\n",
       "      <td>1.000000</td>\n",
       "      <td>7721</td>\n",
       "      <td>0.197431</td>\n",
       "      <td>0.947668</td>\n",
       "      <td>0.326782</td>\n",
       "      <td>1930</td>\n",
       "    </tr>\n",
       "  </tbody>\n",
       "</table>\n",
       "</div>"
      ],
      "text/plain": [
       "             Algorithm        Class Balancing  Train Precision  Train Recall  \\\n",
       "0  Logistic Regression  Random Under Sampling         0.939576      0.751198   \n",
       "1  Logistic Regression   Random Over Sampling         0.930625      0.750658   \n",
       "2  Logistic Regression                  SMOTE         0.939261      0.751991   \n",
       "3  Logistic Regression        Balanced weight         0.077041      0.750809   \n",
       "4        Random Forest  Random Under Sampling         1.000000      1.000000   \n",
       "\n",
       "   Train f1 Train Support  Test Precision  Test Recall   Test f1 Test Support  \n",
       "0  0.834893          7721        0.075695     0.744560  0.137420         1930  \n",
       "1  0.831010       1474073        0.065051     0.741451  0.119609         1930  \n",
       "2  0.835257       1474073        0.074254     0.745078  0.135049         1930  \n",
       "3  0.139742          7721        0.076416     0.744560  0.138606         1930  \n",
       "4  1.000000          7721        0.197431     0.947668  0.326782         1930  "
      ]
     },
     "execution_count": 42,
     "metadata": {},
     "output_type": "execute_result"
    }
   ],
   "source": [
    "train_report_2a = classification_report(y_train_rus, y_pred_train_2a, target_names=target_names, output_dict = True)\n",
    "test_report_2a = classification_report(y_test, y_pred_test_2a, target_names=target_names, output_dict = True)\n",
    "\n",
    "add_metrics('Random Forest', 'Random Under Sampling', train_report_2a, test_report_2a)\n",
    "metrics"
   ]
  },
  {
   "cell_type": "markdown",
   "id": "d64a2872",
   "metadata": {},
   "source": [
    "### 2b) with Random Over Sampling"
   ]
  },
  {
   "cell_type": "code",
   "execution_count": 43,
   "id": "42d3da09",
   "metadata": {},
   "outputs": [],
   "source": [
    "rf_ros = RandomForestClassifier()\n",
    "rf_ros.fit(X_train_ros, y_train_ros.values.ravel())\n",
    "\n",
    "y_pred_train_2b = rf_ros.predict(X_train_ros)\n",
    "y_pred_test_2b = rf_ros.predict(X_test)"
   ]
  },
  {
   "cell_type": "code",
   "execution_count": 44,
   "id": "8d6e28ad",
   "metadata": {},
   "outputs": [],
   "source": [
    "from sklearn.metrics import confusion_matrix\n",
    "cm_2b_train = confusion_matrix(y_train_ros.values.ravel(),y_pred_train_2b)\n",
    "cm_2b_test = confusion_matrix(y_test.values.ravel(),y_pred_test_2b)"
   ]
  },
  {
   "cell_type": "code",
   "execution_count": 45,
   "id": "f8f12646",
   "metadata": {},
   "outputs": [
    {
     "data": {
      "text/plain": [
       "Text(0.5, 1.0, 'RandomForest ROS - Testing confusion matrix')"
      ]
     },
     "execution_count": 45,
     "metadata": {},
     "output_type": "execute_result"
    },
    {
     "data": {
      "image/png": "[encoded data removed]",
      "text/plain": [
       "<Figure size 864x360 with 4 Axes>"
      ]
     },
     "metadata": {
      "needs_background": "light"
     },
     "output_type": "display_data"
    }
   ],
   "source": [
    "fig, ax = plt.subplots(1,2, figsize=(12,5))\n",
    "sns.heatmap(cm_2b_train, annot=True, fmt = '', cmap = 'Blues',ax = ax[0])\n",
    "ax[0].set_xlabel('Predicted label')\n",
    "ax[0].set_ylabel('True label')\n",
    "ax[0].set_title('RandomForest ROS - Training confusion matrix')\n",
    "\n",
    "sns.heatmap(cm_2b_test, annot=True, fmt = '', cmap = 'Reds',ax = ax[1])\n",
    "ax[1].set_xlabel('Predicted label')\n",
    "ax[1].set_ylabel('True label')\n",
    "ax[1].set_title('RandomForest ROS - Testing confusion matrix')"
   ]
  },
  {
   "cell_type": "code",
   "execution_count": 46,
   "id": "766c1e96",
   "metadata": {},
   "outputs": [
    {
     "name": "stdout",
     "output_type": "stream",
     "text": [
      "[Training Classification Report]\n",
      "              precision    recall  f1-score   support\n",
      "\n",
      "       valid       1.00      1.00      1.00   1474073\n",
      "       fraud       1.00      1.00      1.00   1474073\n",
      "\n",
      "    accuracy                           1.00   2948146\n",
      "   macro avg       1.00      1.00      1.00   2948146\n",
      "weighted avg       1.00      1.00      1.00   2948146\n",
      "\n",
      "[Test Classification Report]\n",
      "              precision    recall  f1-score   support\n",
      "\n",
      "       valid       1.00      1.00      1.00    368519\n",
      "       fraud       0.93      0.70      0.80      1930\n",
      "\n",
      "    accuracy                           1.00    370449\n",
      "   macro avg       0.96      0.85      0.90    370449\n",
      "weighted avg       1.00      1.00      1.00    370449\n",
      "\n"
     ]
    }
   ],
   "source": [
    "target_names = ['valid', 'fraud']\n",
    "\n",
    "print(\"[Training Classification Report]\")\n",
    "print(classification_report(y_train_ros, y_pred_train_2b, target_names=target_names))\n",
    "\n",
    "print(\"[Test Classification Report]\")\n",
    "print(classification_report(y_test, y_pred_test_2b, target_names=target_names))"
   ]
  },
  {
   "cell_type": "markdown",
   "id": "0e5f75c0",
   "metadata": {},
   "source": [
    "Create dictionary versions of classification reports and add them to metrics dataframe"
   ]
  },
  {
   "cell_type": "code",
   "execution_count": 47,
   "id": "7adeb48c",
   "metadata": {},
   "outputs": [
    {
     "data": {
      "text/html": [
       "<div>\n",
       "<style scoped>\n",
       "    .dataframe tbody tr th:only-of-type {\n",
       "        vertical-align: middle;\n",
       "    }\n",
       "\n",
       "    .dataframe tbody tr th {\n",
       "        vertical-align: top;\n",
       "    }\n",
       "\n",
       "    .dataframe thead th {\n",
       "        text-align: right;\n",
       "    }\n",
       "</style>\n",
       "<table border=\"1\" class=\"dataframe\">\n",
       "  <thead>\n",
       "    <tr style=\"text-align: right;\">\n",
       "      <th></th>\n",
       "      <th>Algorithm</th>\n",
       "      <th>Class Balancing</th>\n",
       "      <th>Train Precision</th>\n",
       "      <th>Train Recall</th>\n",
       "      <th>Train f1</th>\n",
       "      <th>Train Support</th>\n",
       "      <th>Test Precision</th>\n",
       "      <th>Test Recall</th>\n",
       "      <th>Test f1</th>\n",
       "      <th>Test Support</th>\n",
       "    </tr>\n",
       "  </thead>\n",
       "  <tbody>\n",
       "    <tr>\n",
       "      <th>0</th>\n",
       "      <td>Logistic Regression</td>\n",
       "      <td>Random Under Sampling</td>\n",
       "      <td>0.939576</td>\n",
       "      <td>0.751198</td>\n",
       "      <td>0.834893</td>\n",
       "      <td>7721</td>\n",
       "      <td>0.075695</td>\n",
       "      <td>0.744560</td>\n",
       "      <td>0.137420</td>\n",
       "      <td>1930</td>\n",
       "    </tr>\n",
       "    <tr>\n",
       "      <th>1</th>\n",
       "      <td>Logistic Regression</td>\n",
       "      <td>Random Over Sampling</td>\n",
       "      <td>0.930625</td>\n",
       "      <td>0.750658</td>\n",
       "      <td>0.831010</td>\n",
       "      <td>1474073</td>\n",
       "      <td>0.065051</td>\n",
       "      <td>0.741451</td>\n",
       "      <td>0.119609</td>\n",
       "      <td>1930</td>\n",
       "    </tr>\n",
       "    <tr>\n",
       "      <th>2</th>\n",
       "      <td>Logistic Regression</td>\n",
       "      <td>SMOTE</td>\n",
       "      <td>0.939261</td>\n",
       "      <td>0.751991</td>\n",
       "      <td>0.835257</td>\n",
       "      <td>1474073</td>\n",
       "      <td>0.074254</td>\n",
       "      <td>0.745078</td>\n",
       "      <td>0.135049</td>\n",
       "      <td>1930</td>\n",
       "    </tr>\n",
       "    <tr>\n",
       "      <th>3</th>\n",
       "      <td>Logistic Regression</td>\n",
       "      <td>Balanced weight</td>\n",
       "      <td>0.077041</td>\n",
       "      <td>0.750809</td>\n",
       "      <td>0.139742</td>\n",
       "      <td>7721</td>\n",
       "      <td>0.076416</td>\n",
       "      <td>0.744560</td>\n",
       "      <td>0.138606</td>\n",
       "      <td>1930</td>\n",
       "    </tr>\n",
       "    <tr>\n",
       "      <th>4</th>\n",
       "      <td>Random Forest</td>\n",
       "      <td>Random Under Sampling</td>\n",
       "      <td>1.000000</td>\n",
       "      <td>1.000000</td>\n",
       "      <td>1.000000</td>\n",
       "      <td>7721</td>\n",
       "      <td>0.197431</td>\n",
       "      <td>0.947668</td>\n",
       "      <td>0.326782</td>\n",
       "      <td>1930</td>\n",
       "    </tr>\n",
       "    <tr>\n",
       "      <th>5</th>\n",
       "      <td>Random Forest</td>\n",
       "      <td>Random Over Sampling</td>\n",
       "      <td>1.000000</td>\n",
       "      <td>1.000000</td>\n",
       "      <td>1.000000</td>\n",
       "      <td>1474073</td>\n",
       "      <td>0.930233</td>\n",
       "      <td>0.704663</td>\n",
       "      <td>0.801887</td>\n",
       "      <td>1930</td>\n",
       "    </tr>\n",
       "  </tbody>\n",
       "</table>\n",
       "</div>"
      ],
      "text/plain": [
       "             Algorithm        Class Balancing  Train Precision  Train Recall  \\\n",
       "0  Logistic Regression  Random Under Sampling         0.939576      0.751198   \n",
       "1  Logistic Regression   Random Over Sampling         0.930625      0.750658   \n",
       "2  Logistic Regression                  SMOTE         0.939261      0.751991   \n",
       "3  Logistic Regression        Balanced weight         0.077041      0.750809   \n",
       "4        Random Forest  Random Under Sampling         1.000000      1.000000   \n",
       "5        Random Forest   Random Over Sampling         1.000000      1.000000   \n",
       "\n",
       "   Train f1 Train Support  Test Precision  Test Recall   Test f1 Test Support  \n",
       "0  0.834893          7721        0.075695     0.744560  0.137420         1930  \n",
       "1  0.831010       1474073        0.065051     0.741451  0.119609         1930  \n",
       "2  0.835257       1474073        0.074254     0.745078  0.135049         1930  \n",
       "3  0.139742          7721        0.076416     0.744560  0.138606         1930  \n",
       "4  1.000000          7721        0.197431     0.947668  0.326782         1930  \n",
       "5  1.000000       1474073        0.930233     0.704663  0.801887         1930  "
      ]
     },
     "execution_count": 47,
     "metadata": {},
     "output_type": "execute_result"
    }
   ],
   "source": [
    "train_report_2b = classification_report(y_train_ros, y_pred_train_2b, target_names=target_names, output_dict = True)\n",
    "test_report_2b = classification_report(y_test, y_pred_test_2b, target_names=target_names, output_dict = True)\n",
    "\n",
    "add_metrics('Random Forest', 'Random Over Sampling', train_report_2b, test_report_2b)\n",
    "metrics"
   ]
  },
  {
   "cell_type": "markdown",
   "id": "d0d40503",
   "metadata": {},
   "source": [
    "### 2c) with SMOTE"
   ]
  },
  {
   "cell_type": "code",
   "execution_count": 48,
   "id": "92b5a05b",
   "metadata": {},
   "outputs": [],
   "source": [
    "rf_sm = RandomForestClassifier()\n",
    "rf_sm.fit(X_train_sm, y_train_sm.values.ravel())\n",
    "\n",
    "y_pred_train_2c = rf_sm.predict(X_train_sm)\n",
    "y_pred_test_2c = rf_sm.predict(X_test)"
   ]
  },
  {
   "cell_type": "code",
   "execution_count": 49,
   "id": "43549481",
   "metadata": {},
   "outputs": [],
   "source": [
    "cm_2c_train = confusion_matrix(y_train_sm.values.ravel(),y_pred_train_2c)\n",
    "cm_2c_test = confusion_matrix(y_test.values.ravel(),y_pred_test_2c)"
   ]
  },
  {
   "cell_type": "code",
   "execution_count": 50,
   "id": "01acac5c",
   "metadata": {},
   "outputs": [
    {
     "data": {
      "text/plain": [
       "Text(0.5, 1.0, 'RandomForest SMOTE - Testing confusion matrix')"
      ]
     },
     "execution_count": 50,
     "metadata": {},
     "output_type": "execute_result"
    },
    {
     "data": {
      "image/png": "[encoded data removed]",
      "text/plain": [
       "<Figure size 864x360 with 4 Axes>"
      ]
     },
     "metadata": {
      "needs_background": "light"
     },
     "output_type": "display_data"
    }
   ],
   "source": [
    "fig, ax = plt.subplots(1,2, figsize=(12,5))\n",
    "sns.heatmap(cm_2c_train, annot=True, fmt = '', cmap = 'Blues',ax = ax[0])\n",
    "ax[0].set_xlabel('Predicted label')\n",
    "ax[0].set_ylabel('True label')\n",
    "ax[0].set_title('RandomForest SMOTE - Training confusion matrix')\n",
    "\n",
    "sns.heatmap(cm_2c_test, annot=True, fmt = '', cmap = 'Reds',ax = ax[1])\n",
    "ax[1].set_xlabel('Predicted label')\n",
    "ax[1].set_ylabel('True label')\n",
    "ax[1].set_title('RandomForest SMOTE - Testing confusion matrix')"
   ]
  },
  {
   "cell_type": "code",
   "execution_count": 51,
   "id": "6860e00c",
   "metadata": {},
   "outputs": [
    {
     "name": "stdout",
     "output_type": "stream",
     "text": [
      "[Training Classification Report]\n",
      "              precision    recall  f1-score   support\n",
      "\n",
      "       valid       1.00      1.00      1.00   1474073\n",
      "       fraud       1.00      1.00      1.00   1474073\n",
      "\n",
      "    accuracy                           1.00   2948146\n",
      "   macro avg       1.00      1.00      1.00   2948146\n",
      "weighted avg       1.00      1.00      1.00   2948146\n",
      "\n",
      "[Test Classification Report]\n",
      "              precision    recall  f1-score   support\n",
      "\n",
      "       valid       1.00      1.00      1.00    368519\n",
      "       fraud       0.90      0.60      0.72      1930\n",
      "\n",
      "    accuracy                           1.00    370449\n",
      "   macro avg       0.95      0.80      0.86    370449\n",
      "weighted avg       1.00      1.00      1.00    370449\n",
      "\n"
     ]
    }
   ],
   "source": [
    "target_names = ['valid', 'fraud']\n",
    "\n",
    "print(\"[Training Classification Report]\")\n",
    "print(classification_report(y_train_sm, y_pred_train_2c, target_names=target_names))\n",
    "\n",
    "print(\"[Test Classification Report]\")\n",
    "print(classification_report(y_test, y_pred_test_2c, target_names=target_names))"
   ]
  },
  {
   "cell_type": "markdown",
   "id": "29c4966e",
   "metadata": {},
   "source": [
    "Create dictionary versions of classification reports and add them to metrics dataframe"
   ]
  },
  {
   "cell_type": "code",
   "execution_count": 52,
   "id": "285208f6",
   "metadata": {},
   "outputs": [
    {
     "data": {
      "text/html": [
       "<div>\n",
       "<style scoped>\n",
       "    .dataframe tbody tr th:only-of-type {\n",
       "        vertical-align: middle;\n",
       "    }\n",
       "\n",
       "    .dataframe tbody tr th {\n",
       "        vertical-align: top;\n",
       "    }\n",
       "\n",
       "    .dataframe thead th {\n",
       "        text-align: right;\n",
       "    }\n",
       "</style>\n",
       "<table border=\"1\" class=\"dataframe\">\n",
       "  <thead>\n",
       "    <tr style=\"text-align: right;\">\n",
       "      <th></th>\n",
       "      <th>Algorithm</th>\n",
       "      <th>Class Balancing</th>\n",
       "      <th>Train Precision</th>\n",
       "      <th>Train Recall</th>\n",
       "      <th>Train f1</th>\n",
       "      <th>Train Support</th>\n",
       "      <th>Test Precision</th>\n",
       "      <th>Test Recall</th>\n",
       "      <th>Test f1</th>\n",
       "      <th>Test Support</th>\n",
       "    </tr>\n",
       "  </thead>\n",
       "  <tbody>\n",
       "    <tr>\n",
       "      <th>0</th>\n",
       "      <td>Logistic Regression</td>\n",
       "      <td>Random Under Sampling</td>\n",
       "      <td>0.939576</td>\n",
       "      <td>0.751198</td>\n",
       "      <td>0.834893</td>\n",
       "      <td>7721</td>\n",
       "      <td>0.075695</td>\n",
       "      <td>0.744560</td>\n",
       "      <td>0.137420</td>\n",
       "      <td>1930</td>\n",
       "    </tr>\n",
       "    <tr>\n",
       "      <th>1</th>\n",
       "      <td>Logistic Regression</td>\n",
       "      <td>Random Over Sampling</td>\n",
       "      <td>0.930625</td>\n",
       "      <td>0.750658</td>\n",
       "      <td>0.831010</td>\n",
       "      <td>1474073</td>\n",
       "      <td>0.065051</td>\n",
       "      <td>0.741451</td>\n",
       "      <td>0.119609</td>\n",
       "      <td>1930</td>\n",
       "    </tr>\n",
       "    <tr>\n",
       "      <th>2</th>\n",
       "      <td>Logistic Regression</td>\n",
       "      <td>SMOTE</td>\n",
       "      <td>0.939261</td>\n",
       "      <td>0.751991</td>\n",
       "      <td>0.835257</td>\n",
       "      <td>1474073</td>\n",
       "      <td>0.074254</td>\n",
       "      <td>0.745078</td>\n",
       "      <td>0.135049</td>\n",
       "      <td>1930</td>\n",
       "    </tr>\n",
       "    <tr>\n",
       "      <th>3</th>\n",
       "      <td>Logistic Regression</td>\n",
       "      <td>Balanced weight</td>\n",
       "      <td>0.077041</td>\n",
       "      <td>0.750809</td>\n",
       "      <td>0.139742</td>\n",
       "      <td>7721</td>\n",
       "      <td>0.076416</td>\n",
       "      <td>0.744560</td>\n",
       "      <td>0.138606</td>\n",
       "      <td>1930</td>\n",
       "    </tr>\n",
       "    <tr>\n",
       "      <th>4</th>\n",
       "      <td>Random Forest</td>\n",
       "      <td>Random Under Sampling</td>\n",
       "      <td>1.000000</td>\n",
       "      <td>1.000000</td>\n",
       "      <td>1.000000</td>\n",
       "      <td>7721</td>\n",
       "      <td>0.197431</td>\n",
       "      <td>0.947668</td>\n",
       "      <td>0.326782</td>\n",
       "      <td>1930</td>\n",
       "    </tr>\n",
       "    <tr>\n",
       "      <th>5</th>\n",
       "      <td>Random Forest</td>\n",
       "      <td>Random Over Sampling</td>\n",
       "      <td>1.000000</td>\n",
       "      <td>1.000000</td>\n",
       "      <td>1.000000</td>\n",
       "      <td>1474073</td>\n",
       "      <td>0.930233</td>\n",
       "      <td>0.704663</td>\n",
       "      <td>0.801887</td>\n",
       "      <td>1930</td>\n",
       "    </tr>\n",
       "    <tr>\n",
       "      <th>6</th>\n",
       "      <td>Random Forest</td>\n",
       "      <td>SMOTE</td>\n",
       "      <td>1.000000</td>\n",
       "      <td>1.000000</td>\n",
       "      <td>1.000000</td>\n",
       "      <td>1474073</td>\n",
       "      <td>0.900852</td>\n",
       "      <td>0.602591</td>\n",
       "      <td>0.722136</td>\n",
       "      <td>1930</td>\n",
       "    </tr>\n",
       "  </tbody>\n",
       "</table>\n",
       "</div>"
      ],
      "text/plain": [
       "             Algorithm        Class Balancing  Train Precision  Train Recall  \\\n",
       "0  Logistic Regression  Random Under Sampling         0.939576      0.751198   \n",
       "1  Logistic Regression   Random Over Sampling         0.930625      0.750658   \n",
       "2  Logistic Regression                  SMOTE         0.939261      0.751991   \n",
       "3  Logistic Regression        Balanced weight         0.077041      0.750809   \n",
       "4        Random Forest  Random Under Sampling         1.000000      1.000000   \n",
       "5        Random Forest   Random Over Sampling         1.000000      1.000000   \n",
       "6        Random Forest                  SMOTE         1.000000      1.000000   \n",
       "\n",
       "   Train f1 Train Support  Test Precision  Test Recall   Test f1 Test Support  \n",
       "0  0.834893          7721        0.075695     0.744560  0.137420         1930  \n",
       "1  0.831010       1474073        0.065051     0.741451  0.119609         1930  \n",
       "2  0.835257       1474073        0.074254     0.745078  0.135049         1930  \n",
       "3  0.139742          7721        0.076416     0.744560  0.138606         1930  \n",
       "4  1.000000          7721        0.197431     0.947668  0.326782         1930  \n",
       "5  1.000000       1474073        0.930233     0.704663  0.801887         1930  \n",
       "6  1.000000       1474073        0.900852     0.602591  0.722136         1930  "
      ]
     },
     "execution_count": 52,
     "metadata": {},
     "output_type": "execute_result"
    }
   ],
   "source": [
    "train_report_2c = classification_report(y_train_sm, y_pred_train_2c, target_names=target_names, output_dict = True)\n",
    "test_report_2c = classification_report(y_test, y_pred_test_2c, target_names=target_names, output_dict = True)\n",
    "\n",
    "add_metrics('Random Forest', 'SMOTE', train_report_2c, test_report_2c)\n",
    "metrics"
   ]
  },
  {
   "cell_type": "markdown",
   "id": "aaac42c1",
   "metadata": {},
   "source": [
    "### 2d) with class_weight = balanced"
   ]
  },
  {
   "cell_type": "code",
   "execution_count": 53,
   "id": "8a500335",
   "metadata": {},
   "outputs": [],
   "source": [
    "rf_cw = RandomForestClassifier(class_weight='balanced')\n",
    "rf_cw.fit(X_train, y_train.values.ravel())\n",
    "\n",
    "y_pred_train_2d = rf_cw.predict(X_train)\n",
    "y_pred_test_2d = rf_cw.predict(X_test)"
   ]
  },
  {
   "cell_type": "code",
   "execution_count": 54,
   "id": "0731bed9",
   "metadata": {},
   "outputs": [],
   "source": [
    "cm_2d_train = confusion_matrix(y_train.values.ravel(),y_pred_train_2d)\n",
    "cm_2d_test = confusion_matrix(y_test.values.ravel(),y_pred_test_2d)"
   ]
  },
  {
   "cell_type": "code",
   "execution_count": 55,
   "id": "f6f8e3d2",
   "metadata": {},
   "outputs": [
    {
     "data": {
      "text/plain": [
       "Text(0.5, 1.0, 'RandomForest class_weight - Testing confusion matrix')"
      ]
     },
     "execution_count": 55,
     "metadata": {},
     "output_type": "execute_result"
    },
    {
     "data": {
      "image/png": "[encoded data removed]",
      "text/plain": [
       "<Figure size 864x360 with 4 Axes>"
      ]
     },
     "metadata": {
      "needs_background": "light"
     },
     "output_type": "display_data"
    }
   ],
   "source": [
    "fig, ax = plt.subplots(1,2, figsize=(12,5))\n",
    "sns.heatmap(cm_2d_train, annot=True, fmt = '', cmap = 'Blues',ax = ax[0])\n",
    "ax[0].set_xlabel('Predicted label')\n",
    "ax[0].set_ylabel('True label')\n",
    "ax[0].set_title('RandomForest class_weight - Training confusion matrix')\n",
    "\n",
    "sns.heatmap(cm_2d_test, annot=True, fmt = '', cmap = 'Reds',ax = ax[1])\n",
    "ax[1].set_xlabel('Predicted label')\n",
    "ax[1].set_ylabel('True label')\n",
    "ax[1].set_title('RandomForest class_weight - Testing confusion matrix')"
   ]
  },
  {
   "cell_type": "code",
   "execution_count": 56,
   "id": "3080cec1",
   "metadata": {},
   "outputs": [
    {
     "name": "stdout",
     "output_type": "stream",
     "text": [
      "[Training Classification Report]\n",
      "              precision    recall  f1-score   support\n",
      "\n",
      "       valid       1.00      1.00      1.00   1474073\n",
      "       fraud       1.00      1.00      1.00      7721\n",
      "\n",
      "    accuracy                           1.00   1481794\n",
      "   macro avg       1.00      1.00      1.00   1481794\n",
      "weighted avg       1.00      1.00      1.00   1481794\n",
      "\n",
      "[Test Classification Report]\n",
      "              precision    recall  f1-score   support\n",
      "\n",
      "       valid       1.00      1.00      1.00    368519\n",
      "       fraud       0.96      0.64      0.77      1930\n",
      "\n",
      "    accuracy                           1.00    370449\n",
      "   macro avg       0.98      0.82      0.88    370449\n",
      "weighted avg       1.00      1.00      1.00    370449\n",
      "\n"
     ]
    }
   ],
   "source": [
    "target_names = ['valid', 'fraud']\n",
    "\n",
    "print(\"[Training Classification Report]\")\n",
    "print(classification_report(y_train, y_pred_train_2d, target_names=target_names))\n",
    "\n",
    "print(\"[Test Classification Report]\")\n",
    "print(classification_report(y_test, y_pred_test_2d, target_names=target_names))"
   ]
  },
  {
   "cell_type": "markdown",
   "id": "3d97d6ed",
   "metadata": {},
   "source": [
    "Create dictionary versions of classification reports and add them to metrics dataframe"
   ]
  },
  {
   "cell_type": "code",
   "execution_count": 57,
   "id": "21376756",
   "metadata": {},
   "outputs": [
    {
     "data": {
      "text/html": [
       "<div>\n",
       "<style scoped>\n",
       "    .dataframe tbody tr th:only-of-type {\n",
       "        vertical-align: middle;\n",
       "    }\n",
       "\n",
       "    .dataframe tbody tr th {\n",
       "        vertical-align: top;\n",
       "    }\n",
       "\n",
       "    .dataframe thead th {\n",
       "        text-align: right;\n",
       "    }\n",
       "</style>\n",
       "<table border=\"1\" class=\"dataframe\">\n",
       "  <thead>\n",
       "    <tr style=\"text-align: right;\">\n",
       "      <th></th>\n",
       "      <th>Algorithm</th>\n",
       "      <th>Class Balancing</th>\n",
       "      <th>Train Precision</th>\n",
       "      <th>Train Recall</th>\n",
       "      <th>Train f1</th>\n",
       "      <th>Train Support</th>\n",
       "      <th>Test Precision</th>\n",
       "      <th>Test Recall</th>\n",
       "      <th>Test f1</th>\n",
       "      <th>Test Support</th>\n",
       "    </tr>\n",
       "  </thead>\n",
       "  <tbody>\n",
       "    <tr>\n",
       "      <th>0</th>\n",
       "      <td>Logistic Regression</td>\n",
       "      <td>Random Under Sampling</td>\n",
       "      <td>0.939576</td>\n",
       "      <td>0.751198</td>\n",
       "      <td>0.834893</td>\n",
       "      <td>7721</td>\n",
       "      <td>0.075695</td>\n",
       "      <td>0.744560</td>\n",
       "      <td>0.137420</td>\n",
       "      <td>1930</td>\n",
       "    </tr>\n",
       "    <tr>\n",
       "      <th>1</th>\n",
       "      <td>Logistic Regression</td>\n",
       "      <td>Random Over Sampling</td>\n",
       "      <td>0.930625</td>\n",
       "      <td>0.750658</td>\n",
       "      <td>0.831010</td>\n",
       "      <td>1474073</td>\n",
       "      <td>0.065051</td>\n",
       "      <td>0.741451</td>\n",
       "      <td>0.119609</td>\n",
       "      <td>1930</td>\n",
       "    </tr>\n",
       "    <tr>\n",
       "      <th>2</th>\n",
       "      <td>Logistic Regression</td>\n",
       "      <td>SMOTE</td>\n",
       "      <td>0.939261</td>\n",
       "      <td>0.751991</td>\n",
       "      <td>0.835257</td>\n",
       "      <td>1474073</td>\n",
       "      <td>0.074254</td>\n",
       "      <td>0.745078</td>\n",
       "      <td>0.135049</td>\n",
       "      <td>1930</td>\n",
       "    </tr>\n",
       "    <tr>\n",
       "      <th>3</th>\n",
       "      <td>Logistic Regression</td>\n",
       "      <td>Balanced weight</td>\n",
       "      <td>0.077041</td>\n",
       "      <td>0.750809</td>\n",
       "      <td>0.139742</td>\n",
       "      <td>7721</td>\n",
       "      <td>0.076416</td>\n",
       "      <td>0.744560</td>\n",
       "      <td>0.138606</td>\n",
       "      <td>1930</td>\n",
       "    </tr>\n",
       "    <tr>\n",
       "      <th>4</th>\n",
       "      <td>Random Forest</td>\n",
       "      <td>Random Under Sampling</td>\n",
       "      <td>1.000000</td>\n",
       "      <td>1.000000</td>\n",
       "      <td>1.000000</td>\n",
       "      <td>7721</td>\n",
       "      <td>0.197431</td>\n",
       "      <td>0.947668</td>\n",
       "      <td>0.326782</td>\n",
       "      <td>1930</td>\n",
       "    </tr>\n",
       "    <tr>\n",
       "      <th>5</th>\n",
       "      <td>Random Forest</td>\n",
       "      <td>Random Over Sampling</td>\n",
       "      <td>1.000000</td>\n",
       "      <td>1.000000</td>\n",
       "      <td>1.000000</td>\n",
       "      <td>1474073</td>\n",
       "      <td>0.930233</td>\n",
       "      <td>0.704663</td>\n",
       "      <td>0.801887</td>\n",
       "      <td>1930</td>\n",
       "    </tr>\n",
       "    <tr>\n",
       "      <th>6</th>\n",
       "      <td>Random Forest</td>\n",
       "      <td>SMOTE</td>\n",
       "      <td>1.000000</td>\n",
       "      <td>1.000000</td>\n",
       "      <td>1.000000</td>\n",
       "      <td>1474073</td>\n",
       "      <td>0.900852</td>\n",
       "      <td>0.602591</td>\n",
       "      <td>0.722136</td>\n",
       "      <td>1930</td>\n",
       "    </tr>\n",
       "    <tr>\n",
       "      <th>7</th>\n",
       "      <td>Random Forest</td>\n",
       "      <td>Balanced weight</td>\n",
       "      <td>1.000000</td>\n",
       "      <td>0.999741</td>\n",
       "      <td>0.999870</td>\n",
       "      <td>7721</td>\n",
       "      <td>0.959533</td>\n",
       "      <td>0.638860</td>\n",
       "      <td>0.767030</td>\n",
       "      <td>1930</td>\n",
       "    </tr>\n",
       "  </tbody>\n",
       "</table>\n",
       "</div>"
      ],
      "text/plain": [
       "             Algorithm        Class Balancing  Train Precision  Train Recall  \\\n",
       "0  Logistic Regression  Random Under Sampling         0.939576      0.751198   \n",
       "1  Logistic Regression   Random Over Sampling         0.930625      0.750658   \n",
       "2  Logistic Regression                  SMOTE         0.939261      0.751991   \n",
       "3  Logistic Regression        Balanced weight         0.077041      0.750809   \n",
       "4        Random Forest  Random Under Sampling         1.000000      1.000000   \n",
       "5        Random Forest   Random Over Sampling         1.000000      1.000000   \n",
       "6        Random Forest                  SMOTE         1.000000      1.000000   \n",
       "7        Random Forest        Balanced weight         1.000000      0.999741   \n",
       "\n",
       "   Train f1 Train Support  Test Precision  Test Recall   Test f1 Test Support  \n",
       "0  0.834893          7721        0.075695     0.744560  0.137420         1930  \n",
       "1  0.831010       1474073        0.065051     0.741451  0.119609         1930  \n",
       "2  0.835257       1474073        0.074254     0.745078  0.135049         1930  \n",
       "3  0.139742          7721        0.076416     0.744560  0.138606         1930  \n",
       "4  1.000000          7721        0.197431     0.947668  0.326782         1930  \n",
       "5  1.000000       1474073        0.930233     0.704663  0.801887         1930  \n",
       "6  1.000000       1474073        0.900852     0.602591  0.722136         1930  \n",
       "7  0.999870          7721        0.959533     0.638860  0.767030         1930  "
      ]
     },
     "execution_count": 57,
     "metadata": {},
     "output_type": "execute_result"
    }
   ],
   "source": [
    "train_report_2d = classification_report(y_train, y_pred_train_2d, target_names=target_names, output_dict = True)\n",
    "test_report_2d = classification_report(y_test, y_pred_test_2d, target_names=target_names, output_dict = True)\n",
    "\n",
    "add_metrics('Random Forest', 'Balanced weight', train_report_2d, test_report_2d)\n",
    "metrics"
   ]
  },
  {
   "cell_type": "markdown",
   "id": "deb730b9",
   "metadata": {},
   "source": [
    "## Algorithm 3: XGBoost"
   ]
  },
  {
   "cell_type": "code",
   "execution_count": 58,
   "id": "32182f78",
   "metadata": {},
   "outputs": [],
   "source": [
    "import xgboost as xgb"
   ]
  },
  {
   "cell_type": "markdown",
   "id": "0bc01e13",
   "metadata": {},
   "source": [
    "### 3a) with Random Under Sampling"
   ]
  },
  {
   "cell_type": "code",
   "execution_count": 59,
   "id": "59e13270",
   "metadata": {},
   "outputs": [
    {
     "name": "stdout",
     "output_type": "stream",
     "text": [
      "[17:06:03] WARNING: /Users/runner/miniforge3/conda-bld/xgboost-split_1634712680264/work/src/learner.cc:1115: Starting in XGBoost 1.3.0, the default evaluation metric used with the objective 'binary:logistic' was changed from 'error' to 'logloss'. Explicitly set eval_metric if you'd like to restore the old behavior.\n"
     ]
    }
   ],
   "source": [
    "xg_rus = xgb.XGBClassifier(use_label_encoder=False)\n",
    "\n",
    "xg_rus.fit(X_train_rus, y_train_rus.values.ravel())\n",
    "\n",
    "y_pred_train_3a = xg_rus.predict(X_train_rus)\n",
    "y_pred_test_3a = xg_rus.predict(X_test)"
   ]
  },
  {
   "cell_type": "code",
   "execution_count": 60,
   "id": "e9970703",
   "metadata": {},
   "outputs": [],
   "source": [
    "cm_3a_train = confusion_matrix(y_train_rus.values.ravel(),y_pred_train_3a)\n",
    "cm_3a_test = confusion_matrix(y_test.values.ravel(),y_pred_test_3a)"
   ]
  },
  {
   "cell_type": "code",
   "execution_count": 61,
   "id": "6d51cb21",
   "metadata": {},
   "outputs": [
    {
     "data": {
      "text/plain": [
       "Text(0.5, 1.0, 'XGBoost RUS - Testing confusion matrix')"
      ]
     },
     "execution_count": 61,
     "metadata": {},
     "output_type": "execute_result"
    },
    {
     "data": {
      "image/png": "[encoded data removed]",
      "text/plain": [
       "<Figure size 864x360 with 4 Axes>"
      ]
     },
     "metadata": {
      "needs_background": "light"
     },
     "output_type": "display_data"
    }
   ],
   "source": [
    "fig, ax = plt.subplots(1,2, figsize=(12,5))\n",
    "sns.heatmap(cm_3a_train, annot=True, fmt = '', cmap = 'Blues',ax = ax[0])\n",
    "ax[0].set_xlabel('Predicted label')\n",
    "ax[0].set_ylabel('True label')\n",
    "ax[0].set_title('XGBoost RUS - Training confusion matrix')\n",
    "\n",
    "sns.heatmap(cm_3a_test, annot=True, fmt = '', cmap = 'Reds',ax = ax[1])\n",
    "ax[1].set_xlabel('Predicted label')\n",
    "ax[1].set_ylabel('True label')\n",
    "ax[1].set_title('XGBoost RUS - Testing confusion matrix')"
   ]
  },
  {
   "cell_type": "code",
   "execution_count": 62,
   "id": "0663d1a4",
   "metadata": {},
   "outputs": [
    {
     "name": "stdout",
     "output_type": "stream",
     "text": [
      "[Training Classification Report]\n",
      "              precision    recall  f1-score   support\n",
      "\n",
      "       valid       1.00      1.00      1.00      7721\n",
      "       fraud       1.00      1.00      1.00      7721\n",
      "\n",
      "    accuracy                           1.00     15442\n",
      "   macro avg       1.00      1.00      1.00     15442\n",
      "weighted avg       1.00      1.00      1.00     15442\n",
      "\n",
      "[Test Classification Report]\n",
      "              precision    recall  f1-score   support\n",
      "\n",
      "       valid       1.00      0.98      0.99    368519\n",
      "       fraud       0.19      0.98      0.32      1930\n",
      "\n",
      "    accuracy                           0.98    370449\n",
      "   macro avg       0.60      0.98      0.66    370449\n",
      "weighted avg       1.00      0.98      0.99    370449\n",
      "\n"
     ]
    }
   ],
   "source": [
    "target_names = ['valid', 'fraud']\n",
    "\n",
    "print(\"[Training Classification Report]\")\n",
    "print(classification_report(y_train_rus, y_pred_train_3a, target_names=target_names))\n",
    "\n",
    "print(\"[Test Classification Report]\")\n",
    "print(classification_report(y_test, y_pred_test_3a, target_names=target_names))"
   ]
  },
  {
   "cell_type": "code",
   "execution_count": 63,
   "id": "16be81f9",
   "metadata": {},
   "outputs": [
    {
     "data": {
      "text/html": [
       "<div>\n",
       "<style scoped>\n",
       "    .dataframe tbody tr th:only-of-type {\n",
       "        vertical-align: middle;\n",
       "    }\n",
       "\n",
       "    .dataframe tbody tr th {\n",
       "        vertical-align: top;\n",
       "    }\n",
       "\n",
       "    .dataframe thead th {\n",
       "        text-align: right;\n",
       "    }\n",
       "</style>\n",
       "<table border=\"1\" class=\"dataframe\">\n",
       "  <thead>\n",
       "    <tr style=\"text-align: right;\">\n",
       "      <th></th>\n",
       "      <th>Algorithm</th>\n",
       "      <th>Class Balancing</th>\n",
       "      <th>Train Precision</th>\n",
       "      <th>Train Recall</th>\n",
       "      <th>Train f1</th>\n",
       "      <th>Train Support</th>\n",
       "      <th>Test Precision</th>\n",
       "      <th>Test Recall</th>\n",
       "      <th>Test f1</th>\n",
       "      <th>Test Support</th>\n",
       "    </tr>\n",
       "  </thead>\n",
       "  <tbody>\n",
       "    <tr>\n",
       "      <th>0</th>\n",
       "      <td>Logistic Regression</td>\n",
       "      <td>Random Under Sampling</td>\n",
       "      <td>0.939576</td>\n",
       "      <td>0.751198</td>\n",
       "      <td>0.834893</td>\n",
       "      <td>7721</td>\n",
       "      <td>0.075695</td>\n",
       "      <td>0.744560</td>\n",
       "      <td>0.137420</td>\n",
       "      <td>1930</td>\n",
       "    </tr>\n",
       "    <tr>\n",
       "      <th>1</th>\n",
       "      <td>Logistic Regression</td>\n",
       "      <td>Random Over Sampling</td>\n",
       "      <td>0.930625</td>\n",
       "      <td>0.750658</td>\n",
       "      <td>0.831010</td>\n",
       "      <td>1474073</td>\n",
       "      <td>0.065051</td>\n",
       "      <td>0.741451</td>\n",
       "      <td>0.119609</td>\n",
       "      <td>1930</td>\n",
       "    </tr>\n",
       "    <tr>\n",
       "      <th>2</th>\n",
       "      <td>Logistic Regression</td>\n",
       "      <td>SMOTE</td>\n",
       "      <td>0.939261</td>\n",
       "      <td>0.751991</td>\n",
       "      <td>0.835257</td>\n",
       "      <td>1474073</td>\n",
       "      <td>0.074254</td>\n",
       "      <td>0.745078</td>\n",
       "      <td>0.135049</td>\n",
       "      <td>1930</td>\n",
       "    </tr>\n",
       "    <tr>\n",
       "      <th>3</th>\n",
       "      <td>Logistic Regression</td>\n",
       "      <td>Balanced weight</td>\n",
       "      <td>0.077041</td>\n",
       "      <td>0.750809</td>\n",
       "      <td>0.139742</td>\n",
       "      <td>7721</td>\n",
       "      <td>0.076416</td>\n",
       "      <td>0.744560</td>\n",
       "      <td>0.138606</td>\n",
       "      <td>1930</td>\n",
       "    </tr>\n",
       "    <tr>\n",
       "      <th>4</th>\n",
       "      <td>Random Forest</td>\n",
       "      <td>Random Under Sampling</td>\n",
       "      <td>1.000000</td>\n",
       "      <td>1.000000</td>\n",
       "      <td>1.000000</td>\n",
       "      <td>7721</td>\n",
       "      <td>0.197431</td>\n",
       "      <td>0.947668</td>\n",
       "      <td>0.326782</td>\n",
       "      <td>1930</td>\n",
       "    </tr>\n",
       "    <tr>\n",
       "      <th>5</th>\n",
       "      <td>Random Forest</td>\n",
       "      <td>Random Over Sampling</td>\n",
       "      <td>1.000000</td>\n",
       "      <td>1.000000</td>\n",
       "      <td>1.000000</td>\n",
       "      <td>1474073</td>\n",
       "      <td>0.930233</td>\n",
       "      <td>0.704663</td>\n",
       "      <td>0.801887</td>\n",
       "      <td>1930</td>\n",
       "    </tr>\n",
       "    <tr>\n",
       "      <th>6</th>\n",
       "      <td>Random Forest</td>\n",
       "      <td>SMOTE</td>\n",
       "      <td>1.000000</td>\n",
       "      <td>1.000000</td>\n",
       "      <td>1.000000</td>\n",
       "      <td>1474073</td>\n",
       "      <td>0.900852</td>\n",
       "      <td>0.602591</td>\n",
       "      <td>0.722136</td>\n",
       "      <td>1930</td>\n",
       "    </tr>\n",
       "    <tr>\n",
       "      <th>7</th>\n",
       "      <td>Random Forest</td>\n",
       "      <td>Balanced weight</td>\n",
       "      <td>1.000000</td>\n",
       "      <td>0.999741</td>\n",
       "      <td>0.999870</td>\n",
       "      <td>7721</td>\n",
       "      <td>0.959533</td>\n",
       "      <td>0.638860</td>\n",
       "      <td>0.767030</td>\n",
       "      <td>1930</td>\n",
       "    </tr>\n",
       "    <tr>\n",
       "      <th>8</th>\n",
       "      <td>XGBoost</td>\n",
       "      <td>Random Under Sampling</td>\n",
       "      <td>0.999870</td>\n",
       "      <td>0.999741</td>\n",
       "      <td>0.999806</td>\n",
       "      <td>7721</td>\n",
       "      <td>0.192783</td>\n",
       "      <td>0.977202</td>\n",
       "      <td>0.322035</td>\n",
       "      <td>1930</td>\n",
       "    </tr>\n",
       "  </tbody>\n",
       "</table>\n",
       "</div>"
      ],
      "text/plain": [
       "             Algorithm        Class Balancing  Train Precision  Train Recall  \\\n",
       "0  Logistic Regression  Random Under Sampling         0.939576      0.751198   \n",
       "1  Logistic Regression   Random Over Sampling         0.930625      0.750658   \n",
       "2  Logistic Regression                  SMOTE         0.939261      0.751991   \n",
       "3  Logistic Regression        Balanced weight         0.077041      0.750809   \n",
       "4        Random Forest  Random Under Sampling         1.000000      1.000000   \n",
       "5        Random Forest   Random Over Sampling         1.000000      1.000000   \n",
       "6        Random Forest                  SMOTE         1.000000      1.000000   \n",
       "7        Random Forest        Balanced weight         1.000000      0.999741   \n",
       "8              XGBoost  Random Under Sampling         0.999870      0.999741   \n",
       "\n",
       "   Train f1 Train Support  Test Precision  Test Recall   Test f1 Test Support  \n",
       "0  0.834893          7721        0.075695     0.744560  0.137420         1930  \n",
       "1  0.831010       1474073        0.065051     0.741451  0.119609         1930  \n",
       "2  0.835257       1474073        0.074254     0.745078  0.135049         1930  \n",
       "3  0.139742          7721        0.076416     0.744560  0.138606         1930  \n",
       "4  1.000000          7721        0.197431     0.947668  0.326782         1930  \n",
       "5  1.000000       1474073        0.930233     0.704663  0.801887         1930  \n",
       "6  1.000000       1474073        0.900852     0.602591  0.722136         1930  \n",
       "7  0.999870          7721        0.959533     0.638860  0.767030         1930  \n",
       "8  0.999806          7721        0.192783     0.977202  0.322035         1930  "
      ]
     },
     "execution_count": 63,
     "metadata": {},
     "output_type": "execute_result"
    }
   ],
   "source": [
    "train_report_3a = classification_report(y_train_rus, y_pred_train_3a, target_names=target_names, output_dict = True)\n",
    "test_report_3a = classification_report(y_test, y_pred_test_3a, target_names=target_names, output_dict = True)\n",
    "\n",
    "add_metrics('XGBoost', 'Random Under Sampling', train_report_3a, test_report_3a)\n",
    "metrics"
   ]
  },
  {
   "cell_type": "markdown",
   "id": "cdecd537",
   "metadata": {},
   "source": [
    "### 3b) with Random Over Sampling"
   ]
  },
  {
   "cell_type": "code",
   "execution_count": 64,
   "id": "6b92fa9a",
   "metadata": {},
   "outputs": [
    {
     "name": "stdout",
     "output_type": "stream",
     "text": [
      "[17:06:09] WARNING: /Users/runner/miniforge3/conda-bld/xgboost-split_1634712680264/work/src/learner.cc:1115: Starting in XGBoost 1.3.0, the default evaluation metric used with the objective 'binary:logistic' was changed from 'error' to 'logloss'. Explicitly set eval_metric if you'd like to restore the old behavior.\n"
     ]
    }
   ],
   "source": [
    "xg_ros = xgb.XGBClassifier(use_label_encoder=False)\n",
    "\n",
    "xg_ros.fit(X_train_ros, y_train_ros.values.ravel())\n",
    "\n",
    "y_pred_train_3b = xg_ros.predict(X_train_ros)\n",
    "y_pred_test_3b = xg_ros.predict(X_test)"
   ]
  },
  {
   "cell_type": "code",
   "execution_count": 65,
   "id": "c4a39f3b",
   "metadata": {},
   "outputs": [],
   "source": [
    "cm_3b_train = confusion_matrix(y_train_ros.values.ravel(),y_pred_train_3b)\n",
    "cm_3b_test = confusion_matrix(y_test.values.ravel(),y_pred_test_3b)"
   ]
  },
  {
   "cell_type": "code",
   "execution_count": 66,
   "id": "285ceda1",
   "metadata": {},
   "outputs": [
    {
     "data": {
      "text/plain": [
       "Text(0.5, 1.0, 'XGBoost ROS - Testing confusion matrix')"
      ]
     },
     "execution_count": 66,
     "metadata": {},
     "output_type": "execute_result"
    },
    {
     "data": {
      "image/png": "[encoded data removed]",
      "text/plain": [
       "<Figure size 864x360 with 4 Axes>"
      ]
     },
     "metadata": {
      "needs_background": "light"
     },
     "output_type": "display_data"
    }
   ],
   "source": [
    "fig, ax = plt.subplots(1,2, figsize=(12,5))\n",
    "sns.heatmap(cm_3b_train, annot=True, fmt = '', cmap = 'Blues',ax = ax[0])\n",
    "ax[0].set_xlabel('Predicted label')\n",
    "ax[0].set_ylabel('True label')\n",
    "ax[0].set_title('XGBoost ROS - Training confusion matrix')\n",
    "\n",
    "sns.heatmap(cm_3b_test, annot=True, fmt = '', cmap = 'Reds',ax = ax[1])\n",
    "ax[1].set_xlabel('Predicted label')\n",
    "ax[1].set_ylabel('True label')\n",
    "ax[1].set_title('XGBoost ROS - Testing confusion matrix')"
   ]
  },
  {
   "cell_type": "code",
   "execution_count": 67,
   "id": "01487017",
   "metadata": {},
   "outputs": [
    {
     "name": "stdout",
     "output_type": "stream",
     "text": [
      "[Training Classification Report]\n",
      "              precision    recall  f1-score   support\n",
      "\n",
      "       valid       1.00      0.99      1.00   1474073\n",
      "       fraud       0.99      1.00      1.00   1474073\n",
      "\n",
      "    accuracy                           1.00   2948146\n",
      "   macro avg       1.00      1.00      1.00   2948146\n",
      "weighted avg       1.00      1.00      1.00   2948146\n",
      "\n",
      "[Test Classification Report]\n",
      "              precision    recall  f1-score   support\n",
      "\n",
      "       valid       1.00      0.99      1.00    368519\n",
      "       fraud       0.41      0.95      0.57      1930\n",
      "\n",
      "    accuracy                           0.99    370449\n",
      "   macro avg       0.70      0.97      0.78    370449\n",
      "weighted avg       1.00      0.99      0.99    370449\n",
      "\n"
     ]
    }
   ],
   "source": [
    "target_names = ['valid', 'fraud']\n",
    "\n",
    "print(\"[Training Classification Report]\")\n",
    "print(classification_report(y_train_ros, y_pred_train_3b, target_names=target_names))\n",
    "\n",
    "print(\"[Test Classification Report]\")\n",
    "print(classification_report(y_test, y_pred_test_3b, target_names=target_names))"
   ]
  },
  {
   "cell_type": "code",
   "execution_count": 68,
   "id": "78f01f4b",
   "metadata": {
    "scrolled": true
   },
   "outputs": [
    {
     "data": {
      "text/html": [
       "<div>\n",
       "<style scoped>\n",
       "    .dataframe tbody tr th:only-of-type {\n",
       "        vertical-align: middle;\n",
       "    }\n",
       "\n",
       "    .dataframe tbody tr th {\n",
       "        vertical-align: top;\n",
       "    }\n",
       "\n",
       "    .dataframe thead th {\n",
       "        text-align: right;\n",
       "    }\n",
       "</style>\n",
       "<table border=\"1\" class=\"dataframe\">\n",
       "  <thead>\n",
       "    <tr style=\"text-align: right;\">\n",
       "      <th></th>\n",
       "      <th>Algorithm</th>\n",
       "      <th>Class Balancing</th>\n",
       "      <th>Train Precision</th>\n",
       "      <th>Train Recall</th>\n",
       "      <th>Train f1</th>\n",
       "      <th>Train Support</th>\n",
       "      <th>Test Precision</th>\n",
       "      <th>Test Recall</th>\n",
       "      <th>Test f1</th>\n",
       "      <th>Test Support</th>\n",
       "    </tr>\n",
       "  </thead>\n",
       "  <tbody>\n",
       "    <tr>\n",
       "      <th>0</th>\n",
       "      <td>Logistic Regression</td>\n",
       "      <td>Random Under Sampling</td>\n",
       "      <td>0.939576</td>\n",
       "      <td>0.751198</td>\n",
       "      <td>0.834893</td>\n",
       "      <td>7721</td>\n",
       "      <td>0.075695</td>\n",
       "      <td>0.744560</td>\n",
       "      <td>0.137420</td>\n",
       "      <td>1930</td>\n",
       "    </tr>\n",
       "    <tr>\n",
       "      <th>1</th>\n",
       "      <td>Logistic Regression</td>\n",
       "      <td>Random Over Sampling</td>\n",
       "      <td>0.930625</td>\n",
       "      <td>0.750658</td>\n",
       "      <td>0.831010</td>\n",
       "      <td>1474073</td>\n",
       "      <td>0.065051</td>\n",
       "      <td>0.741451</td>\n",
       "      <td>0.119609</td>\n",
       "      <td>1930</td>\n",
       "    </tr>\n",
       "    <tr>\n",
       "      <th>2</th>\n",
       "      <td>Logistic Regression</td>\n",
       "      <td>SMOTE</td>\n",
       "      <td>0.939261</td>\n",
       "      <td>0.751991</td>\n",
       "      <td>0.835257</td>\n",
       "      <td>1474073</td>\n",
       "      <td>0.074254</td>\n",
       "      <td>0.745078</td>\n",
       "      <td>0.135049</td>\n",
       "      <td>1930</td>\n",
       "    </tr>\n",
       "    <tr>\n",
       "      <th>3</th>\n",
       "      <td>Logistic Regression</td>\n",
       "      <td>Balanced weight</td>\n",
       "      <td>0.077041</td>\n",
       "      <td>0.750809</td>\n",
       "      <td>0.139742</td>\n",
       "      <td>7721</td>\n",
       "      <td>0.076416</td>\n",
       "      <td>0.744560</td>\n",
       "      <td>0.138606</td>\n",
       "      <td>1930</td>\n",
       "    </tr>\n",
       "    <tr>\n",
       "      <th>4</th>\n",
       "      <td>Random Forest</td>\n",
       "      <td>Random Under Sampling</td>\n",
       "      <td>1.000000</td>\n",
       "      <td>1.000000</td>\n",
       "      <td>1.000000</td>\n",
       "      <td>7721</td>\n",
       "      <td>0.197431</td>\n",
       "      <td>0.947668</td>\n",
       "      <td>0.326782</td>\n",
       "      <td>1930</td>\n",
       "    </tr>\n",
       "    <tr>\n",
       "      <th>5</th>\n",
       "      <td>Random Forest</td>\n",
       "      <td>Random Over Sampling</td>\n",
       "      <td>1.000000</td>\n",
       "      <td>1.000000</td>\n",
       "      <td>1.000000</td>\n",
       "      <td>1474073</td>\n",
       "      <td>0.930233</td>\n",
       "      <td>0.704663</td>\n",
       "      <td>0.801887</td>\n",
       "      <td>1930</td>\n",
       "    </tr>\n",
       "    <tr>\n",
       "      <th>6</th>\n",
       "      <td>Random Forest</td>\n",
       "      <td>SMOTE</td>\n",
       "      <td>1.000000</td>\n",
       "      <td>1.000000</td>\n",
       "      <td>1.000000</td>\n",
       "      <td>1474073</td>\n",
       "      <td>0.900852</td>\n",
       "      <td>0.602591</td>\n",
       "      <td>0.722136</td>\n",
       "      <td>1930</td>\n",
       "    </tr>\n",
       "    <tr>\n",
       "      <th>7</th>\n",
       "      <td>Random Forest</td>\n",
       "      <td>Balanced weight</td>\n",
       "      <td>1.000000</td>\n",
       "      <td>0.999741</td>\n",
       "      <td>0.999870</td>\n",
       "      <td>7721</td>\n",
       "      <td>0.959533</td>\n",
       "      <td>0.638860</td>\n",
       "      <td>0.767030</td>\n",
       "      <td>1930</td>\n",
       "    </tr>\n",
       "    <tr>\n",
       "      <th>8</th>\n",
       "      <td>XGBoost</td>\n",
       "      <td>Random Under Sampling</td>\n",
       "      <td>0.999870</td>\n",
       "      <td>0.999741</td>\n",
       "      <td>0.999806</td>\n",
       "      <td>7721</td>\n",
       "      <td>0.192783</td>\n",
       "      <td>0.977202</td>\n",
       "      <td>0.322035</td>\n",
       "      <td>1930</td>\n",
       "    </tr>\n",
       "    <tr>\n",
       "      <th>9</th>\n",
       "      <td>XGBoost</td>\n",
       "      <td>Random Over Sampling</td>\n",
       "      <td>0.993063</td>\n",
       "      <td>1.000000</td>\n",
       "      <td>0.996519</td>\n",
       "      <td>1474073</td>\n",
       "      <td>0.408041</td>\n",
       "      <td>0.951813</td>\n",
       "      <td>0.571206</td>\n",
       "      <td>1930</td>\n",
       "    </tr>\n",
       "  </tbody>\n",
       "</table>\n",
       "</div>"
      ],
      "text/plain": [
       "             Algorithm        Class Balancing  Train Precision  Train Recall  \\\n",
       "0  Logistic Regression  Random Under Sampling         0.939576      0.751198   \n",
       "1  Logistic Regression   Random Over Sampling         0.930625      0.750658   \n",
       "2  Logistic Regression                  SMOTE         0.939261      0.751991   \n",
       "3  Logistic Regression        Balanced weight         0.077041      0.750809   \n",
       "4        Random Forest  Random Under Sampling         1.000000      1.000000   \n",
       "5        Random Forest   Random Over Sampling         1.000000      1.000000   \n",
       "6        Random Forest                  SMOTE         1.000000      1.000000   \n",
       "7        Random Forest        Balanced weight         1.000000      0.999741   \n",
       "8              XGBoost  Random Under Sampling         0.999870      0.999741   \n",
       "9              XGBoost   Random Over Sampling         0.993063      1.000000   \n",
       "\n",
       "   Train f1 Train Support  Test Precision  Test Recall   Test f1 Test Support  \n",
       "0  0.834893          7721        0.075695     0.744560  0.137420         1930  \n",
       "1  0.831010       1474073        0.065051     0.741451  0.119609         1930  \n",
       "2  0.835257       1474073        0.074254     0.745078  0.135049         1930  \n",
       "3  0.139742          7721        0.076416     0.744560  0.138606         1930  \n",
       "4  1.000000          7721        0.197431     0.947668  0.326782         1930  \n",
       "5  1.000000       1474073        0.930233     0.704663  0.801887         1930  \n",
       "6  1.000000       1474073        0.900852     0.602591  0.722136         1930  \n",
       "7  0.999870          7721        0.959533     0.638860  0.767030         1930  \n",
       "8  0.999806          7721        0.192783     0.977202  0.322035         1930  \n",
       "9  0.996519       1474073        0.408041     0.951813  0.571206         1930  "
      ]
     },
     "execution_count": 68,
     "metadata": {},
     "output_type": "execute_result"
    }
   ],
   "source": [
    "train_report_3b = classification_report(y_train_ros, y_pred_train_3b, target_names=target_names, output_dict = True)\n",
    "test_report_3b = classification_report(y_test, y_pred_test_3b, target_names=target_names, output_dict = True)\n",
    "\n",
    "add_metrics('XGBoost', 'Random Over Sampling', train_report_3b, test_report_3b)\n",
    "metrics"
   ]
  },
  {
   "cell_type": "markdown",
   "id": "4a3ece93",
   "metadata": {},
   "source": [
    "### 3c) with SMOTE"
   ]
  },
  {
   "cell_type": "code",
   "execution_count": 69,
   "id": "97de6cb0",
   "metadata": {},
   "outputs": [
    {
     "name": "stdout",
     "output_type": "stream",
     "text": [
      "[17:09:15] WARNING: /Users/runner/miniforge3/conda-bld/xgboost-split_1634712680264/work/src/learner.cc:1115: Starting in XGBoost 1.3.0, the default evaluation metric used with the objective 'binary:logistic' was changed from 'error' to 'logloss'. Explicitly set eval_metric if you'd like to restore the old behavior.\n"
     ]
    }
   ],
   "source": [
    "xg_sm = xgb.XGBClassifier(use_label_encoder=False)\n",
    "xg_sm.fit(X_train_sm, y_train_sm.values.ravel())\n",
    "\n",
    "y_pred_train_3c = xg_sm.predict(X_train_sm)\n",
    "y_pred_test_3c = xg_sm.predict(X_test)"
   ]
  },
  {
   "cell_type": "code",
   "execution_count": 70,
   "id": "25ddea92",
   "metadata": {},
   "outputs": [],
   "source": [
    "cm_3c_train = confusion_matrix(y_train_sm.values.ravel(),y_pred_train_3c)\n",
    "cm_3c_test = confusion_matrix(y_test.values.ravel(),y_pred_test_3c)"
   ]
  },
  {
   "cell_type": "code",
   "execution_count": 71,
   "id": "e721c734",
   "metadata": {},
   "outputs": [
    {
     "data": {
      "text/plain": [
       "Text(0.5, 1.0, 'XGBoost SMOTE - Testing confusion matrix')"
      ]
     },
     "execution_count": 71,
     "metadata": {},
     "output_type": "execute_result"
    },
    {
     "data": {
      "image/png": "[encoded data removed]",
      "text/plain": [
       "<Figure size 864x360 with 4 Axes>"
      ]
     },
     "metadata": {
      "needs_background": "light"
     },
     "output_type": "display_data"
    }
   ],
   "source": [
    "fig, ax = plt.subplots(1,2, figsize=(12,5))\n",
    "sns.heatmap(cm_3c_train, annot=True, fmt = '', cmap = 'Blues',ax = ax[0])\n",
    "ax[0].set_xlabel('Predicted label')\n",
    "ax[0].set_ylabel('True label')\n",
    "ax[0].set_title('XGBoost SMOTE - Training confusion matrix')\n",
    "\n",
    "sns.heatmap(cm_3c_test, annot=True, fmt = '', cmap = 'Reds',ax = ax[1])\n",
    "ax[1].set_xlabel('Predicted label')\n",
    "ax[1].set_ylabel('True label')\n",
    "ax[1].set_title('XGBoost SMOTE - Testing confusion matrix')"
   ]
  },
  {
   "cell_type": "code",
   "execution_count": 72,
   "id": "eb410c47",
   "metadata": {},
   "outputs": [
    {
     "name": "stdout",
     "output_type": "stream",
     "text": [
      "[Training Classification Report]\n",
      "              precision    recall  f1-score   support\n",
      "\n",
      "       valid       1.00      1.00      1.00   1474073\n",
      "       fraud       1.00      1.00      1.00   1474073\n",
      "\n",
      "    accuracy                           1.00   2948146\n",
      "   macro avg       1.00      1.00      1.00   2948146\n",
      "weighted avg       1.00      1.00      1.00   2948146\n",
      "\n",
      "[Test Classification Report]\n",
      "              precision    recall  f1-score   support\n",
      "\n",
      "       valid       1.00      1.00      1.00    368519\n",
      "       fraud       0.84      0.78      0.81      1930\n",
      "\n",
      "    accuracy                           1.00    370449\n",
      "   macro avg       0.92      0.89      0.90    370449\n",
      "weighted avg       1.00      1.00      1.00    370449\n",
      "\n"
     ]
    }
   ],
   "source": [
    "target_names = ['valid', 'fraud']\n",
    "\n",
    "print(\"[Training Classification Report]\")\n",
    "print(classification_report(y_train_sm, y_pred_train_3c, target_names=target_names))\n",
    "\n",
    "print(\"[Test Classification Report]\")\n",
    "print(classification_report(y_test, y_pred_test_3c, target_names=target_names))"
   ]
  },
  {
   "cell_type": "code",
   "execution_count": 73,
   "id": "eca5c574",
   "metadata": {},
   "outputs": [
    {
     "data": {
      "text/html": [
       "<div>\n",
       "<style scoped>\n",
       "    .dataframe tbody tr th:only-of-type {\n",
       "        vertical-align: middle;\n",
       "    }\n",
       "\n",
       "    .dataframe tbody tr th {\n",
       "        vertical-align: top;\n",
       "    }\n",
       "\n",
       "    .dataframe thead th {\n",
       "        text-align: right;\n",
       "    }\n",
       "</style>\n",
       "<table border=\"1\" class=\"dataframe\">\n",
       "  <thead>\n",
       "    <tr style=\"text-align: right;\">\n",
       "      <th></th>\n",
       "      <th>Algorithm</th>\n",
       "      <th>Class Balancing</th>\n",
       "      <th>Train Precision</th>\n",
       "      <th>Train Recall</th>\n",
       "      <th>Train f1</th>\n",
       "      <th>Train Support</th>\n",
       "      <th>Test Precision</th>\n",
       "      <th>Test Recall</th>\n",
       "      <th>Test f1</th>\n",
       "      <th>Test Support</th>\n",
       "    </tr>\n",
       "  </thead>\n",
       "  <tbody>\n",
       "    <tr>\n",
       "      <th>0</th>\n",
       "      <td>Logistic Regression</td>\n",
       "      <td>Random Under Sampling</td>\n",
       "      <td>0.939576</td>\n",
       "      <td>0.751198</td>\n",
       "      <td>0.834893</td>\n",
       "      <td>7721</td>\n",
       "      <td>0.075695</td>\n",
       "      <td>0.744560</td>\n",
       "      <td>0.137420</td>\n",
       "      <td>1930</td>\n",
       "    </tr>\n",
       "    <tr>\n",
       "      <th>1</th>\n",
       "      <td>Logistic Regression</td>\n",
       "      <td>Random Over Sampling</td>\n",
       "      <td>0.930625</td>\n",
       "      <td>0.750658</td>\n",
       "      <td>0.831010</td>\n",
       "      <td>1474073</td>\n",
       "      <td>0.065051</td>\n",
       "      <td>0.741451</td>\n",
       "      <td>0.119609</td>\n",
       "      <td>1930</td>\n",
       "    </tr>\n",
       "    <tr>\n",
       "      <th>2</th>\n",
       "      <td>Logistic Regression</td>\n",
       "      <td>SMOTE</td>\n",
       "      <td>0.939261</td>\n",
       "      <td>0.751991</td>\n",
       "      <td>0.835257</td>\n",
       "      <td>1474073</td>\n",
       "      <td>0.074254</td>\n",
       "      <td>0.745078</td>\n",
       "      <td>0.135049</td>\n",
       "      <td>1930</td>\n",
       "    </tr>\n",
       "    <tr>\n",
       "      <th>3</th>\n",
       "      <td>Logistic Regression</td>\n",
       "      <td>Balanced weight</td>\n",
       "      <td>0.077041</td>\n",
       "      <td>0.750809</td>\n",
       "      <td>0.139742</td>\n",
       "      <td>7721</td>\n",
       "      <td>0.076416</td>\n",
       "      <td>0.744560</td>\n",
       "      <td>0.138606</td>\n",
       "      <td>1930</td>\n",
       "    </tr>\n",
       "    <tr>\n",
       "      <th>4</th>\n",
       "      <td>Random Forest</td>\n",
       "      <td>Random Under Sampling</td>\n",
       "      <td>1.000000</td>\n",
       "      <td>1.000000</td>\n",
       "      <td>1.000000</td>\n",
       "      <td>7721</td>\n",
       "      <td>0.197431</td>\n",
       "      <td>0.947668</td>\n",
       "      <td>0.326782</td>\n",
       "      <td>1930</td>\n",
       "    </tr>\n",
       "    <tr>\n",
       "      <th>5</th>\n",
       "      <td>Random Forest</td>\n",
       "      <td>Random Over Sampling</td>\n",
       "      <td>1.000000</td>\n",
       "      <td>1.000000</td>\n",
       "      <td>1.000000</td>\n",
       "      <td>1474073</td>\n",
       "      <td>0.930233</td>\n",
       "      <td>0.704663</td>\n",
       "      <td>0.801887</td>\n",
       "      <td>1930</td>\n",
       "    </tr>\n",
       "    <tr>\n",
       "      <th>6</th>\n",
       "      <td>Random Forest</td>\n",
       "      <td>SMOTE</td>\n",
       "      <td>1.000000</td>\n",
       "      <td>1.000000</td>\n",
       "      <td>1.000000</td>\n",
       "      <td>1474073</td>\n",
       "      <td>0.900852</td>\n",
       "      <td>0.602591</td>\n",
       "      <td>0.722136</td>\n",
       "      <td>1930</td>\n",
       "    </tr>\n",
       "    <tr>\n",
       "      <th>7</th>\n",
       "      <td>Random Forest</td>\n",
       "      <td>Balanced weight</td>\n",
       "      <td>1.000000</td>\n",
       "      <td>0.999741</td>\n",
       "      <td>0.999870</td>\n",
       "      <td>7721</td>\n",
       "      <td>0.959533</td>\n",
       "      <td>0.638860</td>\n",
       "      <td>0.767030</td>\n",
       "      <td>1930</td>\n",
       "    </tr>\n",
       "    <tr>\n",
       "      <th>8</th>\n",
       "      <td>XGBoost</td>\n",
       "      <td>Random Under Sampling</td>\n",
       "      <td>0.999870</td>\n",
       "      <td>0.999741</td>\n",
       "      <td>0.999806</td>\n",
       "      <td>7721</td>\n",
       "      <td>0.192783</td>\n",
       "      <td>0.977202</td>\n",
       "      <td>0.322035</td>\n",
       "      <td>1930</td>\n",
       "    </tr>\n",
       "    <tr>\n",
       "      <th>9</th>\n",
       "      <td>XGBoost</td>\n",
       "      <td>Random Over Sampling</td>\n",
       "      <td>0.993063</td>\n",
       "      <td>1.000000</td>\n",
       "      <td>0.996519</td>\n",
       "      <td>1474073</td>\n",
       "      <td>0.408041</td>\n",
       "      <td>0.951813</td>\n",
       "      <td>0.571206</td>\n",
       "      <td>1930</td>\n",
       "    </tr>\n",
       "    <tr>\n",
       "      <th>10</th>\n",
       "      <td>XGBoost</td>\n",
       "      <td>SMOTE</td>\n",
       "      <td>0.999418</td>\n",
       "      <td>0.999140</td>\n",
       "      <td>0.999279</td>\n",
       "      <td>1474073</td>\n",
       "      <td>0.837673</td>\n",
       "      <td>0.783420</td>\n",
       "      <td>0.809639</td>\n",
       "      <td>1930</td>\n",
       "    </tr>\n",
       "  </tbody>\n",
       "</table>\n",
       "</div>"
      ],
      "text/plain": [
       "              Algorithm        Class Balancing  Train Precision  Train Recall  \\\n",
       "0   Logistic Regression  Random Under Sampling         0.939576      0.751198   \n",
       "1   Logistic Regression   Random Over Sampling         0.930625      0.750658   \n",
       "2   Logistic Regression                  SMOTE         0.939261      0.751991   \n",
       "3   Logistic Regression        Balanced weight         0.077041      0.750809   \n",
       "4         Random Forest  Random Under Sampling         1.000000      1.000000   \n",
       "5         Random Forest   Random Over Sampling         1.000000      1.000000   \n",
       "6         Random Forest                  SMOTE         1.000000      1.000000   \n",
       "7         Random Forest        Balanced weight         1.000000      0.999741   \n",
       "8               XGBoost  Random Under Sampling         0.999870      0.999741   \n",
       "9               XGBoost   Random Over Sampling         0.993063      1.000000   \n",
       "10              XGBoost                  SMOTE         0.999418      0.999140   \n",
       "\n",
       "    Train f1 Train Support  Test Precision  Test Recall   Test f1 Test Support  \n",
       "0   0.834893          7721        0.075695     0.744560  0.137420         1930  \n",
       "1   0.831010       1474073        0.065051     0.741451  0.119609         1930  \n",
       "2   0.835257       1474073        0.074254     0.745078  0.135049         1930  \n",
       "3   0.139742          7721        0.076416     0.744560  0.138606         1930  \n",
       "4   1.000000          7721        0.197431     0.947668  0.326782         1930  \n",
       "5   1.000000       1474073        0.930233     0.704663  0.801887         1930  \n",
       "6   1.000000       1474073        0.900852     0.602591  0.722136         1930  \n",
       "7   0.999870          7721        0.959533     0.638860  0.767030         1930  \n",
       "8   0.999806          7721        0.192783     0.977202  0.322035         1930  \n",
       "9   0.996519       1474073        0.408041     0.951813  0.571206         1930  \n",
       "10  0.999279       1474073        0.837673     0.783420  0.809639         1930  "
      ]
     },
     "execution_count": 73,
     "metadata": {},
     "output_type": "execute_result"
    }
   ],
   "source": [
    "train_report_3c = classification_report(y_train_sm, y_pred_train_3c, target_names=target_names, output_dict = True)\n",
    "test_report_3c = classification_report(y_test, y_pred_test_3c, target_names=target_names, output_dict = True)\n",
    "\n",
    "add_metrics('XGBoost', 'SMOTE', train_report_3c, test_report_3c)\n",
    "metrics"
   ]
  },
  {
   "cell_type": "markdown",
   "id": "5fafc11a",
   "metadata": {},
   "source": [
    "### 3d) with class_weight = balanced"
   ]
  },
  {
   "cell_type": "markdown",
   "id": "055295e0",
   "metadata": {},
   "source": [
    "We will use the \"scale_pos_weight\" parameter of the XGBClassifier to train a class weighted version of XGboost for imbalanced classification.  A reasonable way to scale the positive class is to use the total number of examples in the majority class divided by the total number of examples in the minority class."
   ]
  },
  {
   "cell_type": "code",
   "execution_count": 74,
   "id": "60987c75",
   "metadata": {},
   "outputs": [
    {
     "data": {
      "text/plain": [
       "191"
      ]
     },
     "execution_count": 74,
     "metadata": {},
     "output_type": "execute_result"
    }
   ],
   "source": [
    "weight = len(y_train[y_train['is_fraud']==0]) / len(y_train[y_train['is_fraud']==1])\n",
    "weight = round(weight)\n",
    "weight"
   ]
  },
  {
   "cell_type": "code",
   "execution_count": 75,
   "id": "66bb7982",
   "metadata": {},
   "outputs": [
    {
     "name": "stdout",
     "output_type": "stream",
     "text": [
      "[17:13:12] WARNING: /Users/runner/miniforge3/conda-bld/xgboost-split_1634712680264/work/src/learner.cc:1115: Starting in XGBoost 1.3.0, the default evaluation metric used with the objective 'binary:logistic' was changed from 'error' to 'logloss'. Explicitly set eval_metric if you'd like to restore the old behavior.\n"
     ]
    }
   ],
   "source": [
    "xg_cw = xgb.XGBClassifier(use_label_encoder=False, scale_pos_weight = weight)\n",
    "xg_cw.fit(X_train, y_train.values.ravel())\n",
    "\n",
    "y_pred_train_3d = xg_cw.predict(X_train)\n",
    "y_pred_test_3d = xg_cw.predict(X_test)"
   ]
  },
  {
   "cell_type": "code",
   "execution_count": 76,
   "id": "cdcaee33",
   "metadata": {},
   "outputs": [],
   "source": [
    "cm_3d_train = confusion_matrix(y_train.values.ravel(),y_pred_train_3d)\n",
    "cm_3d_test = confusion_matrix(y_test.values.ravel(),y_pred_test_3d)"
   ]
  },
  {
   "cell_type": "code",
   "execution_count": 77,
   "id": "f1d2b4bb",
   "metadata": {},
   "outputs": [
    {
     "data": {
      "text/plain": [
       "Text(0.5, 1.0, 'XGBoost SMOTE - Testing confusion matrix')"
      ]
     },
     "execution_count": 77,
     "metadata": {},
     "output_type": "execute_result"
    },
    {
     "data": {
      "image/png": "[encoded data removed]",
      "text/plain": [
       "<Figure size 864x360 with 4 Axes>"
      ]
     },
     "metadata": {
      "needs_background": "light"
     },
     "output_type": "display_data"
    }
   ],
   "source": [
    "fig, ax = plt.subplots(1,2, figsize=(12,5))\n",
    "sns.heatmap(cm_3d_train, annot=True, fmt = '', cmap = 'Blues',ax = ax[0])\n",
    "ax[0].set_xlabel('Predicted label')\n",
    "ax[0].set_ylabel('True label')\n",
    "ax[0].set_title('XGBoost SMOTE - Training confusion matrix')\n",
    "\n",
    "sns.heatmap(cm_3d_test, annot=True, fmt = '', cmap = 'Reds',ax = ax[1])\n",
    "ax[1].set_xlabel('Predicted label')\n",
    "ax[1].set_ylabel('True label')\n",
    "ax[1].set_title('XGBoost SMOTE - Testing confusion matrix')"
   ]
  },
  {
   "cell_type": "code",
   "execution_count": 78,
   "id": "3982f9d6",
   "metadata": {},
   "outputs": [
    {
     "name": "stdout",
     "output_type": "stream",
     "text": [
      "[Training Classification Report]\n",
      "              precision    recall  f1-score   support\n",
      "\n",
      "       valid       1.00      0.99      1.00   1474073\n",
      "       fraud       0.45      1.00      0.62      7721\n",
      "\n",
      "    accuracy                           0.99   1481794\n",
      "   macro avg       0.72      1.00      0.81   1481794\n",
      "weighted avg       1.00      0.99      0.99   1481794\n",
      "\n",
      "[Test Classification Report]\n",
      "              precision    recall  f1-score   support\n",
      "\n",
      "       valid       1.00      0.99      1.00    368519\n",
      "       fraud       0.42      0.95      0.58      1930\n",
      "\n",
      "    accuracy                           0.99    370449\n",
      "   macro avg       0.71      0.97      0.79    370449\n",
      "weighted avg       1.00      0.99      0.99    370449\n",
      "\n"
     ]
    }
   ],
   "source": [
    "target_names = ['valid', 'fraud']\n",
    "\n",
    "print(\"[Training Classification Report]\")\n",
    "print(classification_report(y_train, y_pred_train_3d, target_names=target_names))\n",
    "\n",
    "print(\"[Test Classification Report]\")\n",
    "print(classification_report(y_test, y_pred_test_3d, target_names=target_names))"
   ]
  },
  {
   "cell_type": "code",
   "execution_count": 79,
   "id": "e6f818ba",
   "metadata": {},
   "outputs": [
    {
     "data": {
      "text/html": [
       "<div>\n",
       "<style scoped>\n",
       "    .dataframe tbody tr th:only-of-type {\n",
       "        vertical-align: middle;\n",
       "    }\n",
       "\n",
       "    .dataframe tbody tr th {\n",
       "        vertical-align: top;\n",
       "    }\n",
       "\n",
       "    .dataframe thead th {\n",
       "        text-align: right;\n",
       "    }\n",
       "</style>\n",
       "<table border=\"1\" class=\"dataframe\">\n",
       "  <thead>\n",
       "    <tr style=\"text-align: right;\">\n",
       "      <th></th>\n",
       "      <th>Algorithm</th>\n",
       "      <th>Class Balancing</th>\n",
       "      <th>Train Precision</th>\n",
       "      <th>Train Recall</th>\n",
       "      <th>Train f1</th>\n",
       "      <th>Train Support</th>\n",
       "      <th>Test Precision</th>\n",
       "      <th>Test Recall</th>\n",
       "      <th>Test f1</th>\n",
       "      <th>Test Support</th>\n",
       "    </tr>\n",
       "  </thead>\n",
       "  <tbody>\n",
       "    <tr>\n",
       "      <th>0</th>\n",
       "      <td>Logistic Regression</td>\n",
       "      <td>Random Under Sampling</td>\n",
       "      <td>0.939576</td>\n",
       "      <td>0.751198</td>\n",
       "      <td>0.834893</td>\n",
       "      <td>7721</td>\n",
       "      <td>0.075695</td>\n",
       "      <td>0.744560</td>\n",
       "      <td>0.137420</td>\n",
       "      <td>1930</td>\n",
       "    </tr>\n",
       "    <tr>\n",
       "      <th>1</th>\n",
       "      <td>Logistic Regression</td>\n",
       "      <td>Random Over Sampling</td>\n",
       "      <td>0.930625</td>\n",
       "      <td>0.750658</td>\n",
       "      <td>0.831010</td>\n",
       "      <td>1474073</td>\n",
       "      <td>0.065051</td>\n",
       "      <td>0.741451</td>\n",
       "      <td>0.119609</td>\n",
       "      <td>1930</td>\n",
       "    </tr>\n",
       "    <tr>\n",
       "      <th>2</th>\n",
       "      <td>Logistic Regression</td>\n",
       "      <td>SMOTE</td>\n",
       "      <td>0.939261</td>\n",
       "      <td>0.751991</td>\n",
       "      <td>0.835257</td>\n",
       "      <td>1474073</td>\n",
       "      <td>0.074254</td>\n",
       "      <td>0.745078</td>\n",
       "      <td>0.135049</td>\n",
       "      <td>1930</td>\n",
       "    </tr>\n",
       "    <tr>\n",
       "      <th>3</th>\n",
       "      <td>Logistic Regression</td>\n",
       "      <td>Balanced weight</td>\n",
       "      <td>0.077041</td>\n",
       "      <td>0.750809</td>\n",
       "      <td>0.139742</td>\n",
       "      <td>7721</td>\n",
       "      <td>0.076416</td>\n",
       "      <td>0.744560</td>\n",
       "      <td>0.138606</td>\n",
       "      <td>1930</td>\n",
       "    </tr>\n",
       "    <tr>\n",
       "      <th>4</th>\n",
       "      <td>Random Forest</td>\n",
       "      <td>Random Under Sampling</td>\n",
       "      <td>1.000000</td>\n",
       "      <td>1.000000</td>\n",
       "      <td>1.000000</td>\n",
       "      <td>7721</td>\n",
       "      <td>0.197431</td>\n",
       "      <td>0.947668</td>\n",
       "      <td>0.326782</td>\n",
       "      <td>1930</td>\n",
       "    </tr>\n",
       "    <tr>\n",
       "      <th>5</th>\n",
       "      <td>Random Forest</td>\n",
       "      <td>Random Over Sampling</td>\n",
       "      <td>1.000000</td>\n",
       "      <td>1.000000</td>\n",
       "      <td>1.000000</td>\n",
       "      <td>1474073</td>\n",
       "      <td>0.930233</td>\n",
       "      <td>0.704663</td>\n",
       "      <td>0.801887</td>\n",
       "      <td>1930</td>\n",
       "    </tr>\n",
       "    <tr>\n",
       "      <th>6</th>\n",
       "      <td>Random Forest</td>\n",
       "      <td>SMOTE</td>\n",
       "      <td>1.000000</td>\n",
       "      <td>1.000000</td>\n",
       "      <td>1.000000</td>\n",
       "      <td>1474073</td>\n",
       "      <td>0.900852</td>\n",
       "      <td>0.602591</td>\n",
       "      <td>0.722136</td>\n",
       "      <td>1930</td>\n",
       "    </tr>\n",
       "    <tr>\n",
       "      <th>7</th>\n",
       "      <td>Random Forest</td>\n",
       "      <td>Balanced weight</td>\n",
       "      <td>1.000000</td>\n",
       "      <td>0.999741</td>\n",
       "      <td>0.999870</td>\n",
       "      <td>7721</td>\n",
       "      <td>0.959533</td>\n",
       "      <td>0.638860</td>\n",
       "      <td>0.767030</td>\n",
       "      <td>1930</td>\n",
       "    </tr>\n",
       "    <tr>\n",
       "      <th>8</th>\n",
       "      <td>XGBoost</td>\n",
       "      <td>Random Under Sampling</td>\n",
       "      <td>0.999870</td>\n",
       "      <td>0.999741</td>\n",
       "      <td>0.999806</td>\n",
       "      <td>7721</td>\n",
       "      <td>0.192783</td>\n",
       "      <td>0.977202</td>\n",
       "      <td>0.322035</td>\n",
       "      <td>1930</td>\n",
       "    </tr>\n",
       "    <tr>\n",
       "      <th>9</th>\n",
       "      <td>XGBoost</td>\n",
       "      <td>Random Over Sampling</td>\n",
       "      <td>0.993063</td>\n",
       "      <td>1.000000</td>\n",
       "      <td>0.996519</td>\n",
       "      <td>1474073</td>\n",
       "      <td>0.408041</td>\n",
       "      <td>0.951813</td>\n",
       "      <td>0.571206</td>\n",
       "      <td>1930</td>\n",
       "    </tr>\n",
       "    <tr>\n",
       "      <th>10</th>\n",
       "      <td>XGBoost</td>\n",
       "      <td>SMOTE</td>\n",
       "      <td>0.999418</td>\n",
       "      <td>0.999140</td>\n",
       "      <td>0.999279</td>\n",
       "      <td>1474073</td>\n",
       "      <td>0.837673</td>\n",
       "      <td>0.783420</td>\n",
       "      <td>0.809639</td>\n",
       "      <td>1930</td>\n",
       "    </tr>\n",
       "    <tr>\n",
       "      <th>11</th>\n",
       "      <td>XGBoost</td>\n",
       "      <td>Balanced weight</td>\n",
       "      <td>0.446533</td>\n",
       "      <td>1.000000</td>\n",
       "      <td>0.617384</td>\n",
       "      <td>7721</td>\n",
       "      <td>0.420447</td>\n",
       "      <td>0.946114</td>\n",
       "      <td>0.582178</td>\n",
       "      <td>1930</td>\n",
       "    </tr>\n",
       "  </tbody>\n",
       "</table>\n",
       "</div>"
      ],
      "text/plain": [
       "              Algorithm        Class Balancing  Train Precision  Train Recall  \\\n",
       "0   Logistic Regression  Random Under Sampling         0.939576      0.751198   \n",
       "1   Logistic Regression   Random Over Sampling         0.930625      0.750658   \n",
       "2   Logistic Regression                  SMOTE         0.939261      0.751991   \n",
       "3   Logistic Regression        Balanced weight         0.077041      0.750809   \n",
       "4         Random Forest  Random Under Sampling         1.000000      1.000000   \n",
       "5         Random Forest   Random Over Sampling         1.000000      1.000000   \n",
       "6         Random Forest                  SMOTE         1.000000      1.000000   \n",
       "7         Random Forest        Balanced weight         1.000000      0.999741   \n",
       "8               XGBoost  Random Under Sampling         0.999870      0.999741   \n",
       "9               XGBoost   Random Over Sampling         0.993063      1.000000   \n",
       "10              XGBoost                  SMOTE         0.999418      0.999140   \n",
       "11              XGBoost        Balanced weight         0.446533      1.000000   \n",
       "\n",
       "    Train f1 Train Support  Test Precision  Test Recall   Test f1 Test Support  \n",
       "0   0.834893          7721        0.075695     0.744560  0.137420         1930  \n",
       "1   0.831010       1474073        0.065051     0.741451  0.119609         1930  \n",
       "2   0.835257       1474073        0.074254     0.745078  0.135049         1930  \n",
       "3   0.139742          7721        0.076416     0.744560  0.138606         1930  \n",
       "4   1.000000          7721        0.197431     0.947668  0.326782         1930  \n",
       "5   1.000000       1474073        0.930233     0.704663  0.801887         1930  \n",
       "6   1.000000       1474073        0.900852     0.602591  0.722136         1930  \n",
       "7   0.999870          7721        0.959533     0.638860  0.767030         1930  \n",
       "8   0.999806          7721        0.192783     0.977202  0.322035         1930  \n",
       "9   0.996519       1474073        0.408041     0.951813  0.571206         1930  \n",
       "10  0.999279       1474073        0.837673     0.783420  0.809639         1930  \n",
       "11  0.617384          7721        0.420447     0.946114  0.582178         1930  "
      ]
     },
     "execution_count": 79,
     "metadata": {},
     "output_type": "execute_result"
    }
   ],
   "source": [
    "train_report_3d = classification_report(y_train, y_pred_train_3d, target_names=target_names, output_dict = True)\n",
    "test_report_3d = classification_report(y_test, y_pred_test_3d, target_names=target_names, output_dict = True)\n",
    "\n",
    "add_metrics('XGBoost', 'Balanced weight', train_report_3d, test_report_3d)\n",
    "metrics"
   ]
  },
  {
   "cell_type": "markdown",
   "id": "259bfef1",
   "metadata": {},
   "source": [
    "## Model selection and hyperparameter tuning"
   ]
  },
  {
   "cell_type": "markdown",
   "id": "eb6f76bd",
   "metadata": {},
   "source": [
    "In total, we've trained 12 'vanilla' models thus far combining an algorithm with a resampling (or class weight balancing) method. If we wanted to optimize recall, then the top two models would be XGBoost with random under sampling and XGBoost with random oversampling.  Unfortunately these two models have low precision values that are concerning to the potential business client.  In other words, while these models are able to capture a high percentage of the actual fraud cases, it also mislabels a significant number of valid transactions as fraudulent.\n",
    "\n",
    "Taking a look at the f1-score, our top three models are:\n",
    "\n",
    "<b>1. XGBoost with SMOTE </b>\n",
    "\n",
    "<b>2. Random Forest with random over sampling</b>\n",
    "\n",
    "<b>3. Random Forest with balanced class_weight</b>\n",
    "\n",
    "We will apply hyperparameter tuning to these three models to see if we can see any further improvements and decide on our model from there.  RandomSearchCV will be our preferred method, due to the size of the dataset."
   ]
  },
  {
   "cell_type": "markdown",
   "id": "bb83fd20",
   "metadata": {},
   "source": [
    "### Hyperparameter tuning XGBoost with SMOTE"
   ]
  },
  {
   "cell_type": "markdown",
   "id": "97e2cb52",
   "metadata": {},
   "source": [
    "pipeline with standard scaler?"
   ]
  },
  {
   "cell_type": "code",
   "execution_count": 80,
   "id": "68fb967d",
   "metadata": {
    "scrolled": true
   },
   "outputs": [
    {
     "data": {
      "text/plain": [
       "XGBClassifier(base_score=0.5, booster='gbtree', colsample_bylevel=1,\n",
       "              colsample_bynode=1, colsample_bytree=1, enable_categorical=False,\n",
       "              gamma=0, gpu_id=-1, importance_type=None,\n",
       "              interaction_constraints='', learning_rate=0.300000012,\n",
       "              max_delta_step=0, max_depth=6, min_child_weight=1, missing=nan,\n",
       "              monotone_constraints='()', n_estimators=100, n_jobs=8,\n",
       "              num_parallel_tree=1, predictor='auto', random_state=0,\n",
       "              reg_alpha=0, reg_lambda=1, scale_pos_weight=1, subsample=1,\n",
       "              tree_method='exact', use_label_encoder=False,\n",
       "              validate_parameters=1, verbosity=None)"
      ]
     },
     "execution_count": 80,
     "metadata": {},
     "output_type": "execute_result"
    }
   ],
   "source": [
    "xg_sm"
   ]
  },
  {
   "cell_type": "code",
   "execution_count": 81,
   "id": "d155a4f2",
   "metadata": {},
   "outputs": [],
   "source": [
    "\n",
    "param_dist = {\n",
    "    \"max_depth\": [3, 4, 5, 7],\n",
    "    \"learning_rate\": [0.1, 0.01, 0.05],\n",
    "    \"gamma\": [0, 0.25, 1],\n",
    "    \"reg_lambda\": [0, 1, 10],\n",
    "    \"scale_pos_weight\": [1, 3, 5],\n",
    "    \"subsample\": [0.8],\n",
    "    \"colsample_bytree\": [0.5],\n",
    "}"
   ]
  },
  {
   "cell_type": "code",
   "execution_count": null,
   "id": "41c29402",
   "metadata": {},
   "outputs": [],
   "source": [
    "from sklearn.model_selection import RandomizedSearchCV\n",
    "from sklearn.metrics import f1_score\n",
    "\n",
    "xg_sm2 = xgb.XGBClassifier(use_label_encoder=False)\n",
    "xg_sm_cv = RandomizedSearchCV(xg_sm2, \n",
    "                         param_distributions = param_dist,\n",
    "                         cv = 3,  \n",
    "                         n_iter = 100,  \n",
    "                         scoring = 'f1', \n",
    "                         verbose = 3, \n",
    "                         n_jobs = -1)\n",
    "\n",
    "xg_sm_cv.fit(X_train_sm, y_train_sm.values.ravel())"
   ]
  },
  {
   "cell_type": "code",
   "execution_count": 88,
   "id": "6729ca70",
   "metadata": {},
   "outputs": [
    {
     "data": {
      "text/html": [
       "<div>\n",
       "<style scoped>\n",
       "    .dataframe tbody tr th:only-of-type {\n",
       "        vertical-align: middle;\n",
       "    }\n",
       "\n",
       "    .dataframe tbody tr th {\n",
       "        vertical-align: top;\n",
       "    }\n",
       "\n",
       "    .dataframe thead th {\n",
       "        text-align: right;\n",
       "    }\n",
       "</style>\n",
       "<table border=\"1\" class=\"dataframe\">\n",
       "  <thead>\n",
       "    <tr style=\"text-align: right;\">\n",
       "      <th></th>\n",
       "      <th>mean_fit_time</th>\n",
       "      <th>std_fit_time</th>\n",
       "      <th>mean_score_time</th>\n",
       "      <th>std_score_time</th>\n",
       "      <th>param_subsample</th>\n",
       "      <th>param_scale_pos_weight</th>\n",
       "      <th>param_reg_lambda</th>\n",
       "      <th>param_max_depth</th>\n",
       "      <th>param_learning_rate</th>\n",
       "      <th>param_gamma</th>\n",
       "      <th>param_colsample_bytree</th>\n",
       "      <th>params</th>\n",
       "      <th>split0_test_score</th>\n",
       "      <th>split1_test_score</th>\n",
       "      <th>split2_test_score</th>\n",
       "      <th>split3_test_score</th>\n",
       "      <th>split4_test_score</th>\n",
       "      <th>mean_test_score</th>\n",
       "      <th>std_test_score</th>\n",
       "      <th>rank_test_score</th>\n",
       "    </tr>\n",
       "  </thead>\n",
       "  <tbody>\n",
       "    <tr>\n",
       "      <th>0</th>\n",
       "      <td>813.233659</td>\n",
       "      <td>1.281906</td>\n",
       "      <td>3.012604</td>\n",
       "      <td>0.177480</td>\n",
       "      <td>0.8</td>\n",
       "      <td>3</td>\n",
       "      <td>0</td>\n",
       "      <td>3</td>\n",
       "      <td>0.01</td>\n",
       "      <td>0</td>\n",
       "      <td>0.5</td>\n",
       "      <td>{'subsample': 0.8, 'scale_pos_weight': 3, 'reg...</td>\n",
       "      <td>0.896770</td>\n",
       "      <td>0.886309</td>\n",
       "      <td>0.885498</td>\n",
       "      <td>0.886264</td>\n",
       "      <td>0.885382</td>\n",
       "      <td>0.888045</td>\n",
       "      <td>0.004379</td>\n",
       "      <td>5</td>\n",
       "    </tr>\n",
       "    <tr>\n",
       "      <th>1</th>\n",
       "      <td>1232.682303</td>\n",
       "      <td>13.338854</td>\n",
       "      <td>4.283050</td>\n",
       "      <td>0.899755</td>\n",
       "      <td>0.8</td>\n",
       "      <td>3</td>\n",
       "      <td>1</td>\n",
       "      <td>5</td>\n",
       "      <td>0.05</td>\n",
       "      <td>1</td>\n",
       "      <td>0.5</td>\n",
       "      <td>{'subsample': 0.8, 'scale_pos_weight': 3, 'reg...</td>\n",
       "      <td>0.986347</td>\n",
       "      <td>0.987170</td>\n",
       "      <td>0.988047</td>\n",
       "      <td>0.987764</td>\n",
       "      <td>0.987331</td>\n",
       "      <td>0.987332</td>\n",
       "      <td>0.000582</td>\n",
       "      <td>3</td>\n",
       "    </tr>\n",
       "    <tr>\n",
       "      <th>2</th>\n",
       "      <td>1720.599304</td>\n",
       "      <td>17.815185</td>\n",
       "      <td>6.421199</td>\n",
       "      <td>0.950294</td>\n",
       "      <td>0.8</td>\n",
       "      <td>1</td>\n",
       "      <td>0</td>\n",
       "      <td>7</td>\n",
       "      <td>0.05</td>\n",
       "      <td>0</td>\n",
       "      <td>0.5</td>\n",
       "      <td>{'subsample': 0.8, 'scale_pos_weight': 1, 'reg...</td>\n",
       "      <td>0.988627</td>\n",
       "      <td>0.991550</td>\n",
       "      <td>0.991411</td>\n",
       "      <td>0.991133</td>\n",
       "      <td>0.991612</td>\n",
       "      <td>0.990867</td>\n",
       "      <td>0.001132</td>\n",
       "      <td>2</td>\n",
       "    </tr>\n",
       "    <tr>\n",
       "      <th>3</th>\n",
       "      <td>1199.968441</td>\n",
       "      <td>48.244843</td>\n",
       "      <td>4.876060</td>\n",
       "      <td>1.459181</td>\n",
       "      <td>0.8</td>\n",
       "      <td>3</td>\n",
       "      <td>10</td>\n",
       "      <td>5</td>\n",
       "      <td>0.05</td>\n",
       "      <td>1</td>\n",
       "      <td>0.5</td>\n",
       "      <td>{'subsample': 0.8, 'scale_pos_weight': 3, 'reg...</td>\n",
       "      <td>0.986126</td>\n",
       "      <td>0.987094</td>\n",
       "      <td>0.987521</td>\n",
       "      <td>0.987361</td>\n",
       "      <td>0.987514</td>\n",
       "      <td>0.987123</td>\n",
       "      <td>0.000522</td>\n",
       "      <td>4</td>\n",
       "    </tr>\n",
       "    <tr>\n",
       "      <th>4</th>\n",
       "      <td>849.993476</td>\n",
       "      <td>238.812352</td>\n",
       "      <td>1.453869</td>\n",
       "      <td>1.091686</td>\n",
       "      <td>0.8</td>\n",
       "      <td>1</td>\n",
       "      <td>1</td>\n",
       "      <td>5</td>\n",
       "      <td>0.1</td>\n",
       "      <td>1</td>\n",
       "      <td>0.5</td>\n",
       "      <td>{'subsample': 0.8, 'scale_pos_weight': 1, 'reg...</td>\n",
       "      <td>0.991135</td>\n",
       "      <td>0.993582</td>\n",
       "      <td>0.994111</td>\n",
       "      <td>0.993946</td>\n",
       "      <td>0.993748</td>\n",
       "      <td>0.993304</td>\n",
       "      <td>0.001099</td>\n",
       "      <td>1</td>\n",
       "    </tr>\n",
       "  </tbody>\n",
       "</table>\n",
       "</div>"
      ],
      "text/plain": [
       "   mean_fit_time  std_fit_time  mean_score_time  std_score_time  \\\n",
       "0     813.233659      1.281906         3.012604        0.177480   \n",
       "1    1232.682303     13.338854         4.283050        0.899755   \n",
       "2    1720.599304     17.815185         6.421199        0.950294   \n",
       "3    1199.968441     48.244843         4.876060        1.459181   \n",
       "4     849.993476    238.812352         1.453869        1.091686   \n",
       "\n",
       "  param_subsample param_scale_pos_weight param_reg_lambda param_max_depth  \\\n",
       "0             0.8                      3                0               3   \n",
       "1             0.8                      3                1               5   \n",
       "2             0.8                      1                0               7   \n",
       "3             0.8                      3               10               5   \n",
       "4             0.8                      1                1               5   \n",
       "\n",
       "  param_learning_rate param_gamma param_colsample_bytree  \\\n",
       "0                0.01           0                    0.5   \n",
       "1                0.05           1                    0.5   \n",
       "2                0.05           0                    0.5   \n",
       "3                0.05           1                    0.5   \n",
       "4                 0.1           1                    0.5   \n",
       "\n",
       "                                              params  split0_test_score  \\\n",
       "0  {'subsample': 0.8, 'scale_pos_weight': 3, 'reg...           0.896770   \n",
       "1  {'subsample': 0.8, 'scale_pos_weight': 3, 'reg...           0.986347   \n",
       "2  {'subsample': 0.8, 'scale_pos_weight': 1, 'reg...           0.988627   \n",
       "3  {'subsample': 0.8, 'scale_pos_weight': 3, 'reg...           0.986126   \n",
       "4  {'subsample': 0.8, 'scale_pos_weight': 1, 'reg...           0.991135   \n",
       "\n",
       "   split1_test_score  split2_test_score  split3_test_score  split4_test_score  \\\n",
       "0           0.886309           0.885498           0.886264           0.885382   \n",
       "1           0.987170           0.988047           0.987764           0.987331   \n",
       "2           0.991550           0.991411           0.991133           0.991612   \n",
       "3           0.987094           0.987521           0.987361           0.987514   \n",
       "4           0.993582           0.994111           0.993946           0.993748   \n",
       "\n",
       "   mean_test_score  std_test_score  rank_test_score  \n",
       "0         0.888045        0.004379                5  \n",
       "1         0.987332        0.000582                3  \n",
       "2         0.990867        0.001132                2  \n",
       "3         0.987123        0.000522                4  \n",
       "4         0.993304        0.001099                1  "
      ]
     },
     "execution_count": 88,
     "metadata": {},
     "output_type": "execute_result"
    }
   ],
   "source": [
    "pd.DataFrame(xg_sm_cv.cv_results_)"
   ]
  },
  {
   "cell_type": "code",
   "execution_count": 85,
   "id": "955c256a",
   "metadata": {},
   "outputs": [
    {
     "data": {
      "text/plain": [
       "{'subsample': 0.8,\n",
       " 'scale_pos_weight': 1,\n",
       " 'reg_lambda': 1,\n",
       " 'max_depth': 5,\n",
       " 'learning_rate': 0.1,\n",
       " 'gamma': 1,\n",
       " 'colsample_bytree': 0.5}"
      ]
     },
     "execution_count": 85,
     "metadata": {},
     "output_type": "execute_result"
    }
   ],
   "source": [
    "xg_sm_cv.best_params_"
   ]
  },
  {
   "cell_type": "code",
   "execution_count": 86,
   "id": "5704c99d",
   "metadata": {},
   "outputs": [
    {
     "data": {
      "text/plain": [
       "0.9933044380180425"
      ]
     },
     "execution_count": 86,
     "metadata": {},
     "output_type": "execute_result"
    }
   ],
   "source": [
    "xg_sm_cv.best_score_"
   ]
  },
  {
   "cell_type": "markdown",
   "id": "bc173389",
   "metadata": {},
   "source": [
    "Create a final classifier with the above parameters."
   ]
  },
  {
   "cell_type": "code",
   "execution_count": 92,
   "id": "8c61bf32",
   "metadata": {},
   "outputs": [
    {
     "name": "stdout",
     "output_type": "stream",
     "text": [
      "[19:37:01] WARNING: /Users/runner/miniforge3/conda-bld/xgboost-split_1634712680264/work/src/learner.cc:1115: Starting in XGBoost 1.3.0, the default evaluation metric used with the objective 'binary:logistic' was changed from 'error' to 'logloss'. Explicitly set eval_metric if you'd like to restore the old behavior.\n"
     ]
    },
    {
     "data": {
      "text/plain": [
       "XGBClassifier(base_score=0.5, booster='gbtree', colsample_bylevel=1,\n",
       "              colsample_bynode=1, colsample_bytree=0.5,\n",
       "              enable_categorical=False, gamma=1, gpu_id=-1,\n",
       "              importance_type=None, interaction_constraints='',\n",
       "              learning_rate=0.1, max_delta_step=0, max_depth=5,\n",
       "              min_child_weight=1, missing=nan, monotone_constraints='()',\n",
       "              n_estimators=100, n_jobs=8, num_parallel_tree=1, predictor='auto',\n",
       "              random_state=0, reg_alpha=0, reg_lambda=1, scale_pos_weight=1,\n",
       "              subsample=0.8, tree_method='exact', use_label_encoder=False,\n",
       "              validate_parameters=1, verbosity=None)"
      ]
     },
     "execution_count": 92,
     "metadata": {},
     "output_type": "execute_result"
    }
   ],
   "source": [
    "xg_sm_final = xgb.XGBClassifier(subsample = 0.8,\n",
    "                                scale_pos_weight = 1,\n",
    "                                reg_lambda = 1,\n",
    "                                max_depth = 5,\n",
    "                                learning_rate = 0.1,\n",
    "                                gamma = 1,\n",
    "                                colsample_bytree = 0.5, \n",
    "                                use_label_encoder=False)\n",
    "\n",
    "xg_sm_final.fit(X_train_sm, y_train_sm.values.ravel())"
   ]
  },
  {
   "cell_type": "code",
   "execution_count": 93,
   "id": "bdba1d10",
   "metadata": {},
   "outputs": [],
   "source": [
    "y_pred_train_xgfinal = xg_sm_final.predict(X_train_sm)\n",
    "y_pred_test_xgfinal = xg_sm_final.predict(X_test)"
   ]
  },
  {
   "cell_type": "code",
   "execution_count": 94,
   "id": "094b9548",
   "metadata": {},
   "outputs": [],
   "source": [
    "cm_xgfinal_train = confusion_matrix(y_train_sm.values.ravel(),y_pred_train_xgfinal)\n",
    "cm_xgfinal_test = confusion_matrix(y_test.values.ravel(),y_pred_test_xgfinal)"
   ]
  },
  {
   "cell_type": "code",
   "execution_count": 95,
   "id": "83b2cd4b",
   "metadata": {},
   "outputs": [
    {
     "data": {
      "text/plain": [
       "Text(0.5, 1.0, 'XGBoost SMOTE final - Testing confusion matrix')"
      ]
     },
     "execution_count": 95,
     "metadata": {},
     "output_type": "execute_result"
    },
    {
     "data": {
      "image/png": "[encoded data removed]",
      "text/plain": [
       "<Figure size 864x360 with 4 Axes>"
      ]
     },
     "metadata": {
      "needs_background": "light"
     },
     "output_type": "display_data"
    }
   ],
   "source": [
    "fig, ax = plt.subplots(1,2, figsize=(12,5))\n",
    "sns.heatmap(cm_xgfinal_train, annot=True, fmt = '', cmap = 'Blues',ax = ax[0])\n",
    "ax[0].set_xlabel('Predicted label')\n",
    "ax[0].set_ylabel('True label')\n",
    "ax[0].set_title('XGBoost SMOTE final - Training confusion matrix')\n",
    "\n",
    "sns.heatmap(cm_xgfinal_test, annot=True, fmt = '', cmap = 'Reds',ax = ax[1])\n",
    "ax[1].set_xlabel('Predicted label')\n",
    "ax[1].set_ylabel('True label')\n",
    "ax[1].set_title('XGBoost SMOTE final - Testing confusion matrix')"
   ]
  },
  {
   "cell_type": "code",
   "execution_count": 96,
   "id": "ed83a1fb",
   "metadata": {},
   "outputs": [
    {
     "name": "stdout",
     "output_type": "stream",
     "text": [
      "[Training Classification Report]\n",
      "              precision    recall  f1-score   support\n",
      "\n",
      "       valid       0.99      1.00      0.99   1474073\n",
      "       fraud       1.00      0.99      0.99   1474073\n",
      "\n",
      "    accuracy                           0.99   2948146\n",
      "   macro avg       0.99      0.99      0.99   2948146\n",
      "weighted avg       0.99      0.99      0.99   2948146\n",
      "\n",
      "[Test Classification Report]\n",
      "              precision    recall  f1-score   support\n",
      "\n",
      "       valid       1.00      1.00      1.00    368519\n",
      "       fraud       0.60      0.78      0.68      1930\n",
      "\n",
      "    accuracy                           1.00    370449\n",
      "   macro avg       0.80      0.89      0.84    370449\n",
      "weighted avg       1.00      1.00      1.00    370449\n",
      "\n"
     ]
    }
   ],
   "source": [
    "target_names = ['valid', 'fraud']\n",
    "\n",
    "print(\"[Training Classification Report]\")\n",
    "print(classification_report(y_train_sm, y_pred_train_xgfinal, target_names=target_names))\n",
    "\n",
    "print(\"[Test Classification Report]\")\n",
    "print(classification_report(y_test, y_pred_test_xgfinal, target_names=target_names))"
   ]
  },
  {
   "cell_type": "markdown",
   "id": "e517d118",
   "metadata": {},
   "source": [
    "This is performing worse than the \"vanilla\" XGBoost algorithm with SMOTE resampling. "
   ]
  },
  {
   "cell_type": "markdown",
   "id": "47b8d8d0",
   "metadata": {},
   "source": [
    "### Hyperparameter tuning Random Forest with Random Over Sampling"
   ]
  },
  {
   "cell_type": "code",
   "execution_count": 98,
   "id": "9708c828",
   "metadata": {},
   "outputs": [
    {
     "name": "stdout",
     "output_type": "stream",
     "text": [
      "{'bootstrap': [True, False],\n",
      " 'max_depth': [10, 20, 30, 40, 50, 60, 70, 80, 90, 100, 110, None],\n",
      " 'max_features': ['auto', 'sqrt'],\n",
      " 'min_samples_leaf': [1, 2, 4],\n",
      " 'min_samples_split': [2, 5, 10],\n",
      " 'n_estimators': [200, 400, 600, 800, 1000, 1200, 1400, 1600, 1800, 2000]}\n"
     ]
    }
   ],
   "source": [
    "from pprint import pprint\n",
    "\n",
    "# Number of trees in random forest\n",
    "n_estimators = [int(x) for x in np.linspace(start = 200, stop = 2000, num = 10)]\n",
    "\n",
    "# Number of features to consider at every split\n",
    "max_features = ['auto', 'sqrt']\n",
    "\n",
    "# Maximum number of levels in tree\n",
    "max_depth = [int(x) for x in np.linspace(10, 110, num = 11)]\n",
    "max_depth.append(None)\n",
    "\n",
    "# Minimum number of samples required to split a node\n",
    "min_samples_split = [2, 5, 10]\n",
    "\n",
    "# Minimum number of samples required at each leaf node\n",
    "min_samples_leaf = [1, 2, 4]\n",
    "\n",
    "# Method of selecting samples for training each tree\n",
    "bootstrap = [True, False]\n",
    "\n",
    "# Create the random grid\n",
    "random_grid = {'n_estimators': n_estimators,\n",
    "               'max_features': max_features,\n",
    "               'max_depth': max_depth,\n",
    "               'min_samples_split': min_samples_split,\n",
    "               'min_samples_leaf': min_samples_leaf,\n",
    "               'bootstrap': bootstrap}\n",
    "\n",
    "pprint(random_grid)"
   ]
  },
  {
   "cell_type": "code",
   "execution_count": 99,
   "id": "1aa373a1",
   "metadata": {},
   "outputs": [
    {
     "name": "stdout",
     "output_type": "stream",
     "text": [
      "Fitting 3 folds for each of 100 candidates, totalling 300 fits\n"
     ]
    },
    {
     "name": "stderr",
     "output_type": "stream",
     "text": [
      "[Parallel(n_jobs=-1)]: Using backend LokyBackend with 8 concurrent workers.\n",
      "[Parallel(n_jobs=-1)]: Done  25 tasks      | elapsed: 618.3min\n"
     ]
    },
    {
     "ename": "KeyboardInterrupt",
     "evalue": "",
     "output_type": "error",
     "traceback": [
      "\u001b[0;31m---------------------------------------------------------------------------\u001b[0m",
      "\u001b[0;31mKeyboardInterrupt\u001b[0m                         Traceback (most recent call last)",
      "\u001b[0;32m/var/folders/lt/1zfznh390fb4hpfl9rj5cknc0000gn/T/ipykernel_97255/2224406839.py\u001b[0m in \u001b[0;36m<module>\u001b[0;34m\u001b[0m\n\u001b[1;32m      9\u001b[0m                                n_jobs = -1)\n\u001b[1;32m     10\u001b[0m \u001b[0;34m\u001b[0m\u001b[0m\n\u001b[0;32m---> 11\u001b[0;31m \u001b[0mrf_ros_cv\u001b[0m\u001b[0;34m.\u001b[0m\u001b[0mfit\u001b[0m\u001b[0;34m(\u001b[0m\u001b[0mX_train_ros\u001b[0m\u001b[0;34m,\u001b[0m \u001b[0my_train_ros\u001b[0m\u001b[0;34m.\u001b[0m\u001b[0mvalues\u001b[0m\u001b[0;34m.\u001b[0m\u001b[0mravel\u001b[0m\u001b[0;34m(\u001b[0m\u001b[0;34m)\u001b[0m\u001b[0;34m)\u001b[0m\u001b[0;34m\u001b[0m\u001b[0;34m\u001b[0m\u001b[0m\n\u001b[0m",
      "\u001b[0;32m~/opt/anaconda3/envs/snowflakes/lib/python3.8/site-packages/sklearn/utils/validation.py\u001b[0m in \u001b[0;36minner_f\u001b[0;34m(*args, **kwargs)\u001b[0m\n\u001b[1;32m     70\u001b[0m                           FutureWarning)\n\u001b[1;32m     71\u001b[0m         \u001b[0mkwargs\u001b[0m\u001b[0;34m.\u001b[0m\u001b[0mupdate\u001b[0m\u001b[0;34m(\u001b[0m\u001b[0;34m{\u001b[0m\u001b[0mk\u001b[0m\u001b[0;34m:\u001b[0m \u001b[0marg\u001b[0m \u001b[0;32mfor\u001b[0m \u001b[0mk\u001b[0m\u001b[0;34m,\u001b[0m \u001b[0marg\u001b[0m \u001b[0;32min\u001b[0m \u001b[0mzip\u001b[0m\u001b[0;34m(\u001b[0m\u001b[0msig\u001b[0m\u001b[0;34m.\u001b[0m\u001b[0mparameters\u001b[0m\u001b[0;34m,\u001b[0m \u001b[0margs\u001b[0m\u001b[0;34m)\u001b[0m\u001b[0;34m}\u001b[0m\u001b[0;34m)\u001b[0m\u001b[0;34m\u001b[0m\u001b[0;34m\u001b[0m\u001b[0m\n\u001b[0;32m---> 72\u001b[0;31m         \u001b[0;32mreturn\u001b[0m \u001b[0mf\u001b[0m\u001b[0;34m(\u001b[0m\u001b[0;34m**\u001b[0m\u001b[0mkwargs\u001b[0m\u001b[0;34m)\u001b[0m\u001b[0;34m\u001b[0m\u001b[0;34m\u001b[0m\u001b[0m\n\u001b[0m\u001b[1;32m     73\u001b[0m     \u001b[0;32mreturn\u001b[0m \u001b[0minner_f\u001b[0m\u001b[0;34m\u001b[0m\u001b[0;34m\u001b[0m\u001b[0m\n\u001b[1;32m     74\u001b[0m \u001b[0;34m\u001b[0m\u001b[0m\n",
      "\u001b[0;32m~/opt/anaconda3/envs/snowflakes/lib/python3.8/site-packages/sklearn/model_selection/_search.py\u001b[0m in \u001b[0;36mfit\u001b[0;34m(self, X, y, groups, **fit_params)\u001b[0m\n\u001b[1;32m    734\u001b[0m                 \u001b[0;32mreturn\u001b[0m \u001b[0mresults\u001b[0m\u001b[0;34m\u001b[0m\u001b[0;34m\u001b[0m\u001b[0m\n\u001b[1;32m    735\u001b[0m \u001b[0;34m\u001b[0m\u001b[0m\n\u001b[0;32m--> 736\u001b[0;31m             \u001b[0mself\u001b[0m\u001b[0;34m.\u001b[0m\u001b[0m_run_search\u001b[0m\u001b[0;34m(\u001b[0m\u001b[0mevaluate_candidates\u001b[0m\u001b[0;34m)\u001b[0m\u001b[0;34m\u001b[0m\u001b[0;34m\u001b[0m\u001b[0m\n\u001b[0m\u001b[1;32m    737\u001b[0m \u001b[0;34m\u001b[0m\u001b[0m\n\u001b[1;32m    738\u001b[0m         \u001b[0;31m# For multi-metric evaluation, store the best_index_, best_params_ and\u001b[0m\u001b[0;34m\u001b[0m\u001b[0;34m\u001b[0m\u001b[0;34m\u001b[0m\u001b[0m\n",
      "\u001b[0;32m~/opt/anaconda3/envs/snowflakes/lib/python3.8/site-packages/sklearn/model_selection/_search.py\u001b[0m in \u001b[0;36m_run_search\u001b[0;34m(self, evaluate_candidates)\u001b[0m\n\u001b[1;32m   1527\u001b[0m     \u001b[0;32mdef\u001b[0m \u001b[0m_run_search\u001b[0m\u001b[0;34m(\u001b[0m\u001b[0mself\u001b[0m\u001b[0;34m,\u001b[0m \u001b[0mevaluate_candidates\u001b[0m\u001b[0;34m)\u001b[0m\u001b[0;34m:\u001b[0m\u001b[0;34m\u001b[0m\u001b[0;34m\u001b[0m\u001b[0m\n\u001b[1;32m   1528\u001b[0m         \u001b[0;34m\"\"\"Search n_iter candidates from param_distributions\"\"\"\u001b[0m\u001b[0;34m\u001b[0m\u001b[0;34m\u001b[0m\u001b[0m\n\u001b[0;32m-> 1529\u001b[0;31m         evaluate_candidates(ParameterSampler(\n\u001b[0m\u001b[1;32m   1530\u001b[0m             \u001b[0mself\u001b[0m\u001b[0;34m.\u001b[0m\u001b[0mparam_distributions\u001b[0m\u001b[0;34m,\u001b[0m \u001b[0mself\u001b[0m\u001b[0;34m.\u001b[0m\u001b[0mn_iter\u001b[0m\u001b[0;34m,\u001b[0m\u001b[0;34m\u001b[0m\u001b[0;34m\u001b[0m\u001b[0m\n\u001b[1;32m   1531\u001b[0m             random_state=self.random_state))\n",
      "\u001b[0;32m~/opt/anaconda3/envs/snowflakes/lib/python3.8/site-packages/sklearn/model_selection/_search.py\u001b[0m in \u001b[0;36mevaluate_candidates\u001b[0;34m(candidate_params)\u001b[0m\n\u001b[1;32m    706\u001b[0m                               n_splits, n_candidates, n_candidates * n_splits))\n\u001b[1;32m    707\u001b[0m \u001b[0;34m\u001b[0m\u001b[0m\n\u001b[0;32m--> 708\u001b[0;31m                 out = parallel(delayed(_fit_and_score)(clone(base_estimator),\n\u001b[0m\u001b[1;32m    709\u001b[0m                                                        \u001b[0mX\u001b[0m\u001b[0;34m,\u001b[0m \u001b[0my\u001b[0m\u001b[0;34m,\u001b[0m\u001b[0;34m\u001b[0m\u001b[0;34m\u001b[0m\u001b[0m\n\u001b[1;32m    710\u001b[0m                                                        \u001b[0mtrain\u001b[0m\u001b[0;34m=\u001b[0m\u001b[0mtrain\u001b[0m\u001b[0;34m,\u001b[0m \u001b[0mtest\u001b[0m\u001b[0;34m=\u001b[0m\u001b[0mtest\u001b[0m\u001b[0;34m,\u001b[0m\u001b[0;34m\u001b[0m\u001b[0;34m\u001b[0m\u001b[0m\n",
      "\u001b[0;32m~/opt/anaconda3/envs/snowflakes/lib/python3.8/site-packages/joblib/parallel.py\u001b[0m in \u001b[0;36m__call__\u001b[0;34m(self, iterable)\u001b[0m\n\u001b[1;32m   1059\u001b[0m \u001b[0;34m\u001b[0m\u001b[0m\n\u001b[1;32m   1060\u001b[0m             \u001b[0;32mwith\u001b[0m \u001b[0mself\u001b[0m\u001b[0;34m.\u001b[0m\u001b[0m_backend\u001b[0m\u001b[0;34m.\u001b[0m\u001b[0mretrieval_context\u001b[0m\u001b[0;34m(\u001b[0m\u001b[0;34m)\u001b[0m\u001b[0;34m:\u001b[0m\u001b[0;34m\u001b[0m\u001b[0;34m\u001b[0m\u001b[0m\n\u001b[0;32m-> 1061\u001b[0;31m                 \u001b[0mself\u001b[0m\u001b[0;34m.\u001b[0m\u001b[0mretrieve\u001b[0m\u001b[0;34m(\u001b[0m\u001b[0;34m)\u001b[0m\u001b[0;34m\u001b[0m\u001b[0;34m\u001b[0m\u001b[0m\n\u001b[0m\u001b[1;32m   1062\u001b[0m             \u001b[0;31m# Make sure that we get a last message telling us we are done\u001b[0m\u001b[0;34m\u001b[0m\u001b[0;34m\u001b[0m\u001b[0;34m\u001b[0m\u001b[0m\n\u001b[1;32m   1063\u001b[0m             \u001b[0melapsed_time\u001b[0m \u001b[0;34m=\u001b[0m \u001b[0mtime\u001b[0m\u001b[0;34m.\u001b[0m\u001b[0mtime\u001b[0m\u001b[0;34m(\u001b[0m\u001b[0;34m)\u001b[0m \u001b[0;34m-\u001b[0m \u001b[0mself\u001b[0m\u001b[0;34m.\u001b[0m\u001b[0m_start_time\u001b[0m\u001b[0;34m\u001b[0m\u001b[0;34m\u001b[0m\u001b[0m\n",
      "\u001b[0;32m~/opt/anaconda3/envs/snowflakes/lib/python3.8/site-packages/joblib/parallel.py\u001b[0m in \u001b[0;36mretrieve\u001b[0;34m(self)\u001b[0m\n\u001b[1;32m    938\u001b[0m             \u001b[0;32mtry\u001b[0m\u001b[0;34m:\u001b[0m\u001b[0;34m\u001b[0m\u001b[0;34m\u001b[0m\u001b[0m\n\u001b[1;32m    939\u001b[0m                 \u001b[0;32mif\u001b[0m \u001b[0mgetattr\u001b[0m\u001b[0;34m(\u001b[0m\u001b[0mself\u001b[0m\u001b[0;34m.\u001b[0m\u001b[0m_backend\u001b[0m\u001b[0;34m,\u001b[0m \u001b[0;34m'supports_timeout'\u001b[0m\u001b[0;34m,\u001b[0m \u001b[0;32mFalse\u001b[0m\u001b[0;34m)\u001b[0m\u001b[0;34m:\u001b[0m\u001b[0;34m\u001b[0m\u001b[0;34m\u001b[0m\u001b[0m\n\u001b[0;32m--> 940\u001b[0;31m                     \u001b[0mself\u001b[0m\u001b[0;34m.\u001b[0m\u001b[0m_output\u001b[0m\u001b[0;34m.\u001b[0m\u001b[0mextend\u001b[0m\u001b[0;34m(\u001b[0m\u001b[0mjob\u001b[0m\u001b[0;34m.\u001b[0m\u001b[0mget\u001b[0m\u001b[0;34m(\u001b[0m\u001b[0mtimeout\u001b[0m\u001b[0;34m=\u001b[0m\u001b[0mself\u001b[0m\u001b[0;34m.\u001b[0m\u001b[0mtimeout\u001b[0m\u001b[0;34m)\u001b[0m\u001b[0;34m)\u001b[0m\u001b[0;34m\u001b[0m\u001b[0;34m\u001b[0m\u001b[0m\n\u001b[0m\u001b[1;32m    941\u001b[0m                 \u001b[0;32melse\u001b[0m\u001b[0;34m:\u001b[0m\u001b[0;34m\u001b[0m\u001b[0;34m\u001b[0m\u001b[0m\n\u001b[1;32m    942\u001b[0m                     \u001b[0mself\u001b[0m\u001b[0;34m.\u001b[0m\u001b[0m_output\u001b[0m\u001b[0;34m.\u001b[0m\u001b[0mextend\u001b[0m\u001b[0;34m(\u001b[0m\u001b[0mjob\u001b[0m\u001b[0;34m.\u001b[0m\u001b[0mget\u001b[0m\u001b[0;34m(\u001b[0m\u001b[0;34m)\u001b[0m\u001b[0;34m)\u001b[0m\u001b[0;34m\u001b[0m\u001b[0;34m\u001b[0m\u001b[0m\n",
      "\u001b[0;32m~/opt/anaconda3/envs/snowflakes/lib/python3.8/site-packages/joblib/_parallel_backends.py\u001b[0m in \u001b[0;36mwrap_future_result\u001b[0;34m(future, timeout)\u001b[0m\n\u001b[1;32m    540\u001b[0m         AsyncResults.get from multiprocessing.\"\"\"\n\u001b[1;32m    541\u001b[0m         \u001b[0;32mtry\u001b[0m\u001b[0;34m:\u001b[0m\u001b[0;34m\u001b[0m\u001b[0;34m\u001b[0m\u001b[0m\n\u001b[0;32m--> 542\u001b[0;31m             \u001b[0;32mreturn\u001b[0m \u001b[0mfuture\u001b[0m\u001b[0;34m.\u001b[0m\u001b[0mresult\u001b[0m\u001b[0;34m(\u001b[0m\u001b[0mtimeout\u001b[0m\u001b[0;34m=\u001b[0m\u001b[0mtimeout\u001b[0m\u001b[0;34m)\u001b[0m\u001b[0;34m\u001b[0m\u001b[0;34m\u001b[0m\u001b[0m\n\u001b[0m\u001b[1;32m    543\u001b[0m         \u001b[0;32mexcept\u001b[0m \u001b[0mCfTimeoutError\u001b[0m \u001b[0;32mas\u001b[0m \u001b[0me\u001b[0m\u001b[0;34m:\u001b[0m\u001b[0;34m\u001b[0m\u001b[0;34m\u001b[0m\u001b[0m\n\u001b[1;32m    544\u001b[0m             \u001b[0;32mraise\u001b[0m \u001b[0mTimeoutError\u001b[0m \u001b[0;32mfrom\u001b[0m \u001b[0me\u001b[0m\u001b[0;34m\u001b[0m\u001b[0;34m\u001b[0m\u001b[0m\n",
      "\u001b[0;32m~/opt/anaconda3/envs/snowflakes/lib/python3.8/concurrent/futures/_base.py\u001b[0m in \u001b[0;36mresult\u001b[0;34m(self, timeout)\u001b[0m\n\u001b[1;32m    437\u001b[0m                     \u001b[0;32mreturn\u001b[0m \u001b[0mself\u001b[0m\u001b[0;34m.\u001b[0m\u001b[0m__get_result\u001b[0m\u001b[0;34m(\u001b[0m\u001b[0;34m)\u001b[0m\u001b[0;34m\u001b[0m\u001b[0;34m\u001b[0m\u001b[0m\n\u001b[1;32m    438\u001b[0m \u001b[0;34m\u001b[0m\u001b[0m\n\u001b[0;32m--> 439\u001b[0;31m                 \u001b[0mself\u001b[0m\u001b[0;34m.\u001b[0m\u001b[0m_condition\u001b[0m\u001b[0;34m.\u001b[0m\u001b[0mwait\u001b[0m\u001b[0;34m(\u001b[0m\u001b[0mtimeout\u001b[0m\u001b[0;34m)\u001b[0m\u001b[0;34m\u001b[0m\u001b[0;34m\u001b[0m\u001b[0m\n\u001b[0m\u001b[1;32m    440\u001b[0m \u001b[0;34m\u001b[0m\u001b[0m\n\u001b[1;32m    441\u001b[0m                 \u001b[0;32mif\u001b[0m \u001b[0mself\u001b[0m\u001b[0;34m.\u001b[0m\u001b[0m_state\u001b[0m \u001b[0;32min\u001b[0m \u001b[0;34m[\u001b[0m\u001b[0mCANCELLED\u001b[0m\u001b[0;34m,\u001b[0m \u001b[0mCANCELLED_AND_NOTIFIED\u001b[0m\u001b[0;34m]\u001b[0m\u001b[0;34m:\u001b[0m\u001b[0;34m\u001b[0m\u001b[0;34m\u001b[0m\u001b[0m\n",
      "\u001b[0;32m~/opt/anaconda3/envs/snowflakes/lib/python3.8/threading.py\u001b[0m in \u001b[0;36mwait\u001b[0;34m(self, timeout)\u001b[0m\n\u001b[1;32m    300\u001b[0m         \u001b[0;32mtry\u001b[0m\u001b[0;34m:\u001b[0m    \u001b[0;31m# restore state no matter what (e.g., KeyboardInterrupt)\u001b[0m\u001b[0;34m\u001b[0m\u001b[0;34m\u001b[0m\u001b[0m\n\u001b[1;32m    301\u001b[0m             \u001b[0;32mif\u001b[0m \u001b[0mtimeout\u001b[0m \u001b[0;32mis\u001b[0m \u001b[0;32mNone\u001b[0m\u001b[0;34m:\u001b[0m\u001b[0;34m\u001b[0m\u001b[0;34m\u001b[0m\u001b[0m\n\u001b[0;32m--> 302\u001b[0;31m                 \u001b[0mwaiter\u001b[0m\u001b[0;34m.\u001b[0m\u001b[0macquire\u001b[0m\u001b[0;34m(\u001b[0m\u001b[0;34m)\u001b[0m\u001b[0;34m\u001b[0m\u001b[0;34m\u001b[0m\u001b[0m\n\u001b[0m\u001b[1;32m    303\u001b[0m                 \u001b[0mgotit\u001b[0m \u001b[0;34m=\u001b[0m \u001b[0;32mTrue\u001b[0m\u001b[0;34m\u001b[0m\u001b[0;34m\u001b[0m\u001b[0m\n\u001b[1;32m    304\u001b[0m             \u001b[0;32melse\u001b[0m\u001b[0;34m:\u001b[0m\u001b[0;34m\u001b[0m\u001b[0;34m\u001b[0m\u001b[0m\n",
      "\u001b[0;31mKeyboardInterrupt\u001b[0m: "
     ]
    }
   ],
   "source": [
    "rf_ros2 = RandomForestClassifier()\n",
    "\n",
    "rf_ros_cv = RandomizedSearchCV(estimator = rf_ros2, \n",
    "                               param_distributions = random_grid, \n",
    "                               n_iter = 100, \n",
    "                               cv = 3, \n",
    "                               verbose=2, \n",
    "                               random_state=42, \n",
    "                               n_jobs = -1)\n",
    "\n",
    "rf_ros_cv.fit(X_train_ros, y_train_ros.values.ravel())"
   ]
  },
  {
   "cell_type": "code",
   "execution_count": null,
   "id": "eb3e6aa5",
   "metadata": {},
   "outputs": [],
   "source": []
  }
 ],
 "metadata": {
  "kernelspec": {
   "display_name": "Python 3 (ipykernel)",
   "language": "python",
   "name": "python3"
  },
  "language_info": {
   "codemirror_mode": {
    "name": "ipython",
    "version": 3
   },
   "file_extension": ".py",
   "mimetype": "text/x-python",
   "name": "python",
   "nbconvert_exporter": "python",
   "pygments_lexer": "ipython3",
   "version": "3.8.12"
  }
 },
 "nbformat": 4,
 "nbformat_minor": 5
}
