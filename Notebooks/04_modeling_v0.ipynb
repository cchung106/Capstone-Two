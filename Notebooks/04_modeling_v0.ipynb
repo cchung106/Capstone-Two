{
 "cells": [
  {
   "cell_type": "markdown",
   "id": "d394401f",
   "metadata": {},
   "source": [
    "# Identifying Credit Card Fraud - Modeling\n",
    "\n",
    "## Introduction\n",
    "\n",
    "### Scenario:\n",
    "\n",
    "Our goal is to approach this as an actual business problem, to the best of our ability.  Unfortunately, given the nature of this project, there is no actual \"client\" or \"customer\" where we can discuss and properly assess the objectives of our solution.  As a result, I've consulted with my mentor and we have put forth the following scenario:\n",
    "\n",
    "- We will set our objective to be to catch as many fraudulent transactions as possible, at the expense of incorrectly labeling some valid transactions as fraud (false positives). \n",
    "- With that said, we want to avoid having an exorbitant amount of false positives because that can become a major nuisance to consumers.\n",
    "- We want to maximize <b>recall</b>, while still keeping an eye on <b>precision</b>.\n",
    "- As a result, our goal wfill be to optimize the <b>f1-score</b>.\n",
    "\n",
    "\n",
    "### Plan:\n",
    "\n",
    "In our previous notebook, we generated a baseline model that with poor performance due to the highly imbalanced nature of classes in this dataset.  In this notebook, we plan on dealing with the imbalance so that we can train more effective models.  We will try multiple combinations of sampling methods and algorithms to construct multiple models to compare.  \n",
    "\n",
    "As for sampling methods, we will try random undersampling and random oversampling. A drawback of these two methods is that random undersampling of the majority class can potentially remove important data points, and random oversampling of the minority class can lead to overfitting.  As a result, we will also try to synthetically generate samples that are similar to the minority class distribution using SMOTE.  And finally, we will also try the \"class_weight\" parameter in each of the models to balance the weight of the majority and minority classes.\n",
    "\n",
    "Speaking of models, we will try Logistic Regression, Random Forest, and XGBoost. In order to compare, our end goal will be to construct a table such as this:\n",
    "\n",
    "\n",
    "| Algorithm | Class Balance | Train Precision | Train Recall | Train f1-score | Train Support | Test Precision | Test Recall | Test f1-score | Test Support |\n",
    "| --- | --- | --- | --- | --- | --- | --- | --- | --- | --- |\n",
    "| <b>Logistic Regression</b> | Undersample majority | ? | ? | ? | ? | ? | ? | ? | ? |\n",
    "| | Oversample minority | ? | ? | ? | ? | ? | ? | ? | ? |\n",
    "| | SMOTE | ? | ? | ? | ? | ? | ? | ? | ? |\n",
    "| | class_weight balance | ? | ? | ? | ? | ? | ? | ? | ? |\n",
    "| <b>Random Forest</b> | Undersample majority | ? | ? | ? | ? | ? | ? | ? | ? |\n",
    "| | Oversample minority | ? | ? | ? | ? | ? | ? | ? | ? |\n",
    "| | SMOTE | ? | ? | ? | ? | ? | ? | ? | ? |\n",
    "| | class_weight balance | ? | ? | ? | ? | ? | ? | ? | ? |\n",
    "| <b>XGboost</b> | Undersample majority | ? | ? | ? | ? | ? | ? | ? | ? |\n",
    "| | Oversample minority | ? | ? | ? | ? | ? | ? | ? | ? |\n",
    "| | SMOTE | ? | ? | ? | ? | ? | ? | ? | ? |\n",
    "| | class_weight balance | ? | ? | ? | ? | ? | ? | ? | ? |\n",
    "\n"
   ]
  },
  {
   "cell_type": "markdown",
   "id": "441128fb",
   "metadata": {},
   "source": [
    "## Imports"
   ]
  },
  {
   "cell_type": "code",
   "execution_count": 1,
   "id": "503c7b65",
   "metadata": {},
   "outputs": [],
   "source": [
    "import pandas as pd\n",
    "import numpy as np\n",
    "import matplotlib.pyplot as plt\n",
    "import seaborn as sns\n",
    "from sklearn.metrics import confusion_matrix\n",
    "from sklearn.metrics import classification_report"
   ]
  },
  {
   "cell_type": "code",
   "execution_count": 2,
   "id": "07be101d",
   "metadata": {},
   "outputs": [],
   "source": [
    "X_train = pd.read_csv('../raw_data/X_train_scaled.csv', index_col=0)\n",
    "X_test = pd.read_csv('../raw_data/X_test_scaled.csv', index_col=0)\n",
    "y_train = pd.read_csv('../raw_data/y_train.csv', index_col=0)\n",
    "y_test = pd.read_csv('../raw_data/y_test.csv', index_col=0)"
   ]
  },
  {
   "cell_type": "code",
   "execution_count": 3,
   "id": "ddc8c285",
   "metadata": {},
   "outputs": [
    {
     "name": "stdout",
     "output_type": "stream",
     "text": [
      "<class 'pandas.core.frame.DataFrame'>\n",
      "Int64Index: 1481794 entries, 0 to 1481793\n",
      "Data columns (total 31 columns):\n",
      " #   Column              Non-Null Count    Dtype  \n",
      "---  ------              --------------    -----  \n",
      " 0   amt                 1481794 non-null  float64\n",
      " 1   city_pop            1481794 non-null  float64\n",
      " 2   abnormal_hours      1481794 non-null  float64\n",
      " 3   time_diff           1481794 non-null  float64\n",
      " 4   count_24_hour       1481794 non-null  float64\n",
      " 5   count_7_days        1481794 non-null  float64\n",
      " 6   count_30_days       1481794 non-null  float64\n",
      " 7   gender_M            1481794 non-null  float64\n",
      " 8   dist_haversine      1481794 non-null  float64\n",
      " 9   age                 1481794 non-null  float64\n",
      " 10  cat_entertainment   1481794 non-null  float64\n",
      " 11  cat_food_dining     1481794 non-null  float64\n",
      " 12  cat_gas_transport   1481794 non-null  float64\n",
      " 13  cat_grocery_net     1481794 non-null  float64\n",
      " 14  cat_grocery_pos     1481794 non-null  float64\n",
      " 15  cat_health_fitness  1481794 non-null  float64\n",
      " 16  cat_home            1481794 non-null  float64\n",
      " 17  cat_kids_pets       1481794 non-null  float64\n",
      " 18  cat_misc_net        1481794 non-null  float64\n",
      " 19  cat_misc_pos        1481794 non-null  float64\n",
      " 20  cat_personal_care   1481794 non-null  float64\n",
      " 21  cat_shopping_net    1481794 non-null  float64\n",
      " 22  cat_shopping_pos    1481794 non-null  float64\n",
      " 23  cat_travel          1481794 non-null  float64\n",
      " 24  day_Friday          1481794 non-null  float64\n",
      " 25  day_Monday          1481794 non-null  float64\n",
      " 26  day_Saturday        1481794 non-null  float64\n",
      " 27  day_Sunday          1481794 non-null  float64\n",
      " 28  day_Thursday        1481794 non-null  float64\n",
      " 29  day_Tuesday         1481794 non-null  float64\n",
      " 30  day_Wednesday       1481794 non-null  float64\n",
      "dtypes: float64(31)\n",
      "memory usage: 361.8 MB\n"
     ]
    }
   ],
   "source": [
    "X_train.info()"
   ]
  },
  {
   "cell_type": "code",
   "execution_count": 4,
   "id": "0ad08bc5",
   "metadata": {},
   "outputs": [
    {
     "name": "stdout",
     "output_type": "stream",
     "text": [
      "<class 'pandas.core.frame.DataFrame'>\n",
      "Int64Index: 370449 entries, 0 to 370448\n",
      "Data columns (total 31 columns):\n",
      " #   Column              Non-Null Count   Dtype  \n",
      "---  ------              --------------   -----  \n",
      " 0   amt                 370449 non-null  float64\n",
      " 1   city_pop            370449 non-null  float64\n",
      " 2   abnormal_hours      370449 non-null  float64\n",
      " 3   time_diff           370449 non-null  float64\n",
      " 4   count_24_hour       370449 non-null  float64\n",
      " 5   count_7_days        370449 non-null  float64\n",
      " 6   count_30_days       370449 non-null  float64\n",
      " 7   gender_M            370449 non-null  float64\n",
      " 8   dist_haversine      370449 non-null  float64\n",
      " 9   age                 370449 non-null  float64\n",
      " 10  cat_entertainment   370449 non-null  float64\n",
      " 11  cat_food_dining     370449 non-null  float64\n",
      " 12  cat_gas_transport   370449 non-null  float64\n",
      " 13  cat_grocery_net     370449 non-null  float64\n",
      " 14  cat_grocery_pos     370449 non-null  float64\n",
      " 15  cat_health_fitness  370449 non-null  float64\n",
      " 16  cat_home            370449 non-null  float64\n",
      " 17  cat_kids_pets       370449 non-null  float64\n",
      " 18  cat_misc_net        370449 non-null  float64\n",
      " 19  cat_misc_pos        370449 non-null  float64\n",
      " 20  cat_personal_care   370449 non-null  float64\n",
      " 21  cat_shopping_net    370449 non-null  float64\n",
      " 22  cat_shopping_pos    370449 non-null  float64\n",
      " 23  cat_travel          370449 non-null  float64\n",
      " 24  day_Friday          370449 non-null  float64\n",
      " 25  day_Monday          370449 non-null  float64\n",
      " 26  day_Saturday        370449 non-null  float64\n",
      " 27  day_Sunday          370449 non-null  float64\n",
      " 28  day_Thursday        370449 non-null  float64\n",
      " 29  day_Tuesday         370449 non-null  float64\n",
      " 30  day_Wednesday       370449 non-null  float64\n",
      "dtypes: float64(31)\n",
      "memory usage: 90.4 MB\n"
     ]
    }
   ],
   "source": [
    "X_test.info()"
   ]
  },
  {
   "cell_type": "code",
   "execution_count": 5,
   "id": "6744ad0e",
   "metadata": {},
   "outputs": [
    {
     "name": "stdout",
     "output_type": "stream",
     "text": [
      "<class 'pandas.core.frame.DataFrame'>\n",
      "Int64Index: 1481794 entries, 572842 to 269493\n",
      "Data columns (total 1 columns):\n",
      " #   Column    Non-Null Count    Dtype\n",
      "---  ------    --------------    -----\n",
      " 0   is_fraud  1481794 non-null  int64\n",
      "dtypes: int64(1)\n",
      "memory usage: 22.6 MB\n"
     ]
    }
   ],
   "source": [
    "y_train.info()"
   ]
  },
  {
   "cell_type": "code",
   "execution_count": 6,
   "id": "c9f69e64",
   "metadata": {
    "scrolled": true
   },
   "outputs": [
    {
     "name": "stdout",
     "output_type": "stream",
     "text": [
      "<class 'pandas.core.frame.DataFrame'>\n",
      "Int64Index: 370449 entries, 1634393 to 1228030\n",
      "Data columns (total 1 columns):\n",
      " #   Column    Non-Null Count   Dtype\n",
      "---  ------    --------------   -----\n",
      " 0   is_fraud  370449 non-null  int64\n",
      "dtypes: int64(1)\n",
      "memory usage: 5.7 MB\n"
     ]
    }
   ],
   "source": [
    "y_test.info()"
   ]
  },
  {
   "cell_type": "code",
   "execution_count": 7,
   "id": "d3dab433",
   "metadata": {},
   "outputs": [
    {
     "data": {
      "text/plain": [
       "is_fraud\n",
       "0           1474073\n",
       "1              7721\n",
       "dtype: int64"
      ]
     },
     "execution_count": 7,
     "metadata": {},
     "output_type": "execute_result"
    }
   ],
   "source": [
    "y_train.value_counts()"
   ]
  },
  {
   "cell_type": "code",
   "execution_count": 8,
   "id": "c3f70f4d",
   "metadata": {},
   "outputs": [
    {
     "data": {
      "text/plain": [
       "is_fraud\n",
       "0           368519\n",
       "1             1930\n",
       "dtype: int64"
      ]
     },
     "execution_count": 8,
     "metadata": {},
     "output_type": "execute_result"
    }
   ],
   "source": [
    "y_test.value_counts()"
   ]
  },
  {
   "cell_type": "markdown",
   "id": "dfc77f33",
   "metadata": {},
   "source": [
    "## Resampling"
   ]
  },
  {
   "cell_type": "markdown",
   "id": "e70ad5b2",
   "metadata": {},
   "source": [
    "First, we'll create a dataframe with the counts of observations in X_train, y_train, as well as the counts of each class of the target variable \"is_fraud\"."
   ]
  },
  {
   "cell_type": "code",
   "execution_count": 9,
   "id": "6857814b",
   "metadata": {},
   "outputs": [
    {
     "data": {
      "text/html": [
       "<div>\n",
       "<style scoped>\n",
       "    .dataframe tbody tr th:only-of-type {\n",
       "        vertical-align: middle;\n",
       "    }\n",
       "\n",
       "    .dataframe tbody tr th {\n",
       "        vertical-align: top;\n",
       "    }\n",
       "\n",
       "    .dataframe thead th {\n",
       "        text-align: right;\n",
       "    }\n",
       "</style>\n",
       "<table border=\"1\" class=\"dataframe\">\n",
       "  <thead>\n",
       "    <tr style=\"text-align: right;\">\n",
       "      <th></th>\n",
       "      <th>technique</th>\n",
       "      <th>X_train_shape</th>\n",
       "      <th>y_train_shape</th>\n",
       "      <th>is_fraud_0</th>\n",
       "      <th>is_fraud_1</th>\n",
       "    </tr>\n",
       "  </thead>\n",
       "  <tbody>\n",
       "    <tr>\n",
       "      <th>0</th>\n",
       "      <td>Original Data</td>\n",
       "      <td>1481794</td>\n",
       "      <td>1481794</td>\n",
       "      <td>1474073</td>\n",
       "      <td>7721</td>\n",
       "    </tr>\n",
       "  </tbody>\n",
       "</table>\n",
       "</div>"
      ],
      "text/plain": [
       "       technique  X_train_shape  y_train_shape  is_fraud_0  is_fraud_1\n",
       "0  Original Data        1481794        1481794     1474073        7721"
      ]
     },
     "execution_count": 9,
     "metadata": {},
     "output_type": "execute_result"
    }
   ],
   "source": [
    "counts_table = pd.DataFrame()\n",
    "\n",
    "counts_table['technique'] = ['Original Data']\n",
    "counts_table['X_train_shape'] = [X_train.shape[0]]\n",
    "counts_table['y_train_shape'] = [y_train.shape[0]]\n",
    "counts_table['is_fraud_0'] = [y_train.value_counts()[0]]\n",
    "counts_table['is_fraud_1'] = [y_train.value_counts()[1]]\n",
    "\n",
    "counts_table"
   ]
  },
  {
   "cell_type": "markdown",
   "id": "ad4384ed",
   "metadata": {},
   "source": [
    "#### Undersampling\n",
    "\n",
    "We'll create new variables for X_train, y_train after they have been undersampled using RandomUnderSampler."
   ]
  },
  {
   "cell_type": "code",
   "execution_count": 10,
   "id": "f082eb01",
   "metadata": {},
   "outputs": [],
   "source": [
    "from imblearn.under_sampling import RandomUnderSampler\n",
    "\n",
    "rus = RandomUnderSampler(random_state=42, replacement=True)\n",
    "\n",
    "X_train_rus, y_train_rus = rus.fit_sample(X_train, y_train)"
   ]
  },
  {
   "cell_type": "markdown",
   "id": "8dc2d1f1",
   "metadata": {},
   "source": [
    "Next, we'll create a new row in our counts_table dataframe and append the counts."
   ]
  },
  {
   "cell_type": "code",
   "execution_count": 11,
   "id": "6f0e0e42",
   "metadata": {},
   "outputs": [
    {
     "data": {
      "text/html": [
       "<div>\n",
       "<style scoped>\n",
       "    .dataframe tbody tr th:only-of-type {\n",
       "        vertical-align: middle;\n",
       "    }\n",
       "\n",
       "    .dataframe tbody tr th {\n",
       "        vertical-align: top;\n",
       "    }\n",
       "\n",
       "    .dataframe thead th {\n",
       "        text-align: right;\n",
       "    }\n",
       "</style>\n",
       "<table border=\"1\" class=\"dataframe\">\n",
       "  <thead>\n",
       "    <tr style=\"text-align: right;\">\n",
       "      <th></th>\n",
       "      <th>technique</th>\n",
       "      <th>X_train_shape</th>\n",
       "      <th>y_train_shape</th>\n",
       "      <th>is_fraud_0</th>\n",
       "      <th>is_fraud_1</th>\n",
       "    </tr>\n",
       "  </thead>\n",
       "  <tbody>\n",
       "    <tr>\n",
       "      <th>0</th>\n",
       "      <td>Original Data</td>\n",
       "      <td>1481794</td>\n",
       "      <td>1481794</td>\n",
       "      <td>1474073</td>\n",
       "      <td>7721</td>\n",
       "    </tr>\n",
       "    <tr>\n",
       "      <th>1</th>\n",
       "      <td>Random Under Sampling</td>\n",
       "      <td>15442</td>\n",
       "      <td>15442</td>\n",
       "      <td>7721</td>\n",
       "      <td>7721</td>\n",
       "    </tr>\n",
       "  </tbody>\n",
       "</table>\n",
       "</div>"
      ],
      "text/plain": [
       "               technique  X_train_shape  y_train_shape  is_fraud_0  is_fraud_1\n",
       "0          Original Data        1481794        1481794     1474073        7721\n",
       "1  Random Under Sampling          15442          15442        7721        7721"
      ]
     },
     "execution_count": 11,
     "metadata": {},
     "output_type": "execute_result"
    }
   ],
   "source": [
    "new_row = {'technique':'Random Under Sampling', \n",
    "           'X_train_shape': X_train_rus.shape[0],\n",
    "          'y_train_shape': y_train_rus.shape[0],\n",
    "           'is_fraud_0': y_train_rus.value_counts()[0],\n",
    "          'is_fraud_1': y_train_rus.value_counts()[1]}\n",
    "\n",
    "counts_table = counts_table.append(new_row, ignore_index=True)\n",
    "counts_table"
   ]
  },
  {
   "cell_type": "markdown",
   "id": "6b01a8cd",
   "metadata": {},
   "source": [
    "#### Oversampling\n",
    "\n",
    "We'll create new variables for X_train, y_train after they have been oversampled using RandomOversampler."
   ]
  },
  {
   "cell_type": "code",
   "execution_count": 12,
   "id": "2a9be74f",
   "metadata": {},
   "outputs": [],
   "source": [
    "from imblearn.over_sampling import RandomOverSampler\n",
    "\n",
    "ros = RandomOverSampler(random_state=42)\n",
    "\n",
    "X_train_ros, y_train_ros = ros.fit_sample(X_train, y_train)"
   ]
  },
  {
   "cell_type": "code",
   "execution_count": 13,
   "id": "d25903c9",
   "metadata": {},
   "outputs": [
    {
     "data": {
      "text/html": [
       "<div>\n",
       "<style scoped>\n",
       "    .dataframe tbody tr th:only-of-type {\n",
       "        vertical-align: middle;\n",
       "    }\n",
       "\n",
       "    .dataframe tbody tr th {\n",
       "        vertical-align: top;\n",
       "    }\n",
       "\n",
       "    .dataframe thead th {\n",
       "        text-align: right;\n",
       "    }\n",
       "</style>\n",
       "<table border=\"1\" class=\"dataframe\">\n",
       "  <thead>\n",
       "    <tr style=\"text-align: right;\">\n",
       "      <th></th>\n",
       "      <th>technique</th>\n",
       "      <th>X_train_shape</th>\n",
       "      <th>y_train_shape</th>\n",
       "      <th>is_fraud_0</th>\n",
       "      <th>is_fraud_1</th>\n",
       "    </tr>\n",
       "  </thead>\n",
       "  <tbody>\n",
       "    <tr>\n",
       "      <th>0</th>\n",
       "      <td>Original Data</td>\n",
       "      <td>1481794</td>\n",
       "      <td>1481794</td>\n",
       "      <td>1474073</td>\n",
       "      <td>7721</td>\n",
       "    </tr>\n",
       "    <tr>\n",
       "      <th>1</th>\n",
       "      <td>Random Under Sampling</td>\n",
       "      <td>15442</td>\n",
       "      <td>15442</td>\n",
       "      <td>7721</td>\n",
       "      <td>7721</td>\n",
       "    </tr>\n",
       "    <tr>\n",
       "      <th>2</th>\n",
       "      <td>Random Over Sampling</td>\n",
       "      <td>2948146</td>\n",
       "      <td>2948146</td>\n",
       "      <td>1474073</td>\n",
       "      <td>1474073</td>\n",
       "    </tr>\n",
       "  </tbody>\n",
       "</table>\n",
       "</div>"
      ],
      "text/plain": [
       "               technique  X_train_shape  y_train_shape  is_fraud_0  is_fraud_1\n",
       "0          Original Data        1481794        1481794     1474073        7721\n",
       "1  Random Under Sampling          15442          15442        7721        7721\n",
       "2   Random Over Sampling        2948146        2948146     1474073     1474073"
      ]
     },
     "execution_count": 13,
     "metadata": {},
     "output_type": "execute_result"
    }
   ],
   "source": [
    "new_row = {'technique':'Random Over Sampling', \n",
    "           'X_train_shape': X_train_ros.shape[0],\n",
    "          'y_train_shape': y_train_ros.shape[0],\n",
    "           'is_fraud_0': y_train_ros.value_counts()[0],\n",
    "          'is_fraud_1': y_train_ros.value_counts()[1]}\n",
    "\n",
    "counts_table = counts_table.append(new_row, ignore_index=True)\n",
    "counts_table"
   ]
  },
  {
   "cell_type": "markdown",
   "id": "d298115d",
   "metadata": {},
   "source": [
    "#### SMOTE\n",
    "\n",
    "We'll create new variables for X_train, y_train after SMOTE"
   ]
  },
  {
   "cell_type": "code",
   "execution_count": 14,
   "id": "608a3022",
   "metadata": {},
   "outputs": [],
   "source": [
    "from imblearn.over_sampling import SMOTE\n",
    "\n",
    "smote = SMOTE(random_state=42, sampling_strategy = 'minority')\n",
    "\n",
    "X_train_sm, y_train_sm = smote.fit_sample(X_train, y_train)"
   ]
  },
  {
   "cell_type": "code",
   "execution_count": 15,
   "id": "9e3c37d8",
   "metadata": {
    "scrolled": true
   },
   "outputs": [
    {
     "data": {
      "text/html": [
       "<div>\n",
       "<style scoped>\n",
       "    .dataframe tbody tr th:only-of-type {\n",
       "        vertical-align: middle;\n",
       "    }\n",
       "\n",
       "    .dataframe tbody tr th {\n",
       "        vertical-align: top;\n",
       "    }\n",
       "\n",
       "    .dataframe thead th {\n",
       "        text-align: right;\n",
       "    }\n",
       "</style>\n",
       "<table border=\"1\" class=\"dataframe\">\n",
       "  <thead>\n",
       "    <tr style=\"text-align: right;\">\n",
       "      <th></th>\n",
       "      <th>technique</th>\n",
       "      <th>X_train_shape</th>\n",
       "      <th>y_train_shape</th>\n",
       "      <th>is_fraud_0</th>\n",
       "      <th>is_fraud_1</th>\n",
       "    </tr>\n",
       "  </thead>\n",
       "  <tbody>\n",
       "    <tr>\n",
       "      <th>0</th>\n",
       "      <td>Original Data</td>\n",
       "      <td>1481794</td>\n",
       "      <td>1481794</td>\n",
       "      <td>1474073</td>\n",
       "      <td>7721</td>\n",
       "    </tr>\n",
       "    <tr>\n",
       "      <th>1</th>\n",
       "      <td>Random Under Sampling</td>\n",
       "      <td>15442</td>\n",
       "      <td>15442</td>\n",
       "      <td>7721</td>\n",
       "      <td>7721</td>\n",
       "    </tr>\n",
       "    <tr>\n",
       "      <th>2</th>\n",
       "      <td>Random Over Sampling</td>\n",
       "      <td>2948146</td>\n",
       "      <td>2948146</td>\n",
       "      <td>1474073</td>\n",
       "      <td>1474073</td>\n",
       "    </tr>\n",
       "    <tr>\n",
       "      <th>3</th>\n",
       "      <td>SMOTE - minority</td>\n",
       "      <td>2948146</td>\n",
       "      <td>2948146</td>\n",
       "      <td>1474073</td>\n",
       "      <td>1474073</td>\n",
       "    </tr>\n",
       "  </tbody>\n",
       "</table>\n",
       "</div>"
      ],
      "text/plain": [
       "               technique  X_train_shape  y_train_shape  is_fraud_0  is_fraud_1\n",
       "0          Original Data        1481794        1481794     1474073        7721\n",
       "1  Random Under Sampling          15442          15442        7721        7721\n",
       "2   Random Over Sampling        2948146        2948146     1474073     1474073\n",
       "3       SMOTE - minority        2948146        2948146     1474073     1474073"
      ]
     },
     "execution_count": 15,
     "metadata": {},
     "output_type": "execute_result"
    }
   ],
   "source": [
    "new_row = {'technique':'SMOTE - minority', \n",
    "           'X_train_shape': X_train_sm.shape[0],\n",
    "          'y_train_shape': y_train_sm.shape[0],\n",
    "           'is_fraud_0': y_train_sm.value_counts()[0],\n",
    "          'is_fraud_1': y_train_sm.value_counts()[1]}\n",
    "\n",
    "counts_table = counts_table.append(new_row, ignore_index=True)\n",
    "counts_table"
   ]
  },
  {
   "cell_type": "markdown",
   "id": "9fabf742",
   "metadata": {},
   "source": [
    "Convert dataframes to numpy arrays."
   ]
  },
  {
   "cell_type": "code",
   "execution_count": 16,
   "id": "1424e6f8",
   "metadata": {},
   "outputs": [],
   "source": [
    "X_train_np = X_train.to_numpy()\n",
    "y_train_np = y_train.to_numpy().ravel()\n",
    "X_train_rus_np = X_train_rus.to_numpy()\n",
    "y_train_rus_np = y_train_rus.to_numpy().ravel()\n",
    "X_train_ros_np = X_train_ros.to_numpy()\n",
    "y_train_ros_np = y_train_ros.to_numpy().ravel()\n",
    "X_train_sm_np = X_train_sm.to_numpy()\n",
    "y_train_sm_np = y_train_sm.to_numpy().ravel()\n",
    "\n",
    "X_test_np = X_test.to_numpy()\n",
    "y_test_np = y_test.to_numpy().ravel()"
   ]
  },
  {
   "cell_type": "code",
   "execution_count": 17,
   "id": "b58b4e43",
   "metadata": {},
   "outputs": [
    {
     "name": "stdout",
     "output_type": "stream",
     "text": [
      "(1481794, 31) (1481794,)\n",
      "(15442, 31) (15442,)\n",
      "(2948146, 31) (2948146,)\n",
      "(2948146, 31) (2948146,)\n"
     ]
    }
   ],
   "source": [
    "print(X_train_np.shape, y_train_np.shape)\n",
    "print(X_train_rus_np.shape, y_train_rus_np.shape)\n",
    "print(X_train_ros_np.shape, y_train_ros_np.shape)\n",
    "print(X_train_sm_np.shape, y_train_sm_np.shape)"
   ]
  },
  {
   "cell_type": "markdown",
   "id": "ec28d34e",
   "metadata": {},
   "source": [
    "## Setting up table for model metric comparison"
   ]
  },
  {
   "cell_type": "code",
   "execution_count": 18,
   "id": "5d668d6d",
   "metadata": {},
   "outputs": [],
   "source": [
    "column_names = [\"Algorithm\", \"Class Balancing\", \"Train Precision\", \"Train Recall\", \"Train f1\", \"Train Support\", \"Test Precision\", \"Test Recall\", \"Test f1\", \"Test Support\"]\n",
    "\n",
    "metrics = pd.DataFrame(columns = column_names)"
   ]
  },
  {
   "cell_type": "markdown",
   "id": "25eafc51",
   "metadata": {},
   "source": [
    "We'll define a function that will take metrics from classification report and add them to this table."
   ]
  },
  {
   "cell_type": "code",
   "execution_count": 19,
   "id": "84ef1fbf",
   "metadata": {},
   "outputs": [],
   "source": [
    "def add_metrics(algorithm, class_balancing, train_report, test_report):\n",
    "    new_row = {'Algorithm':algorithm,\n",
    "              'Class Balancing':class_balancing,\n",
    "              'Train Precision': train_report['fraud']['precision'],\n",
    "              'Train Recall': train_report['fraud']['recall'],\n",
    "              'Train f1': train_report['fraud']['f1-score'],\n",
    "              'Train Support': train_report['fraud']['support'],\n",
    "              'Test Precision': test_report['fraud']['precision'],\n",
    "              'Test Recall': test_report['fraud']['recall'],\n",
    "              'Test f1': test_report['fraud']['f1-score'],\n",
    "              'Test Support': test_report['fraud']['support']}\n",
    "    \n",
    "    global metrics\n",
    "    \n",
    "    metrics = metrics.append(new_row, ignore_index = True)"
   ]
  },
  {
   "cell_type": "markdown",
   "id": "69457372",
   "metadata": {},
   "source": [
    "## Algorithm 1: Logistic Regression"
   ]
  },
  {
   "cell_type": "markdown",
   "id": "34d42392",
   "metadata": {},
   "source": [
    "### 1a) with Random Under Sampling\n",
    "We'll begin by applying a baseline logistic regression to the random UNDER sampled data."
   ]
  },
  {
   "cell_type": "code",
   "execution_count": 20,
   "id": "b8d442bd",
   "metadata": {},
   "outputs": [],
   "source": [
    "from sklearn.linear_model import LogisticRegression\n",
    "\n",
    "lr_rus = LogisticRegression(solver = 'saga', random_state=42)\n",
    "# Fit the model on the trainng data.\n",
    "lr_rus.fit(X_train_rus_np, y_train_rus_np)\n",
    "\n",
    "y_pred_train_1a = lr_rus.predict(X_train_rus_np)\n",
    "y_pred_test_1a = lr_rus.predict(X_test_np)"
   ]
  },
  {
   "cell_type": "code",
   "execution_count": 21,
   "id": "5604e05b",
   "metadata": {},
   "outputs": [],
   "source": [
    "cm_1a_train = confusion_matrix(y_train_rus_np, y_pred_train_1a)\n",
    "cm_1a_test = confusion_matrix(y_test_np, y_pred_test_1a)"
   ]
  },
  {
   "cell_type": "code",
   "execution_count": 22,
   "id": "5e1ae3dc",
   "metadata": {},
   "outputs": [
    {
     "data": {
      "text/plain": [
       "Text(0.5, 1.0, 'LogisticRegression RUS - Testing confusion matrix')"
      ]
     },
     "execution_count": 22,
     "metadata": {},
     "output_type": "execute_result"
    },
    {
     "data": {
      "image/png": "[encoded data removed]",
      "text/plain": [
       "<Figure size 864x360 with 4 Axes>"
      ]
     },
     "metadata": {
      "needs_background": "light"
     },
     "output_type": "display_data"
    }
   ],
   "source": [
    "fig, ax = plt.subplots(1,2, figsize=(12,5))\n",
    "sns.heatmap(cm_1a_train, annot=True, fmt = '', cmap = 'Blues',ax = ax[0])\n",
    "ax[0].set_xlabel('Predicted label')\n",
    "ax[0].set_ylabel('True label')\n",
    "ax[0].set_title('LogisticRegression RUS - Training confusion matrix')\n",
    "\n",
    "sns.heatmap(cm_1a_test, annot=True, fmt = '', cmap = 'Reds',ax = ax[1])\n",
    "ax[1].set_xlabel('Predicted label')\n",
    "ax[1].set_ylabel('True label')\n",
    "ax[1].set_title('LogisticRegression RUS - Testing confusion matrix')"
   ]
  },
  {
   "cell_type": "code",
   "execution_count": 23,
   "id": "a5a784dc",
   "metadata": {
    "scrolled": false
   },
   "outputs": [
    {
     "name": "stdout",
     "output_type": "stream",
     "text": [
      "[Training Classification Report]\n",
      "              precision    recall  f1-score   support\n",
      "\n",
      "       valid       0.87      0.90      0.89      7721\n",
      "       fraud       0.90      0.86      0.88      7721\n",
      "\n",
      "    accuracy                           0.88     15442\n",
      "   macro avg       0.88      0.88      0.88     15442\n",
      "weighted avg       0.88      0.88      0.88     15442\n",
      "\n",
      "[Test Classification Report]\n",
      "              precision    recall  f1-score   support\n",
      "\n",
      "       valid       1.00      0.90      0.95    368519\n",
      "       fraud       0.04      0.86      0.08      1930\n",
      "\n",
      "    accuracy                           0.90    370449\n",
      "   macro avg       0.52      0.88      0.51    370449\n",
      "weighted avg       0.99      0.90      0.94    370449\n",
      "\n"
     ]
    }
   ],
   "source": [
    "from sklearn.metrics import classification_report\n",
    "\n",
    "target_names = ['valid', 'fraud']\n",
    "\n",
    "print(\"[Training Classification Report]\")\n",
    "print(classification_report(y_train_rus_np, y_pred_train_1a, target_names=target_names))\n",
    "\n",
    "print(\"[Test Classification Report]\")\n",
    "print(classification_report(y_test_np, y_pred_test_1a, target_names=target_names))"
   ]
  },
  {
   "cell_type": "markdown",
   "id": "bd056e00",
   "metadata": {},
   "source": [
    "Create dictionary versions of classification reports and add them to metrics dataframe"
   ]
  },
  {
   "cell_type": "code",
   "execution_count": 24,
   "id": "6f07e54b",
   "metadata": {},
   "outputs": [
    {
     "data": {
      "text/html": [
       "<div>\n",
       "<style scoped>\n",
       "    .dataframe tbody tr th:only-of-type {\n",
       "        vertical-align: middle;\n",
       "    }\n",
       "\n",
       "    .dataframe tbody tr th {\n",
       "        vertical-align: top;\n",
       "    }\n",
       "\n",
       "    .dataframe thead th {\n",
       "        text-align: right;\n",
       "    }\n",
       "</style>\n",
       "<table border=\"1\" class=\"dataframe\">\n",
       "  <thead>\n",
       "    <tr style=\"text-align: right;\">\n",
       "      <th></th>\n",
       "      <th>Algorithm</th>\n",
       "      <th>Class Balancing</th>\n",
       "      <th>Train Precision</th>\n",
       "      <th>Train Recall</th>\n",
       "      <th>Train f1</th>\n",
       "      <th>Train Support</th>\n",
       "      <th>Test Precision</th>\n",
       "      <th>Test Recall</th>\n",
       "      <th>Test f1</th>\n",
       "      <th>Test Support</th>\n",
       "    </tr>\n",
       "  </thead>\n",
       "  <tbody>\n",
       "    <tr>\n",
       "      <th>0</th>\n",
       "      <td>Logistic Regression</td>\n",
       "      <td>Random Under Sampling</td>\n",
       "      <td>0.900475</td>\n",
       "      <td>0.860122</td>\n",
       "      <td>0.879836</td>\n",
       "      <td>7721</td>\n",
       "      <td>0.043136</td>\n",
       "      <td>0.859067</td>\n",
       "      <td>0.082146</td>\n",
       "      <td>1930</td>\n",
       "    </tr>\n",
       "  </tbody>\n",
       "</table>\n",
       "</div>"
      ],
      "text/plain": [
       "             Algorithm        Class Balancing  Train Precision  Train Recall  \\\n",
       "0  Logistic Regression  Random Under Sampling         0.900475      0.860122   \n",
       "\n",
       "   Train f1 Train Support  Test Precision  Test Recall   Test f1 Test Support  \n",
       "0  0.879836          7721        0.043136     0.859067  0.082146         1930  "
      ]
     },
     "execution_count": 24,
     "metadata": {},
     "output_type": "execute_result"
    }
   ],
   "source": [
    "train_report_1a = classification_report(y_train_rus_np, y_pred_train_1a, target_names=target_names, output_dict = True)\n",
    "test_report_1a = classification_report(y_test_np, y_pred_test_1a, target_names=target_names, output_dict = True)\n",
    "\n",
    "add_metrics('Logistic Regression', 'Random Under Sampling', train_report_1a, test_report_1a)\n",
    "metrics"
   ]
  },
  {
   "cell_type": "markdown",
   "id": "94ef657d",
   "metadata": {},
   "source": [
    "### 1b) with Random Over Sampling"
   ]
  },
  {
   "cell_type": "code",
   "execution_count": 25,
   "id": "a95739ff",
   "metadata": {},
   "outputs": [],
   "source": [
    "lr_ros = LogisticRegression(solver = 'saga', random_state=42)\n",
    "# Fit the model on the trainng data.\n",
    "lr_ros.fit(X_train_ros_np, y_train_ros_np)\n",
    "\n",
    "y_pred_train_1b = lr_ros.predict(X_train_ros_np)\n",
    "y_pred_test_1b = lr_ros.predict(X_test_np)"
   ]
  },
  {
   "cell_type": "code",
   "execution_count": 26,
   "id": "575a37f2",
   "metadata": {},
   "outputs": [],
   "source": [
    "cm_1b_train = confusion_matrix(y_train_ros_np,y_pred_train_1b)\n",
    "cm_1b_test = confusion_matrix(y_test_np,y_pred_test_1b)"
   ]
  },
  {
   "cell_type": "code",
   "execution_count": 27,
   "id": "9f34f187",
   "metadata": {},
   "outputs": [
    {
     "data": {
      "text/plain": [
       "Text(0.5, 1.0, 'LogisticRegression ROS - Testing confusion matrix')"
      ]
     },
     "execution_count": 27,
     "metadata": {},
     "output_type": "execute_result"
    },
    {
     "data": {
      "image/png": "[encoded data removed]",
      "text/plain": [
       "<Figure size 864x360 with 4 Axes>"
      ]
     },
     "metadata": {
      "needs_background": "light"
     },
     "output_type": "display_data"
    }
   ],
   "source": [
    "fig, ax = plt.subplots(1,2, figsize=(12,5))\n",
    "sns.heatmap(cm_1b_train, annot=True, fmt = '', cmap = 'Blues',ax = ax[0])\n",
    "ax[0].set_xlabel('Predicted label')\n",
    "ax[0].set_ylabel('True label')\n",
    "ax[0].set_title('LogisticRegression ROS - Training confusion matrix')\n",
    "\n",
    "sns.heatmap(cm_1b_test, annot=True, fmt = '', cmap = 'Reds',ax = ax[1])\n",
    "ax[1].set_xlabel('Predicted label')\n",
    "ax[1].set_ylabel('True label')\n",
    "ax[1].set_title('LogisticRegression ROS - Testing confusion matrix')"
   ]
  },
  {
   "cell_type": "code",
   "execution_count": 28,
   "id": "dcb1c861",
   "metadata": {
    "scrolled": true
   },
   "outputs": [
    {
     "name": "stdout",
     "output_type": "stream",
     "text": [
      "[Training Classification Report]\n",
      "              precision    recall  f1-score   support\n",
      "\n",
      "       valid       0.86      0.90      0.88   1474073\n",
      "       fraud       0.90      0.86      0.88   1474073\n",
      "\n",
      "    accuracy                           0.88   2948146\n",
      "   macro avg       0.88      0.88      0.88   2948146\n",
      "weighted avg       0.88      0.88      0.88   2948146\n",
      "\n",
      "[Test Classification Report]\n",
      "              precision    recall  f1-score   support\n",
      "\n",
      "       valid       1.00      0.90      0.95    368519\n",
      "       fraud       0.04      0.85      0.08      1930\n",
      "\n",
      "    accuracy                           0.90    370449\n",
      "   macro avg       0.52      0.88      0.52    370449\n",
      "weighted avg       0.99      0.90      0.94    370449\n",
      "\n"
     ]
    }
   ],
   "source": [
    "target_names = ['valid', 'fraud']\n",
    "\n",
    "print(\"[Training Classification Report]\")\n",
    "print(classification_report(y_train_ros_np, y_pred_train_1b, target_names=target_names))\n",
    "\n",
    "print(\"[Test Classification Report]\")\n",
    "print(classification_report(y_test_np, y_pred_test_1b, target_names=target_names))"
   ]
  },
  {
   "cell_type": "markdown",
   "id": "04483fe5",
   "metadata": {},
   "source": [
    "Create dictionary versions of classification reports and add them to metrics dataframe"
   ]
  },
  {
   "cell_type": "code",
   "execution_count": 29,
   "id": "e7574490",
   "metadata": {
    "scrolled": true
   },
   "outputs": [
    {
     "data": {
      "text/html": [
       "<div>\n",
       "<style scoped>\n",
       "    .dataframe tbody tr th:only-of-type {\n",
       "        vertical-align: middle;\n",
       "    }\n",
       "\n",
       "    .dataframe tbody tr th {\n",
       "        vertical-align: top;\n",
       "    }\n",
       "\n",
       "    .dataframe thead th {\n",
       "        text-align: right;\n",
       "    }\n",
       "</style>\n",
       "<table border=\"1\" class=\"dataframe\">\n",
       "  <thead>\n",
       "    <tr style=\"text-align: right;\">\n",
       "      <th></th>\n",
       "      <th>Algorithm</th>\n",
       "      <th>Class Balancing</th>\n",
       "      <th>Train Precision</th>\n",
       "      <th>Train Recall</th>\n",
       "      <th>Train f1</th>\n",
       "      <th>Train Support</th>\n",
       "      <th>Test Precision</th>\n",
       "      <th>Test Recall</th>\n",
       "      <th>Test f1</th>\n",
       "      <th>Test Support</th>\n",
       "    </tr>\n",
       "  </thead>\n",
       "  <tbody>\n",
       "    <tr>\n",
       "      <th>0</th>\n",
       "      <td>Logistic Regression</td>\n",
       "      <td>Random Under Sampling</td>\n",
       "      <td>0.900475</td>\n",
       "      <td>0.860122</td>\n",
       "      <td>0.879836</td>\n",
       "      <td>7721</td>\n",
       "      <td>0.043136</td>\n",
       "      <td>0.859067</td>\n",
       "      <td>0.082146</td>\n",
       "      <td>1930</td>\n",
       "    </tr>\n",
       "    <tr>\n",
       "      <th>1</th>\n",
       "      <td>Logistic Regression</td>\n",
       "      <td>Random Over Sampling</td>\n",
       "      <td>0.897946</td>\n",
       "      <td>0.858799</td>\n",
       "      <td>0.877937</td>\n",
       "      <td>1474073</td>\n",
       "      <td>0.043753</td>\n",
       "      <td>0.854404</td>\n",
       "      <td>0.083243</td>\n",
       "      <td>1930</td>\n",
       "    </tr>\n",
       "  </tbody>\n",
       "</table>\n",
       "</div>"
      ],
      "text/plain": [
       "             Algorithm        Class Balancing  Train Precision  Train Recall  \\\n",
       "0  Logistic Regression  Random Under Sampling         0.900475      0.860122   \n",
       "1  Logistic Regression   Random Over Sampling         0.897946      0.858799   \n",
       "\n",
       "   Train f1 Train Support  Test Precision  Test Recall   Test f1 Test Support  \n",
       "0  0.879836          7721        0.043136     0.859067  0.082146         1930  \n",
       "1  0.877937       1474073        0.043753     0.854404  0.083243         1930  "
      ]
     },
     "execution_count": 29,
     "metadata": {},
     "output_type": "execute_result"
    }
   ],
   "source": [
    "train_report_1b = classification_report(y_train_ros_np, y_pred_train_1b, target_names=target_names, output_dict = True)\n",
    "test_report_1b = classification_report(y_test_np, y_pred_test_1b, target_names=target_names, output_dict = True)\n",
    "\n",
    "add_metrics('Logistic Regression', 'Random Over Sampling', train_report_1b, test_report_1b)\n",
    "metrics"
   ]
  },
  {
   "cell_type": "markdown",
   "id": "4326f5b5",
   "metadata": {},
   "source": [
    "### 1c) with SMOTE"
   ]
  },
  {
   "cell_type": "code",
   "execution_count": 30,
   "id": "d062f247",
   "metadata": {},
   "outputs": [],
   "source": [
    "lr_sm = LogisticRegression(solver = 'saga', random_state=42)\n",
    "# Fit the model on the trainng data.\n",
    "lr_sm.fit(X_train_sm_np, y_train_sm_np)\n",
    "\n",
    "y_pred_train_1c = lr_sm.predict(X_train_sm_np)\n",
    "y_pred_test_1c = lr_sm.predict(X_test_np)"
   ]
  },
  {
   "cell_type": "code",
   "execution_count": 31,
   "id": "97592c0a",
   "metadata": {},
   "outputs": [],
   "source": [
    "cm_1c_train = confusion_matrix(y_train_sm_np,y_pred_train_1c)\n",
    "cm_1c_test = confusion_matrix(y_test_np,y_pred_test_1c)"
   ]
  },
  {
   "cell_type": "code",
   "execution_count": 32,
   "id": "ac1a40af",
   "metadata": {},
   "outputs": [
    {
     "data": {
      "text/plain": [
       "Text(0.5, 1.0, 'LogisticRegression SMOTE - Testing confusion matrix')"
      ]
     },
     "execution_count": 32,
     "metadata": {},
     "output_type": "execute_result"
    },
    {
     "data": {
      "image/png": "[encoded data removed]",
      "text/plain": [
       "<Figure size 864x360 with 4 Axes>"
      ]
     },
     "metadata": {
      "needs_background": "light"
     },
     "output_type": "display_data"
    }
   ],
   "source": [
    "fig, ax = plt.subplots(1,2, figsize=(12,5))\n",
    "sns.heatmap(cm_1c_train, annot=True, fmt = '', cmap = 'Blues',ax = ax[0])\n",
    "ax[0].set_xlabel('Predicted label')\n",
    "ax[0].set_ylabel('True label')\n",
    "ax[0].set_title('LogisticRegression SMOTE - Training confusion matrix')\n",
    "\n",
    "sns.heatmap(cm_1c_test, annot=True, fmt = '', cmap = 'Reds',ax = ax[1])\n",
    "ax[1].set_xlabel('Predicted label')\n",
    "ax[1].set_ylabel('True label')\n",
    "ax[1].set_title('LogisticRegression SMOTE - Testing confusion matrix')"
   ]
  },
  {
   "cell_type": "code",
   "execution_count": 33,
   "id": "49f42b4b",
   "metadata": {},
   "outputs": [
    {
     "name": "stdout",
     "output_type": "stream",
     "text": [
      "[Training Classification Report]\n",
      "              precision    recall  f1-score   support\n",
      "\n",
      "       valid       0.87      0.91      0.89   1474073\n",
      "       fraud       0.90      0.86      0.88   1474073\n",
      "\n",
      "    accuracy                           0.88   2948146\n",
      "   macro avg       0.89      0.88      0.88   2948146\n",
      "weighted avg       0.89      0.88      0.88   2948146\n",
      "\n",
      "[Test Classification Report]\n",
      "              precision    recall  f1-score   support\n",
      "\n",
      "       valid       1.00      0.91      0.95    368519\n",
      "       fraud       0.05      0.85      0.09      1930\n",
      "\n",
      "    accuracy                           0.90    370449\n",
      "   macro avg       0.52      0.88      0.52    370449\n",
      "weighted avg       0.99      0.90      0.95    370449\n",
      "\n"
     ]
    }
   ],
   "source": [
    "target_names = ['valid', 'fraud']\n",
    "\n",
    "print(\"[Training Classification Report]\")\n",
    "print(classification_report(y_train_sm_np, y_pred_train_1c, target_names=target_names))\n",
    "\n",
    "print(\"[Test Classification Report]\")\n",
    "print(classification_report(y_test_np, y_pred_test_1c, target_names=target_names))"
   ]
  },
  {
   "cell_type": "markdown",
   "id": "bdf51f00",
   "metadata": {},
   "source": [
    "Create dictionary versions of classification reports and add them to metrics dataframe"
   ]
  },
  {
   "cell_type": "code",
   "execution_count": 34,
   "id": "012341ed",
   "metadata": {},
   "outputs": [
    {
     "data": {
      "text/html": [
       "<div>\n",
       "<style scoped>\n",
       "    .dataframe tbody tr th:only-of-type {\n",
       "        vertical-align: middle;\n",
       "    }\n",
       "\n",
       "    .dataframe tbody tr th {\n",
       "        vertical-align: top;\n",
       "    }\n",
       "\n",
       "    .dataframe thead th {\n",
       "        text-align: right;\n",
       "    }\n",
       "</style>\n",
       "<table border=\"1\" class=\"dataframe\">\n",
       "  <thead>\n",
       "    <tr style=\"text-align: right;\">\n",
       "      <th></th>\n",
       "      <th>Algorithm</th>\n",
       "      <th>Class Balancing</th>\n",
       "      <th>Train Precision</th>\n",
       "      <th>Train Recall</th>\n",
       "      <th>Train f1</th>\n",
       "      <th>Train Support</th>\n",
       "      <th>Test Precision</th>\n",
       "      <th>Test Recall</th>\n",
       "      <th>Test f1</th>\n",
       "      <th>Test Support</th>\n",
       "    </tr>\n",
       "  </thead>\n",
       "  <tbody>\n",
       "    <tr>\n",
       "      <th>0</th>\n",
       "      <td>Logistic Regression</td>\n",
       "      <td>Random Under Sampling</td>\n",
       "      <td>0.900475</td>\n",
       "      <td>0.860122</td>\n",
       "      <td>0.879836</td>\n",
       "      <td>7721</td>\n",
       "      <td>0.043136</td>\n",
       "      <td>0.859067</td>\n",
       "      <td>0.082146</td>\n",
       "      <td>1930</td>\n",
       "    </tr>\n",
       "    <tr>\n",
       "      <th>1</th>\n",
       "      <td>Logistic Regression</td>\n",
       "      <td>Random Over Sampling</td>\n",
       "      <td>0.897946</td>\n",
       "      <td>0.858799</td>\n",
       "      <td>0.877937</td>\n",
       "      <td>1474073</td>\n",
       "      <td>0.043753</td>\n",
       "      <td>0.854404</td>\n",
       "      <td>0.083243</td>\n",
       "      <td>1930</td>\n",
       "    </tr>\n",
       "    <tr>\n",
       "      <th>2</th>\n",
       "      <td>Logistic Regression</td>\n",
       "      <td>SMOTE</td>\n",
       "      <td>0.900986</td>\n",
       "      <td>0.863715</td>\n",
       "      <td>0.881957</td>\n",
       "      <td>1474073</td>\n",
       "      <td>0.045073</td>\n",
       "      <td>0.854922</td>\n",
       "      <td>0.085632</td>\n",
       "      <td>1930</td>\n",
       "    </tr>\n",
       "  </tbody>\n",
       "</table>\n",
       "</div>"
      ],
      "text/plain": [
       "             Algorithm        Class Balancing  Train Precision  Train Recall  \\\n",
       "0  Logistic Regression  Random Under Sampling         0.900475      0.860122   \n",
       "1  Logistic Regression   Random Over Sampling         0.897946      0.858799   \n",
       "2  Logistic Regression                  SMOTE         0.900986      0.863715   \n",
       "\n",
       "   Train f1 Train Support  Test Precision  Test Recall   Test f1 Test Support  \n",
       "0  0.879836          7721        0.043136     0.859067  0.082146         1930  \n",
       "1  0.877937       1474073        0.043753     0.854404  0.083243         1930  \n",
       "2  0.881957       1474073        0.045073     0.854922  0.085632         1930  "
      ]
     },
     "execution_count": 34,
     "metadata": {},
     "output_type": "execute_result"
    }
   ],
   "source": [
    "train_report_1c = classification_report(y_train_sm_np, y_pred_train_1c, target_names=target_names, output_dict = True)\n",
    "test_report_1c = classification_report(y_test_np, y_pred_test_1c, target_names=target_names, output_dict = True)\n",
    "\n",
    "add_metrics('Logistic Regression', 'SMOTE', train_report_1c, test_report_1c)\n",
    "metrics"
   ]
  },
  {
   "cell_type": "markdown",
   "id": "91eddec1",
   "metadata": {},
   "source": [
    "### 1d) with class_weight = balanced"
   ]
  },
  {
   "cell_type": "code",
   "execution_count": 35,
   "id": "6f4453ba",
   "metadata": {},
   "outputs": [],
   "source": [
    "lr_cw = LogisticRegression(solver = 'saga', random_state=42, class_weight='balanced')\n",
    "# Fit the model on the trainng data.\n",
    "lr_cw.fit(X_train_np, y_train_np)\n",
    "\n",
    "y_pred_train_1d = lr_cw.predict(X_train_np)\n",
    "y_pred_test_1d = lr_cw.predict(X_test_np)"
   ]
  },
  {
   "cell_type": "code",
   "execution_count": 36,
   "id": "4432749c",
   "metadata": {},
   "outputs": [],
   "source": [
    "cm_1d_train = confusion_matrix(y_train_np,y_pred_train_1d)\n",
    "cm_1d_test = confusion_matrix(y_test_np,y_pred_test_1d)"
   ]
  },
  {
   "cell_type": "code",
   "execution_count": 37,
   "id": "23683f90",
   "metadata": {},
   "outputs": [
    {
     "data": {
      "text/plain": [
       "Text(0.5, 1.0, 'LogisticRegression class_weight - Testing confusion matrix')"
      ]
     },
     "execution_count": 37,
     "metadata": {},
     "output_type": "execute_result"
    },
    {
     "data": {
      "image/png": "[encoded data removed]",
      "text/plain": [
       "<Figure size 864x360 with 4 Axes>"
      ]
     },
     "metadata": {
      "needs_background": "light"
     },
     "output_type": "display_data"
    }
   ],
   "source": [
    "fig, ax = plt.subplots(1,2, figsize=(12,5))\n",
    "sns.heatmap(cm_1d_train, annot=True, fmt = '', cmap = 'Blues',ax = ax[0])\n",
    "ax[0].set_xlabel('Predicted label')\n",
    "ax[0].set_ylabel('True label')\n",
    "ax[0].set_title('LogisticRegression class_weight - Training confusion matrix')\n",
    "\n",
    "sns.heatmap(cm_1d_test, annot=True, fmt = '', cmap = 'Reds',ax = ax[1])\n",
    "ax[1].set_xlabel('Predicted label')\n",
    "ax[1].set_ylabel('True label')\n",
    "ax[1].set_title('LogisticRegression class_weight - Testing confusion matrix')"
   ]
  },
  {
   "cell_type": "code",
   "execution_count": 38,
   "id": "3e8f39a8",
   "metadata": {},
   "outputs": [
    {
     "name": "stdout",
     "output_type": "stream",
     "text": [
      "[Training Classification Report]\n",
      "              precision    recall  f1-score   support\n",
      "\n",
      "       valid       1.00      0.90      0.95   1474073\n",
      "       fraud       0.04      0.86      0.08      7721\n",
      "\n",
      "    accuracy                           0.90   1481794\n",
      "   macro avg       0.52      0.88      0.52   1481794\n",
      "weighted avg       0.99      0.90      0.94   1481794\n",
      "\n",
      "[Test Classification Report]\n",
      "              precision    recall  f1-score   support\n",
      "\n",
      "       valid       1.00      0.90      0.95    368519\n",
      "       fraud       0.04      0.85      0.08      1930\n",
      "\n",
      "    accuracy                           0.90    370449\n",
      "   macro avg       0.52      0.88      0.52    370449\n",
      "weighted avg       0.99      0.90      0.94    370449\n",
      "\n"
     ]
    }
   ],
   "source": [
    "target_names = ['valid', 'fraud']\n",
    "\n",
    "print(\"[Training Classification Report]\")\n",
    "print(classification_report(y_train_np, y_pred_train_1d, target_names=target_names))\n",
    "\n",
    "print(\"[Test Classification Report]\")\n",
    "print(classification_report(y_test_np, y_pred_test_1d, target_names=target_names))"
   ]
  },
  {
   "cell_type": "markdown",
   "id": "e3b73dd8",
   "metadata": {},
   "source": [
    "Create dictionary versions of classification reports and add them to metrics dataframe"
   ]
  },
  {
   "cell_type": "code",
   "execution_count": 39,
   "id": "64d19a9f",
   "metadata": {},
   "outputs": [
    {
     "data": {
      "text/html": [
       "<div>\n",
       "<style scoped>\n",
       "    .dataframe tbody tr th:only-of-type {\n",
       "        vertical-align: middle;\n",
       "    }\n",
       "\n",
       "    .dataframe tbody tr th {\n",
       "        vertical-align: top;\n",
       "    }\n",
       "\n",
       "    .dataframe thead th {\n",
       "        text-align: right;\n",
       "    }\n",
       "</style>\n",
       "<table border=\"1\" class=\"dataframe\">\n",
       "  <thead>\n",
       "    <tr style=\"text-align: right;\">\n",
       "      <th></th>\n",
       "      <th>Algorithm</th>\n",
       "      <th>Class Balancing</th>\n",
       "      <th>Train Precision</th>\n",
       "      <th>Train Recall</th>\n",
       "      <th>Train f1</th>\n",
       "      <th>Train Support</th>\n",
       "      <th>Test Precision</th>\n",
       "      <th>Test Recall</th>\n",
       "      <th>Test f1</th>\n",
       "      <th>Test Support</th>\n",
       "    </tr>\n",
       "  </thead>\n",
       "  <tbody>\n",
       "    <tr>\n",
       "      <th>0</th>\n",
       "      <td>Logistic Regression</td>\n",
       "      <td>Random Under Sampling</td>\n",
       "      <td>0.900475</td>\n",
       "      <td>0.860122</td>\n",
       "      <td>0.879836</td>\n",
       "      <td>7721</td>\n",
       "      <td>0.043136</td>\n",
       "      <td>0.859067</td>\n",
       "      <td>0.082146</td>\n",
       "      <td>1930</td>\n",
       "    </tr>\n",
       "    <tr>\n",
       "      <th>1</th>\n",
       "      <td>Logistic Regression</td>\n",
       "      <td>Random Over Sampling</td>\n",
       "      <td>0.897946</td>\n",
       "      <td>0.858799</td>\n",
       "      <td>0.877937</td>\n",
       "      <td>1474073</td>\n",
       "      <td>0.043753</td>\n",
       "      <td>0.854404</td>\n",
       "      <td>0.083243</td>\n",
       "      <td>1930</td>\n",
       "    </tr>\n",
       "    <tr>\n",
       "      <th>2</th>\n",
       "      <td>Logistic Regression</td>\n",
       "      <td>SMOTE</td>\n",
       "      <td>0.900986</td>\n",
       "      <td>0.863715</td>\n",
       "      <td>0.881957</td>\n",
       "      <td>1474073</td>\n",
       "      <td>0.045073</td>\n",
       "      <td>0.854922</td>\n",
       "      <td>0.085632</td>\n",
       "      <td>1930</td>\n",
       "    </tr>\n",
       "    <tr>\n",
       "      <th>3</th>\n",
       "      <td>Logistic Regression</td>\n",
       "      <td>Balanced weight</td>\n",
       "      <td>0.044084</td>\n",
       "      <td>0.858568</td>\n",
       "      <td>0.083862</td>\n",
       "      <td>7721</td>\n",
       "      <td>0.043811</td>\n",
       "      <td>0.854404</td>\n",
       "      <td>0.083348</td>\n",
       "      <td>1930</td>\n",
       "    </tr>\n",
       "  </tbody>\n",
       "</table>\n",
       "</div>"
      ],
      "text/plain": [
       "             Algorithm        Class Balancing  Train Precision  Train Recall  \\\n",
       "0  Logistic Regression  Random Under Sampling         0.900475      0.860122   \n",
       "1  Logistic Regression   Random Over Sampling         0.897946      0.858799   \n",
       "2  Logistic Regression                  SMOTE         0.900986      0.863715   \n",
       "3  Logistic Regression        Balanced weight         0.044084      0.858568   \n",
       "\n",
       "   Train f1 Train Support  Test Precision  Test Recall   Test f1 Test Support  \n",
       "0  0.879836          7721        0.043136     0.859067  0.082146         1930  \n",
       "1  0.877937       1474073        0.043753     0.854404  0.083243         1930  \n",
       "2  0.881957       1474073        0.045073     0.854922  0.085632         1930  \n",
       "3  0.083862          7721        0.043811     0.854404  0.083348         1930  "
      ]
     },
     "execution_count": 39,
     "metadata": {},
     "output_type": "execute_result"
    }
   ],
   "source": [
    "train_report_1d = classification_report(y_train_np, y_pred_train_1d, target_names=target_names, output_dict = True)\n",
    "test_report_1d = classification_report(y_test_np, y_pred_test_1d, target_names=target_names, output_dict = True)\n",
    "\n",
    "add_metrics('Logistic Regression', 'Balanced weight', train_report_1d, test_report_1d)\n",
    "metrics"
   ]
  },
  {
   "cell_type": "markdown",
   "id": "07589ed3",
   "metadata": {},
   "source": [
    "## Algorithm 2: Random Forest"
   ]
  },
  {
   "cell_type": "markdown",
   "id": "8cdfd588",
   "metadata": {},
   "source": [
    "### 2a) with Random Under Sampling"
   ]
  },
  {
   "cell_type": "code",
   "execution_count": 40,
   "id": "b8b23f0a",
   "metadata": {},
   "outputs": [],
   "source": [
    "from sklearn.ensemble import RandomForestClassifier\n",
    "\n",
    "rf_rus = RandomForestClassifier(random_state=42)\n",
    "rf_rus.fit(X_train_rus_np, y_train_rus_np)\n",
    "\n",
    "y_pred_train_2a = rf_rus.predict(X_train_rus_np)\n",
    "y_pred_test_2a = rf_rus.predict(X_test_np)"
   ]
  },
  {
   "cell_type": "code",
   "execution_count": 41,
   "id": "e43f3447",
   "metadata": {},
   "outputs": [],
   "source": [
    "cm_2a_train = confusion_matrix(y_train_rus_np,y_pred_train_2a)\n",
    "cm_2a_test = confusion_matrix(y_test_np,y_pred_test_2a)"
   ]
  },
  {
   "cell_type": "code",
   "execution_count": 42,
   "id": "d932556a",
   "metadata": {},
   "outputs": [
    {
     "data": {
      "text/plain": [
       "Text(0.5, 1.0, 'RandomForest RUS - Testing confusion matrix')"
      ]
     },
     "execution_count": 42,
     "metadata": {},
     "output_type": "execute_result"
    },
    {
     "data": {
      "image/png": "[encoded data removed]",
      "text/plain": [
       "<Figure size 864x360 with 4 Axes>"
      ]
     },
     "metadata": {
      "needs_background": "light"
     },
     "output_type": "display_data"
    }
   ],
   "source": [
    "fig, ax = plt.subplots(1,2, figsize=(12,5))\n",
    "sns.heatmap(cm_2a_train, annot=True, fmt = '', cmap = 'Blues',ax = ax[0])\n",
    "ax[0].set_xlabel('Predicted label')\n",
    "ax[0].set_ylabel('True label')\n",
    "ax[0].set_title('RandomForest RUS - Training confusion matrix')\n",
    "\n",
    "sns.heatmap(cm_2a_test, annot=True, fmt = '', cmap = 'Reds',ax = ax[1])\n",
    "ax[1].set_xlabel('Predicted label')\n",
    "ax[1].set_ylabel('True label')\n",
    "ax[1].set_title('RandomForest RUS - Testing confusion matrix')"
   ]
  },
  {
   "cell_type": "code",
   "execution_count": 43,
   "id": "e21a31cb",
   "metadata": {},
   "outputs": [
    {
     "name": "stdout",
     "output_type": "stream",
     "text": [
      "[Training Classification Report]\n",
      "              precision    recall  f1-score   support\n",
      "\n",
      "       valid       1.00      1.00      1.00      7721\n",
      "       fraud       1.00      1.00      1.00      7721\n",
      "\n",
      "    accuracy                           1.00     15442\n",
      "   macro avg       1.00      1.00      1.00     15442\n",
      "weighted avg       1.00      1.00      1.00     15442\n",
      "\n",
      "[Test Classification Report]\n",
      "              precision    recall  f1-score   support\n",
      "\n",
      "       valid       1.00      0.98      0.99    368519\n",
      "       fraud       0.20      0.95      0.33      1930\n",
      "\n",
      "    accuracy                           0.98    370449\n",
      "   macro avg       0.60      0.96      0.66    370449\n",
      "weighted avg       1.00      0.98      0.99    370449\n",
      "\n"
     ]
    }
   ],
   "source": [
    "target_names = ['valid', 'fraud']\n",
    "\n",
    "print(\"[Training Classification Report]\")\n",
    "print(classification_report(y_train_rus_np, y_pred_train_2a, target_names=target_names))\n",
    "\n",
    "print(\"[Test Classification Report]\")\n",
    "print(classification_report(y_test_np, y_pred_test_2a, target_names=target_names))"
   ]
  },
  {
   "cell_type": "markdown",
   "id": "0474badf",
   "metadata": {},
   "source": [
    "Create dictionary versions of classification reports and add them to metrics dataframe"
   ]
  },
  {
   "cell_type": "code",
   "execution_count": 44,
   "id": "f5dea864",
   "metadata": {},
   "outputs": [
    {
     "data": {
      "text/html": [
       "<div>\n",
       "<style scoped>\n",
       "    .dataframe tbody tr th:only-of-type {\n",
       "        vertical-align: middle;\n",
       "    }\n",
       "\n",
       "    .dataframe tbody tr th {\n",
       "        vertical-align: top;\n",
       "    }\n",
       "\n",
       "    .dataframe thead th {\n",
       "        text-align: right;\n",
       "    }\n",
       "</style>\n",
       "<table border=\"1\" class=\"dataframe\">\n",
       "  <thead>\n",
       "    <tr style=\"text-align: right;\">\n",
       "      <th></th>\n",
       "      <th>Algorithm</th>\n",
       "      <th>Class Balancing</th>\n",
       "      <th>Train Precision</th>\n",
       "      <th>Train Recall</th>\n",
       "      <th>Train f1</th>\n",
       "      <th>Train Support</th>\n",
       "      <th>Test Precision</th>\n",
       "      <th>Test Recall</th>\n",
       "      <th>Test f1</th>\n",
       "      <th>Test Support</th>\n",
       "    </tr>\n",
       "  </thead>\n",
       "  <tbody>\n",
       "    <tr>\n",
       "      <th>0</th>\n",
       "      <td>Logistic Regression</td>\n",
       "      <td>Random Under Sampling</td>\n",
       "      <td>0.900475</td>\n",
       "      <td>0.860122</td>\n",
       "      <td>0.879836</td>\n",
       "      <td>7721</td>\n",
       "      <td>0.043136</td>\n",
       "      <td>0.859067</td>\n",
       "      <td>0.082146</td>\n",
       "      <td>1930</td>\n",
       "    </tr>\n",
       "    <tr>\n",
       "      <th>1</th>\n",
       "      <td>Logistic Regression</td>\n",
       "      <td>Random Over Sampling</td>\n",
       "      <td>0.897946</td>\n",
       "      <td>0.858799</td>\n",
       "      <td>0.877937</td>\n",
       "      <td>1474073</td>\n",
       "      <td>0.043753</td>\n",
       "      <td>0.854404</td>\n",
       "      <td>0.083243</td>\n",
       "      <td>1930</td>\n",
       "    </tr>\n",
       "    <tr>\n",
       "      <th>2</th>\n",
       "      <td>Logistic Regression</td>\n",
       "      <td>SMOTE</td>\n",
       "      <td>0.900986</td>\n",
       "      <td>0.863715</td>\n",
       "      <td>0.881957</td>\n",
       "      <td>1474073</td>\n",
       "      <td>0.045073</td>\n",
       "      <td>0.854922</td>\n",
       "      <td>0.085632</td>\n",
       "      <td>1930</td>\n",
       "    </tr>\n",
       "    <tr>\n",
       "      <th>3</th>\n",
       "      <td>Logistic Regression</td>\n",
       "      <td>Balanced weight</td>\n",
       "      <td>0.044084</td>\n",
       "      <td>0.858568</td>\n",
       "      <td>0.083862</td>\n",
       "      <td>7721</td>\n",
       "      <td>0.043811</td>\n",
       "      <td>0.854404</td>\n",
       "      <td>0.083348</td>\n",
       "      <td>1930</td>\n",
       "    </tr>\n",
       "    <tr>\n",
       "      <th>4</th>\n",
       "      <td>Random Forest</td>\n",
       "      <td>Random Under Sampling</td>\n",
       "      <td>1.000000</td>\n",
       "      <td>1.000000</td>\n",
       "      <td>1.000000</td>\n",
       "      <td>7721</td>\n",
       "      <td>0.199521</td>\n",
       "      <td>0.949223</td>\n",
       "      <td>0.329734</td>\n",
       "      <td>1930</td>\n",
       "    </tr>\n",
       "  </tbody>\n",
       "</table>\n",
       "</div>"
      ],
      "text/plain": [
       "             Algorithm        Class Balancing  Train Precision  Train Recall  \\\n",
       "0  Logistic Regression  Random Under Sampling         0.900475      0.860122   \n",
       "1  Logistic Regression   Random Over Sampling         0.897946      0.858799   \n",
       "2  Logistic Regression                  SMOTE         0.900986      0.863715   \n",
       "3  Logistic Regression        Balanced weight         0.044084      0.858568   \n",
       "4        Random Forest  Random Under Sampling         1.000000      1.000000   \n",
       "\n",
       "   Train f1 Train Support  Test Precision  Test Recall   Test f1 Test Support  \n",
       "0  0.879836          7721        0.043136     0.859067  0.082146         1930  \n",
       "1  0.877937       1474073        0.043753     0.854404  0.083243         1930  \n",
       "2  0.881957       1474073        0.045073     0.854922  0.085632         1930  \n",
       "3  0.083862          7721        0.043811     0.854404  0.083348         1930  \n",
       "4  1.000000          7721        0.199521     0.949223  0.329734         1930  "
      ]
     },
     "execution_count": 44,
     "metadata": {},
     "output_type": "execute_result"
    }
   ],
   "source": [
    "train_report_2a = classification_report(y_train_rus_np, y_pred_train_2a, target_names=target_names, output_dict = True)\n",
    "test_report_2a = classification_report(y_test_np, y_pred_test_2a, target_names=target_names, output_dict = True)\n",
    "\n",
    "add_metrics('Random Forest', 'Random Under Sampling', train_report_2a, test_report_2a)\n",
    "metrics"
   ]
  },
  {
   "cell_type": "markdown",
   "id": "d64a2872",
   "metadata": {},
   "source": [
    "### 2b) with Random Over Sampling"
   ]
  },
  {
   "cell_type": "code",
   "execution_count": 45,
   "id": "42d3da09",
   "metadata": {},
   "outputs": [],
   "source": [
    "rf_ros = RandomForestClassifier(random_state=42)\n",
    "rf_ros.fit(X_train_ros_np, y_train_ros_np)\n",
    "\n",
    "y_pred_train_2b = rf_ros.predict(X_train_ros_np)\n",
    "y_pred_test_2b = rf_ros.predict(X_test_np)"
   ]
  },
  {
   "cell_type": "code",
   "execution_count": 46,
   "id": "8d6e28ad",
   "metadata": {},
   "outputs": [],
   "source": [
    "from sklearn.metrics import confusion_matrix\n",
    "cm_2b_train = confusion_matrix(y_train_ros_np,y_pred_train_2b)\n",
    "cm_2b_test = confusion_matrix(y_test_np,y_pred_test_2b)"
   ]
  },
  {
   "cell_type": "code",
   "execution_count": 47,
   "id": "f8f12646",
   "metadata": {},
   "outputs": [
    {
     "data": {
      "text/plain": [
       "Text(0.5, 1.0, 'RandomForest ROS - Testing confusion matrix')"
      ]
     },
     "execution_count": 47,
     "metadata": {},
     "output_type": "execute_result"
    },
    {
     "data": {
      "image/png": "[encoded data removed]",
      "text/plain": [
       "<Figure size 864x360 with 4 Axes>"
      ]
     },
     "metadata": {
      "needs_background": "light"
     },
     "output_type": "display_data"
    }
   ],
   "source": [
    "fig, ax = plt.subplots(1,2, figsize=(12,5))\n",
    "sns.heatmap(cm_2b_train, annot=True, fmt = '', cmap = 'Blues',ax = ax[0])\n",
    "ax[0].set_xlabel('Predicted label')\n",
    "ax[0].set_ylabel('True label')\n",
    "ax[0].set_title('RandomForest ROS - Training confusion matrix')\n",
    "\n",
    "sns.heatmap(cm_2b_test, annot=True, fmt = '', cmap = 'Reds',ax = ax[1])\n",
    "ax[1].set_xlabel('Predicted label')\n",
    "ax[1].set_ylabel('True label')\n",
    "ax[1].set_title('RandomForest ROS - Testing confusion matrix')"
   ]
  },
  {
   "cell_type": "code",
   "execution_count": 48,
   "id": "766c1e96",
   "metadata": {},
   "outputs": [
    {
     "name": "stdout",
     "output_type": "stream",
     "text": [
      "[Training Classification Report]\n",
      "              precision    recall  f1-score   support\n",
      "\n",
      "       valid       1.00      1.00      1.00   1474073\n",
      "       fraud       1.00      1.00      1.00   1474073\n",
      "\n",
      "    accuracy                           1.00   2948146\n",
      "   macro avg       1.00      1.00      1.00   2948146\n",
      "weighted avg       1.00      1.00      1.00   2948146\n",
      "\n",
      "[Test Classification Report]\n",
      "              precision    recall  f1-score   support\n",
      "\n",
      "       valid       1.00      1.00      1.00    368519\n",
      "       fraud       0.93      0.71      0.80      1930\n",
      "\n",
      "    accuracy                           1.00    370449\n",
      "   macro avg       0.97      0.85      0.90    370449\n",
      "weighted avg       1.00      1.00      1.00    370449\n",
      "\n"
     ]
    }
   ],
   "source": [
    "target_names = ['valid', 'fraud']\n",
    "\n",
    "print(\"[Training Classification Report]\")\n",
    "print(classification_report(y_train_ros_np, y_pred_train_2b, target_names=target_names))\n",
    "\n",
    "print(\"[Test Classification Report]\")\n",
    "print(classification_report(y_test_np, y_pred_test_2b, target_names=target_names))"
   ]
  },
  {
   "cell_type": "markdown",
   "id": "0e5f75c0",
   "metadata": {},
   "source": [
    "Create dictionary versions of classification reports and add them to metrics dataframe"
   ]
  },
  {
   "cell_type": "code",
   "execution_count": 49,
   "id": "7adeb48c",
   "metadata": {},
   "outputs": [
    {
     "data": {
      "text/html": [
       "<div>\n",
       "<style scoped>\n",
       "    .dataframe tbody tr th:only-of-type {\n",
       "        vertical-align: middle;\n",
       "    }\n",
       "\n",
       "    .dataframe tbody tr th {\n",
       "        vertical-align: top;\n",
       "    }\n",
       "\n",
       "    .dataframe thead th {\n",
       "        text-align: right;\n",
       "    }\n",
       "</style>\n",
       "<table border=\"1\" class=\"dataframe\">\n",
       "  <thead>\n",
       "    <tr style=\"text-align: right;\">\n",
       "      <th></th>\n",
       "      <th>Algorithm</th>\n",
       "      <th>Class Balancing</th>\n",
       "      <th>Train Precision</th>\n",
       "      <th>Train Recall</th>\n",
       "      <th>Train f1</th>\n",
       "      <th>Train Support</th>\n",
       "      <th>Test Precision</th>\n",
       "      <th>Test Recall</th>\n",
       "      <th>Test f1</th>\n",
       "      <th>Test Support</th>\n",
       "    </tr>\n",
       "  </thead>\n",
       "  <tbody>\n",
       "    <tr>\n",
       "      <th>0</th>\n",
       "      <td>Logistic Regression</td>\n",
       "      <td>Random Under Sampling</td>\n",
       "      <td>0.900475</td>\n",
       "      <td>0.860122</td>\n",
       "      <td>0.879836</td>\n",
       "      <td>7721</td>\n",
       "      <td>0.043136</td>\n",
       "      <td>0.859067</td>\n",
       "      <td>0.082146</td>\n",
       "      <td>1930</td>\n",
       "    </tr>\n",
       "    <tr>\n",
       "      <th>1</th>\n",
       "      <td>Logistic Regression</td>\n",
       "      <td>Random Over Sampling</td>\n",
       "      <td>0.897946</td>\n",
       "      <td>0.858799</td>\n",
       "      <td>0.877937</td>\n",
       "      <td>1474073</td>\n",
       "      <td>0.043753</td>\n",
       "      <td>0.854404</td>\n",
       "      <td>0.083243</td>\n",
       "      <td>1930</td>\n",
       "    </tr>\n",
       "    <tr>\n",
       "      <th>2</th>\n",
       "      <td>Logistic Regression</td>\n",
       "      <td>SMOTE</td>\n",
       "      <td>0.900986</td>\n",
       "      <td>0.863715</td>\n",
       "      <td>0.881957</td>\n",
       "      <td>1474073</td>\n",
       "      <td>0.045073</td>\n",
       "      <td>0.854922</td>\n",
       "      <td>0.085632</td>\n",
       "      <td>1930</td>\n",
       "    </tr>\n",
       "    <tr>\n",
       "      <th>3</th>\n",
       "      <td>Logistic Regression</td>\n",
       "      <td>Balanced weight</td>\n",
       "      <td>0.044084</td>\n",
       "      <td>0.858568</td>\n",
       "      <td>0.083862</td>\n",
       "      <td>7721</td>\n",
       "      <td>0.043811</td>\n",
       "      <td>0.854404</td>\n",
       "      <td>0.083348</td>\n",
       "      <td>1930</td>\n",
       "    </tr>\n",
       "    <tr>\n",
       "      <th>4</th>\n",
       "      <td>Random Forest</td>\n",
       "      <td>Random Under Sampling</td>\n",
       "      <td>1.000000</td>\n",
       "      <td>1.000000</td>\n",
       "      <td>1.000000</td>\n",
       "      <td>7721</td>\n",
       "      <td>0.199521</td>\n",
       "      <td>0.949223</td>\n",
       "      <td>0.329734</td>\n",
       "      <td>1930</td>\n",
       "    </tr>\n",
       "    <tr>\n",
       "      <th>5</th>\n",
       "      <td>Random Forest</td>\n",
       "      <td>Random Over Sampling</td>\n",
       "      <td>1.000000</td>\n",
       "      <td>1.000000</td>\n",
       "      <td>1.000000</td>\n",
       "      <td>1474073</td>\n",
       "      <td>0.931694</td>\n",
       "      <td>0.706736</td>\n",
       "      <td>0.803771</td>\n",
       "      <td>1930</td>\n",
       "    </tr>\n",
       "  </tbody>\n",
       "</table>\n",
       "</div>"
      ],
      "text/plain": [
       "             Algorithm        Class Balancing  Train Precision  Train Recall  \\\n",
       "0  Logistic Regression  Random Under Sampling         0.900475      0.860122   \n",
       "1  Logistic Regression   Random Over Sampling         0.897946      0.858799   \n",
       "2  Logistic Regression                  SMOTE         0.900986      0.863715   \n",
       "3  Logistic Regression        Balanced weight         0.044084      0.858568   \n",
       "4        Random Forest  Random Under Sampling         1.000000      1.000000   \n",
       "5        Random Forest   Random Over Sampling         1.000000      1.000000   \n",
       "\n",
       "   Train f1 Train Support  Test Precision  Test Recall   Test f1 Test Support  \n",
       "0  0.879836          7721        0.043136     0.859067  0.082146         1930  \n",
       "1  0.877937       1474073        0.043753     0.854404  0.083243         1930  \n",
       "2  0.881957       1474073        0.045073     0.854922  0.085632         1930  \n",
       "3  0.083862          7721        0.043811     0.854404  0.083348         1930  \n",
       "4  1.000000          7721        0.199521     0.949223  0.329734         1930  \n",
       "5  1.000000       1474073        0.931694     0.706736  0.803771         1930  "
      ]
     },
     "execution_count": 49,
     "metadata": {},
     "output_type": "execute_result"
    }
   ],
   "source": [
    "train_report_2b = classification_report(y_train_ros_np, y_pred_train_2b, target_names=target_names, output_dict = True)\n",
    "test_report_2b = classification_report(y_test_np, y_pred_test_2b, target_names=target_names, output_dict = True)\n",
    "\n",
    "add_metrics('Random Forest', 'Random Over Sampling', train_report_2b, test_report_2b)\n",
    "metrics"
   ]
  },
  {
   "cell_type": "markdown",
   "id": "d0d40503",
   "metadata": {},
   "source": [
    "### 2c) with SMOTE"
   ]
  },
  {
   "cell_type": "code",
   "execution_count": 50,
   "id": "92b5a05b",
   "metadata": {},
   "outputs": [],
   "source": [
    "rf_sm = RandomForestClassifier(random_state=42)\n",
    "rf_sm.fit(X_train_sm_np, y_train_sm_np)\n",
    "\n",
    "y_pred_train_2c = rf_sm.predict(X_train_sm_np)\n",
    "y_pred_test_2c = rf_sm.predict(X_test_np)"
   ]
  },
  {
   "cell_type": "code",
   "execution_count": 51,
   "id": "43549481",
   "metadata": {},
   "outputs": [],
   "source": [
    "cm_2c_train = confusion_matrix(y_train_sm_np,y_pred_train_2c)\n",
    "cm_2c_test = confusion_matrix(y_test_np,y_pred_test_2c)"
   ]
  },
  {
   "cell_type": "code",
   "execution_count": 52,
   "id": "01acac5c",
   "metadata": {},
   "outputs": [
    {
     "data": {
      "text/plain": [
       "Text(0.5, 1.0, 'RandomForest SMOTE - Testing confusion matrix')"
      ]
     },
     "execution_count": 52,
     "metadata": {},
     "output_type": "execute_result"
    },
    {
     "data": {
      "image/png": "[encoded data removed]",
      "text/plain": [
       "<Figure size 864x360 with 4 Axes>"
      ]
     },
     "metadata": {
      "needs_background": "light"
     },
     "output_type": "display_data"
    }
   ],
   "source": [
    "fig, ax = plt.subplots(1,2, figsize=(12,5))\n",
    "sns.heatmap(cm_2c_train, annot=True, fmt = '', cmap = 'Blues',ax = ax[0])\n",
    "ax[0].set_xlabel('Predicted label')\n",
    "ax[0].set_ylabel('True label')\n",
    "ax[0].set_title('RandomForest SMOTE - Training confusion matrix')\n",
    "\n",
    "sns.heatmap(cm_2c_test, annot=True, fmt = '', cmap = 'Reds',ax = ax[1])\n",
    "ax[1].set_xlabel('Predicted label')\n",
    "ax[1].set_ylabel('True label')\n",
    "ax[1].set_title('RandomForest SMOTE - Testing confusion matrix')"
   ]
  },
  {
   "cell_type": "code",
   "execution_count": 53,
   "id": "6860e00c",
   "metadata": {},
   "outputs": [
    {
     "name": "stdout",
     "output_type": "stream",
     "text": [
      "[Training Classification Report]\n",
      "              precision    recall  f1-score   support\n",
      "\n",
      "       valid       1.00      1.00      1.00   1474073\n",
      "       fraud       1.00      1.00      1.00   1474073\n",
      "\n",
      "    accuracy                           1.00   2948146\n",
      "   macro avg       1.00      1.00      1.00   2948146\n",
      "weighted avg       1.00      1.00      1.00   2948146\n",
      "\n",
      "[Test Classification Report]\n",
      "              precision    recall  f1-score   support\n",
      "\n",
      "       valid       1.00      1.00      1.00    368519\n",
      "       fraud       0.78      0.80      0.79      1930\n",
      "\n",
      "    accuracy                           1.00    370449\n",
      "   macro avg       0.89      0.90      0.89    370449\n",
      "weighted avg       1.00      1.00      1.00    370449\n",
      "\n"
     ]
    }
   ],
   "source": [
    "target_names = ['valid', 'fraud']\n",
    "\n",
    "print(\"[Training Classification Report]\")\n",
    "print(classification_report(y_train_sm_np, y_pred_train_2c, target_names=target_names))\n",
    "\n",
    "print(\"[Test Classification Report]\")\n",
    "print(classification_report(y_test_np, y_pred_test_2c, target_names=target_names))"
   ]
  },
  {
   "cell_type": "markdown",
   "id": "29c4966e",
   "metadata": {},
   "source": [
    "Create dictionary versions of classification reports and add them to metrics dataframe"
   ]
  },
  {
   "cell_type": "code",
   "execution_count": 54,
   "id": "285208f6",
   "metadata": {},
   "outputs": [
    {
     "data": {
      "text/html": [
       "<div>\n",
       "<style scoped>\n",
       "    .dataframe tbody tr th:only-of-type {\n",
       "        vertical-align: middle;\n",
       "    }\n",
       "\n",
       "    .dataframe tbody tr th {\n",
       "        vertical-align: top;\n",
       "    }\n",
       "\n",
       "    .dataframe thead th {\n",
       "        text-align: right;\n",
       "    }\n",
       "</style>\n",
       "<table border=\"1\" class=\"dataframe\">\n",
       "  <thead>\n",
       "    <tr style=\"text-align: right;\">\n",
       "      <th></th>\n",
       "      <th>Algorithm</th>\n",
       "      <th>Class Balancing</th>\n",
       "      <th>Train Precision</th>\n",
       "      <th>Train Recall</th>\n",
       "      <th>Train f1</th>\n",
       "      <th>Train Support</th>\n",
       "      <th>Test Precision</th>\n",
       "      <th>Test Recall</th>\n",
       "      <th>Test f1</th>\n",
       "      <th>Test Support</th>\n",
       "    </tr>\n",
       "  </thead>\n",
       "  <tbody>\n",
       "    <tr>\n",
       "      <th>0</th>\n",
       "      <td>Logistic Regression</td>\n",
       "      <td>Random Under Sampling</td>\n",
       "      <td>0.900475</td>\n",
       "      <td>0.860122</td>\n",
       "      <td>0.879836</td>\n",
       "      <td>7721</td>\n",
       "      <td>0.043136</td>\n",
       "      <td>0.859067</td>\n",
       "      <td>0.082146</td>\n",
       "      <td>1930</td>\n",
       "    </tr>\n",
       "    <tr>\n",
       "      <th>1</th>\n",
       "      <td>Logistic Regression</td>\n",
       "      <td>Random Over Sampling</td>\n",
       "      <td>0.897946</td>\n",
       "      <td>0.858799</td>\n",
       "      <td>0.877937</td>\n",
       "      <td>1474073</td>\n",
       "      <td>0.043753</td>\n",
       "      <td>0.854404</td>\n",
       "      <td>0.083243</td>\n",
       "      <td>1930</td>\n",
       "    </tr>\n",
       "    <tr>\n",
       "      <th>2</th>\n",
       "      <td>Logistic Regression</td>\n",
       "      <td>SMOTE</td>\n",
       "      <td>0.900986</td>\n",
       "      <td>0.863715</td>\n",
       "      <td>0.881957</td>\n",
       "      <td>1474073</td>\n",
       "      <td>0.045073</td>\n",
       "      <td>0.854922</td>\n",
       "      <td>0.085632</td>\n",
       "      <td>1930</td>\n",
       "    </tr>\n",
       "    <tr>\n",
       "      <th>3</th>\n",
       "      <td>Logistic Regression</td>\n",
       "      <td>Balanced weight</td>\n",
       "      <td>0.044084</td>\n",
       "      <td>0.858568</td>\n",
       "      <td>0.083862</td>\n",
       "      <td>7721</td>\n",
       "      <td>0.043811</td>\n",
       "      <td>0.854404</td>\n",
       "      <td>0.083348</td>\n",
       "      <td>1930</td>\n",
       "    </tr>\n",
       "    <tr>\n",
       "      <th>4</th>\n",
       "      <td>Random Forest</td>\n",
       "      <td>Random Under Sampling</td>\n",
       "      <td>1.000000</td>\n",
       "      <td>1.000000</td>\n",
       "      <td>1.000000</td>\n",
       "      <td>7721</td>\n",
       "      <td>0.199521</td>\n",
       "      <td>0.949223</td>\n",
       "      <td>0.329734</td>\n",
       "      <td>1930</td>\n",
       "    </tr>\n",
       "    <tr>\n",
       "      <th>5</th>\n",
       "      <td>Random Forest</td>\n",
       "      <td>Random Over Sampling</td>\n",
       "      <td>1.000000</td>\n",
       "      <td>1.000000</td>\n",
       "      <td>1.000000</td>\n",
       "      <td>1474073</td>\n",
       "      <td>0.931694</td>\n",
       "      <td>0.706736</td>\n",
       "      <td>0.803771</td>\n",
       "      <td>1930</td>\n",
       "    </tr>\n",
       "    <tr>\n",
       "      <th>6</th>\n",
       "      <td>Random Forest</td>\n",
       "      <td>SMOTE</td>\n",
       "      <td>1.000000</td>\n",
       "      <td>1.000000</td>\n",
       "      <td>1.000000</td>\n",
       "      <td>1474073</td>\n",
       "      <td>0.775593</td>\n",
       "      <td>0.796891</td>\n",
       "      <td>0.786098</td>\n",
       "      <td>1930</td>\n",
       "    </tr>\n",
       "  </tbody>\n",
       "</table>\n",
       "</div>"
      ],
      "text/plain": [
       "             Algorithm        Class Balancing  Train Precision  Train Recall  \\\n",
       "0  Logistic Regression  Random Under Sampling         0.900475      0.860122   \n",
       "1  Logistic Regression   Random Over Sampling         0.897946      0.858799   \n",
       "2  Logistic Regression                  SMOTE         0.900986      0.863715   \n",
       "3  Logistic Regression        Balanced weight         0.044084      0.858568   \n",
       "4        Random Forest  Random Under Sampling         1.000000      1.000000   \n",
       "5        Random Forest   Random Over Sampling         1.000000      1.000000   \n",
       "6        Random Forest                  SMOTE         1.000000      1.000000   \n",
       "\n",
       "   Train f1 Train Support  Test Precision  Test Recall   Test f1 Test Support  \n",
       "0  0.879836          7721        0.043136     0.859067  0.082146         1930  \n",
       "1  0.877937       1474073        0.043753     0.854404  0.083243         1930  \n",
       "2  0.881957       1474073        0.045073     0.854922  0.085632         1930  \n",
       "3  0.083862          7721        0.043811     0.854404  0.083348         1930  \n",
       "4  1.000000          7721        0.199521     0.949223  0.329734         1930  \n",
       "5  1.000000       1474073        0.931694     0.706736  0.803771         1930  \n",
       "6  1.000000       1474073        0.775593     0.796891  0.786098         1930  "
      ]
     },
     "execution_count": 54,
     "metadata": {},
     "output_type": "execute_result"
    }
   ],
   "source": [
    "train_report_2c = classification_report(y_train_sm_np, y_pred_train_2c, target_names=target_names, output_dict = True)\n",
    "test_report_2c = classification_report(y_test_np, y_pred_test_2c, target_names=target_names, output_dict = True)\n",
    "\n",
    "add_metrics('Random Forest', 'SMOTE', train_report_2c, test_report_2c)\n",
    "metrics"
   ]
  },
  {
   "cell_type": "markdown",
   "id": "aaac42c1",
   "metadata": {},
   "source": [
    "### 2d) with class_weight = balanced"
   ]
  },
  {
   "cell_type": "code",
   "execution_count": 55,
   "id": "8a500335",
   "metadata": {},
   "outputs": [],
   "source": [
    "rf_cw = RandomForestClassifier(random_state=42, class_weight='balanced')\n",
    "rf_cw.fit(X_train_np, y_train_np)\n",
    "\n",
    "y_pred_train_2d = rf_cw.predict(X_train_np)\n",
    "y_pred_test_2d = rf_cw.predict(X_test_np)"
   ]
  },
  {
   "cell_type": "code",
   "execution_count": 56,
   "id": "0731bed9",
   "metadata": {},
   "outputs": [],
   "source": [
    "cm_2d_train = confusion_matrix(y_train_np,y_pred_train_2d)\n",
    "cm_2d_test = confusion_matrix(y_test_np,y_pred_test_2d)"
   ]
  },
  {
   "cell_type": "code",
   "execution_count": 57,
   "id": "f6f8e3d2",
   "metadata": {},
   "outputs": [
    {
     "data": {
      "text/plain": [
       "Text(0.5, 1.0, 'RandomForest class_weight balanced - Testing confusion matrix')"
      ]
     },
     "execution_count": 57,
     "metadata": {},
     "output_type": "execute_result"
    },
    {
     "data": {
      "image/png": "[encoded data removed]",
      "text/plain": [
       "<Figure size 864x360 with 4 Axes>"
      ]
     },
     "metadata": {
      "needs_background": "light"
     },
     "output_type": "display_data"
    }
   ],
   "source": [
    "fig, ax = plt.subplots(1,2, figsize=(12,5))\n",
    "sns.heatmap(cm_2d_train, annot=True, fmt = '', cmap = 'Blues',ax = ax[0])\n",
    "ax[0].set_xlabel('Predicted label')\n",
    "ax[0].set_ylabel('True label')\n",
    "ax[0].set_title('RandomForest class_weight balanced - Training confusion matrix')\n",
    "\n",
    "sns.heatmap(cm_2d_test, annot=True, fmt = '', cmap = 'Reds',ax = ax[1])\n",
    "ax[1].set_xlabel('Predicted label')\n",
    "ax[1].set_ylabel('True label')\n",
    "ax[1].set_title('RandomForest class_weight balanced - Testing confusion matrix')"
   ]
  },
  {
   "cell_type": "code",
   "execution_count": 58,
   "id": "3080cec1",
   "metadata": {},
   "outputs": [
    {
     "name": "stdout",
     "output_type": "stream",
     "text": [
      "[Training Classification Report]\n",
      "              precision    recall  f1-score   support\n",
      "\n",
      "       valid       1.00      1.00      1.00   1474073\n",
      "       fraud       1.00      1.00      1.00      7721\n",
      "\n",
      "    accuracy                           1.00   1481794\n",
      "   macro avg       1.00      1.00      1.00   1481794\n",
      "weighted avg       1.00      1.00      1.00   1481794\n",
      "\n",
      "[Test Classification Report]\n",
      "              precision    recall  f1-score   support\n",
      "\n",
      "       valid       1.00      1.00      1.00    368519\n",
      "       fraud       0.96      0.64      0.77      1930\n",
      "\n",
      "    accuracy                           1.00    370449\n",
      "   macro avg       0.98      0.82      0.88    370449\n",
      "weighted avg       1.00      1.00      1.00    370449\n",
      "\n"
     ]
    }
   ],
   "source": [
    "target_names = ['valid', 'fraud']\n",
    "\n",
    "print(\"[Training Classification Report]\")\n",
    "print(classification_report(y_train_np, y_pred_train_2d, target_names=target_names))\n",
    "\n",
    "print(\"[Test Classification Report]\")\n",
    "print(classification_report(y_test_np, y_pred_test_2d, target_names=target_names))"
   ]
  },
  {
   "cell_type": "markdown",
   "id": "3d97d6ed",
   "metadata": {},
   "source": [
    "Create dictionary versions of classification reports and add them to metrics dataframe"
   ]
  },
  {
   "cell_type": "code",
   "execution_count": 59,
   "id": "21376756",
   "metadata": {},
   "outputs": [
    {
     "data": {
      "text/html": [
       "<div>\n",
       "<style scoped>\n",
       "    .dataframe tbody tr th:only-of-type {\n",
       "        vertical-align: middle;\n",
       "    }\n",
       "\n",
       "    .dataframe tbody tr th {\n",
       "        vertical-align: top;\n",
       "    }\n",
       "\n",
       "    .dataframe thead th {\n",
       "        text-align: right;\n",
       "    }\n",
       "</style>\n",
       "<table border=\"1\" class=\"dataframe\">\n",
       "  <thead>\n",
       "    <tr style=\"text-align: right;\">\n",
       "      <th></th>\n",
       "      <th>Algorithm</th>\n",
       "      <th>Class Balancing</th>\n",
       "      <th>Train Precision</th>\n",
       "      <th>Train Recall</th>\n",
       "      <th>Train f1</th>\n",
       "      <th>Train Support</th>\n",
       "      <th>Test Precision</th>\n",
       "      <th>Test Recall</th>\n",
       "      <th>Test f1</th>\n",
       "      <th>Test Support</th>\n",
       "    </tr>\n",
       "  </thead>\n",
       "  <tbody>\n",
       "    <tr>\n",
       "      <th>0</th>\n",
       "      <td>Logistic Regression</td>\n",
       "      <td>Random Under Sampling</td>\n",
       "      <td>0.900475</td>\n",
       "      <td>0.860122</td>\n",
       "      <td>0.879836</td>\n",
       "      <td>7721</td>\n",
       "      <td>0.043136</td>\n",
       "      <td>0.859067</td>\n",
       "      <td>0.082146</td>\n",
       "      <td>1930</td>\n",
       "    </tr>\n",
       "    <tr>\n",
       "      <th>1</th>\n",
       "      <td>Logistic Regression</td>\n",
       "      <td>Random Over Sampling</td>\n",
       "      <td>0.897946</td>\n",
       "      <td>0.858799</td>\n",
       "      <td>0.877937</td>\n",
       "      <td>1474073</td>\n",
       "      <td>0.043753</td>\n",
       "      <td>0.854404</td>\n",
       "      <td>0.083243</td>\n",
       "      <td>1930</td>\n",
       "    </tr>\n",
       "    <tr>\n",
       "      <th>2</th>\n",
       "      <td>Logistic Regression</td>\n",
       "      <td>SMOTE</td>\n",
       "      <td>0.900986</td>\n",
       "      <td>0.863715</td>\n",
       "      <td>0.881957</td>\n",
       "      <td>1474073</td>\n",
       "      <td>0.045073</td>\n",
       "      <td>0.854922</td>\n",
       "      <td>0.085632</td>\n",
       "      <td>1930</td>\n",
       "    </tr>\n",
       "    <tr>\n",
       "      <th>3</th>\n",
       "      <td>Logistic Regression</td>\n",
       "      <td>Balanced weight</td>\n",
       "      <td>0.044084</td>\n",
       "      <td>0.858568</td>\n",
       "      <td>0.083862</td>\n",
       "      <td>7721</td>\n",
       "      <td>0.043811</td>\n",
       "      <td>0.854404</td>\n",
       "      <td>0.083348</td>\n",
       "      <td>1930</td>\n",
       "    </tr>\n",
       "    <tr>\n",
       "      <th>4</th>\n",
       "      <td>Random Forest</td>\n",
       "      <td>Random Under Sampling</td>\n",
       "      <td>1.000000</td>\n",
       "      <td>1.000000</td>\n",
       "      <td>1.000000</td>\n",
       "      <td>7721</td>\n",
       "      <td>0.199521</td>\n",
       "      <td>0.949223</td>\n",
       "      <td>0.329734</td>\n",
       "      <td>1930</td>\n",
       "    </tr>\n",
       "    <tr>\n",
       "      <th>5</th>\n",
       "      <td>Random Forest</td>\n",
       "      <td>Random Over Sampling</td>\n",
       "      <td>1.000000</td>\n",
       "      <td>1.000000</td>\n",
       "      <td>1.000000</td>\n",
       "      <td>1474073</td>\n",
       "      <td>0.931694</td>\n",
       "      <td>0.706736</td>\n",
       "      <td>0.803771</td>\n",
       "      <td>1930</td>\n",
       "    </tr>\n",
       "    <tr>\n",
       "      <th>6</th>\n",
       "      <td>Random Forest</td>\n",
       "      <td>SMOTE</td>\n",
       "      <td>1.000000</td>\n",
       "      <td>1.000000</td>\n",
       "      <td>1.000000</td>\n",
       "      <td>1474073</td>\n",
       "      <td>0.775593</td>\n",
       "      <td>0.796891</td>\n",
       "      <td>0.786098</td>\n",
       "      <td>1930</td>\n",
       "    </tr>\n",
       "    <tr>\n",
       "      <th>7</th>\n",
       "      <td>Random Forest</td>\n",
       "      <td>Balanced weight</td>\n",
       "      <td>1.000000</td>\n",
       "      <td>0.999352</td>\n",
       "      <td>0.999676</td>\n",
       "      <td>7721</td>\n",
       "      <td>0.961029</td>\n",
       "      <td>0.638860</td>\n",
       "      <td>0.767507</td>\n",
       "      <td>1930</td>\n",
       "    </tr>\n",
       "  </tbody>\n",
       "</table>\n",
       "</div>"
      ],
      "text/plain": [
       "             Algorithm        Class Balancing  Train Precision  Train Recall  \\\n",
       "0  Logistic Regression  Random Under Sampling         0.900475      0.860122   \n",
       "1  Logistic Regression   Random Over Sampling         0.897946      0.858799   \n",
       "2  Logistic Regression                  SMOTE         0.900986      0.863715   \n",
       "3  Logistic Regression        Balanced weight         0.044084      0.858568   \n",
       "4        Random Forest  Random Under Sampling         1.000000      1.000000   \n",
       "5        Random Forest   Random Over Sampling         1.000000      1.000000   \n",
       "6        Random Forest                  SMOTE         1.000000      1.000000   \n",
       "7        Random Forest        Balanced weight         1.000000      0.999352   \n",
       "\n",
       "   Train f1 Train Support  Test Precision  Test Recall   Test f1 Test Support  \n",
       "0  0.879836          7721        0.043136     0.859067  0.082146         1930  \n",
       "1  0.877937       1474073        0.043753     0.854404  0.083243         1930  \n",
       "2  0.881957       1474073        0.045073     0.854922  0.085632         1930  \n",
       "3  0.083862          7721        0.043811     0.854404  0.083348         1930  \n",
       "4  1.000000          7721        0.199521     0.949223  0.329734         1930  \n",
       "5  1.000000       1474073        0.931694     0.706736  0.803771         1930  \n",
       "6  1.000000       1474073        0.775593     0.796891  0.786098         1930  \n",
       "7  0.999676          7721        0.961029     0.638860  0.767507         1930  "
      ]
     },
     "execution_count": 59,
     "metadata": {},
     "output_type": "execute_result"
    }
   ],
   "source": [
    "train_report_2d = classification_report(y_train_np, y_pred_train_2d, target_names=target_names, output_dict = True)\n",
    "test_report_2d = classification_report(y_test_np, y_pred_test_2d, target_names=target_names, output_dict = True)\n",
    "\n",
    "add_metrics('Random Forest', 'Balanced weight', train_report_2d, test_report_2d)\n",
    "metrics"
   ]
  },
  {
   "cell_type": "markdown",
   "id": "deb730b9",
   "metadata": {},
   "source": [
    "## Algorithm 3: XGBoost"
   ]
  },
  {
   "cell_type": "code",
   "execution_count": 60,
   "id": "32182f78",
   "metadata": {},
   "outputs": [],
   "source": [
    "import xgboost as xgb"
   ]
  },
  {
   "cell_type": "markdown",
   "id": "0bc01e13",
   "metadata": {},
   "source": [
    "### 3a) with Random Under Sampling"
   ]
  },
  {
   "cell_type": "code",
   "execution_count": 61,
   "id": "59e13270",
   "metadata": {},
   "outputs": [],
   "source": [
    "xg_rus = xgb.XGBClassifier(eval_metric = 'logloss', use_label_encoder=False, seed = 42)\n",
    "\n",
    "xg_rus.fit(X_train_rus_np, y_train_rus_np)\n",
    "\n",
    "y_pred_train_3a = xg_rus.predict(X_train_rus_np)\n",
    "y_pred_test_3a = xg_rus.predict(X_test_np)"
   ]
  },
  {
   "cell_type": "code",
   "execution_count": 62,
   "id": "e9970703",
   "metadata": {},
   "outputs": [],
   "source": [
    "cm_3a_train = confusion_matrix(y_train_rus_np,y_pred_train_3a)\n",
    "cm_3a_test = confusion_matrix(y_test_np,y_pred_test_3a)"
   ]
  },
  {
   "cell_type": "code",
   "execution_count": 63,
   "id": "6d51cb21",
   "metadata": {},
   "outputs": [
    {
     "data": {
      "text/plain": [
       "Text(0.5, 1.0, 'XGBoost RUS - Testing confusion matrix')"
      ]
     },
     "execution_count": 63,
     "metadata": {},
     "output_type": "execute_result"
    },
    {
     "data": {
      "image/png": "[encoded data removed]",
      "text/plain": [
       "<Figure size 864x360 with 4 Axes>"
      ]
     },
     "metadata": {
      "needs_background": "light"
     },
     "output_type": "display_data"
    }
   ],
   "source": [
    "fig, ax = plt.subplots(1,2, figsize=(12,5))\n",
    "sns.heatmap(cm_3a_train, annot=True, fmt = '', cmap = 'Blues',ax = ax[0])\n",
    "ax[0].set_xlabel('Predicted label')\n",
    "ax[0].set_ylabel('True label')\n",
    "ax[0].set_title('XGBoost RUS - Training confusion matrix')\n",
    "\n",
    "sns.heatmap(cm_3a_test, annot=True, fmt = '', cmap = 'Reds',ax = ax[1])\n",
    "ax[1].set_xlabel('Predicted label')\n",
    "ax[1].set_ylabel('True label')\n",
    "ax[1].set_title('XGBoost RUS - Testing confusion matrix')"
   ]
  },
  {
   "cell_type": "code",
   "execution_count": 64,
   "id": "0663d1a4",
   "metadata": {},
   "outputs": [
    {
     "name": "stdout",
     "output_type": "stream",
     "text": [
      "[Training Classification Report]\n",
      "              precision    recall  f1-score   support\n",
      "\n",
      "       valid       1.00      1.00      1.00      7721\n",
      "       fraud       1.00      1.00      1.00      7721\n",
      "\n",
      "    accuracy                           1.00     15442\n",
      "   macro avg       1.00      1.00      1.00     15442\n",
      "weighted avg       1.00      1.00      1.00     15442\n",
      "\n",
      "[Test Classification Report]\n",
      "              precision    recall  f1-score   support\n",
      "\n",
      "       valid       1.00      0.98      0.99    368519\n",
      "       fraud       0.19      0.98      0.32      1930\n",
      "\n",
      "    accuracy                           0.98    370449\n",
      "   macro avg       0.60      0.98      0.66    370449\n",
      "weighted avg       1.00      0.98      0.99    370449\n",
      "\n"
     ]
    }
   ],
   "source": [
    "target_names = ['valid', 'fraud']\n",
    "\n",
    "print(\"[Training Classification Report]\")\n",
    "print(classification_report(y_train_rus_np, y_pred_train_3a, target_names=target_names))\n",
    "\n",
    "print(\"[Test Classification Report]\")\n",
    "print(classification_report(y_test_np, y_pred_test_3a, target_names=target_names))"
   ]
  },
  {
   "cell_type": "code",
   "execution_count": 65,
   "id": "16be81f9",
   "metadata": {},
   "outputs": [
    {
     "data": {
      "text/html": [
       "<div>\n",
       "<style scoped>\n",
       "    .dataframe tbody tr th:only-of-type {\n",
       "        vertical-align: middle;\n",
       "    }\n",
       "\n",
       "    .dataframe tbody tr th {\n",
       "        vertical-align: top;\n",
       "    }\n",
       "\n",
       "    .dataframe thead th {\n",
       "        text-align: right;\n",
       "    }\n",
       "</style>\n",
       "<table border=\"1\" class=\"dataframe\">\n",
       "  <thead>\n",
       "    <tr style=\"text-align: right;\">\n",
       "      <th></th>\n",
       "      <th>Algorithm</th>\n",
       "      <th>Class Balancing</th>\n",
       "      <th>Train Precision</th>\n",
       "      <th>Train Recall</th>\n",
       "      <th>Train f1</th>\n",
       "      <th>Train Support</th>\n",
       "      <th>Test Precision</th>\n",
       "      <th>Test Recall</th>\n",
       "      <th>Test f1</th>\n",
       "      <th>Test Support</th>\n",
       "    </tr>\n",
       "  </thead>\n",
       "  <tbody>\n",
       "    <tr>\n",
       "      <th>0</th>\n",
       "      <td>Logistic Regression</td>\n",
       "      <td>Random Under Sampling</td>\n",
       "      <td>0.900475</td>\n",
       "      <td>0.860122</td>\n",
       "      <td>0.879836</td>\n",
       "      <td>7721</td>\n",
       "      <td>0.043136</td>\n",
       "      <td>0.859067</td>\n",
       "      <td>0.082146</td>\n",
       "      <td>1930</td>\n",
       "    </tr>\n",
       "    <tr>\n",
       "      <th>1</th>\n",
       "      <td>Logistic Regression</td>\n",
       "      <td>Random Over Sampling</td>\n",
       "      <td>0.897946</td>\n",
       "      <td>0.858799</td>\n",
       "      <td>0.877937</td>\n",
       "      <td>1474073</td>\n",
       "      <td>0.043753</td>\n",
       "      <td>0.854404</td>\n",
       "      <td>0.083243</td>\n",
       "      <td>1930</td>\n",
       "    </tr>\n",
       "    <tr>\n",
       "      <th>2</th>\n",
       "      <td>Logistic Regression</td>\n",
       "      <td>SMOTE</td>\n",
       "      <td>0.900986</td>\n",
       "      <td>0.863715</td>\n",
       "      <td>0.881957</td>\n",
       "      <td>1474073</td>\n",
       "      <td>0.045073</td>\n",
       "      <td>0.854922</td>\n",
       "      <td>0.085632</td>\n",
       "      <td>1930</td>\n",
       "    </tr>\n",
       "    <tr>\n",
       "      <th>3</th>\n",
       "      <td>Logistic Regression</td>\n",
       "      <td>Balanced weight</td>\n",
       "      <td>0.044084</td>\n",
       "      <td>0.858568</td>\n",
       "      <td>0.083862</td>\n",
       "      <td>7721</td>\n",
       "      <td>0.043811</td>\n",
       "      <td>0.854404</td>\n",
       "      <td>0.083348</td>\n",
       "      <td>1930</td>\n",
       "    </tr>\n",
       "    <tr>\n",
       "      <th>4</th>\n",
       "      <td>Random Forest</td>\n",
       "      <td>Random Under Sampling</td>\n",
       "      <td>1.000000</td>\n",
       "      <td>1.000000</td>\n",
       "      <td>1.000000</td>\n",
       "      <td>7721</td>\n",
       "      <td>0.199521</td>\n",
       "      <td>0.949223</td>\n",
       "      <td>0.329734</td>\n",
       "      <td>1930</td>\n",
       "    </tr>\n",
       "    <tr>\n",
       "      <th>5</th>\n",
       "      <td>Random Forest</td>\n",
       "      <td>Random Over Sampling</td>\n",
       "      <td>1.000000</td>\n",
       "      <td>1.000000</td>\n",
       "      <td>1.000000</td>\n",
       "      <td>1474073</td>\n",
       "      <td>0.931694</td>\n",
       "      <td>0.706736</td>\n",
       "      <td>0.803771</td>\n",
       "      <td>1930</td>\n",
       "    </tr>\n",
       "    <tr>\n",
       "      <th>6</th>\n",
       "      <td>Random Forest</td>\n",
       "      <td>SMOTE</td>\n",
       "      <td>1.000000</td>\n",
       "      <td>1.000000</td>\n",
       "      <td>1.000000</td>\n",
       "      <td>1474073</td>\n",
       "      <td>0.775593</td>\n",
       "      <td>0.796891</td>\n",
       "      <td>0.786098</td>\n",
       "      <td>1930</td>\n",
       "    </tr>\n",
       "    <tr>\n",
       "      <th>7</th>\n",
       "      <td>Random Forest</td>\n",
       "      <td>Balanced weight</td>\n",
       "      <td>1.000000</td>\n",
       "      <td>0.999352</td>\n",
       "      <td>0.999676</td>\n",
       "      <td>7721</td>\n",
       "      <td>0.961029</td>\n",
       "      <td>0.638860</td>\n",
       "      <td>0.767507</td>\n",
       "      <td>1930</td>\n",
       "    </tr>\n",
       "    <tr>\n",
       "      <th>8</th>\n",
       "      <td>XGBoost</td>\n",
       "      <td>Random Under Sampling</td>\n",
       "      <td>0.999870</td>\n",
       "      <td>0.999741</td>\n",
       "      <td>0.999806</td>\n",
       "      <td>7721</td>\n",
       "      <td>0.192803</td>\n",
       "      <td>0.977202</td>\n",
       "      <td>0.322063</td>\n",
       "      <td>1930</td>\n",
       "    </tr>\n",
       "  </tbody>\n",
       "</table>\n",
       "</div>"
      ],
      "text/plain": [
       "             Algorithm        Class Balancing  Train Precision  Train Recall  \\\n",
       "0  Logistic Regression  Random Under Sampling         0.900475      0.860122   \n",
       "1  Logistic Regression   Random Over Sampling         0.897946      0.858799   \n",
       "2  Logistic Regression                  SMOTE         0.900986      0.863715   \n",
       "3  Logistic Regression        Balanced weight         0.044084      0.858568   \n",
       "4        Random Forest  Random Under Sampling         1.000000      1.000000   \n",
       "5        Random Forest   Random Over Sampling         1.000000      1.000000   \n",
       "6        Random Forest                  SMOTE         1.000000      1.000000   \n",
       "7        Random Forest        Balanced weight         1.000000      0.999352   \n",
       "8              XGBoost  Random Under Sampling         0.999870      0.999741   \n",
       "\n",
       "   Train f1 Train Support  Test Precision  Test Recall   Test f1 Test Support  \n",
       "0  0.879836          7721        0.043136     0.859067  0.082146         1930  \n",
       "1  0.877937       1474073        0.043753     0.854404  0.083243         1930  \n",
       "2  0.881957       1474073        0.045073     0.854922  0.085632         1930  \n",
       "3  0.083862          7721        0.043811     0.854404  0.083348         1930  \n",
       "4  1.000000          7721        0.199521     0.949223  0.329734         1930  \n",
       "5  1.000000       1474073        0.931694     0.706736  0.803771         1930  \n",
       "6  1.000000       1474073        0.775593     0.796891  0.786098         1930  \n",
       "7  0.999676          7721        0.961029     0.638860  0.767507         1930  \n",
       "8  0.999806          7721        0.192803     0.977202  0.322063         1930  "
      ]
     },
     "execution_count": 65,
     "metadata": {},
     "output_type": "execute_result"
    }
   ],
   "source": [
    "train_report_3a = classification_report(y_train_rus_np, y_pred_train_3a, target_names=target_names, output_dict = True)\n",
    "test_report_3a = classification_report(y_test_np, y_pred_test_3a, target_names=target_names, output_dict = True)\n",
    "\n",
    "add_metrics('XGBoost', 'Random Under Sampling', train_report_3a, test_report_3a)\n",
    "metrics"
   ]
  },
  {
   "cell_type": "markdown",
   "id": "cdecd537",
   "metadata": {},
   "source": [
    "### 3b) with Random Over Sampling"
   ]
  },
  {
   "cell_type": "code",
   "execution_count": 66,
   "id": "6b92fa9a",
   "metadata": {},
   "outputs": [],
   "source": [
    "xg_ros = xgb.XGBClassifier(eval_metric = 'logloss', use_label_encoder=False, seed = 42)\n",
    "\n",
    "xg_ros.fit(X_train_ros_np, y_train_ros_np)\n",
    "\n",
    "y_pred_train_3b = xg_ros.predict(X_train_ros_np)\n",
    "y_pred_test_3b = xg_ros.predict(X_test_np)"
   ]
  },
  {
   "cell_type": "code",
   "execution_count": 67,
   "id": "c4a39f3b",
   "metadata": {},
   "outputs": [],
   "source": [
    "cm_3b_train = confusion_matrix(y_train_ros_np,y_pred_train_3b)\n",
    "cm_3b_test = confusion_matrix(y_test_np,y_pred_test_3b)"
   ]
  },
  {
   "cell_type": "code",
   "execution_count": 68,
   "id": "285ceda1",
   "metadata": {},
   "outputs": [
    {
     "data": {
      "text/plain": [
       "Text(0.5, 1.0, 'XGBoost ROS - Testing confusion matrix')"
      ]
     },
     "execution_count": 68,
     "metadata": {},
     "output_type": "execute_result"
    },
    {
     "data": {
      "image/png": "[encoded data removed]",
      "text/plain": [
       "<Figure size 864x360 with 4 Axes>"
      ]
     },
     "metadata": {
      "needs_background": "light"
     },
     "output_type": "display_data"
    }
   ],
   "source": [
    "fig, ax = plt.subplots(1,2, figsize=(12,5))\n",
    "sns.heatmap(cm_3b_train, annot=True, fmt = '', cmap = 'Blues',ax = ax[0])\n",
    "ax[0].set_xlabel('Predicted label')\n",
    "ax[0].set_ylabel('True label')\n",
    "ax[0].set_title('XGBoost ROS - Training confusion matrix')\n",
    "\n",
    "sns.heatmap(cm_3b_test, annot=True, fmt = '', cmap = 'Reds',ax = ax[1])\n",
    "ax[1].set_xlabel('Predicted label')\n",
    "ax[1].set_ylabel('True label')\n",
    "ax[1].set_title('XGBoost ROS - Testing confusion matrix')"
   ]
  },
  {
   "cell_type": "code",
   "execution_count": 69,
   "id": "01487017",
   "metadata": {},
   "outputs": [
    {
     "name": "stdout",
     "output_type": "stream",
     "text": [
      "[Training Classification Report]\n",
      "              precision    recall  f1-score   support\n",
      "\n",
      "       valid       1.00      0.99      1.00   1474073\n",
      "       fraud       0.99      1.00      1.00   1474073\n",
      "\n",
      "    accuracy                           1.00   2948146\n",
      "   macro avg       1.00      1.00      1.00   2948146\n",
      "weighted avg       1.00      1.00      1.00   2948146\n",
      "\n",
      "[Test Classification Report]\n",
      "              precision    recall  f1-score   support\n",
      "\n",
      "       valid       1.00      0.99      1.00    368519\n",
      "       fraud       0.42      0.95      0.58      1930\n",
      "\n",
      "    accuracy                           0.99    370449\n",
      "   macro avg       0.71      0.97      0.79    370449\n",
      "weighted avg       1.00      0.99      0.99    370449\n",
      "\n"
     ]
    }
   ],
   "source": [
    "target_names = ['valid', 'fraud']\n",
    "\n",
    "print(\"[Training Classification Report]\")\n",
    "print(classification_report(y_train_ros_np, y_pred_train_3b, target_names=target_names))\n",
    "\n",
    "print(\"[Test Classification Report]\")\n",
    "print(classification_report(y_test_np, y_pred_test_3b, target_names=target_names))"
   ]
  },
  {
   "cell_type": "code",
   "execution_count": 70,
   "id": "78f01f4b",
   "metadata": {
    "scrolled": false
   },
   "outputs": [
    {
     "data": {
      "text/html": [
       "<div>\n",
       "<style scoped>\n",
       "    .dataframe tbody tr th:only-of-type {\n",
       "        vertical-align: middle;\n",
       "    }\n",
       "\n",
       "    .dataframe tbody tr th {\n",
       "        vertical-align: top;\n",
       "    }\n",
       "\n",
       "    .dataframe thead th {\n",
       "        text-align: right;\n",
       "    }\n",
       "</style>\n",
       "<table border=\"1\" class=\"dataframe\">\n",
       "  <thead>\n",
       "    <tr style=\"text-align: right;\">\n",
       "      <th></th>\n",
       "      <th>Algorithm</th>\n",
       "      <th>Class Balancing</th>\n",
       "      <th>Train Precision</th>\n",
       "      <th>Train Recall</th>\n",
       "      <th>Train f1</th>\n",
       "      <th>Train Support</th>\n",
       "      <th>Test Precision</th>\n",
       "      <th>Test Recall</th>\n",
       "      <th>Test f1</th>\n",
       "      <th>Test Support</th>\n",
       "    </tr>\n",
       "  </thead>\n",
       "  <tbody>\n",
       "    <tr>\n",
       "      <th>0</th>\n",
       "      <td>Logistic Regression</td>\n",
       "      <td>Random Under Sampling</td>\n",
       "      <td>0.900475</td>\n",
       "      <td>0.860122</td>\n",
       "      <td>0.879836</td>\n",
       "      <td>7721</td>\n",
       "      <td>0.043136</td>\n",
       "      <td>0.859067</td>\n",
       "      <td>0.082146</td>\n",
       "      <td>1930</td>\n",
       "    </tr>\n",
       "    <tr>\n",
       "      <th>1</th>\n",
       "      <td>Logistic Regression</td>\n",
       "      <td>Random Over Sampling</td>\n",
       "      <td>0.897946</td>\n",
       "      <td>0.858799</td>\n",
       "      <td>0.877937</td>\n",
       "      <td>1474073</td>\n",
       "      <td>0.043753</td>\n",
       "      <td>0.854404</td>\n",
       "      <td>0.083243</td>\n",
       "      <td>1930</td>\n",
       "    </tr>\n",
       "    <tr>\n",
       "      <th>2</th>\n",
       "      <td>Logistic Regression</td>\n",
       "      <td>SMOTE</td>\n",
       "      <td>0.900986</td>\n",
       "      <td>0.863715</td>\n",
       "      <td>0.881957</td>\n",
       "      <td>1474073</td>\n",
       "      <td>0.045073</td>\n",
       "      <td>0.854922</td>\n",
       "      <td>0.085632</td>\n",
       "      <td>1930</td>\n",
       "    </tr>\n",
       "    <tr>\n",
       "      <th>3</th>\n",
       "      <td>Logistic Regression</td>\n",
       "      <td>Balanced weight</td>\n",
       "      <td>0.044084</td>\n",
       "      <td>0.858568</td>\n",
       "      <td>0.083862</td>\n",
       "      <td>7721</td>\n",
       "      <td>0.043811</td>\n",
       "      <td>0.854404</td>\n",
       "      <td>0.083348</td>\n",
       "      <td>1930</td>\n",
       "    </tr>\n",
       "    <tr>\n",
       "      <th>4</th>\n",
       "      <td>Random Forest</td>\n",
       "      <td>Random Under Sampling</td>\n",
       "      <td>1.000000</td>\n",
       "      <td>1.000000</td>\n",
       "      <td>1.000000</td>\n",
       "      <td>7721</td>\n",
       "      <td>0.199521</td>\n",
       "      <td>0.949223</td>\n",
       "      <td>0.329734</td>\n",
       "      <td>1930</td>\n",
       "    </tr>\n",
       "    <tr>\n",
       "      <th>5</th>\n",
       "      <td>Random Forest</td>\n",
       "      <td>Random Over Sampling</td>\n",
       "      <td>1.000000</td>\n",
       "      <td>1.000000</td>\n",
       "      <td>1.000000</td>\n",
       "      <td>1474073</td>\n",
       "      <td>0.931694</td>\n",
       "      <td>0.706736</td>\n",
       "      <td>0.803771</td>\n",
       "      <td>1930</td>\n",
       "    </tr>\n",
       "    <tr>\n",
       "      <th>6</th>\n",
       "      <td>Random Forest</td>\n",
       "      <td>SMOTE</td>\n",
       "      <td>1.000000</td>\n",
       "      <td>1.000000</td>\n",
       "      <td>1.000000</td>\n",
       "      <td>1474073</td>\n",
       "      <td>0.775593</td>\n",
       "      <td>0.796891</td>\n",
       "      <td>0.786098</td>\n",
       "      <td>1930</td>\n",
       "    </tr>\n",
       "    <tr>\n",
       "      <th>7</th>\n",
       "      <td>Random Forest</td>\n",
       "      <td>Balanced weight</td>\n",
       "      <td>1.000000</td>\n",
       "      <td>0.999352</td>\n",
       "      <td>0.999676</td>\n",
       "      <td>7721</td>\n",
       "      <td>0.961029</td>\n",
       "      <td>0.638860</td>\n",
       "      <td>0.767507</td>\n",
       "      <td>1930</td>\n",
       "    </tr>\n",
       "    <tr>\n",
       "      <th>8</th>\n",
       "      <td>XGBoost</td>\n",
       "      <td>Random Under Sampling</td>\n",
       "      <td>0.999870</td>\n",
       "      <td>0.999741</td>\n",
       "      <td>0.999806</td>\n",
       "      <td>7721</td>\n",
       "      <td>0.192803</td>\n",
       "      <td>0.977202</td>\n",
       "      <td>0.322063</td>\n",
       "      <td>1930</td>\n",
       "    </tr>\n",
       "    <tr>\n",
       "      <th>9</th>\n",
       "      <td>XGBoost</td>\n",
       "      <td>Random Over Sampling</td>\n",
       "      <td>0.993546</td>\n",
       "      <td>1.000000</td>\n",
       "      <td>0.996763</td>\n",
       "      <td>1474073</td>\n",
       "      <td>0.418360</td>\n",
       "      <td>0.949223</td>\n",
       "      <td>0.580758</td>\n",
       "      <td>1930</td>\n",
       "    </tr>\n",
       "  </tbody>\n",
       "</table>\n",
       "</div>"
      ],
      "text/plain": [
       "             Algorithm        Class Balancing  Train Precision  Train Recall  \\\n",
       "0  Logistic Regression  Random Under Sampling         0.900475      0.860122   \n",
       "1  Logistic Regression   Random Over Sampling         0.897946      0.858799   \n",
       "2  Logistic Regression                  SMOTE         0.900986      0.863715   \n",
       "3  Logistic Regression        Balanced weight         0.044084      0.858568   \n",
       "4        Random Forest  Random Under Sampling         1.000000      1.000000   \n",
       "5        Random Forest   Random Over Sampling         1.000000      1.000000   \n",
       "6        Random Forest                  SMOTE         1.000000      1.000000   \n",
       "7        Random Forest        Balanced weight         1.000000      0.999352   \n",
       "8              XGBoost  Random Under Sampling         0.999870      0.999741   \n",
       "9              XGBoost   Random Over Sampling         0.993546      1.000000   \n",
       "\n",
       "   Train f1 Train Support  Test Precision  Test Recall   Test f1 Test Support  \n",
       "0  0.879836          7721        0.043136     0.859067  0.082146         1930  \n",
       "1  0.877937       1474073        0.043753     0.854404  0.083243         1930  \n",
       "2  0.881957       1474073        0.045073     0.854922  0.085632         1930  \n",
       "3  0.083862          7721        0.043811     0.854404  0.083348         1930  \n",
       "4  1.000000          7721        0.199521     0.949223  0.329734         1930  \n",
       "5  1.000000       1474073        0.931694     0.706736  0.803771         1930  \n",
       "6  1.000000       1474073        0.775593     0.796891  0.786098         1930  \n",
       "7  0.999676          7721        0.961029     0.638860  0.767507         1930  \n",
       "8  0.999806          7721        0.192803     0.977202  0.322063         1930  \n",
       "9  0.996763       1474073        0.418360     0.949223  0.580758         1930  "
      ]
     },
     "execution_count": 70,
     "metadata": {},
     "output_type": "execute_result"
    }
   ],
   "source": [
    "train_report_3b = classification_report(y_train_ros_np, y_pred_train_3b, target_names=target_names, output_dict = True)\n",
    "test_report_3b = classification_report(y_test_np, y_pred_test_3b, target_names=target_names, output_dict = True)\n",
    "\n",
    "add_metrics('XGBoost', 'Random Over Sampling', train_report_3b, test_report_3b)\n",
    "metrics"
   ]
  },
  {
   "cell_type": "markdown",
   "id": "4a3ece93",
   "metadata": {},
   "source": [
    "### 3c) with SMOTE"
   ]
  },
  {
   "cell_type": "code",
   "execution_count": 71,
   "id": "97de6cb0",
   "metadata": {},
   "outputs": [],
   "source": [
    "xg_sm = xgb.XGBClassifier(eval_metric = 'logloss', use_label_encoder=False, seed = 42)\n",
    "xg_sm.fit(X_train_sm_np, y_train_sm_np)\n",
    "\n",
    "y_pred_train_3c = xg_sm.predict(X_train_sm_np)\n",
    "y_pred_test_3c = xg_sm.predict(X_test_np)"
   ]
  },
  {
   "cell_type": "code",
   "execution_count": 72,
   "id": "25ddea92",
   "metadata": {},
   "outputs": [],
   "source": [
    "cm_3c_train = confusion_matrix(y_train_sm_np,y_pred_train_3c)\n",
    "cm_3c_test = confusion_matrix(y_test_np,y_pred_test_3c)"
   ]
  },
  {
   "cell_type": "code",
   "execution_count": 73,
   "id": "e721c734",
   "metadata": {},
   "outputs": [
    {
     "data": {
      "text/plain": [
       "Text(0.5, 1.0, 'XGBoost SMOTE - Testing confusion matrix')"
      ]
     },
     "execution_count": 73,
     "metadata": {},
     "output_type": "execute_result"
    },
    {
     "data": {
      "image/png": "[encoded data removed]",
      "text/plain": [
       "<Figure size 864x360 with 4 Axes>"
      ]
     },
     "metadata": {
      "needs_background": "light"
     },
     "output_type": "display_data"
    }
   ],
   "source": [
    "fig, ax = plt.subplots(1,2, figsize=(12,5))\n",
    "sns.heatmap(cm_3c_train, annot=True, fmt = '', cmap = 'Blues',ax = ax[0])\n",
    "ax[0].set_xlabel('Predicted label')\n",
    "ax[0].set_ylabel('True label')\n",
    "ax[0].set_title('XGBoost SMOTE - Training confusion matrix')\n",
    "\n",
    "sns.heatmap(cm_3c_test, annot=True, fmt = '', cmap = 'Reds',ax = ax[1])\n",
    "ax[1].set_xlabel('Predicted label')\n",
    "ax[1].set_ylabel('True label')\n",
    "ax[1].set_title('XGBoost SMOTE - Testing confusion matrix')"
   ]
  },
  {
   "cell_type": "code",
   "execution_count": 74,
   "id": "eb410c47",
   "metadata": {},
   "outputs": [
    {
     "name": "stdout",
     "output_type": "stream",
     "text": [
      "[Training Classification Report]\n",
      "              precision    recall  f1-score   support\n",
      "\n",
      "       valid       1.00      1.00      1.00   1474073\n",
      "       fraud       1.00      1.00      1.00   1474073\n",
      "\n",
      "    accuracy                           1.00   2948146\n",
      "   macro avg       1.00      1.00      1.00   2948146\n",
      "weighted avg       1.00      1.00      1.00   2948146\n",
      "\n",
      "[Test Classification Report]\n",
      "              precision    recall  f1-score   support\n",
      "\n",
      "       valid       1.00      1.00      1.00    368519\n",
      "       fraud       0.74      0.83      0.79      1930\n",
      "\n",
      "    accuracy                           1.00    370449\n",
      "   macro avg       0.87      0.91      0.89    370449\n",
      "weighted avg       1.00      1.00      1.00    370449\n",
      "\n"
     ]
    }
   ],
   "source": [
    "target_names = ['valid', 'fraud']\n",
    "\n",
    "print(\"[Training Classification Report]\")\n",
    "print(classification_report(y_train_sm_np, y_pred_train_3c, target_names=target_names))\n",
    "\n",
    "print(\"[Test Classification Report]\")\n",
    "print(classification_report(y_test_np, y_pred_test_3c, target_names=target_names))"
   ]
  },
  {
   "cell_type": "code",
   "execution_count": 75,
   "id": "eca5c574",
   "metadata": {},
   "outputs": [
    {
     "data": {
      "text/html": [
       "<div>\n",
       "<style scoped>\n",
       "    .dataframe tbody tr th:only-of-type {\n",
       "        vertical-align: middle;\n",
       "    }\n",
       "\n",
       "    .dataframe tbody tr th {\n",
       "        vertical-align: top;\n",
       "    }\n",
       "\n",
       "    .dataframe thead th {\n",
       "        text-align: right;\n",
       "    }\n",
       "</style>\n",
       "<table border=\"1\" class=\"dataframe\">\n",
       "  <thead>\n",
       "    <tr style=\"text-align: right;\">\n",
       "      <th></th>\n",
       "      <th>Algorithm</th>\n",
       "      <th>Class Balancing</th>\n",
       "      <th>Train Precision</th>\n",
       "      <th>Train Recall</th>\n",
       "      <th>Train f1</th>\n",
       "      <th>Train Support</th>\n",
       "      <th>Test Precision</th>\n",
       "      <th>Test Recall</th>\n",
       "      <th>Test f1</th>\n",
       "      <th>Test Support</th>\n",
       "    </tr>\n",
       "  </thead>\n",
       "  <tbody>\n",
       "    <tr>\n",
       "      <th>0</th>\n",
       "      <td>Logistic Regression</td>\n",
       "      <td>Random Under Sampling</td>\n",
       "      <td>0.900475</td>\n",
       "      <td>0.860122</td>\n",
       "      <td>0.879836</td>\n",
       "      <td>7721</td>\n",
       "      <td>0.043136</td>\n",
       "      <td>0.859067</td>\n",
       "      <td>0.082146</td>\n",
       "      <td>1930</td>\n",
       "    </tr>\n",
       "    <tr>\n",
       "      <th>1</th>\n",
       "      <td>Logistic Regression</td>\n",
       "      <td>Random Over Sampling</td>\n",
       "      <td>0.897946</td>\n",
       "      <td>0.858799</td>\n",
       "      <td>0.877937</td>\n",
       "      <td>1474073</td>\n",
       "      <td>0.043753</td>\n",
       "      <td>0.854404</td>\n",
       "      <td>0.083243</td>\n",
       "      <td>1930</td>\n",
       "    </tr>\n",
       "    <tr>\n",
       "      <th>2</th>\n",
       "      <td>Logistic Regression</td>\n",
       "      <td>SMOTE</td>\n",
       "      <td>0.900986</td>\n",
       "      <td>0.863715</td>\n",
       "      <td>0.881957</td>\n",
       "      <td>1474073</td>\n",
       "      <td>0.045073</td>\n",
       "      <td>0.854922</td>\n",
       "      <td>0.085632</td>\n",
       "      <td>1930</td>\n",
       "    </tr>\n",
       "    <tr>\n",
       "      <th>3</th>\n",
       "      <td>Logistic Regression</td>\n",
       "      <td>Balanced weight</td>\n",
       "      <td>0.044084</td>\n",
       "      <td>0.858568</td>\n",
       "      <td>0.083862</td>\n",
       "      <td>7721</td>\n",
       "      <td>0.043811</td>\n",
       "      <td>0.854404</td>\n",
       "      <td>0.083348</td>\n",
       "      <td>1930</td>\n",
       "    </tr>\n",
       "    <tr>\n",
       "      <th>4</th>\n",
       "      <td>Random Forest</td>\n",
       "      <td>Random Under Sampling</td>\n",
       "      <td>1.000000</td>\n",
       "      <td>1.000000</td>\n",
       "      <td>1.000000</td>\n",
       "      <td>7721</td>\n",
       "      <td>0.199521</td>\n",
       "      <td>0.949223</td>\n",
       "      <td>0.329734</td>\n",
       "      <td>1930</td>\n",
       "    </tr>\n",
       "    <tr>\n",
       "      <th>5</th>\n",
       "      <td>Random Forest</td>\n",
       "      <td>Random Over Sampling</td>\n",
       "      <td>1.000000</td>\n",
       "      <td>1.000000</td>\n",
       "      <td>1.000000</td>\n",
       "      <td>1474073</td>\n",
       "      <td>0.931694</td>\n",
       "      <td>0.706736</td>\n",
       "      <td>0.803771</td>\n",
       "      <td>1930</td>\n",
       "    </tr>\n",
       "    <tr>\n",
       "      <th>6</th>\n",
       "      <td>Random Forest</td>\n",
       "      <td>SMOTE</td>\n",
       "      <td>1.000000</td>\n",
       "      <td>1.000000</td>\n",
       "      <td>1.000000</td>\n",
       "      <td>1474073</td>\n",
       "      <td>0.775593</td>\n",
       "      <td>0.796891</td>\n",
       "      <td>0.786098</td>\n",
       "      <td>1930</td>\n",
       "    </tr>\n",
       "    <tr>\n",
       "      <th>7</th>\n",
       "      <td>Random Forest</td>\n",
       "      <td>Balanced weight</td>\n",
       "      <td>1.000000</td>\n",
       "      <td>0.999352</td>\n",
       "      <td>0.999676</td>\n",
       "      <td>7721</td>\n",
       "      <td>0.961029</td>\n",
       "      <td>0.638860</td>\n",
       "      <td>0.767507</td>\n",
       "      <td>1930</td>\n",
       "    </tr>\n",
       "    <tr>\n",
       "      <th>8</th>\n",
       "      <td>XGBoost</td>\n",
       "      <td>Random Under Sampling</td>\n",
       "      <td>0.999870</td>\n",
       "      <td>0.999741</td>\n",
       "      <td>0.999806</td>\n",
       "      <td>7721</td>\n",
       "      <td>0.192803</td>\n",
       "      <td>0.977202</td>\n",
       "      <td>0.322063</td>\n",
       "      <td>1930</td>\n",
       "    </tr>\n",
       "    <tr>\n",
       "      <th>9</th>\n",
       "      <td>XGBoost</td>\n",
       "      <td>Random Over Sampling</td>\n",
       "      <td>0.993546</td>\n",
       "      <td>1.000000</td>\n",
       "      <td>0.996763</td>\n",
       "      <td>1474073</td>\n",
       "      <td>0.418360</td>\n",
       "      <td>0.949223</td>\n",
       "      <td>0.580758</td>\n",
       "      <td>1930</td>\n",
       "    </tr>\n",
       "    <tr>\n",
       "      <th>10</th>\n",
       "      <td>XGBoost</td>\n",
       "      <td>SMOTE</td>\n",
       "      <td>0.998797</td>\n",
       "      <td>0.999036</td>\n",
       "      <td>0.998917</td>\n",
       "      <td>1474073</td>\n",
       "      <td>0.744542</td>\n",
       "      <td>0.830570</td>\n",
       "      <td>0.785207</td>\n",
       "      <td>1930</td>\n",
       "    </tr>\n",
       "  </tbody>\n",
       "</table>\n",
       "</div>"
      ],
      "text/plain": [
       "              Algorithm        Class Balancing  Train Precision  Train Recall  \\\n",
       "0   Logistic Regression  Random Under Sampling         0.900475      0.860122   \n",
       "1   Logistic Regression   Random Over Sampling         0.897946      0.858799   \n",
       "2   Logistic Regression                  SMOTE         0.900986      0.863715   \n",
       "3   Logistic Regression        Balanced weight         0.044084      0.858568   \n",
       "4         Random Forest  Random Under Sampling         1.000000      1.000000   \n",
       "5         Random Forest   Random Over Sampling         1.000000      1.000000   \n",
       "6         Random Forest                  SMOTE         1.000000      1.000000   \n",
       "7         Random Forest        Balanced weight         1.000000      0.999352   \n",
       "8               XGBoost  Random Under Sampling         0.999870      0.999741   \n",
       "9               XGBoost   Random Over Sampling         0.993546      1.000000   \n",
       "10              XGBoost                  SMOTE         0.998797      0.999036   \n",
       "\n",
       "    Train f1 Train Support  Test Precision  Test Recall   Test f1 Test Support  \n",
       "0   0.879836          7721        0.043136     0.859067  0.082146         1930  \n",
       "1   0.877937       1474073        0.043753     0.854404  0.083243         1930  \n",
       "2   0.881957       1474073        0.045073     0.854922  0.085632         1930  \n",
       "3   0.083862          7721        0.043811     0.854404  0.083348         1930  \n",
       "4   1.000000          7721        0.199521     0.949223  0.329734         1930  \n",
       "5   1.000000       1474073        0.931694     0.706736  0.803771         1930  \n",
       "6   1.000000       1474073        0.775593     0.796891  0.786098         1930  \n",
       "7   0.999676          7721        0.961029     0.638860  0.767507         1930  \n",
       "8   0.999806          7721        0.192803     0.977202  0.322063         1930  \n",
       "9   0.996763       1474073        0.418360     0.949223  0.580758         1930  \n",
       "10  0.998917       1474073        0.744542     0.830570  0.785207         1930  "
      ]
     },
     "execution_count": 75,
     "metadata": {},
     "output_type": "execute_result"
    }
   ],
   "source": [
    "train_report_3c = classification_report(y_train_sm_np, y_pred_train_3c, target_names=target_names, output_dict = True)\n",
    "test_report_3c = classification_report(y_test_np, y_pred_test_3c, target_names=target_names, output_dict = True)\n",
    "\n",
    "add_metrics('XGBoost', 'SMOTE', train_report_3c, test_report_3c)\n",
    "metrics"
   ]
  },
  {
   "cell_type": "markdown",
   "id": "5fafc11a",
   "metadata": {},
   "source": [
    "### 3d) with class_weight = balanced"
   ]
  },
  {
   "cell_type": "markdown",
   "id": "055295e0",
   "metadata": {},
   "source": [
    "We will use the \"scale_pos_weight\" parameter of the XGBClassifier to train a class weighted version of XGboost for imbalanced classification.  A reasonable way to scale the positive class is to use the total number of examples in the majority class divided by the total number of examples in the minority class."
   ]
  },
  {
   "cell_type": "code",
   "execution_count": 76,
   "id": "866ab3e9",
   "metadata": {},
   "outputs": [
    {
     "name": "stdout",
     "output_type": "stream",
     "text": [
      "Unique Values :  [0 1]\n",
      "Occurrence Count :  [1474073    7721]\n"
     ]
    }
   ],
   "source": [
    "uniqueValues, occurCount = np.unique(y_train_np, return_counts=True)\n",
    "print(\"Unique Values : \" , uniqueValues)\n",
    "print(\"Occurrence Count : \", occurCount)"
   ]
  },
  {
   "cell_type": "code",
   "execution_count": 77,
   "id": "60987c75",
   "metadata": {},
   "outputs": [
    {
     "data": {
      "text/plain": [
       "191"
      ]
     },
     "execution_count": 77,
     "metadata": {},
     "output_type": "execute_result"
    }
   ],
   "source": [
    "weight = occurCount[0] / occurCount[1]\n",
    "weight = round(weight)\n",
    "weight"
   ]
  },
  {
   "cell_type": "code",
   "execution_count": 78,
   "id": "66bb7982",
   "metadata": {},
   "outputs": [],
   "source": [
    "xg_cw = xgb.XGBClassifier(eval_metric = 'logloss', use_label_encoder=False, scale_pos_weight = weight, seed = 42)\n",
    "xg_cw.fit(X_train_np, y_train_np)\n",
    "\n",
    "y_pred_train_3d = xg_cw.predict(X_train_np)\n",
    "y_pred_test_3d = xg_cw.predict(X_test_np)"
   ]
  },
  {
   "cell_type": "code",
   "execution_count": 79,
   "id": "cdcaee33",
   "metadata": {},
   "outputs": [],
   "source": [
    "cm_3d_train = confusion_matrix(y_train_np,y_pred_train_3d)\n",
    "cm_3d_test = confusion_matrix(y_test_np,y_pred_test_3d)"
   ]
  },
  {
   "cell_type": "code",
   "execution_count": 80,
   "id": "f1d2b4bb",
   "metadata": {},
   "outputs": [
    {
     "data": {
      "text/plain": [
       "Text(0.5, 1.0, 'XGBoost SMOTE - Testing confusion matrix')"
      ]
     },
     "execution_count": 80,
     "metadata": {},
     "output_type": "execute_result"
    },
    {
     "data": {
      "image/png": "[encoded data removed]",
      "text/plain": [
       "<Figure size 864x360 with 4 Axes>"
      ]
     },
     "metadata": {
      "needs_background": "light"
     },
     "output_type": "display_data"
    }
   ],
   "source": [
    "fig, ax = plt.subplots(1,2, figsize=(12,5))\n",
    "sns.heatmap(cm_3d_train, annot=True, fmt = '', cmap = 'Blues',ax = ax[0])\n",
    "ax[0].set_xlabel('Predicted label')\n",
    "ax[0].set_ylabel('True label')\n",
    "ax[0].set_title('XGBoost SMOTE - Training confusion matrix')\n",
    "\n",
    "sns.heatmap(cm_3d_test, annot=True, fmt = '', cmap = 'Reds',ax = ax[1])\n",
    "ax[1].set_xlabel('Predicted label')\n",
    "ax[1].set_ylabel('True label')\n",
    "ax[1].set_title('XGBoost SMOTE - Testing confusion matrix')"
   ]
  },
  {
   "cell_type": "code",
   "execution_count": 81,
   "id": "3982f9d6",
   "metadata": {},
   "outputs": [
    {
     "name": "stdout",
     "output_type": "stream",
     "text": [
      "[Training Classification Report]\n",
      "              precision    recall  f1-score   support\n",
      "\n",
      "       valid       1.00      0.99      1.00   1474073\n",
      "       fraud       0.45      1.00      0.62      7721\n",
      "\n",
      "    accuracy                           0.99   1481794\n",
      "   macro avg       0.72      1.00      0.81   1481794\n",
      "weighted avg       1.00      0.99      0.99   1481794\n",
      "\n",
      "[Test Classification Report]\n",
      "              precision    recall  f1-score   support\n",
      "\n",
      "       valid       1.00      0.99      1.00    368519\n",
      "       fraud       0.42      0.95      0.58      1930\n",
      "\n",
      "    accuracy                           0.99    370449\n",
      "   macro avg       0.71      0.97      0.79    370449\n",
      "weighted avg       1.00      0.99      0.99    370449\n",
      "\n"
     ]
    }
   ],
   "source": [
    "target_names = ['valid', 'fraud']\n",
    "\n",
    "print(\"[Training Classification Report]\")\n",
    "print(classification_report(y_train_np, y_pred_train_3d, target_names=target_names))\n",
    "\n",
    "print(\"[Test Classification Report]\")\n",
    "print(classification_report(y_test_np, y_pred_test_3d, target_names=target_names))"
   ]
  },
  {
   "cell_type": "code",
   "execution_count": 82,
   "id": "e6f818ba",
   "metadata": {
    "scrolled": false
   },
   "outputs": [
    {
     "data": {
      "text/html": [
       "<div>\n",
       "<style scoped>\n",
       "    .dataframe tbody tr th:only-of-type {\n",
       "        vertical-align: middle;\n",
       "    }\n",
       "\n",
       "    .dataframe tbody tr th {\n",
       "        vertical-align: top;\n",
       "    }\n",
       "\n",
       "    .dataframe thead th {\n",
       "        text-align: right;\n",
       "    }\n",
       "</style>\n",
       "<table border=\"1\" class=\"dataframe\">\n",
       "  <thead>\n",
       "    <tr style=\"text-align: right;\">\n",
       "      <th></th>\n",
       "      <th>Algorithm</th>\n",
       "      <th>Class Balancing</th>\n",
       "      <th>Train Precision</th>\n",
       "      <th>Train Recall</th>\n",
       "      <th>Train f1</th>\n",
       "      <th>Train Support</th>\n",
       "      <th>Test Precision</th>\n",
       "      <th>Test Recall</th>\n",
       "      <th>Test f1</th>\n",
       "      <th>Test Support</th>\n",
       "    </tr>\n",
       "  </thead>\n",
       "  <tbody>\n",
       "    <tr>\n",
       "      <th>0</th>\n",
       "      <td>Logistic Regression</td>\n",
       "      <td>Random Under Sampling</td>\n",
       "      <td>0.900475</td>\n",
       "      <td>0.860122</td>\n",
       "      <td>0.879836</td>\n",
       "      <td>7721</td>\n",
       "      <td>0.043136</td>\n",
       "      <td>0.859067</td>\n",
       "      <td>0.082146</td>\n",
       "      <td>1930</td>\n",
       "    </tr>\n",
       "    <tr>\n",
       "      <th>1</th>\n",
       "      <td>Logistic Regression</td>\n",
       "      <td>Random Over Sampling</td>\n",
       "      <td>0.897946</td>\n",
       "      <td>0.858799</td>\n",
       "      <td>0.877937</td>\n",
       "      <td>1474073</td>\n",
       "      <td>0.043753</td>\n",
       "      <td>0.854404</td>\n",
       "      <td>0.083243</td>\n",
       "      <td>1930</td>\n",
       "    </tr>\n",
       "    <tr>\n",
       "      <th>2</th>\n",
       "      <td>Logistic Regression</td>\n",
       "      <td>SMOTE</td>\n",
       "      <td>0.900986</td>\n",
       "      <td>0.863715</td>\n",
       "      <td>0.881957</td>\n",
       "      <td>1474073</td>\n",
       "      <td>0.045073</td>\n",
       "      <td>0.854922</td>\n",
       "      <td>0.085632</td>\n",
       "      <td>1930</td>\n",
       "    </tr>\n",
       "    <tr>\n",
       "      <th>3</th>\n",
       "      <td>Logistic Regression</td>\n",
       "      <td>Balanced weight</td>\n",
       "      <td>0.044084</td>\n",
       "      <td>0.858568</td>\n",
       "      <td>0.083862</td>\n",
       "      <td>7721</td>\n",
       "      <td>0.043811</td>\n",
       "      <td>0.854404</td>\n",
       "      <td>0.083348</td>\n",
       "      <td>1930</td>\n",
       "    </tr>\n",
       "    <tr>\n",
       "      <th>4</th>\n",
       "      <td>Random Forest</td>\n",
       "      <td>Random Under Sampling</td>\n",
       "      <td>1.000000</td>\n",
       "      <td>1.000000</td>\n",
       "      <td>1.000000</td>\n",
       "      <td>7721</td>\n",
       "      <td>0.199521</td>\n",
       "      <td>0.949223</td>\n",
       "      <td>0.329734</td>\n",
       "      <td>1930</td>\n",
       "    </tr>\n",
       "    <tr>\n",
       "      <th>5</th>\n",
       "      <td>Random Forest</td>\n",
       "      <td>Random Over Sampling</td>\n",
       "      <td>1.000000</td>\n",
       "      <td>1.000000</td>\n",
       "      <td>1.000000</td>\n",
       "      <td>1474073</td>\n",
       "      <td>0.931694</td>\n",
       "      <td>0.706736</td>\n",
       "      <td>0.803771</td>\n",
       "      <td>1930</td>\n",
       "    </tr>\n",
       "    <tr>\n",
       "      <th>6</th>\n",
       "      <td>Random Forest</td>\n",
       "      <td>SMOTE</td>\n",
       "      <td>1.000000</td>\n",
       "      <td>1.000000</td>\n",
       "      <td>1.000000</td>\n",
       "      <td>1474073</td>\n",
       "      <td>0.775593</td>\n",
       "      <td>0.796891</td>\n",
       "      <td>0.786098</td>\n",
       "      <td>1930</td>\n",
       "    </tr>\n",
       "    <tr>\n",
       "      <th>7</th>\n",
       "      <td>Random Forest</td>\n",
       "      <td>Balanced weight</td>\n",
       "      <td>1.000000</td>\n",
       "      <td>0.999352</td>\n",
       "      <td>0.999676</td>\n",
       "      <td>7721</td>\n",
       "      <td>0.961029</td>\n",
       "      <td>0.638860</td>\n",
       "      <td>0.767507</td>\n",
       "      <td>1930</td>\n",
       "    </tr>\n",
       "    <tr>\n",
       "      <th>8</th>\n",
       "      <td>XGBoost</td>\n",
       "      <td>Random Under Sampling</td>\n",
       "      <td>0.999870</td>\n",
       "      <td>0.999741</td>\n",
       "      <td>0.999806</td>\n",
       "      <td>7721</td>\n",
       "      <td>0.192803</td>\n",
       "      <td>0.977202</td>\n",
       "      <td>0.322063</td>\n",
       "      <td>1930</td>\n",
       "    </tr>\n",
       "    <tr>\n",
       "      <th>9</th>\n",
       "      <td>XGBoost</td>\n",
       "      <td>Random Over Sampling</td>\n",
       "      <td>0.993546</td>\n",
       "      <td>1.000000</td>\n",
       "      <td>0.996763</td>\n",
       "      <td>1474073</td>\n",
       "      <td>0.418360</td>\n",
       "      <td>0.949223</td>\n",
       "      <td>0.580758</td>\n",
       "      <td>1930</td>\n",
       "    </tr>\n",
       "    <tr>\n",
       "      <th>10</th>\n",
       "      <td>XGBoost</td>\n",
       "      <td>SMOTE</td>\n",
       "      <td>0.998797</td>\n",
       "      <td>0.999036</td>\n",
       "      <td>0.998917</td>\n",
       "      <td>1474073</td>\n",
       "      <td>0.744542</td>\n",
       "      <td>0.830570</td>\n",
       "      <td>0.785207</td>\n",
       "      <td>1930</td>\n",
       "    </tr>\n",
       "    <tr>\n",
       "      <th>11</th>\n",
       "      <td>XGBoost</td>\n",
       "      <td>Balanced weight</td>\n",
       "      <td>0.446533</td>\n",
       "      <td>1.000000</td>\n",
       "      <td>0.617384</td>\n",
       "      <td>7721</td>\n",
       "      <td>0.420313</td>\n",
       "      <td>0.945596</td>\n",
       "      <td>0.581952</td>\n",
       "      <td>1930</td>\n",
       "    </tr>\n",
       "  </tbody>\n",
       "</table>\n",
       "</div>"
      ],
      "text/plain": [
       "              Algorithm        Class Balancing  Train Precision  Train Recall  \\\n",
       "0   Logistic Regression  Random Under Sampling         0.900475      0.860122   \n",
       "1   Logistic Regression   Random Over Sampling         0.897946      0.858799   \n",
       "2   Logistic Regression                  SMOTE         0.900986      0.863715   \n",
       "3   Logistic Regression        Balanced weight         0.044084      0.858568   \n",
       "4         Random Forest  Random Under Sampling         1.000000      1.000000   \n",
       "5         Random Forest   Random Over Sampling         1.000000      1.000000   \n",
       "6         Random Forest                  SMOTE         1.000000      1.000000   \n",
       "7         Random Forest        Balanced weight         1.000000      0.999352   \n",
       "8               XGBoost  Random Under Sampling         0.999870      0.999741   \n",
       "9               XGBoost   Random Over Sampling         0.993546      1.000000   \n",
       "10              XGBoost                  SMOTE         0.998797      0.999036   \n",
       "11              XGBoost        Balanced weight         0.446533      1.000000   \n",
       "\n",
       "    Train f1 Train Support  Test Precision  Test Recall   Test f1 Test Support  \n",
       "0   0.879836          7721        0.043136     0.859067  0.082146         1930  \n",
       "1   0.877937       1474073        0.043753     0.854404  0.083243         1930  \n",
       "2   0.881957       1474073        0.045073     0.854922  0.085632         1930  \n",
       "3   0.083862          7721        0.043811     0.854404  0.083348         1930  \n",
       "4   1.000000          7721        0.199521     0.949223  0.329734         1930  \n",
       "5   1.000000       1474073        0.931694     0.706736  0.803771         1930  \n",
       "6   1.000000       1474073        0.775593     0.796891  0.786098         1930  \n",
       "7   0.999676          7721        0.961029     0.638860  0.767507         1930  \n",
       "8   0.999806          7721        0.192803     0.977202  0.322063         1930  \n",
       "9   0.996763       1474073        0.418360     0.949223  0.580758         1930  \n",
       "10  0.998917       1474073        0.744542     0.830570  0.785207         1930  \n",
       "11  0.617384          7721        0.420313     0.945596  0.581952         1930  "
      ]
     },
     "execution_count": 82,
     "metadata": {},
     "output_type": "execute_result"
    }
   ],
   "source": [
    "train_report_3d = classification_report(y_train_np, y_pred_train_3d, target_names=target_names, output_dict = True)\n",
    "test_report_3d = classification_report(y_test_np, y_pred_test_3d, target_names=target_names, output_dict = True)\n",
    "\n",
    "add_metrics('XGBoost', 'Balanced weight', train_report_3d, test_report_3d)\n",
    "metrics"
   ]
  },
  {
   "cell_type": "markdown",
   "id": "1eeafd60",
   "metadata": {},
   "source": [
    "## Summary and next steps:"
   ]
  },
  {
   "cell_type": "markdown",
   "id": "eb6f76bd",
   "metadata": {},
   "source": [
    "In total, we've trained 12 'vanilla' models thus far combining an algorithm with a resampling (or class weight balancing) method. If we wanted to optimize recall, then the top two models would be XGBoost with random under sampling and XGBoost with random oversampling.  Unfortunately these two models have low precision values that are concerning to the potential business client.  In other words, while these models are able to capture a high percentage of the actual fraud cases, it also mislabels a significant number of valid transactions as fraudulent.\n",
    "\n",
    "Taking a look at the f1-score, our top three models are:\n",
    "\n",
    "<b>1. Random Forest with random over sampling </b>\n",
    "\n",
    "<b>2. Random Forest with SMOTE</b>\n",
    "\n",
    "<b>3. XGBoost with SMOTE</b>\n",
    "\n",
    "In the next notebok, we will apply hyperparameter tuning to these three models to see if we can see any further improvements and decide on our model from there.  We'll save our resampled datasets to use in the next notebook."
   ]
  },
  {
   "cell_type": "code",
   "execution_count": 83,
   "id": "141588cc",
   "metadata": {},
   "outputs": [],
   "source": [
    "X_train_rus.to_csv('../raw_data/X_train_rus.csv')\n",
    "y_train_rus.to_csv('../raw_data/y_train_rus.csv')\n",
    "X_train_ros.to_csv('../raw_data/X_train_ros.csv')\n",
    "y_train_ros.to_csv('../raw_data/y_train_ros.csv')\n",
    "X_train_sm.to_csv('../raw_data/X_train_sm.csv')\n",
    "y_train_sm.to_csv('../raw_data/y_train_sm.csv')"
   ]
  },
  {
   "cell_type": "code",
   "execution_count": 84,
   "id": "eb3e6aa5",
   "metadata": {},
   "outputs": [],
   "source": [
    "metrics.to_csv('../raw_data/metrics.csv')"
   ]
  }
 ],
 "metadata": {
  "kernelspec": {
   "display_name": "Python 3 (ipykernel)",
   "language": "python",
   "name": "python3"
  },
  "language_info": {
   "codemirror_mode": {
    "name": "ipython",
    "version": 3
   },
   "file_extension": ".py",
   "mimetype": "text/x-python",
   "name": "python",
   "nbconvert_exporter": "python",
   "pygments_lexer": "ipython3",
   "version": "3.8.12"
  }
 },
 "nbformat": 4,
 "nbformat_minor": 5
}
