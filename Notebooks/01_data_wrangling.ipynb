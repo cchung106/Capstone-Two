{
 "cells": [
  {
   "cell_type": "markdown",
   "id": "9668f357",
   "metadata": {},
   "source": [
    "# Imports"
   ]
  },
  {
   "cell_type": "code",
   "execution_count": 1,
   "id": "d98f8332",
   "metadata": {},
   "outputs": [],
   "source": [
    "import pandas as pd\n",
    "import matplotlib.pyplot as plt\n",
    "import datetime as dt"
   ]
  },
  {
   "cell_type": "markdown",
   "id": "154eaeb3",
   "metadata": {},
   "source": [
    "# Load the train dataset"
   ]
  },
  {
   "cell_type": "code",
   "execution_count": 2,
   "id": "816b7593",
   "metadata": {},
   "outputs": [],
   "source": [
    "cc_data = pd.read_csv('../raw_data/fraudTrain.csv', index_col=0)"
   ]
  },
  {
   "cell_type": "code",
   "execution_count": 3,
   "id": "c4f06c64",
   "metadata": {
    "scrolled": true
   },
   "outputs": [
    {
     "name": "stdout",
     "output_type": "stream",
     "text": [
      "<class 'pandas.core.frame.DataFrame'>\n",
      "Int64Index: 1296675 entries, 0 to 1296674\n",
      "Data columns (total 22 columns):\n",
      " #   Column                 Non-Null Count    Dtype  \n",
      "---  ------                 --------------    -----  \n",
      " 0   trans_date_trans_time  1296675 non-null  object \n",
      " 1   cc_num                 1296675 non-null  int64  \n",
      " 2   merchant               1296675 non-null  object \n",
      " 3   category               1296675 non-null  object \n",
      " 4   amt                    1296675 non-null  float64\n",
      " 5   first                  1296675 non-null  object \n",
      " 6   last                   1296675 non-null  object \n",
      " 7   gender                 1296675 non-null  object \n",
      " 8   street                 1296675 non-null  object \n",
      " 9   city                   1296675 non-null  object \n",
      " 10  state                  1296675 non-null  object \n",
      " 11  zip                    1296675 non-null  int64  \n",
      " 12  lat                    1296675 non-null  float64\n",
      " 13  long                   1296675 non-null  float64\n",
      " 14  city_pop               1296675 non-null  int64  \n",
      " 15  job                    1296675 non-null  object \n",
      " 16  dob                    1296675 non-null  object \n",
      " 17  trans_num              1296675 non-null  object \n",
      " 18  unix_time              1296675 non-null  int64  \n",
      " 19  merch_lat              1296675 non-null  float64\n",
      " 20  merch_long             1296675 non-null  float64\n",
      " 21  is_fraud               1296675 non-null  int64  \n",
      "dtypes: float64(5), int64(5), object(12)\n",
      "memory usage: 227.5+ MB\n"
     ]
    }
   ],
   "source": [
    "cc_data.info()"
   ]
  },
  {
   "cell_type": "code",
   "execution_count": 4,
   "id": "2296059b",
   "metadata": {},
   "outputs": [
    {
     "data": {
      "text/html": [
       "<div>\n",
       "<style scoped>\n",
       "    .dataframe tbody tr th:only-of-type {\n",
       "        vertical-align: middle;\n",
       "    }\n",
       "\n",
       "    .dataframe tbody tr th {\n",
       "        vertical-align: top;\n",
       "    }\n",
       "\n",
       "    .dataframe thead th {\n",
       "        text-align: right;\n",
       "    }\n",
       "</style>\n",
       "<table border=\"1\" class=\"dataframe\">\n",
       "  <thead>\n",
       "    <tr style=\"text-align: right;\">\n",
       "      <th></th>\n",
       "      <th>trans_date_trans_time</th>\n",
       "      <th>cc_num</th>\n",
       "      <th>merchant</th>\n",
       "      <th>category</th>\n",
       "      <th>amt</th>\n",
       "      <th>first</th>\n",
       "      <th>last</th>\n",
       "      <th>gender</th>\n",
       "      <th>street</th>\n",
       "      <th>city</th>\n",
       "      <th>...</th>\n",
       "      <th>lat</th>\n",
       "      <th>long</th>\n",
       "      <th>city_pop</th>\n",
       "      <th>job</th>\n",
       "      <th>dob</th>\n",
       "      <th>trans_num</th>\n",
       "      <th>unix_time</th>\n",
       "      <th>merch_lat</th>\n",
       "      <th>merch_long</th>\n",
       "      <th>is_fraud</th>\n",
       "    </tr>\n",
       "  </thead>\n",
       "  <tbody>\n",
       "    <tr>\n",
       "      <th>0</th>\n",
       "      <td>2019-01-01 00:00:18</td>\n",
       "      <td>2703186189652095</td>\n",
       "      <td>fraud_Rippin, Kub and Mann</td>\n",
       "      <td>misc_net</td>\n",
       "      <td>4.97</td>\n",
       "      <td>Jennifer</td>\n",
       "      <td>Banks</td>\n",
       "      <td>F</td>\n",
       "      <td>561 Perry Cove</td>\n",
       "      <td>Moravian Falls</td>\n",
       "      <td>...</td>\n",
       "      <td>36.0788</td>\n",
       "      <td>-81.1781</td>\n",
       "      <td>3495</td>\n",
       "      <td>Psychologist, counselling</td>\n",
       "      <td>1988-03-09</td>\n",
       "      <td>0b242abb623afc578575680df30655b9</td>\n",
       "      <td>1325376018</td>\n",
       "      <td>36.011293</td>\n",
       "      <td>-82.048315</td>\n",
       "      <td>0</td>\n",
       "    </tr>\n",
       "    <tr>\n",
       "      <th>1</th>\n",
       "      <td>2019-01-01 00:00:44</td>\n",
       "      <td>630423337322</td>\n",
       "      <td>fraud_Heller, Gutmann and Zieme</td>\n",
       "      <td>grocery_pos</td>\n",
       "      <td>107.23</td>\n",
       "      <td>Stephanie</td>\n",
       "      <td>Gill</td>\n",
       "      <td>F</td>\n",
       "      <td>43039 Riley Greens Suite 393</td>\n",
       "      <td>Orient</td>\n",
       "      <td>...</td>\n",
       "      <td>48.8878</td>\n",
       "      <td>-118.2105</td>\n",
       "      <td>149</td>\n",
       "      <td>Special educational needs teacher</td>\n",
       "      <td>1978-06-21</td>\n",
       "      <td>1f76529f8574734946361c461b024d99</td>\n",
       "      <td>1325376044</td>\n",
       "      <td>49.159047</td>\n",
       "      <td>-118.186462</td>\n",
       "      <td>0</td>\n",
       "    </tr>\n",
       "    <tr>\n",
       "      <th>2</th>\n",
       "      <td>2019-01-01 00:00:51</td>\n",
       "      <td>38859492057661</td>\n",
       "      <td>fraud_Lind-Buckridge</td>\n",
       "      <td>entertainment</td>\n",
       "      <td>220.11</td>\n",
       "      <td>Edward</td>\n",
       "      <td>Sanchez</td>\n",
       "      <td>M</td>\n",
       "      <td>594 White Dale Suite 530</td>\n",
       "      <td>Malad City</td>\n",
       "      <td>...</td>\n",
       "      <td>42.1808</td>\n",
       "      <td>-112.2620</td>\n",
       "      <td>4154</td>\n",
       "      <td>Nature conservation officer</td>\n",
       "      <td>1962-01-19</td>\n",
       "      <td>a1a22d70485983eac12b5b88dad1cf95</td>\n",
       "      <td>1325376051</td>\n",
       "      <td>43.150704</td>\n",
       "      <td>-112.154481</td>\n",
       "      <td>0</td>\n",
       "    </tr>\n",
       "    <tr>\n",
       "      <th>3</th>\n",
       "      <td>2019-01-01 00:01:16</td>\n",
       "      <td>3534093764340240</td>\n",
       "      <td>fraud_Kutch, Hermiston and Farrell</td>\n",
       "      <td>gas_transport</td>\n",
       "      <td>45.00</td>\n",
       "      <td>Jeremy</td>\n",
       "      <td>White</td>\n",
       "      <td>M</td>\n",
       "      <td>9443 Cynthia Court Apt. 038</td>\n",
       "      <td>Boulder</td>\n",
       "      <td>...</td>\n",
       "      <td>46.2306</td>\n",
       "      <td>-112.1138</td>\n",
       "      <td>1939</td>\n",
       "      <td>Patent attorney</td>\n",
       "      <td>1967-01-12</td>\n",
       "      <td>6b849c168bdad6f867558c3793159a81</td>\n",
       "      <td>1325376076</td>\n",
       "      <td>47.034331</td>\n",
       "      <td>-112.561071</td>\n",
       "      <td>0</td>\n",
       "    </tr>\n",
       "    <tr>\n",
       "      <th>4</th>\n",
       "      <td>2019-01-01 00:03:06</td>\n",
       "      <td>375534208663984</td>\n",
       "      <td>fraud_Keeling-Crist</td>\n",
       "      <td>misc_pos</td>\n",
       "      <td>41.96</td>\n",
       "      <td>Tyler</td>\n",
       "      <td>Garcia</td>\n",
       "      <td>M</td>\n",
       "      <td>408 Bradley Rest</td>\n",
       "      <td>Doe Hill</td>\n",
       "      <td>...</td>\n",
       "      <td>38.4207</td>\n",
       "      <td>-79.4629</td>\n",
       "      <td>99</td>\n",
       "      <td>Dance movement psychotherapist</td>\n",
       "      <td>1986-03-28</td>\n",
       "      <td>a41d7549acf90789359a9aa5346dcb46</td>\n",
       "      <td>1325376186</td>\n",
       "      <td>38.674999</td>\n",
       "      <td>-78.632459</td>\n",
       "      <td>0</td>\n",
       "    </tr>\n",
       "  </tbody>\n",
       "</table>\n",
       "<p>5 rows × 22 columns</p>\n",
       "</div>"
      ],
      "text/plain": [
       "  trans_date_trans_time            cc_num                            merchant  \\\n",
       "0   2019-01-01 00:00:18  2703186189652095          fraud_Rippin, Kub and Mann   \n",
       "1   2019-01-01 00:00:44      630423337322     fraud_Heller, Gutmann and Zieme   \n",
       "2   2019-01-01 00:00:51    38859492057661                fraud_Lind-Buckridge   \n",
       "3   2019-01-01 00:01:16  3534093764340240  fraud_Kutch, Hermiston and Farrell   \n",
       "4   2019-01-01 00:03:06   375534208663984                 fraud_Keeling-Crist   \n",
       "\n",
       "        category     amt      first     last gender  \\\n",
       "0       misc_net    4.97   Jennifer    Banks      F   \n",
       "1    grocery_pos  107.23  Stephanie     Gill      F   \n",
       "2  entertainment  220.11     Edward  Sanchez      M   \n",
       "3  gas_transport   45.00     Jeremy    White      M   \n",
       "4       misc_pos   41.96      Tyler   Garcia      M   \n",
       "\n",
       "                         street            city  ...      lat      long  \\\n",
       "0                561 Perry Cove  Moravian Falls  ...  36.0788  -81.1781   \n",
       "1  43039 Riley Greens Suite 393          Orient  ...  48.8878 -118.2105   \n",
       "2      594 White Dale Suite 530      Malad City  ...  42.1808 -112.2620   \n",
       "3   9443 Cynthia Court Apt. 038         Boulder  ...  46.2306 -112.1138   \n",
       "4              408 Bradley Rest        Doe Hill  ...  38.4207  -79.4629   \n",
       "\n",
       "   city_pop                                job         dob  \\\n",
       "0      3495          Psychologist, counselling  1988-03-09   \n",
       "1       149  Special educational needs teacher  1978-06-21   \n",
       "2      4154        Nature conservation officer  1962-01-19   \n",
       "3      1939                    Patent attorney  1967-01-12   \n",
       "4        99     Dance movement psychotherapist  1986-03-28   \n",
       "\n",
       "                          trans_num   unix_time  merch_lat  merch_long  \\\n",
       "0  0b242abb623afc578575680df30655b9  1325376018  36.011293  -82.048315   \n",
       "1  1f76529f8574734946361c461b024d99  1325376044  49.159047 -118.186462   \n",
       "2  a1a22d70485983eac12b5b88dad1cf95  1325376051  43.150704 -112.154481   \n",
       "3  6b849c168bdad6f867558c3793159a81  1325376076  47.034331 -112.561071   \n",
       "4  a41d7549acf90789359a9aa5346dcb46  1325376186  38.674999  -78.632459   \n",
       "\n",
       "   is_fraud  \n",
       "0         0  \n",
       "1         0  \n",
       "2         0  \n",
       "3         0  \n",
       "4         0  \n",
       "\n",
       "[5 rows x 22 columns]"
      ]
     },
     "execution_count": 4,
     "metadata": {},
     "output_type": "execute_result"
    }
   ],
   "source": [
    "cc_data.head(5)"
   ]
  },
  {
   "cell_type": "code",
   "execution_count": 5,
   "id": "d50978fc",
   "metadata": {
    "scrolled": true
   },
   "outputs": [
    {
     "data": {
      "text/plain": [
       "(1296675, 22)"
      ]
     },
     "execution_count": 5,
     "metadata": {},
     "output_type": "execute_result"
    }
   ],
   "source": [
    "cc_data.shape"
   ]
  },
  {
   "cell_type": "markdown",
   "id": "6d8331ad",
   "metadata": {},
   "source": [
    "# Drop irrelevant columns"
   ]
  },
  {
   "cell_type": "code",
   "execution_count": 6,
   "id": "1ca4220b",
   "metadata": {},
   "outputs": [],
   "source": [
    "drop_columns = ['trans_num', 'unix_time']"
   ]
  },
  {
   "cell_type": "code",
   "execution_count": 7,
   "id": "24e0444a",
   "metadata": {
    "scrolled": true
   },
   "outputs": [],
   "source": [
    "cc_data = cc_data.drop(drop_columns, axis = 1)"
   ]
  },
  {
   "cell_type": "code",
   "execution_count": 8,
   "id": "73c57566",
   "metadata": {},
   "outputs": [
    {
     "name": "stdout",
     "output_type": "stream",
     "text": [
      "<class 'pandas.core.frame.DataFrame'>\n",
      "Int64Index: 1296675 entries, 0 to 1296674\n",
      "Data columns (total 20 columns):\n",
      " #   Column                 Non-Null Count    Dtype  \n",
      "---  ------                 --------------    -----  \n",
      " 0   trans_date_trans_time  1296675 non-null  object \n",
      " 1   cc_num                 1296675 non-null  int64  \n",
      " 2   merchant               1296675 non-null  object \n",
      " 3   category               1296675 non-null  object \n",
      " 4   amt                    1296675 non-null  float64\n",
      " 5   first                  1296675 non-null  object \n",
      " 6   last                   1296675 non-null  object \n",
      " 7   gender                 1296675 non-null  object \n",
      " 8   street                 1296675 non-null  object \n",
      " 9   city                   1296675 non-null  object \n",
      " 10  state                  1296675 non-null  object \n",
      " 11  zip                    1296675 non-null  int64  \n",
      " 12  lat                    1296675 non-null  float64\n",
      " 13  long                   1296675 non-null  float64\n",
      " 14  city_pop               1296675 non-null  int64  \n",
      " 15  job                    1296675 non-null  object \n",
      " 16  dob                    1296675 non-null  object \n",
      " 17  merch_lat              1296675 non-null  float64\n",
      " 18  merch_long             1296675 non-null  float64\n",
      " 19  is_fraud               1296675 non-null  int64  \n",
      "dtypes: float64(5), int64(4), object(11)\n",
      "memory usage: 207.7+ MB\n"
     ]
    }
   ],
   "source": [
    "cc_data.info()"
   ]
  },
  {
   "cell_type": "markdown",
   "id": "19ac5fb2",
   "metadata": {},
   "source": [
    "# Establish new dfs for fraudulent transactions and valid transactions"
   ]
  },
  {
   "cell_type": "code",
   "execution_count": 9,
   "id": "82f61322",
   "metadata": {},
   "outputs": [],
   "source": [
    "cc_data_fraud = cc_data[cc_data['is_fraud']==1]\n",
    "cc_data_valid = cc_data[cc_data['is_fraud']==0]"
   ]
  },
  {
   "cell_type": "code",
   "execution_count": 10,
   "id": "a632dc88",
   "metadata": {
    "scrolled": true
   },
   "outputs": [
    {
     "name": "stdout",
     "output_type": "stream",
     "text": [
      "<class 'pandas.core.frame.DataFrame'>\n",
      "Int64Index: 7506 entries, 2449 to 1295733\n",
      "Data columns (total 20 columns):\n",
      " #   Column                 Non-Null Count  Dtype  \n",
      "---  ------                 --------------  -----  \n",
      " 0   trans_date_trans_time  7506 non-null   object \n",
      " 1   cc_num                 7506 non-null   int64  \n",
      " 2   merchant               7506 non-null   object \n",
      " 3   category               7506 non-null   object \n",
      " 4   amt                    7506 non-null   float64\n",
      " 5   first                  7506 non-null   object \n",
      " 6   last                   7506 non-null   object \n",
      " 7   gender                 7506 non-null   object \n",
      " 8   street                 7506 non-null   object \n",
      " 9   city                   7506 non-null   object \n",
      " 10  state                  7506 non-null   object \n",
      " 11  zip                    7506 non-null   int64  \n",
      " 12  lat                    7506 non-null   float64\n",
      " 13  long                   7506 non-null   float64\n",
      " 14  city_pop               7506 non-null   int64  \n",
      " 15  job                    7506 non-null   object \n",
      " 16  dob                    7506 non-null   object \n",
      " 17  merch_lat              7506 non-null   float64\n",
      " 18  merch_long             7506 non-null   float64\n",
      " 19  is_fraud               7506 non-null   int64  \n",
      "dtypes: float64(5), int64(4), object(11)\n",
      "memory usage: 1.2+ MB\n"
     ]
    }
   ],
   "source": [
    "cc_data_fraud.info()"
   ]
  },
  {
   "cell_type": "code",
   "execution_count": 11,
   "id": "c98f97bc",
   "metadata": {
    "scrolled": true
   },
   "outputs": [
    {
     "name": "stdout",
     "output_type": "stream",
     "text": [
      "<class 'pandas.core.frame.DataFrame'>\n",
      "Int64Index: 1289169 entries, 0 to 1296674\n",
      "Data columns (total 20 columns):\n",
      " #   Column                 Non-Null Count    Dtype  \n",
      "---  ------                 --------------    -----  \n",
      " 0   trans_date_trans_time  1289169 non-null  object \n",
      " 1   cc_num                 1289169 non-null  int64  \n",
      " 2   merchant               1289169 non-null  object \n",
      " 3   category               1289169 non-null  object \n",
      " 4   amt                    1289169 non-null  float64\n",
      " 5   first                  1289169 non-null  object \n",
      " 6   last                   1289169 non-null  object \n",
      " 7   gender                 1289169 non-null  object \n",
      " 8   street                 1289169 non-null  object \n",
      " 9   city                   1289169 non-null  object \n",
      " 10  state                  1289169 non-null  object \n",
      " 11  zip                    1289169 non-null  int64  \n",
      " 12  lat                    1289169 non-null  float64\n",
      " 13  long                   1289169 non-null  float64\n",
      " 14  city_pop               1289169 non-null  int64  \n",
      " 15  job                    1289169 non-null  object \n",
      " 16  dob                    1289169 non-null  object \n",
      " 17  merch_lat              1289169 non-null  float64\n",
      " 18  merch_long             1289169 non-null  float64\n",
      " 19  is_fraud               1289169 non-null  int64  \n",
      "dtypes: float64(5), int64(4), object(11)\n",
      "memory usage: 206.5+ MB\n"
     ]
    }
   ],
   "source": [
    "cc_data_valid.info()"
   ]
  },
  {
   "cell_type": "markdown",
   "id": "4f1a0072",
   "metadata": {},
   "source": [
    "### Initial observations:\n",
    "- No missing values\n",
    "- 1,296,675 transactions in total\n",
    "    - 1,289,169 valid transactions\n",
    "    - 7,506 fraudulent transactions"
   ]
  },
  {
   "cell_type": "code",
   "execution_count": 12,
   "id": "9be0afd3",
   "metadata": {},
   "outputs": [
    {
     "data": {
      "text/plain": [
       "Text(0.5, 1.0, 'Distribution of fraudulent and valid transactions')"
      ]
     },
     "execution_count": 12,
     "metadata": {},
     "output_type": "execute_result"
    },
    {
     "data": {
      "image/png": "[encoded data removed]",
      "text/plain": [
       "<Figure size 432x288 with 1 Axes>"
      ]
     },
     "metadata": {
      "needs_background": "light"
     },
     "output_type": "display_data"
    }
   ],
   "source": [
    "cc_data.is_fraud.hist(bins = 2)\n",
    "plt.xlabel('Transaction type')\n",
    "plt.ylabel('Count')\n",
    "plt.title('Distribution of fraudulent and valid transactions')"
   ]
  },
  {
   "cell_type": "code",
   "execution_count": 13,
   "id": "9bca43e0",
   "metadata": {},
   "outputs": [
    {
     "name": "stdout",
     "output_type": "stream",
     "text": [
      "The percentage of valid transactions is 99.42113482561166% and the percentage of fraud transactions is 0.5788651743883394%\n"
     ]
    }
   ],
   "source": [
    "valid_pct = (len(cc_data_valid)/len(cc_data))*100\n",
    "fraud_pct = (len(cc_data_fraud)/len(cc_data))*100\n",
    "print('The percentage of valid transactions is {}% and the percentage of fraud transactions is {}%'.format(valid_pct, fraud_pct))"
   ]
  },
  {
   "cell_type": "markdown",
   "id": "6f595ad1",
   "metadata": {},
   "source": [
    "# Examining how many unique transaction categories there are"
   ]
  },
  {
   "cell_type": "code",
   "execution_count": 14,
   "id": "e06dec1e",
   "metadata": {
    "scrolled": true
   },
   "outputs": [
    {
     "data": {
      "text/plain": [
       "array(['misc_net', 'grocery_pos', 'entertainment', 'gas_transport',\n",
       "       'misc_pos', 'grocery_net', 'shopping_net', 'shopping_pos',\n",
       "       'food_dining', 'personal_care', 'health_fitness', 'travel',\n",
       "       'kids_pets', 'home'], dtype=object)"
      ]
     },
     "execution_count": 14,
     "metadata": {},
     "output_type": "execute_result"
    }
   ],
   "source": [
    "cc_data['category'].unique()"
   ]
  },
  {
   "cell_type": "code",
   "execution_count": 15,
   "id": "45bcb726",
   "metadata": {},
   "outputs": [
    {
     "data": {
      "text/plain": [
       "14"
      ]
     },
     "execution_count": 15,
     "metadata": {},
     "output_type": "execute_result"
    }
   ],
   "source": [
    "cc_data['category'].nunique()"
   ]
  },
  {
   "cell_type": "code",
   "execution_count": 16,
   "id": "bcb4edc8",
   "metadata": {},
   "outputs": [
    {
     "data": {
      "text/plain": [
       "gas_transport     131659\n",
       "grocery_pos       123638\n",
       "home              123115\n",
       "shopping_pos      116672\n",
       "kids_pets         113035\n",
       "shopping_net       97543\n",
       "entertainment      94014\n",
       "food_dining        91461\n",
       "personal_care      90758\n",
       "health_fitness     85879\n",
       "misc_pos           79655\n",
       "misc_net           63287\n",
       "grocery_net        45452\n",
       "travel             40507\n",
       "Name: category, dtype: int64"
      ]
     },
     "execution_count": 16,
     "metadata": {},
     "output_type": "execute_result"
    }
   ],
   "source": [
    "cc_data['category'].value_counts()"
   ]
  },
  {
   "cell_type": "code",
   "execution_count": 17,
   "id": "aa2485b4",
   "metadata": {},
   "outputs": [
    {
     "data": {
      "text/plain": [
       "Text(0.5, 1.0, 'Bar Graph of Transaction Categories')"
      ]
     },
     "execution_count": 17,
     "metadata": {},
     "output_type": "execute_result"
    },
    {
     "data": {
      "image/png": "[encoded data removed]",
      "text/plain": [
       "<Figure size 432x288 with 1 Axes>"
      ]
     },
     "metadata": {
      "needs_background": "light"
     },
     "output_type": "display_data"
    }
   ],
   "source": [
    "cc_data['category'].value_counts().plot(kind='bar')\n",
    "plt.title('Bar Graph of Transaction Categories')"
   ]
  },
  {
   "cell_type": "code",
   "execution_count": 18,
   "id": "066d7e58",
   "metadata": {},
   "outputs": [
    {
     "data": {
      "text/plain": [
       "Text(0.5, 1.0, 'Bar Graph of VALID Transaction Categories')"
      ]
     },
     "execution_count": 18,
     "metadata": {},
     "output_type": "execute_result"
    },
    {
     "data": {
      "image/png": "[encoded data removed]",
      "text/plain": [
       "<Figure size 432x288 with 1 Axes>"
      ]
     },
     "metadata": {
      "needs_background": "light"
     },
     "output_type": "display_data"
    }
   ],
   "source": [
    "cc_data_valid['category'].value_counts().plot(kind='bar')\n",
    "plt.title('Bar Graph of VALID Transaction Categories')"
   ]
  },
  {
   "cell_type": "code",
   "execution_count": 19,
   "id": "4840de55",
   "metadata": {},
   "outputs": [
    {
     "data": {
      "text/plain": [
       "Text(0.5, 1.0, 'Bar Graph of FRAUD Transaction Categories')"
      ]
     },
     "execution_count": 19,
     "metadata": {},
     "output_type": "execute_result"
    },
    {
     "data": {
      "image/png": "[encoded data removed]",
      "text/plain": [
       "<Figure size 432x288 with 1 Axes>"
      ]
     },
     "metadata": {
      "needs_background": "light"
     },
     "output_type": "display_data"
    }
   ],
   "source": [
    "cc_data_fraud['category'].value_counts().plot(kind='bar')\n",
    "plt.title('Bar Graph of FRAUD Transaction Categories')"
   ]
  },
  {
   "cell_type": "markdown",
   "id": "6e52984b",
   "metadata": {},
   "source": [
    "Most fraudulent transactions seem to be:\n",
    "- grocery_pos\n",
    "- shopping_net\n",
    "- misc_net\n",
    "- shopping_pos\n",
    "- gas_transport"
   ]
  },
  {
   "cell_type": "markdown",
   "id": "e270f1a5",
   "metadata": {},
   "source": [
    "# Examining job column"
   ]
  },
  {
   "cell_type": "code",
   "execution_count": 20,
   "id": "c3acadd1",
   "metadata": {},
   "outputs": [
    {
     "data": {
      "text/plain": [
       "Film/video editor             9779\n",
       "Exhibition designer           9199\n",
       "Naval architect               8684\n",
       "Surveyor, land/geomatics      8680\n",
       "Materials engineer            8270\n",
       "                              ... \n",
       "Information officer              8\n",
       "Veterinary surgeon               8\n",
       "Ship broker                      7\n",
       "Contracting civil engineer       7\n",
       "Warehouse manager                7\n",
       "Name: job, Length: 494, dtype: int64"
      ]
     },
     "execution_count": 20,
     "metadata": {},
     "output_type": "execute_result"
    }
   ],
   "source": [
    "cc_data['job'].value_counts()"
   ]
  },
  {
   "cell_type": "code",
   "execution_count": 21,
   "id": "1d84af6e",
   "metadata": {
    "scrolled": false
   },
   "outputs": [
    {
     "data": {
      "text/plain": [
       "array(['Psychologist, counselling', 'Special educational needs teacher',\n",
       "       'Nature conservation officer', 'Patent attorney',\n",
       "       'Dance movement psychotherapist', 'Transport planner',\n",
       "       'Arboriculturist', 'Designer, multimedia',\n",
       "       'Public affairs consultant', 'Pathologist', 'IT trainer',\n",
       "       'Systems developer', 'Engineer, land', 'Systems analyst',\n",
       "       'Naval architect', 'Radiographer, diagnostic',\n",
       "       'Programme researcher, broadcasting/film/video', 'Energy engineer',\n",
       "       'Event organiser', 'Operational researcher', 'Market researcher',\n",
       "       'Probation officer', 'Leisure centre manager',\n",
       "       'Corporate investment banker', 'Therapist, occupational',\n",
       "       'Call centre manager', 'Police officer',\n",
       "       'Education officer, museum', 'Physiotherapist', 'Network engineer',\n",
       "       'Forensic psychologist', 'Geochemist',\n",
       "       'Armed forces training and education officer',\n",
       "       'Designer, furniture', 'Optician, dispensing',\n",
       "       'Psychologist, forensic', 'Librarian, public', 'Fine artist',\n",
       "       'Scientist, research (maths)', 'Research officer, trade union',\n",
       "       'Tourism officer', 'Human resources officer', 'Surveyor, minerals',\n",
       "       'Applications developer', 'Video editor', 'Curator',\n",
       "       'Research officer, political party', 'Engineer, mining',\n",
       "       'Education officer, community', 'Physicist, medical',\n",
       "       'Amenity horticulturist', 'Electrical engineer',\n",
       "       'Television camera operator', 'Higher education careers adviser',\n",
       "       'Ambulance person', 'Dealer', 'Paediatric nurse',\n",
       "       'Trading standards officer', 'Engineer, technical sales',\n",
       "       'Designer, jewellery', 'Clinical biochemist',\n",
       "       'Engineer, electronics', 'Water engineer', 'Science writer',\n",
       "       'Film/video editor', 'Solicitor, Scotland',\n",
       "       'Product/process development scientist', 'Tree surgeon',\n",
       "       'Careers information officer', 'Geologist, engineering',\n",
       "       'Counsellor', 'Freight forwarder',\n",
       "       'Senior tax professional/tax inspector',\n",
       "       'Engineer, broadcasting (operations)',\n",
       "       'English as a second language teacher', 'Economist',\n",
       "       'Child psychotherapist', 'Claims inspector/assessor',\n",
       "       'Tourist information centre manager',\n",
       "       'Exhibitions officer, museum/gallery', 'Location manager',\n",
       "       'Engineer, biomedical', 'Research scientist (physical sciences)',\n",
       "       'Purchasing manager', 'Editor, magazine features',\n",
       "       'Operations geologist', 'Interpreter', 'Engineering geologist',\n",
       "       'Agricultural consultant', 'Paramedic', 'Financial adviser',\n",
       "       'Administrator, education', 'Educational psychologist',\n",
       "       'Financial trader', 'Audiological scientist',\n",
       "       'Scientist, audiological',\n",
       "       'Administrator, charities/voluntary organisations',\n",
       "       'Health service manager', 'Retail merchandiser',\n",
       "       'Telecommunications researcher', 'Exercise physiologist',\n",
       "       'Accounting technician', 'Product designer',\n",
       "       'Waste management officer', 'Mining engineer', 'Surgeon',\n",
       "       'Therapist, horticultural', 'Environmental consultant',\n",
       "       'Broadcast presenter', 'Producer, radio',\n",
       "       'Engineer, communications',\n",
       "       'Historic buildings inspector/conservation officer',\n",
       "       'Teacher, English as a foreign language', 'Materials engineer',\n",
       "       'Health visitor', 'Medical secretary', 'Theatre director',\n",
       "       'Technical brewer', 'Land/geomatics surveyor',\n",
       "       'Engineer, structural', 'Diagnostic radiographer',\n",
       "       'Television production assistant', 'Medical sales representative',\n",
       "       'Building control surveyor', 'Therapist, sports',\n",
       "       'Structural engineer', 'Commercial/residential surveyor',\n",
       "       'Database administrator', 'Exhibition designer',\n",
       "       'Training and development officer', 'Mechanical engineer',\n",
       "       'Medical physicist', 'Administrator', 'Mudlogger',\n",
       "       'Fisheries officer', 'Conservator, museum/gallery',\n",
       "       'Programmer, multimedia', 'Cytogeneticist',\n",
       "       'Multimedia programmer', 'Counselling psychologist', 'Chiropodist',\n",
       "       'Teacher, early years/pre', 'Cartographer', 'Pensions consultant',\n",
       "       'Primary school teacher', 'Electronics engineer',\n",
       "       'Museum/gallery exhibitions officer', 'Air broker',\n",
       "       'Chemical engineer', 'Advertising account executive',\n",
       "       'Advertising account planner',\n",
       "       'Chartered legal executive (England and Wales)',\n",
       "       'Psychiatric nurse', 'Secondary school teacher',\n",
       "       'Librarian, academic', 'Embryologist, clinical', 'Immunologist',\n",
       "       'Television floor manager', 'Contractor', 'Health physicist',\n",
       "       'Copy', 'Bookseller', 'Land', 'Chartered loss adjuster',\n",
       "       'Occupational psychologist', 'Facilities manager',\n",
       "       'Further education lecturer', 'Archivist', 'Investment analyst',\n",
       "       'Engineer, building services', 'Psychologist, sport and exercise',\n",
       "       'Journalist, newspaper', 'Doctor, hospital', 'Phytotherapist',\n",
       "       'Pharmacologist', 'Horticultural therapist', 'Hydrologist',\n",
       "       'Community arts worker', 'Public house manager', 'Architect',\n",
       "       'Lexicographer', 'Psychotherapist, child',\n",
       "       'Teacher, secondary school', 'Toxicologist',\n",
       "       'Commercial horticulturist', 'Podiatrist', 'Building surveyor',\n",
       "       'Architectural technologist', 'Editor, film/video',\n",
       "       'Social researcher', 'Wellsite geologist', 'Minerals surveyor',\n",
       "       'Designer, ceramics/pottery', 'Mental health nurse',\n",
       "       'Volunteer coordinator', 'Chief Technology Officer',\n",
       "       'Camera operator', 'Copywriter, advertising', 'Surveyor, mining',\n",
       "       'Product manager', \"Nurse, children's\", 'Pension scheme manager',\n",
       "       'Archaeologist', 'Sub', 'Designer, interior/spatial',\n",
       "       'Futures trader', 'Chief Financial Officer',\n",
       "       'Museum education officer', 'Quantity surveyor',\n",
       "       'Physiological scientist', 'Loss adjuster, chartered',\n",
       "       'Pilot, airline', 'Production assistant, radio',\n",
       "       'Immigration officer', 'Retail banker',\n",
       "       'Health and safety adviser', 'Teacher, special educational needs',\n",
       "       'Jewellery designer', 'Community pharmacist',\n",
       "       'Control and instrumentation engineer', 'Make',\n",
       "       'Early years teacher', 'Sales professional, IT',\n",
       "       'Scientist, marine', 'Intelligence analyst',\n",
       "       'Clinical research associate', 'Administrator, local government',\n",
       "       'Barrister', 'Engineer, control and instrumentation',\n",
       "       'Clothing/textile technologist', 'Development worker, community',\n",
       "       'Art therapist', 'Sales executive',\n",
       "       'Armed forces logistics/support/administrative officer',\n",
       "       'Optometrist', 'Insurance underwriter', 'Charity officer',\n",
       "       'Civil Service fast streamer', 'Retail buyer',\n",
       "       'Magazine features editor', 'Equities trader',\n",
       "       'Trade mark attorney', 'Research scientist (life sciences)',\n",
       "       'Psychotherapist', 'Pharmacist, community', 'Risk analyst',\n",
       "       'Engineer, maintenance', 'Logistics and distribution manager',\n",
       "       'Water quality scientist', 'Lecturer, further education',\n",
       "       'Production assistant, television', 'Tour manager',\n",
       "       'Music therapist', 'Surveyor, land/geomatics',\n",
       "       'Engineer, production', 'Acupuncturist', 'Hospital doctor',\n",
       "       'Teacher, primary school', 'Accountant, chartered public finance',\n",
       "       'Illustrator', 'Scientist, physiological', 'Buyer, industrial',\n",
       "       'Scientist, research (physical sciences)', 'Radio producer',\n",
       "       'Manufacturing engineer', 'Animal technologist',\n",
       "       'Production engineer', 'Biochemist, clinical',\n",
       "       'Engineer, manufacturing', 'Comptroller',\n",
       "       'General practice doctor', 'Designer, industrial/product',\n",
       "       'Prison officer', 'Merchandiser, retail', 'Engineer, drilling',\n",
       "       'Engineer, petroleum', 'Cabin crew', 'Commissioning editor',\n",
       "       'Accountant, chartered certified', 'Local government officer',\n",
       "       'Professor Emeritus', 'Press sub',\n",
       "       'Chartered public finance accountant', 'Writer',\n",
       "       'Chief Executive Officer', 'Occupational hygienist',\n",
       "       'Doctor, general practice', 'Community education officer',\n",
       "       'Landscape architect', 'Occupational therapist',\n",
       "       'Special effects artist', 'Civil engineer, contracting',\n",
       "       \"Barrister's clerk\", 'Travel agency manager',\n",
       "       'Associate Professor', 'Neurosurgeon', 'Plant breeder/geneticist',\n",
       "       'Radio broadcast assistant', 'Field seismologist',\n",
       "       'Industrial/product designer', 'Metallurgist',\n",
       "       \"Politician's assistant\", 'Insurance claims handler',\n",
       "       'Theme park manager', 'Gaffer', 'Chief Strategy Officer',\n",
       "       'Heritage manager', 'Ceramics designer', 'Animator',\n",
       "       'Oceanographer', 'Colour technologist', 'Engineer, agricultural',\n",
       "       'Therapist, drama', 'Orthoptist', 'Learning mentor',\n",
       "       'Arts development officer', 'Biomedical engineer',\n",
       "       'Race relations officer', 'Therapist, music', 'Retail manager',\n",
       "       'Furniture designer', 'Building services engineer',\n",
       "       'Maintenance engineer', 'Aid worker', 'Editor, commissioning',\n",
       "       'Private music teacher', 'Scientist, biomedical',\n",
       "       'Public relations account executive', 'Dispensing optician',\n",
       "       'Advice worker', 'Hydrographic surveyor', 'Geoscientist',\n",
       "       'Environmental health practitioner', 'Learning disability nurse',\n",
       "       'Chief Operating Officer', 'Scientific laboratory technician',\n",
       "       'Records manager', 'Barista', 'Marketing executive',\n",
       "       'Tax inspector', 'Musician', 'Therapist, art',\n",
       "       'Engineer, automotive', 'Clinical psychologist', 'Warden/ranger',\n",
       "       'Surveyor, rural practice', 'Sport and exercise psychologist',\n",
       "       'Education administrator', 'Chief of Staff',\n",
       "       'Nurse, mental health', 'Music tutor',\n",
       "       'Planning and development surveyor',\n",
       "       'Teaching laboratory technician', 'Chief Marketing Officer',\n",
       "       'Theatre manager', 'Quarry manager',\n",
       "       'Interior and spatial designer', 'Lecturer, higher education',\n",
       "       'Regulatory affairs officer', 'Secretary/administrator',\n",
       "       'Chemist, analytical', 'Designer, exhibition/display',\n",
       "       'Pharmacist, hospital', 'Site engineer',\n",
       "       'Equality and diversity officer', 'Public librarian',\n",
       "       'Town planner', 'Chartered accountant', 'Programmer, applications',\n",
       "       'Manufacturing systems engineer', 'Web designer',\n",
       "       'Community development worker', 'Animal nutritionist',\n",
       "       'Petroleum engineer', 'Information systems manager',\n",
       "       'Press photographer', 'Insurance risk surveyor', 'Soil scientist',\n",
       "       'Buyer, retail', 'Public relations officer',\n",
       "       'Health promotion specialist', 'Psychiatrist',\n",
       "       'Visual merchandiser', 'Rural practice surveyor', 'Hotel manager',\n",
       "       'Communications engineer', 'Insurance broker',\n",
       "       'Radiographer, therapeutic', 'Set designer', 'Tax adviser',\n",
       "       'Drilling engineer', 'Fitness centre manager', 'Farm manager',\n",
       "       'Management consultant', 'Energy manager',\n",
       "       'Museum/gallery conservator', 'Herbalist', 'Osteopath',\n",
       "       'Statistician', 'Hospital pharmacist', 'Estate manager/land agent',\n",
       "       'Sports development officer', 'Investment banker, corporate',\n",
       "       'Biomedical scientist', 'Television/film/video producer',\n",
       "       'Nutritional therapist', 'Company secretary', 'Production manager',\n",
       "       'Magazine journalist', 'Media buyer', 'Data scientist',\n",
       "       'Engineer, civil (contracting)', 'Herpetologist',\n",
       "       'Garment/textile technologist', 'Scientist, research (medical)',\n",
       "       'Civil Service administrator', 'Airline pilot', 'Textile designer',\n",
       "       'Environmental manager', 'Furniture conservator/restorer',\n",
       "       'Horticultural consultant', 'Firefighter',\n",
       "       'Geophysicist/field seismologist', 'Psychologist, clinical',\n",
       "       'Development worker, international aid', 'Sports administrator',\n",
       "       'IT consultant', 'Presenter, broadcasting',\n",
       "       'Outdoor activities/education manager', 'Field trials officer',\n",
       "       'Social research officer, government',\n",
       "       'English as a foreign language teacher',\n",
       "       'Restaurant manager, fast food', 'Hydrogeologist',\n",
       "       'Research scientist (medical)', 'Designer, television/film set',\n",
       "       'Geneticist, molecular', 'Designer, textile',\n",
       "       'Licensed conveyancer', 'Emergency planning/management officer',\n",
       "       'Geologist, wellsite', 'Air cabin crew', 'Seismic interpreter',\n",
       "       'Surveyor, hydrographic', 'Charity fundraiser', 'Stage manager',\n",
       "       'Aeronautical engineer', 'Glass blower/designer', 'Ecologist',\n",
       "       'Horticulturist, commercial', 'Research scientist (maths)',\n",
       "       'Engineer, aeronautical',\n",
       "       'Conservation officer, historic buildings', 'Art gallery manager',\n",
       "       'Advertising copywriter', 'Engineer, civil (consulting)',\n",
       "       'Oncologist', 'Engineer, materials',\n",
       "       'Scientist, clinical (histocompatibility and immunogenetics)',\n",
       "       'Investment banker, operational', 'Medical technical officer',\n",
       "       'Academic librarian', 'Artist', 'Clinical cytogeneticist',\n",
       "       'TEFL teacher', 'Administrator, arts', 'Teacher, adult education',\n",
       "       'Catering manager', 'Environmental education officer',\n",
       "       'Conservator, furniture', 'Analytical chemist',\n",
       "       'Broadcast engineer', 'Media planner', 'Lawyer',\n",
       "       'Producer, television/film/video',\n",
       "       'Armed forces technical officer', 'Engineer, site',\n",
       "       'Contracting civil engineer', 'Veterinary surgeon',\n",
       "       'Sales promotion account executive', 'Broadcast journalist',\n",
       "       'Dancer', 'Forest/woodland manager', 'Personnel officer',\n",
       "       'Industrial buyer', 'Accountant, chartered',\n",
       "       'Air traffic controller', 'Careers adviser', 'Information officer',\n",
       "       'Ship broker', 'Legal secretary', 'Homeopath', 'Solicitor',\n",
       "       'Warehouse manager'], dtype=object)"
      ]
     },
     "execution_count": 21,
     "metadata": {},
     "output_type": "execute_result"
    }
   ],
   "source": [
    "cc_data['job'].unique()"
   ]
  },
  {
   "cell_type": "code",
   "execution_count": 22,
   "id": "50630d78",
   "metadata": {},
   "outputs": [
    {
     "data": {
      "text/plain": [
       "Film/video editor                        9735\n",
       "Exhibition designer                      9148\n",
       "Naval architect                          8631\n",
       "Surveyor, land/geomatics                 8630\n",
       "Designer, ceramics/pottery               8213\n",
       "                                         ... \n",
       "Writer                                    489\n",
       "English as a foreign language teacher     487\n",
       "Producer, television/film/video           485\n",
       "Hydrogeologist                            485\n",
       "Engineer, structural                      481\n",
       "Name: job, Length: 475, dtype: int64"
      ]
     },
     "execution_count": 22,
     "metadata": {},
     "output_type": "execute_result"
    }
   ],
   "source": [
    "# Top jobs for valid transactions:\n",
    "cc_data_valid['job'].value_counts()"
   ]
  },
  {
   "cell_type": "code",
   "execution_count": 23,
   "id": "ea11079a",
   "metadata": {},
   "outputs": [
    {
     "data": {
      "text/plain": [
       "Materials engineer                      62\n",
       "Trading standards officer               56\n",
       "Naval architect                         53\n",
       "Exhibition designer                     51\n",
       "Surveyor, land/geomatics                50\n",
       "                                        ..\n",
       "Statistician                             3\n",
       "Health physicist                         3\n",
       "Chartered loss adjuster                  3\n",
       "English as a second language teacher     2\n",
       "Contractor                               2\n",
       "Name: job, Length: 443, dtype: int64"
      ]
     },
     "execution_count": 23,
     "metadata": {},
     "output_type": "execute_result"
    }
   ],
   "source": [
    "# Top jobs for fraudulent transactions:\n",
    "cc_data_fraud['job'].value_counts()"
   ]
  },
  {
   "cell_type": "markdown",
   "id": "42e59dbb",
   "metadata": {},
   "source": [
    "Something to consider: Is it worth creating categories for jobs?"
   ]
  },
  {
   "cell_type": "markdown",
   "id": "e3ace1fa",
   "metadata": {},
   "source": [
    "# Examine amt column"
   ]
  },
  {
   "cell_type": "code",
   "execution_count": 24,
   "id": "14f8d06f",
   "metadata": {},
   "outputs": [
    {
     "data": {
      "text/plain": [
       "Text(0.5, 1.0, 'Distribution of transaction amounts')"
      ]
     },
     "execution_count": 24,
     "metadata": {},
     "output_type": "execute_result"
    },
    {
     "data": {
      "image/png": "[encoded data removed]",
      "text/plain": [
       "<Figure size 432x288 with 1 Axes>"
      ]
     },
     "metadata": {
      "needs_background": "light"
     },
     "output_type": "display_data"
    }
   ],
   "source": [
    "cc_data['amt'].hist(bins = 20)\n",
    "plt.xlabel('Transaction amount')\n",
    "plt.ylabel('Count')\n",
    "plt.title('Distribution of transaction amounts')"
   ]
  },
  {
   "cell_type": "code",
   "execution_count": 25,
   "id": "9b12a606",
   "metadata": {},
   "outputs": [
    {
     "data": {
      "text/plain": [
       "28948.9"
      ]
     },
     "execution_count": 25,
     "metadata": {},
     "output_type": "execute_result"
    }
   ],
   "source": [
    "cc_data['amt'].max()"
   ]
  },
  {
   "cell_type": "markdown",
   "id": "23ac49cf",
   "metadata": {},
   "source": [
    "Is the transaction with amount 28,948.90 a mistake, or an outlier that can be removed?"
   ]
  },
  {
   "cell_type": "code",
   "execution_count": 26,
   "id": "052b2024",
   "metadata": {},
   "outputs": [
    {
     "data": {
      "text/html": [
       "<div>\n",
       "<style scoped>\n",
       "    .dataframe tbody tr th:only-of-type {\n",
       "        vertical-align: middle;\n",
       "    }\n",
       "\n",
       "    .dataframe tbody tr th {\n",
       "        vertical-align: top;\n",
       "    }\n",
       "\n",
       "    .dataframe thead th {\n",
       "        text-align: right;\n",
       "    }\n",
       "</style>\n",
       "<table border=\"1\" class=\"dataframe\">\n",
       "  <thead>\n",
       "    <tr style=\"text-align: right;\">\n",
       "      <th></th>\n",
       "      <th>trans_date_trans_time</th>\n",
       "      <th>cc_num</th>\n",
       "      <th>merchant</th>\n",
       "      <th>category</th>\n",
       "      <th>amt</th>\n",
       "      <th>first</th>\n",
       "      <th>last</th>\n",
       "      <th>gender</th>\n",
       "      <th>street</th>\n",
       "      <th>city</th>\n",
       "      <th>state</th>\n",
       "      <th>zip</th>\n",
       "      <th>lat</th>\n",
       "      <th>long</th>\n",
       "      <th>city_pop</th>\n",
       "      <th>job</th>\n",
       "      <th>dob</th>\n",
       "      <th>merch_lat</th>\n",
       "      <th>merch_long</th>\n",
       "      <th>is_fraud</th>\n",
       "    </tr>\n",
       "  </thead>\n",
       "  <tbody>\n",
       "    <tr>\n",
       "      <th>787549</th>\n",
       "      <td>2019-12-01 16:19:23</td>\n",
       "      <td>4979422371139333</td>\n",
       "      <td>fraud_Satterfield-Lowe</td>\n",
       "      <td>travel</td>\n",
       "      <td>28948.9</td>\n",
       "      <td>Kelly</td>\n",
       "      <td>Zimmerman</td>\n",
       "      <td>F</td>\n",
       "      <td>1893 Katie Tunnel</td>\n",
       "      <td>Westerville</td>\n",
       "      <td>NE</td>\n",
       "      <td>68881</td>\n",
       "      <td>41.4193</td>\n",
       "      <td>-99.3844</td>\n",
       "      <td>73</td>\n",
       "      <td>Product designer</td>\n",
       "      <td>1935-02-10</td>\n",
       "      <td>42.317313</td>\n",
       "      <td>-99.139498</td>\n",
       "      <td>0</td>\n",
       "    </tr>\n",
       "  </tbody>\n",
       "</table>\n",
       "</div>"
      ],
      "text/plain": [
       "       trans_date_trans_time            cc_num                merchant  \\\n",
       "787549   2019-12-01 16:19:23  4979422371139333  fraud_Satterfield-Lowe   \n",
       "\n",
       "       category      amt  first       last gender             street  \\\n",
       "787549   travel  28948.9  Kelly  Zimmerman      F  1893 Katie Tunnel   \n",
       "\n",
       "               city state    zip      lat     long  city_pop  \\\n",
       "787549  Westerville    NE  68881  41.4193 -99.3844        73   \n",
       "\n",
       "                     job         dob  merch_lat  merch_long  is_fraud  \n",
       "787549  Product designer  1935-02-10  42.317313  -99.139498         0  "
      ]
     },
     "execution_count": 26,
     "metadata": {},
     "output_type": "execute_result"
    }
   ],
   "source": [
    "#Find the row with transaction 28,948.90\n",
    "cc_data.loc[cc_data['amt']==28948.9]"
   ]
  },
  {
   "cell_type": "code",
   "execution_count": 27,
   "id": "d0199e3d",
   "metadata": {},
   "outputs": [
    {
     "data": {
      "text/plain": [
       "Text(0.5, 1.0, 'Distribution of VALID transaction amounts')"
      ]
     },
     "execution_count": 27,
     "metadata": {},
     "output_type": "execute_result"
    },
    {
     "data": {
      "image/png": "[encoded data removed]",
      "text/plain": [
       "<Figure size 432x288 with 1 Axes>"
      ]
     },
     "metadata": {
      "needs_background": "light"
     },
     "output_type": "display_data"
    }
   ],
   "source": [
    "cc_data_valid['amt'].hist(bins = 10)\n",
    "plt.xlabel('Transaction amount')\n",
    "plt.ylabel('Count')\n",
    "plt.title('Distribution of VALID transaction amounts')"
   ]
  },
  {
   "cell_type": "code",
   "execution_count": 28,
   "id": "51eda58d",
   "metadata": {
    "scrolled": true
   },
   "outputs": [
    {
     "data": {
      "text/plain": [
       "Text(0.5, 1.0, 'Distribution of FRAUD transaction amounts')"
      ]
     },
     "execution_count": 28,
     "metadata": {},
     "output_type": "execute_result"
    },
    {
     "data": {
      "image/png": "[encoded data removed]",
      "text/plain": [
       "<Figure size 432x288 with 1 Axes>"
      ]
     },
     "metadata": {
      "needs_background": "light"
     },
     "output_type": "display_data"
    }
   ],
   "source": [
    "cc_data_fraud['amt'].hist(bins = 20)\n",
    "plt.xlabel('Transaction amount')\n",
    "plt.ylabel('Count')\n",
    "plt.title('Distribution of FRAUD transaction amounts')"
   ]
  },
  {
   "cell_type": "markdown",
   "id": "88352700",
   "metadata": {},
   "source": [
    "### Check for number of outliers within valid transactions at different thresholds"
   ]
  },
  {
   "cell_type": "code",
   "execution_count": 29,
   "id": "e6013d73",
   "metadata": {},
   "outputs": [
    {
     "data": {
      "text/plain": [
       "1289169"
      ]
     },
     "execution_count": 29,
     "metadata": {},
     "output_type": "execute_result"
    }
   ],
   "source": [
    "#Establish total number of valid transactions\n",
    "total_valid = len(cc_data_valid)\n",
    "total_valid"
   ]
  },
  {
   "cell_type": "code",
   "execution_count": 30,
   "id": "b683f450",
   "metadata": {},
   "outputs": [
    {
     "name": "stdout",
     "output_type": "stream",
     "text": [
      "There are 5 valid transactions out of 1289169 that are greater than or equal to $25000\n"
     ]
    }
   ],
   "source": [
    "#Number of valid transactions >= $25,000\n",
    "num_grtr_25000 = len(cc_data_valid[cc_data_valid['amt']>=25000])\n",
    "print('There are {} valid transactions out of {} that are greater than or equal to $25000'.format(num_grtr_25000, total_valid))"
   ]
  },
  {
   "cell_type": "code",
   "execution_count": 31,
   "id": "b704ff1e",
   "metadata": {},
   "outputs": [
    {
     "name": "stdout",
     "output_type": "stream",
     "text": [
      "There are 5 valid transactions out of 1289169 that are greater than or equal to $20000\n"
     ]
    }
   ],
   "source": [
    "#Number of valid transactions >= $20,000\n",
    "num_grtr_20000 = len(cc_data_valid[cc_data_valid['amt']>=20000])\n",
    "print('There are {} valid transactions out of {} that are greater than or equal to $20000'.format(num_grtr_20000, total_valid))"
   ]
  },
  {
   "cell_type": "code",
   "execution_count": 32,
   "id": "51ca2099",
   "metadata": {},
   "outputs": [
    {
     "name": "stdout",
     "output_type": "stream",
     "text": [
      "There are 9 valid transactions out of 1289169 that are greater than or equal to $15000\n"
     ]
    }
   ],
   "source": [
    "#Number of valid transactions >= $15,000\n",
    "num_grtr_15000 = len(cc_data_valid[cc_data_valid['amt']>=15000])\n",
    "print('There are {} valid transactions out of {} that are greater than or equal to $15000'.format(num_grtr_15000, total_valid))"
   ]
  },
  {
   "cell_type": "code",
   "execution_count": 33,
   "id": "bfdb53c2",
   "metadata": {},
   "outputs": [
    {
     "name": "stdout",
     "output_type": "stream",
     "text": [
      "There are 34 valid transactions out of 1289169 that are greater than or equal to $10000\n"
     ]
    }
   ],
   "source": [
    "#Number of valid transactions >= $10,000\n",
    "num_grtr_10000 = len(cc_data_valid[cc_data_valid['amt']>=10000])\n",
    "print('There are {} valid transactions out of {} that are greater than or equal to $10000'.format(num_grtr_10000, total_valid))"
   ]
  },
  {
   "cell_type": "code",
   "execution_count": 34,
   "id": "81a02c52",
   "metadata": {},
   "outputs": [
    {
     "name": "stdout",
     "output_type": "stream",
     "text": [
      "There are 136 valid transactions out of 1289169 that are greater than or equal to $5000\n"
     ]
    }
   ],
   "source": [
    "#Number of valid transactions >= $5,000\n",
    "num_grtr_5000 = len(cc_data_valid[cc_data_valid['amt']>=5000])\n",
    "print('There are {} valid transactions out of {} that are greater than or equal to $5000'.format(num_grtr_5000, total_valid))"
   ]
  },
  {
   "cell_type": "code",
   "execution_count": 35,
   "id": "e96e6875",
   "metadata": {
    "scrolled": false
   },
   "outputs": [
    {
     "data": {
      "text/html": [
       "<div>\n",
       "<style scoped>\n",
       "    .dataframe tbody tr th:only-of-type {\n",
       "        vertical-align: middle;\n",
       "    }\n",
       "\n",
       "    .dataframe tbody tr th {\n",
       "        vertical-align: top;\n",
       "    }\n",
       "\n",
       "    .dataframe thead th {\n",
       "        text-align: right;\n",
       "    }\n",
       "</style>\n",
       "<table border=\"1\" class=\"dataframe\">\n",
       "  <thead>\n",
       "    <tr style=\"text-align: right;\">\n",
       "      <th></th>\n",
       "      <th>trans_date_trans_time</th>\n",
       "      <th>cc_num</th>\n",
       "      <th>merchant</th>\n",
       "      <th>category</th>\n",
       "      <th>amt</th>\n",
       "      <th>first</th>\n",
       "      <th>last</th>\n",
       "      <th>gender</th>\n",
       "      <th>street</th>\n",
       "      <th>city</th>\n",
       "      <th>state</th>\n",
       "      <th>zip</th>\n",
       "      <th>lat</th>\n",
       "      <th>long</th>\n",
       "      <th>city_pop</th>\n",
       "      <th>job</th>\n",
       "      <th>dob</th>\n",
       "      <th>merch_lat</th>\n",
       "      <th>merch_long</th>\n",
       "      <th>is_fraud</th>\n",
       "    </tr>\n",
       "  </thead>\n",
       "  <tbody>\n",
       "    <tr>\n",
       "      <th>17743</th>\n",
       "      <td>2019-01-11 16:37:15</td>\n",
       "      <td>343472729187663</td>\n",
       "      <td>fraud_Schroeder, Wolff and Hermiston</td>\n",
       "      <td>travel</td>\n",
       "      <td>11872.21</td>\n",
       "      <td>Gloria</td>\n",
       "      <td>Wallace</td>\n",
       "      <td>F</td>\n",
       "      <td>234 Bridges Wells Apt. 389</td>\n",
       "      <td>Center Tuftonboro</td>\n",
       "      <td>NH</td>\n",
       "      <td>3816</td>\n",
       "      <td>43.6849</td>\n",
       "      <td>-71.2551</td>\n",
       "      <td>1368</td>\n",
       "      <td>Optician, dispensing</td>\n",
       "      <td>1971-08-05</td>\n",
       "      <td>43.235621</td>\n",
       "      <td>-71.391741</td>\n",
       "      <td>0</td>\n",
       "    </tr>\n",
       "    <tr>\n",
       "      <th>37315</th>\n",
       "      <td>2019-01-22 15:24:15</td>\n",
       "      <td>2264937662466770</td>\n",
       "      <td>fraud_Ritchie, Bradtke and Stiedemann</td>\n",
       "      <td>travel</td>\n",
       "      <td>10776.59</td>\n",
       "      <td>Juan</td>\n",
       "      <td>Sherman</td>\n",
       "      <td>M</td>\n",
       "      <td>5939 Garcia Forges Suite 297</td>\n",
       "      <td>San Antonio</td>\n",
       "      <td>TX</td>\n",
       "      <td>78214</td>\n",
       "      <td>29.3641</td>\n",
       "      <td>-98.4924</td>\n",
       "      <td>1595797</td>\n",
       "      <td>Land</td>\n",
       "      <td>1995-10-17</td>\n",
       "      <td>29.772325</td>\n",
       "      <td>-98.593405</td>\n",
       "      <td>0</td>\n",
       "    </tr>\n",
       "    <tr>\n",
       "      <th>59564</th>\n",
       "      <td>2019-02-04 21:22:30</td>\n",
       "      <td>30235268718158</td>\n",
       "      <td>fraud_Champlin, Rolfson and Connelly</td>\n",
       "      <td>travel</td>\n",
       "      <td>12788.07</td>\n",
       "      <td>Kenneth</td>\n",
       "      <td>Doyle</td>\n",
       "      <td>M</td>\n",
       "      <td>8614 Reed Glen</td>\n",
       "      <td>West Harrison</td>\n",
       "      <td>NY</td>\n",
       "      <td>10604</td>\n",
       "      <td>41.0592</td>\n",
       "      <td>-73.7395</td>\n",
       "      <td>11250</td>\n",
       "      <td>Lexicographer</td>\n",
       "      <td>1977-08-16</td>\n",
       "      <td>40.269472</td>\n",
       "      <td>-73.482064</td>\n",
       "      <td>0</td>\n",
       "    </tr>\n",
       "    <tr>\n",
       "      <th>105732</th>\n",
       "      <td>2019-03-02 15:36:36</td>\n",
       "      <td>4633065159406313</td>\n",
       "      <td>fraud_Champlin, Rolfson and Connelly</td>\n",
       "      <td>travel</td>\n",
       "      <td>11629.34</td>\n",
       "      <td>Jasmine</td>\n",
       "      <td>Wade</td>\n",
       "      <td>F</td>\n",
       "      <td>90662 Lewis Avenue</td>\n",
       "      <td>Providence</td>\n",
       "      <td>RI</td>\n",
       "      <td>2908</td>\n",
       "      <td>41.8383</td>\n",
       "      <td>-71.4377</td>\n",
       "      <td>203571</td>\n",
       "      <td>Nurse, children's</td>\n",
       "      <td>1995-11-29</td>\n",
       "      <td>42.504489</td>\n",
       "      <td>-71.379189</td>\n",
       "      <td>0</td>\n",
       "    </tr>\n",
       "    <tr>\n",
       "      <th>150564</th>\n",
       "      <td>2019-03-22 13:17:34</td>\n",
       "      <td>4450831335606294</td>\n",
       "      <td>fraud_Larson, Quitzon and Spencer</td>\n",
       "      <td>travel</td>\n",
       "      <td>15034.18</td>\n",
       "      <td>Donna</td>\n",
       "      <td>Davis</td>\n",
       "      <td>F</td>\n",
       "      <td>6760 Donovan Lakes</td>\n",
       "      <td>Clayton</td>\n",
       "      <td>OK</td>\n",
       "      <td>74536</td>\n",
       "      <td>34.5906</td>\n",
       "      <td>-95.3800</td>\n",
       "      <td>1760</td>\n",
       "      <td>Occupational psychologist</td>\n",
       "      <td>1972-01-20</td>\n",
       "      <td>35.266488</td>\n",
       "      <td>-95.033506</td>\n",
       "      <td>0</td>\n",
       "    </tr>\n",
       "    <tr>\n",
       "      <th>159575</th>\n",
       "      <td>2019-03-25 17:38:55</td>\n",
       "      <td>372509258176510</td>\n",
       "      <td>fraud_Tillman LLC</td>\n",
       "      <td>travel</td>\n",
       "      <td>10469.09</td>\n",
       "      <td>Kristen</td>\n",
       "      <td>Hanson</td>\n",
       "      <td>F</td>\n",
       "      <td>26544 Andrea Glen</td>\n",
       "      <td>Goodrich</td>\n",
       "      <td>MI</td>\n",
       "      <td>48438</td>\n",
       "      <td>42.9147</td>\n",
       "      <td>-83.4845</td>\n",
       "      <td>6951</td>\n",
       "      <td>Learning disability nurse</td>\n",
       "      <td>1985-06-18</td>\n",
       "      <td>42.192907</td>\n",
       "      <td>-84.094660</td>\n",
       "      <td>0</td>\n",
       "    </tr>\n",
       "    <tr>\n",
       "      <th>164881</th>\n",
       "      <td>2019-03-28 16:53:47</td>\n",
       "      <td>630451534402</td>\n",
       "      <td>fraud_Ankunding-Carroll</td>\n",
       "      <td>travel</td>\n",
       "      <td>14630.68</td>\n",
       "      <td>Rachel</td>\n",
       "      <td>Daniels</td>\n",
       "      <td>F</td>\n",
       "      <td>561 Little Plain Apt. 738</td>\n",
       "      <td>Wetmore</td>\n",
       "      <td>MI</td>\n",
       "      <td>49895</td>\n",
       "      <td>46.3535</td>\n",
       "      <td>-86.6345</td>\n",
       "      <td>765</td>\n",
       "      <td>Immunologist</td>\n",
       "      <td>1972-06-12</td>\n",
       "      <td>46.944452</td>\n",
       "      <td>-85.746696</td>\n",
       "      <td>0</td>\n",
       "    </tr>\n",
       "    <tr>\n",
       "      <th>187885</th>\n",
       "      <td>2019-04-07 15:32:23</td>\n",
       "      <td>6538441737335434</td>\n",
       "      <td>fraud_Tillman LLC</td>\n",
       "      <td>travel</td>\n",
       "      <td>17897.24</td>\n",
       "      <td>Gina</td>\n",
       "      <td>Grimes</td>\n",
       "      <td>F</td>\n",
       "      <td>444 Robert Mews</td>\n",
       "      <td>Clarks Mills</td>\n",
       "      <td>PA</td>\n",
       "      <td>16114</td>\n",
       "      <td>41.3851</td>\n",
       "      <td>-80.1752</td>\n",
       "      <td>606</td>\n",
       "      <td>Energy manager</td>\n",
       "      <td>1997-09-22</td>\n",
       "      <td>41.361042</td>\n",
       "      <td>-79.665772</td>\n",
       "      <td>0</td>\n",
       "    </tr>\n",
       "    <tr>\n",
       "      <th>232174</th>\n",
       "      <td>2019-04-27 13:27:50</td>\n",
       "      <td>4003989662068504</td>\n",
       "      <td>fraud_Reichel, Bradtke and Blanda</td>\n",
       "      <td>travel</td>\n",
       "      <td>10525.07</td>\n",
       "      <td>Chris</td>\n",
       "      <td>White</td>\n",
       "      <td>M</td>\n",
       "      <td>98897 Bennett Lodge</td>\n",
       "      <td>Bessemer</td>\n",
       "      <td>AL</td>\n",
       "      <td>35022</td>\n",
       "      <td>33.3224</td>\n",
       "      <td>-86.9657</td>\n",
       "      <td>71463</td>\n",
       "      <td>Radio broadcast assistant</td>\n",
       "      <td>1989-02-08</td>\n",
       "      <td>32.565170</td>\n",
       "      <td>-86.935466</td>\n",
       "      <td>0</td>\n",
       "    </tr>\n",
       "    <tr>\n",
       "      <th>315542</th>\n",
       "      <td>2019-06-01 13:59:46</td>\n",
       "      <td>4502539526809429801</td>\n",
       "      <td>fraud_Lynch-Mohr</td>\n",
       "      <td>travel</td>\n",
       "      <td>13536.84</td>\n",
       "      <td>Stephanie</td>\n",
       "      <td>Cummings</td>\n",
       "      <td>F</td>\n",
       "      <td>1025 Robin Square</td>\n",
       "      <td>Ash Flat</td>\n",
       "      <td>AR</td>\n",
       "      <td>72513</td>\n",
       "      <td>36.2201</td>\n",
       "      <td>-91.6421</td>\n",
       "      <td>2856</td>\n",
       "      <td>Hydrologist</td>\n",
       "      <td>1926-08-27</td>\n",
       "      <td>36.236003</td>\n",
       "      <td>-91.615941</td>\n",
       "      <td>0</td>\n",
       "    </tr>\n",
       "    <tr>\n",
       "      <th>352894</th>\n",
       "      <td>2019-06-14 20:15:38</td>\n",
       "      <td>5540636818935089</td>\n",
       "      <td>fraud_Hackett Group</td>\n",
       "      <td>travel</td>\n",
       "      <td>25086.94</td>\n",
       "      <td>Kenneth</td>\n",
       "      <td>Foster</td>\n",
       "      <td>M</td>\n",
       "      <td>329 Michael Extension</td>\n",
       "      <td>Lawrence</td>\n",
       "      <td>MA</td>\n",
       "      <td>1843</td>\n",
       "      <td>42.6911</td>\n",
       "      <td>-71.1605</td>\n",
       "      <td>76383</td>\n",
       "      <td>Geoscientist</td>\n",
       "      <td>1985-04-04</td>\n",
       "      <td>42.397174</td>\n",
       "      <td>-71.474163</td>\n",
       "      <td>0</td>\n",
       "    </tr>\n",
       "    <tr>\n",
       "      <th>375430</th>\n",
       "      <td>2019-06-22 17:34:11</td>\n",
       "      <td>630425673344</td>\n",
       "      <td>fraud_Champlin, Rolfson and Connelly</td>\n",
       "      <td>travel</td>\n",
       "      <td>11371.95</td>\n",
       "      <td>Bryan</td>\n",
       "      <td>Miller</td>\n",
       "      <td>M</td>\n",
       "      <td>411 Laurie Fords</td>\n",
       "      <td>Cass</td>\n",
       "      <td>WV</td>\n",
       "      <td>24927</td>\n",
       "      <td>38.3880</td>\n",
       "      <td>-79.9906</td>\n",
       "      <td>365</td>\n",
       "      <td>Special effects artist</td>\n",
       "      <td>1970-03-14</td>\n",
       "      <td>38.360005</td>\n",
       "      <td>-80.054179</td>\n",
       "      <td>0</td>\n",
       "    </tr>\n",
       "    <tr>\n",
       "      <th>413937</th>\n",
       "      <td>2019-07-06 13:42:49</td>\n",
       "      <td>675961917837</td>\n",
       "      <td>fraud_Ritchie, Oberbrunner and Cremin</td>\n",
       "      <td>travel</td>\n",
       "      <td>14407.25</td>\n",
       "      <td>Christopher</td>\n",
       "      <td>Cummings</td>\n",
       "      <td>M</td>\n",
       "      <td>478 George Course Apt. 056</td>\n",
       "      <td>Sprague</td>\n",
       "      <td>NE</td>\n",
       "      <td>68438</td>\n",
       "      <td>40.6267</td>\n",
       "      <td>-96.7456</td>\n",
       "      <td>142</td>\n",
       "      <td>Chiropodist</td>\n",
       "      <td>1967-08-24</td>\n",
       "      <td>41.617800</td>\n",
       "      <td>-97.090078</td>\n",
       "      <td>0</td>\n",
       "    </tr>\n",
       "    <tr>\n",
       "      <th>446302</th>\n",
       "      <td>2019-07-17 16:21:33</td>\n",
       "      <td>30407675418785</td>\n",
       "      <td>fraud_Eichmann, Hayes and Treutel</td>\n",
       "      <td>travel</td>\n",
       "      <td>10926.44</td>\n",
       "      <td>Danielle</td>\n",
       "      <td>Evans</td>\n",
       "      <td>F</td>\n",
       "      <td>76752 David Lodge Apt. 064</td>\n",
       "      <td>Breesport</td>\n",
       "      <td>NY</td>\n",
       "      <td>14816</td>\n",
       "      <td>42.1939</td>\n",
       "      <td>-76.7361</td>\n",
       "      <td>520</td>\n",
       "      <td>Psychotherapist</td>\n",
       "      <td>1991-10-13</td>\n",
       "      <td>41.776414</td>\n",
       "      <td>-76.234382</td>\n",
       "      <td>0</td>\n",
       "    </tr>\n",
       "    <tr>\n",
       "      <th>474610</th>\n",
       "      <td>2019-07-27 23:29:50</td>\n",
       "      <td>3585052663373890</td>\n",
       "      <td>fraud_Kunze, Larkin and Mayert</td>\n",
       "      <td>travel</td>\n",
       "      <td>14467.64</td>\n",
       "      <td>Jeffery</td>\n",
       "      <td>Brown</td>\n",
       "      <td>M</td>\n",
       "      <td>296 Maria Street</td>\n",
       "      <td>West Eaton</td>\n",
       "      <td>NY</td>\n",
       "      <td>13484</td>\n",
       "      <td>42.8546</td>\n",
       "      <td>-75.6605</td>\n",
       "      <td>176</td>\n",
       "      <td>Science writer</td>\n",
       "      <td>1963-12-28</td>\n",
       "      <td>43.305840</td>\n",
       "      <td>-76.281297</td>\n",
       "      <td>0</td>\n",
       "    </tr>\n",
       "    <tr>\n",
       "      <th>505438</th>\n",
       "      <td>2019-08-07 14:00:27</td>\n",
       "      <td>4634955908138648</td>\n",
       "      <td>fraud_Little-Gleichner</td>\n",
       "      <td>travel</td>\n",
       "      <td>13106.14</td>\n",
       "      <td>Mackenzie</td>\n",
       "      <td>Smith</td>\n",
       "      <td>F</td>\n",
       "      <td>7178 Willis Drive</td>\n",
       "      <td>Hooper</td>\n",
       "      <td>NE</td>\n",
       "      <td>68031</td>\n",
       "      <td>41.6414</td>\n",
       "      <td>-96.5232</td>\n",
       "      <td>1745</td>\n",
       "      <td>Engineer, automotive</td>\n",
       "      <td>1973-12-26</td>\n",
       "      <td>42.377626</td>\n",
       "      <td>-97.466696</td>\n",
       "      <td>0</td>\n",
       "    </tr>\n",
       "    <tr>\n",
       "      <th>541685</th>\n",
       "      <td>2019-08-19 21:34:27</td>\n",
       "      <td>4070511711385545</td>\n",
       "      <td>fraud_Reichert-Weissnat</td>\n",
       "      <td>travel</td>\n",
       "      <td>14112.59</td>\n",
       "      <td>Stephanie</td>\n",
       "      <td>Hopkins</td>\n",
       "      <td>F</td>\n",
       "      <td>44089 Carrie Crossing Suite 954</td>\n",
       "      <td>Falls City</td>\n",
       "      <td>TX</td>\n",
       "      <td>78113</td>\n",
       "      <td>28.9814</td>\n",
       "      <td>-98.0156</td>\n",
       "      <td>2435</td>\n",
       "      <td>Engineer, mining</td>\n",
       "      <td>1967-04-09</td>\n",
       "      <td>29.544617</td>\n",
       "      <td>-98.282754</td>\n",
       "      <td>0</td>\n",
       "    </tr>\n",
       "    <tr>\n",
       "      <th>599712</th>\n",
       "      <td>2019-09-11 20:15:37</td>\n",
       "      <td>676281772837</td>\n",
       "      <td>fraud_Johnston-Casper</td>\n",
       "      <td>travel</td>\n",
       "      <td>11960.97</td>\n",
       "      <td>Alicia</td>\n",
       "      <td>Bishop</td>\n",
       "      <td>F</td>\n",
       "      <td>222 Freeman Islands</td>\n",
       "      <td>Whigham</td>\n",
       "      <td>GA</td>\n",
       "      <td>39897</td>\n",
       "      <td>30.8836</td>\n",
       "      <td>-84.3246</td>\n",
       "      <td>3430</td>\n",
       "      <td>Editor, commissioning</td>\n",
       "      <td>1950-03-25</td>\n",
       "      <td>30.588345</td>\n",
       "      <td>-83.622392</td>\n",
       "      <td>0</td>\n",
       "    </tr>\n",
       "    <tr>\n",
       "      <th>606211</th>\n",
       "      <td>2019-09-14 22:19:01</td>\n",
       "      <td>30408301059761</td>\n",
       "      <td>fraud_Boyer-Haley</td>\n",
       "      <td>travel</td>\n",
       "      <td>26544.12</td>\n",
       "      <td>Brandon</td>\n",
       "      <td>Pittman</td>\n",
       "      <td>M</td>\n",
       "      <td>2881 Frey Village</td>\n",
       "      <td>Cross</td>\n",
       "      <td>SC</td>\n",
       "      <td>29436</td>\n",
       "      <td>33.3364</td>\n",
       "      <td>-80.1859</td>\n",
       "      <td>4471</td>\n",
       "      <td>Occupational hygienist</td>\n",
       "      <td>1973-10-09</td>\n",
       "      <td>33.020256</td>\n",
       "      <td>-80.125607</td>\n",
       "      <td>0</td>\n",
       "    </tr>\n",
       "    <tr>\n",
       "      <th>752016</th>\n",
       "      <td>2019-11-17 20:00:17</td>\n",
       "      <td>2264937662466770</td>\n",
       "      <td>fraud_Goyette-Herzog</td>\n",
       "      <td>travel</td>\n",
       "      <td>15047.03</td>\n",
       "      <td>Juan</td>\n",
       "      <td>Sherman</td>\n",
       "      <td>M</td>\n",
       "      <td>5939 Garcia Forges Suite 297</td>\n",
       "      <td>San Antonio</td>\n",
       "      <td>TX</td>\n",
       "      <td>78214</td>\n",
       "      <td>29.3641</td>\n",
       "      <td>-98.4924</td>\n",
       "      <td>1595797</td>\n",
       "      <td>Land</td>\n",
       "      <td>1995-10-17</td>\n",
       "      <td>29.849413</td>\n",
       "      <td>-98.224021</td>\n",
       "      <td>0</td>\n",
       "    </tr>\n",
       "    <tr>\n",
       "      <th>787549</th>\n",
       "      <td>2019-12-01 16:19:23</td>\n",
       "      <td>4979422371139333</td>\n",
       "      <td>fraud_Satterfield-Lowe</td>\n",
       "      <td>travel</td>\n",
       "      <td>28948.90</td>\n",
       "      <td>Kelly</td>\n",
       "      <td>Zimmerman</td>\n",
       "      <td>F</td>\n",
       "      <td>1893 Katie Tunnel</td>\n",
       "      <td>Westerville</td>\n",
       "      <td>NE</td>\n",
       "      <td>68881</td>\n",
       "      <td>41.4193</td>\n",
       "      <td>-99.3844</td>\n",
       "      <td>73</td>\n",
       "      <td>Product designer</td>\n",
       "      <td>1935-02-10</td>\n",
       "      <td>42.317313</td>\n",
       "      <td>-99.139498</td>\n",
       "      <td>0</td>\n",
       "    </tr>\n",
       "    <tr>\n",
       "      <th>793677</th>\n",
       "      <td>2019-12-02 15:53:46</td>\n",
       "      <td>675909898057</td>\n",
       "      <td>fraud_Monahan, Hermann and Johns</td>\n",
       "      <td>travel</td>\n",
       "      <td>27390.12</td>\n",
       "      <td>Christopher</td>\n",
       "      <td>Henry</td>\n",
       "      <td>M</td>\n",
       "      <td>1198 Robert Stravenue Apt. 479</td>\n",
       "      <td>Armonk</td>\n",
       "      <td>NY</td>\n",
       "      <td>10504</td>\n",
       "      <td>41.1360</td>\n",
       "      <td>-73.7009</td>\n",
       "      <td>7987</td>\n",
       "      <td>Television/film/video producer</td>\n",
       "      <td>1964-03-16</td>\n",
       "      <td>41.665873</td>\n",
       "      <td>-74.663015</td>\n",
       "      <td>0</td>\n",
       "    </tr>\n",
       "    <tr>\n",
       "      <th>833033</th>\n",
       "      <td>2019-12-11 17:30:50</td>\n",
       "      <td>5559857416065248</td>\n",
       "      <td>fraud_Bednar Inc</td>\n",
       "      <td>travel</td>\n",
       "      <td>11422.83</td>\n",
       "      <td>Jack</td>\n",
       "      <td>Hill</td>\n",
       "      <td>M</td>\n",
       "      <td>5916 Susan Bridge Apt. 939</td>\n",
       "      <td>Grenada</td>\n",
       "      <td>CA</td>\n",
       "      <td>96038</td>\n",
       "      <td>41.6125</td>\n",
       "      <td>-122.5258</td>\n",
       "      <td>589</td>\n",
       "      <td>Systems analyst</td>\n",
       "      <td>1945-12-21</td>\n",
       "      <td>41.901896</td>\n",
       "      <td>-122.021582</td>\n",
       "      <td>0</td>\n",
       "    </tr>\n",
       "    <tr>\n",
       "      <th>981291</th>\n",
       "      <td>2020-02-02 22:13:40</td>\n",
       "      <td>4384910379661778</td>\n",
       "      <td>fraud_Gislason Group</td>\n",
       "      <td>travel</td>\n",
       "      <td>12787.51</td>\n",
       "      <td>Michelle</td>\n",
       "      <td>Russell</td>\n",
       "      <td>F</td>\n",
       "      <td>55505 Christy Via</td>\n",
       "      <td>Hawley</td>\n",
       "      <td>MN</td>\n",
       "      <td>56549</td>\n",
       "      <td>46.9777</td>\n",
       "      <td>-96.4092</td>\n",
       "      <td>4508</td>\n",
       "      <td>Naval architect</td>\n",
       "      <td>1949-04-24</td>\n",
       "      <td>46.728699</td>\n",
       "      <td>-96.845093</td>\n",
       "      <td>0</td>\n",
       "    </tr>\n",
       "    <tr>\n",
       "      <th>1024564</th>\n",
       "      <td>2020-02-28 20:00:17</td>\n",
       "      <td>4099707841315751</td>\n",
       "      <td>fraud_Eichmann, Hayes and Treutel</td>\n",
       "      <td>travel</td>\n",
       "      <td>12025.30</td>\n",
       "      <td>James</td>\n",
       "      <td>Stephens</td>\n",
       "      <td>M</td>\n",
       "      <td>1166 Castillo Mountains</td>\n",
       "      <td>Ruckersville</td>\n",
       "      <td>VA</td>\n",
       "      <td>22968</td>\n",
       "      <td>38.2586</td>\n",
       "      <td>-78.4074</td>\n",
       "      <td>9815</td>\n",
       "      <td>Designer, ceramics/pottery</td>\n",
       "      <td>1975-07-07</td>\n",
       "      <td>37.681951</td>\n",
       "      <td>-77.443076</td>\n",
       "      <td>0</td>\n",
       "    </tr>\n",
       "    <tr>\n",
       "      <th>1071737</th>\n",
       "      <td>2020-03-21 12:52:37</td>\n",
       "      <td>630441765090</td>\n",
       "      <td>fraud_Boyer-Haley</td>\n",
       "      <td>travel</td>\n",
       "      <td>12518.62</td>\n",
       "      <td>Susan</td>\n",
       "      <td>Washington</td>\n",
       "      <td>F</td>\n",
       "      <td>759 Erin Mount Suite 956</td>\n",
       "      <td>May</td>\n",
       "      <td>TX</td>\n",
       "      <td>76857</td>\n",
       "      <td>31.9571</td>\n",
       "      <td>-98.9656</td>\n",
       "      <td>1791</td>\n",
       "      <td>Corporate investment banker</td>\n",
       "      <td>1965-07-26</td>\n",
       "      <td>32.944329</td>\n",
       "      <td>-99.837307</td>\n",
       "      <td>0</td>\n",
       "    </tr>\n",
       "    <tr>\n",
       "      <th>1100138</th>\n",
       "      <td>2020-04-02 14:23:21</td>\n",
       "      <td>36153880429415</td>\n",
       "      <td>fraud_Reichel, Bradtke and Blanda</td>\n",
       "      <td>travel</td>\n",
       "      <td>15305.95</td>\n",
       "      <td>Erik</td>\n",
       "      <td>Stevens</td>\n",
       "      <td>M</td>\n",
       "      <td>84033 Pitts Overpass</td>\n",
       "      <td>Lakeland</td>\n",
       "      <td>FL</td>\n",
       "      <td>33809</td>\n",
       "      <td>28.1762</td>\n",
       "      <td>-81.9591</td>\n",
       "      <td>237282</td>\n",
       "      <td>Plant breeder/geneticist</td>\n",
       "      <td>1949-10-13</td>\n",
       "      <td>28.571759</td>\n",
       "      <td>-81.067564</td>\n",
       "      <td>0</td>\n",
       "    </tr>\n",
       "    <tr>\n",
       "      <th>1167637</th>\n",
       "      <td>2020-05-02 17:58:28</td>\n",
       "      <td>30343344410970</td>\n",
       "      <td>fraud_Tromp Group</td>\n",
       "      <td>travel</td>\n",
       "      <td>11694.98</td>\n",
       "      <td>Jacob</td>\n",
       "      <td>Dawson</td>\n",
       "      <td>M</td>\n",
       "      <td>663 Anna Plaza</td>\n",
       "      <td>Marienville</td>\n",
       "      <td>PA</td>\n",
       "      <td>16239</td>\n",
       "      <td>41.4622</td>\n",
       "      <td>-79.1306</td>\n",
       "      <td>4172</td>\n",
       "      <td>Copywriter, advertising</td>\n",
       "      <td>1962-03-20</td>\n",
       "      <td>40.584286</td>\n",
       "      <td>-78.576533</td>\n",
       "      <td>0</td>\n",
       "    </tr>\n",
       "    <tr>\n",
       "      <th>1191311</th>\n",
       "      <td>2020-05-12 13:05:00</td>\n",
       "      <td>6011679934075347</td>\n",
       "      <td>fraud_Hodkiewicz, Prohaska and Paucek</td>\n",
       "      <td>travel</td>\n",
       "      <td>14238.11</td>\n",
       "      <td>Jennifer</td>\n",
       "      <td>Gonzalez</td>\n",
       "      <td>F</td>\n",
       "      <td>5517 Stacy Land</td>\n",
       "      <td>Jelm</td>\n",
       "      <td>WY</td>\n",
       "      <td>82063</td>\n",
       "      <td>41.0539</td>\n",
       "      <td>-106.0763</td>\n",
       "      <td>100</td>\n",
       "      <td>Public librarian</td>\n",
       "      <td>1974-04-16</td>\n",
       "      <td>41.247869</td>\n",
       "      <td>-106.200065</td>\n",
       "      <td>0</td>\n",
       "    </tr>\n",
       "    <tr>\n",
       "      <th>1234797</th>\n",
       "      <td>2020-05-30 17:31:30</td>\n",
       "      <td>60423098130</td>\n",
       "      <td>fraud_Monahan, Hermann and Johns</td>\n",
       "      <td>travel</td>\n",
       "      <td>27119.77</td>\n",
       "      <td>Jason</td>\n",
       "      <td>Gray</td>\n",
       "      <td>M</td>\n",
       "      <td>875 Amy Point</td>\n",
       "      <td>Amorita</td>\n",
       "      <td>OK</td>\n",
       "      <td>73719</td>\n",
       "      <td>36.9412</td>\n",
       "      <td>-98.2458</td>\n",
       "      <td>83</td>\n",
       "      <td>Barrister's clerk</td>\n",
       "      <td>1958-07-28</td>\n",
       "      <td>37.286865</td>\n",
       "      <td>-97.249611</td>\n",
       "      <td>0</td>\n",
       "    </tr>\n",
       "    <tr>\n",
       "      <th>1245847</th>\n",
       "      <td>2020-06-02 18:45:24</td>\n",
       "      <td>3592931352252641</td>\n",
       "      <td>fraud_Lynch-Mohr</td>\n",
       "      <td>travel</td>\n",
       "      <td>14849.74</td>\n",
       "      <td>Dylan</td>\n",
       "      <td>Garcia</td>\n",
       "      <td>M</td>\n",
       "      <td>923 Jordan Road</td>\n",
       "      <td>Afton</td>\n",
       "      <td>MN</td>\n",
       "      <td>55001</td>\n",
       "      <td>44.8696</td>\n",
       "      <td>-92.8234</td>\n",
       "      <td>2916</td>\n",
       "      <td>Barrister's clerk</td>\n",
       "      <td>1935-06-29</td>\n",
       "      <td>44.840202</td>\n",
       "      <td>-92.501193</td>\n",
       "      <td>0</td>\n",
       "    </tr>\n",
       "    <tr>\n",
       "      <th>1262258</th>\n",
       "      <td>2020-06-08 20:46:23</td>\n",
       "      <td>4862293128558</td>\n",
       "      <td>fraud_Mosciski Group</td>\n",
       "      <td>travel</td>\n",
       "      <td>10665.33</td>\n",
       "      <td>Elizabeth</td>\n",
       "      <td>Payne</td>\n",
       "      <td>F</td>\n",
       "      <td>897 Daugherty Mission</td>\n",
       "      <td>Grassflat</td>\n",
       "      <td>PA</td>\n",
       "      <td>16839</td>\n",
       "      <td>41.0036</td>\n",
       "      <td>-78.1104</td>\n",
       "      <td>489</td>\n",
       "      <td>Pension scheme manager</td>\n",
       "      <td>1956-09-15</td>\n",
       "      <td>40.090804</td>\n",
       "      <td>-78.941345</td>\n",
       "      <td>0</td>\n",
       "    </tr>\n",
       "    <tr>\n",
       "      <th>1270060</th>\n",
       "      <td>2020-06-11 18:14:29</td>\n",
       "      <td>639023984367</td>\n",
       "      <td>fraud_Little-Gleichner</td>\n",
       "      <td>travel</td>\n",
       "      <td>10881.08</td>\n",
       "      <td>Destiny</td>\n",
       "      <td>Lowe</td>\n",
       "      <td>F</td>\n",
       "      <td>79472 Stevens Trace Apt. 120</td>\n",
       "      <td>Hannawa Falls</td>\n",
       "      <td>NY</td>\n",
       "      <td>13647</td>\n",
       "      <td>44.6087</td>\n",
       "      <td>-74.9732</td>\n",
       "      <td>69</td>\n",
       "      <td>Chief Executive Officer</td>\n",
       "      <td>1991-06-05</td>\n",
       "      <td>45.300250</td>\n",
       "      <td>-75.881408</td>\n",
       "      <td>0</td>\n",
       "    </tr>\n",
       "    <tr>\n",
       "      <th>1290513</th>\n",
       "      <td>2020-06-18 23:43:03</td>\n",
       "      <td>4908846471916297</td>\n",
       "      <td>fraud_Veum-Koelpin</td>\n",
       "      <td>travel</td>\n",
       "      <td>12176.55</td>\n",
       "      <td>Lauren</td>\n",
       "      <td>Torres</td>\n",
       "      <td>F</td>\n",
       "      <td>03030 White Lakes</td>\n",
       "      <td>Grandview</td>\n",
       "      <td>TX</td>\n",
       "      <td>76050</td>\n",
       "      <td>32.2779</td>\n",
       "      <td>-97.2351</td>\n",
       "      <td>5875</td>\n",
       "      <td>Radiographer, therapeutic</td>\n",
       "      <td>1992-07-24</td>\n",
       "      <td>32.931738</td>\n",
       "      <td>-96.358340</td>\n",
       "      <td>0</td>\n",
       "    </tr>\n",
       "  </tbody>\n",
       "</table>\n",
       "</div>"
      ],
      "text/plain": [
       "        trans_date_trans_time               cc_num  \\\n",
       "17743     2019-01-11 16:37:15      343472729187663   \n",
       "37315     2019-01-22 15:24:15     2264937662466770   \n",
       "59564     2019-02-04 21:22:30       30235268718158   \n",
       "105732    2019-03-02 15:36:36     4633065159406313   \n",
       "150564    2019-03-22 13:17:34     4450831335606294   \n",
       "159575    2019-03-25 17:38:55      372509258176510   \n",
       "164881    2019-03-28 16:53:47         630451534402   \n",
       "187885    2019-04-07 15:32:23     6538441737335434   \n",
       "232174    2019-04-27 13:27:50     4003989662068504   \n",
       "315542    2019-06-01 13:59:46  4502539526809429801   \n",
       "352894    2019-06-14 20:15:38     5540636818935089   \n",
       "375430    2019-06-22 17:34:11         630425673344   \n",
       "413937    2019-07-06 13:42:49         675961917837   \n",
       "446302    2019-07-17 16:21:33       30407675418785   \n",
       "474610    2019-07-27 23:29:50     3585052663373890   \n",
       "505438    2019-08-07 14:00:27     4634955908138648   \n",
       "541685    2019-08-19 21:34:27     4070511711385545   \n",
       "599712    2019-09-11 20:15:37         676281772837   \n",
       "606211    2019-09-14 22:19:01       30408301059761   \n",
       "752016    2019-11-17 20:00:17     2264937662466770   \n",
       "787549    2019-12-01 16:19:23     4979422371139333   \n",
       "793677    2019-12-02 15:53:46         675909898057   \n",
       "833033    2019-12-11 17:30:50     5559857416065248   \n",
       "981291    2020-02-02 22:13:40     4384910379661778   \n",
       "1024564   2020-02-28 20:00:17     4099707841315751   \n",
       "1071737   2020-03-21 12:52:37         630441765090   \n",
       "1100138   2020-04-02 14:23:21       36153880429415   \n",
       "1167637   2020-05-02 17:58:28       30343344410970   \n",
       "1191311   2020-05-12 13:05:00     6011679934075347   \n",
       "1234797   2020-05-30 17:31:30          60423098130   \n",
       "1245847   2020-06-02 18:45:24     3592931352252641   \n",
       "1262258   2020-06-08 20:46:23        4862293128558   \n",
       "1270060   2020-06-11 18:14:29         639023984367   \n",
       "1290513   2020-06-18 23:43:03     4908846471916297   \n",
       "\n",
       "                                      merchant category       amt  \\\n",
       "17743     fraud_Schroeder, Wolff and Hermiston   travel  11872.21   \n",
       "37315    fraud_Ritchie, Bradtke and Stiedemann   travel  10776.59   \n",
       "59564     fraud_Champlin, Rolfson and Connelly   travel  12788.07   \n",
       "105732    fraud_Champlin, Rolfson and Connelly   travel  11629.34   \n",
       "150564       fraud_Larson, Quitzon and Spencer   travel  15034.18   \n",
       "159575                       fraud_Tillman LLC   travel  10469.09   \n",
       "164881                 fraud_Ankunding-Carroll   travel  14630.68   \n",
       "187885                       fraud_Tillman LLC   travel  17897.24   \n",
       "232174       fraud_Reichel, Bradtke and Blanda   travel  10525.07   \n",
       "315542                        fraud_Lynch-Mohr   travel  13536.84   \n",
       "352894                     fraud_Hackett Group   travel  25086.94   \n",
       "375430    fraud_Champlin, Rolfson and Connelly   travel  11371.95   \n",
       "413937   fraud_Ritchie, Oberbrunner and Cremin   travel  14407.25   \n",
       "446302       fraud_Eichmann, Hayes and Treutel   travel  10926.44   \n",
       "474610          fraud_Kunze, Larkin and Mayert   travel  14467.64   \n",
       "505438                  fraud_Little-Gleichner   travel  13106.14   \n",
       "541685                 fraud_Reichert-Weissnat   travel  14112.59   \n",
       "599712                   fraud_Johnston-Casper   travel  11960.97   \n",
       "606211                       fraud_Boyer-Haley   travel  26544.12   \n",
       "752016                    fraud_Goyette-Herzog   travel  15047.03   \n",
       "787549                  fraud_Satterfield-Lowe   travel  28948.90   \n",
       "793677        fraud_Monahan, Hermann and Johns   travel  27390.12   \n",
       "833033                        fraud_Bednar Inc   travel  11422.83   \n",
       "981291                    fraud_Gislason Group   travel  12787.51   \n",
       "1024564      fraud_Eichmann, Hayes and Treutel   travel  12025.30   \n",
       "1071737                      fraud_Boyer-Haley   travel  12518.62   \n",
       "1100138      fraud_Reichel, Bradtke and Blanda   travel  15305.95   \n",
       "1167637                      fraud_Tromp Group   travel  11694.98   \n",
       "1191311  fraud_Hodkiewicz, Prohaska and Paucek   travel  14238.11   \n",
       "1234797       fraud_Monahan, Hermann and Johns   travel  27119.77   \n",
       "1245847                       fraud_Lynch-Mohr   travel  14849.74   \n",
       "1262258                   fraud_Mosciski Group   travel  10665.33   \n",
       "1270060                 fraud_Little-Gleichner   travel  10881.08   \n",
       "1290513                     fraud_Veum-Koelpin   travel  12176.55   \n",
       "\n",
       "               first        last gender                           street  \\\n",
       "17743         Gloria     Wallace      F       234 Bridges Wells Apt. 389   \n",
       "37315           Juan     Sherman      M     5939 Garcia Forges Suite 297   \n",
       "59564        Kenneth       Doyle      M                   8614 Reed Glen   \n",
       "105732       Jasmine        Wade      F               90662 Lewis Avenue   \n",
       "150564         Donna       Davis      F               6760 Donovan Lakes   \n",
       "159575       Kristen      Hanson      F                26544 Andrea Glen   \n",
       "164881        Rachel     Daniels      F        561 Little Plain Apt. 738   \n",
       "187885          Gina      Grimes      F                  444 Robert Mews   \n",
       "232174         Chris       White      M              98897 Bennett Lodge   \n",
       "315542     Stephanie    Cummings      F                1025 Robin Square   \n",
       "352894       Kenneth      Foster      M            329 Michael Extension   \n",
       "375430         Bryan      Miller      M                 411 Laurie Fords   \n",
       "413937   Christopher    Cummings      M       478 George Course Apt. 056   \n",
       "446302      Danielle       Evans      F       76752 David Lodge Apt. 064   \n",
       "474610       Jeffery       Brown      M                 296 Maria Street   \n",
       "505438     Mackenzie       Smith      F                7178 Willis Drive   \n",
       "541685     Stephanie     Hopkins      F  44089 Carrie Crossing Suite 954   \n",
       "599712        Alicia      Bishop      F              222 Freeman Islands   \n",
       "606211       Brandon     Pittman      M                2881 Frey Village   \n",
       "752016          Juan     Sherman      M     5939 Garcia Forges Suite 297   \n",
       "787549         Kelly   Zimmerman      F                1893 Katie Tunnel   \n",
       "793677   Christopher       Henry      M   1198 Robert Stravenue Apt. 479   \n",
       "833033          Jack        Hill      M       5916 Susan Bridge Apt. 939   \n",
       "981291      Michelle     Russell      F                55505 Christy Via   \n",
       "1024564        James    Stephens      M          1166 Castillo Mountains   \n",
       "1071737        Susan  Washington      F         759 Erin Mount Suite 956   \n",
       "1100138         Erik     Stevens      M             84033 Pitts Overpass   \n",
       "1167637        Jacob      Dawson      M                   663 Anna Plaza   \n",
       "1191311     Jennifer    Gonzalez      F                  5517 Stacy Land   \n",
       "1234797        Jason        Gray      M                    875 Amy Point   \n",
       "1245847        Dylan      Garcia      M                  923 Jordan Road   \n",
       "1262258    Elizabeth       Payne      F            897 Daugherty Mission   \n",
       "1270060      Destiny        Lowe      F     79472 Stevens Trace Apt. 120   \n",
       "1290513       Lauren      Torres      F                03030 White Lakes   \n",
       "\n",
       "                      city state    zip      lat      long  city_pop  \\\n",
       "17743    Center Tuftonboro    NH   3816  43.6849  -71.2551      1368   \n",
       "37315          San Antonio    TX  78214  29.3641  -98.4924   1595797   \n",
       "59564        West Harrison    NY  10604  41.0592  -73.7395     11250   \n",
       "105732          Providence    RI   2908  41.8383  -71.4377    203571   \n",
       "150564             Clayton    OK  74536  34.5906  -95.3800      1760   \n",
       "159575            Goodrich    MI  48438  42.9147  -83.4845      6951   \n",
       "164881             Wetmore    MI  49895  46.3535  -86.6345       765   \n",
       "187885        Clarks Mills    PA  16114  41.3851  -80.1752       606   \n",
       "232174            Bessemer    AL  35022  33.3224  -86.9657     71463   \n",
       "315542            Ash Flat    AR  72513  36.2201  -91.6421      2856   \n",
       "352894            Lawrence    MA   1843  42.6911  -71.1605     76383   \n",
       "375430                Cass    WV  24927  38.3880  -79.9906       365   \n",
       "413937             Sprague    NE  68438  40.6267  -96.7456       142   \n",
       "446302           Breesport    NY  14816  42.1939  -76.7361       520   \n",
       "474610          West Eaton    NY  13484  42.8546  -75.6605       176   \n",
       "505438              Hooper    NE  68031  41.6414  -96.5232      1745   \n",
       "541685          Falls City    TX  78113  28.9814  -98.0156      2435   \n",
       "599712             Whigham    GA  39897  30.8836  -84.3246      3430   \n",
       "606211               Cross    SC  29436  33.3364  -80.1859      4471   \n",
       "752016         San Antonio    TX  78214  29.3641  -98.4924   1595797   \n",
       "787549         Westerville    NE  68881  41.4193  -99.3844        73   \n",
       "793677              Armonk    NY  10504  41.1360  -73.7009      7987   \n",
       "833033             Grenada    CA  96038  41.6125 -122.5258       589   \n",
       "981291              Hawley    MN  56549  46.9777  -96.4092      4508   \n",
       "1024564       Ruckersville    VA  22968  38.2586  -78.4074      9815   \n",
       "1071737                May    TX  76857  31.9571  -98.9656      1791   \n",
       "1100138           Lakeland    FL  33809  28.1762  -81.9591    237282   \n",
       "1167637        Marienville    PA  16239  41.4622  -79.1306      4172   \n",
       "1191311               Jelm    WY  82063  41.0539 -106.0763       100   \n",
       "1234797            Amorita    OK  73719  36.9412  -98.2458        83   \n",
       "1245847              Afton    MN  55001  44.8696  -92.8234      2916   \n",
       "1262258          Grassflat    PA  16839  41.0036  -78.1104       489   \n",
       "1270060      Hannawa Falls    NY  13647  44.6087  -74.9732        69   \n",
       "1290513          Grandview    TX  76050  32.2779  -97.2351      5875   \n",
       "\n",
       "                                    job         dob  merch_lat  merch_long  \\\n",
       "17743              Optician, dispensing  1971-08-05  43.235621  -71.391741   \n",
       "37315                              Land  1995-10-17  29.772325  -98.593405   \n",
       "59564                     Lexicographer  1977-08-16  40.269472  -73.482064   \n",
       "105732                Nurse, children's  1995-11-29  42.504489  -71.379189   \n",
       "150564        Occupational psychologist  1972-01-20  35.266488  -95.033506   \n",
       "159575        Learning disability nurse  1985-06-18  42.192907  -84.094660   \n",
       "164881                     Immunologist  1972-06-12  46.944452  -85.746696   \n",
       "187885                   Energy manager  1997-09-22  41.361042  -79.665772   \n",
       "232174        Radio broadcast assistant  1989-02-08  32.565170  -86.935466   \n",
       "315542                      Hydrologist  1926-08-27  36.236003  -91.615941   \n",
       "352894                     Geoscientist  1985-04-04  42.397174  -71.474163   \n",
       "375430           Special effects artist  1970-03-14  38.360005  -80.054179   \n",
       "413937                      Chiropodist  1967-08-24  41.617800  -97.090078   \n",
       "446302                  Psychotherapist  1991-10-13  41.776414  -76.234382   \n",
       "474610                   Science writer  1963-12-28  43.305840  -76.281297   \n",
       "505438             Engineer, automotive  1973-12-26  42.377626  -97.466696   \n",
       "541685                 Engineer, mining  1967-04-09  29.544617  -98.282754   \n",
       "599712            Editor, commissioning  1950-03-25  30.588345  -83.622392   \n",
       "606211           Occupational hygienist  1973-10-09  33.020256  -80.125607   \n",
       "752016                             Land  1995-10-17  29.849413  -98.224021   \n",
       "787549                 Product designer  1935-02-10  42.317313  -99.139498   \n",
       "793677   Television/film/video producer  1964-03-16  41.665873  -74.663015   \n",
       "833033                  Systems analyst  1945-12-21  41.901896 -122.021582   \n",
       "981291                  Naval architect  1949-04-24  46.728699  -96.845093   \n",
       "1024564      Designer, ceramics/pottery  1975-07-07  37.681951  -77.443076   \n",
       "1071737     Corporate investment banker  1965-07-26  32.944329  -99.837307   \n",
       "1100138        Plant breeder/geneticist  1949-10-13  28.571759  -81.067564   \n",
       "1167637         Copywriter, advertising  1962-03-20  40.584286  -78.576533   \n",
       "1191311                Public librarian  1974-04-16  41.247869 -106.200065   \n",
       "1234797               Barrister's clerk  1958-07-28  37.286865  -97.249611   \n",
       "1245847               Barrister's clerk  1935-06-29  44.840202  -92.501193   \n",
       "1262258          Pension scheme manager  1956-09-15  40.090804  -78.941345   \n",
       "1270060         Chief Executive Officer  1991-06-05  45.300250  -75.881408   \n",
       "1290513       Radiographer, therapeutic  1992-07-24  32.931738  -96.358340   \n",
       "\n",
       "         is_fraud  \n",
       "17743           0  \n",
       "37315           0  \n",
       "59564           0  \n",
       "105732          0  \n",
       "150564          0  \n",
       "159575          0  \n",
       "164881          0  \n",
       "187885          0  \n",
       "232174          0  \n",
       "315542          0  \n",
       "352894          0  \n",
       "375430          0  \n",
       "413937          0  \n",
       "446302          0  \n",
       "474610          0  \n",
       "505438          0  \n",
       "541685          0  \n",
       "599712          0  \n",
       "606211          0  \n",
       "752016          0  \n",
       "787549          0  \n",
       "793677          0  \n",
       "833033          0  \n",
       "981291          0  \n",
       "1024564         0  \n",
       "1071737         0  \n",
       "1100138         0  \n",
       "1167637         0  \n",
       "1191311         0  \n",
       "1234797         0  \n",
       "1245847         0  \n",
       "1262258         0  \n",
       "1270060         0  \n",
       "1290513         0  "
      ]
     },
     "execution_count": 35,
     "metadata": {},
     "output_type": "execute_result"
    }
   ],
   "source": [
    "#Look at transactions that are >= $10,000\n",
    "cc_data_valid[cc_data_valid['amt']>=10000]"
   ]
  },
  {
   "cell_type": "markdown",
   "id": "8c176c77",
   "metadata": {},
   "source": [
    "Seems like all extreme valid transactions are in the travel category. For FRAUDULENT transactions, the 'travel' category has the least number of cases, so we can probably remove some of these outliers from the valid transactions dataframe."
   ]
  },
  {
   "cell_type": "code",
   "execution_count": 36,
   "id": "893db4fd",
   "metadata": {
    "scrolled": false
   },
   "outputs": [
    {
     "data": {
      "text/html": [
       "<div>\n",
       "<style scoped>\n",
       "    .dataframe tbody tr th:only-of-type {\n",
       "        vertical-align: middle;\n",
       "    }\n",
       "\n",
       "    .dataframe tbody tr th {\n",
       "        vertical-align: top;\n",
       "    }\n",
       "\n",
       "    .dataframe thead th {\n",
       "        text-align: right;\n",
       "    }\n",
       "</style>\n",
       "<table border=\"1\" class=\"dataframe\">\n",
       "  <thead>\n",
       "    <tr style=\"text-align: right;\">\n",
       "      <th></th>\n",
       "      <th>trans_date_trans_time</th>\n",
       "      <th>cc_num</th>\n",
       "      <th>merchant</th>\n",
       "      <th>category</th>\n",
       "      <th>amt</th>\n",
       "      <th>first</th>\n",
       "      <th>last</th>\n",
       "      <th>gender</th>\n",
       "      <th>street</th>\n",
       "      <th>city</th>\n",
       "      <th>state</th>\n",
       "      <th>zip</th>\n",
       "      <th>lat</th>\n",
       "      <th>long</th>\n",
       "      <th>city_pop</th>\n",
       "      <th>job</th>\n",
       "      <th>dob</th>\n",
       "      <th>merch_lat</th>\n",
       "      <th>merch_long</th>\n",
       "      <th>is_fraud</th>\n",
       "    </tr>\n",
       "  </thead>\n",
       "  <tbody>\n",
       "    <tr>\n",
       "      <th>4693</th>\n",
       "      <td>2019-01-03 22:58:44</td>\n",
       "      <td>4922710831011201</td>\n",
       "      <td>fraud_Mosciski Group</td>\n",
       "      <td>travel</td>\n",
       "      <td>4.50</td>\n",
       "      <td>Heather</td>\n",
       "      <td>Chase</td>\n",
       "      <td>F</td>\n",
       "      <td>6888 Hicks Stream Suite 954</td>\n",
       "      <td>Manor</td>\n",
       "      <td>PA</td>\n",
       "      <td>15665</td>\n",
       "      <td>40.3359</td>\n",
       "      <td>-79.6607</td>\n",
       "      <td>1472</td>\n",
       "      <td>Public affairs consultant</td>\n",
       "      <td>1941-03-07</td>\n",
       "      <td>39.492341</td>\n",
       "      <td>-78.859114</td>\n",
       "      <td>1</td>\n",
       "    </tr>\n",
       "    <tr>\n",
       "      <th>15472</th>\n",
       "      <td>2019-01-09 22:23:50</td>\n",
       "      <td>342035762534413</td>\n",
       "      <td>fraud_Treutel-King</td>\n",
       "      <td>travel</td>\n",
       "      <td>10.53</td>\n",
       "      <td>Jennifer</td>\n",
       "      <td>Carrillo</td>\n",
       "      <td>F</td>\n",
       "      <td>334 Adam Mountains Apt. 868</td>\n",
       "      <td>Manquin</td>\n",
       "      <td>VA</td>\n",
       "      <td>23106</td>\n",
       "      <td>37.7184</td>\n",
       "      <td>-77.1860</td>\n",
       "      <td>976</td>\n",
       "      <td>Engineer, automotive</td>\n",
       "      <td>1999-06-19</td>\n",
       "      <td>37.988194</td>\n",
       "      <td>-77.332289</td>\n",
       "      <td>1</td>\n",
       "    </tr>\n",
       "    <tr>\n",
       "      <th>15508</th>\n",
       "      <td>2019-01-09 22:58:24</td>\n",
       "      <td>4806443445305</td>\n",
       "      <td>fraud_Boyer-Haley</td>\n",
       "      <td>travel</td>\n",
       "      <td>9.91</td>\n",
       "      <td>Eric</td>\n",
       "      <td>Patel</td>\n",
       "      <td>M</td>\n",
       "      <td>69459 Rachel Prairie Apt. 850</td>\n",
       "      <td>Ironton</td>\n",
       "      <td>OH</td>\n",
       "      <td>45638</td>\n",
       "      <td>38.5294</td>\n",
       "      <td>-82.6654</td>\n",
       "      <td>21635</td>\n",
       "      <td>Geochemist</td>\n",
       "      <td>2001-07-10</td>\n",
       "      <td>39.080891</td>\n",
       "      <td>-83.365176</td>\n",
       "      <td>1</td>\n",
       "    </tr>\n",
       "    <tr>\n",
       "      <th>24097</th>\n",
       "      <td>2019-01-14 23:36:30</td>\n",
       "      <td>180031190491743</td>\n",
       "      <td>fraud_Fritsch LLC</td>\n",
       "      <td>travel</td>\n",
       "      <td>10.20</td>\n",
       "      <td>Becky</td>\n",
       "      <td>Mckinney</td>\n",
       "      <td>F</td>\n",
       "      <td>250 Benjamin Hill Apt. 026</td>\n",
       "      <td>Mobile</td>\n",
       "      <td>AL</td>\n",
       "      <td>36617</td>\n",
       "      <td>30.7145</td>\n",
       "      <td>-88.0918</td>\n",
       "      <td>270712</td>\n",
       "      <td>Surveyor, land/geomatics</td>\n",
       "      <td>1972-01-05</td>\n",
       "      <td>31.648465</td>\n",
       "      <td>-88.117149</td>\n",
       "      <td>1</td>\n",
       "    </tr>\n",
       "    <tr>\n",
       "      <th>26270</th>\n",
       "      <td>2019-01-15 22:05:57</td>\n",
       "      <td>3595192916105588</td>\n",
       "      <td>fraud_Kovacek Ltd</td>\n",
       "      <td>travel</td>\n",
       "      <td>10.29</td>\n",
       "      <td>Dustin</td>\n",
       "      <td>Roberts</td>\n",
       "      <td>M</td>\n",
       "      <td>3283 James Station</td>\n",
       "      <td>Fayetteville</td>\n",
       "      <td>NC</td>\n",
       "      <td>28314</td>\n",
       "      <td>35.0583</td>\n",
       "      <td>-79.0080</td>\n",
       "      <td>238602</td>\n",
       "      <td>Scientist, research (maths)</td>\n",
       "      <td>1993-05-14</td>\n",
       "      <td>35.102385</td>\n",
       "      <td>-79.953349</td>\n",
       "      <td>1</td>\n",
       "    </tr>\n",
       "    <tr>\n",
       "      <th>...</th>\n",
       "      <td>...</td>\n",
       "      <td>...</td>\n",
       "      <td>...</td>\n",
       "      <td>...</td>\n",
       "      <td>...</td>\n",
       "      <td>...</td>\n",
       "      <td>...</td>\n",
       "      <td>...</td>\n",
       "      <td>...</td>\n",
       "      <td>...</td>\n",
       "      <td>...</td>\n",
       "      <td>...</td>\n",
       "      <td>...</td>\n",
       "      <td>...</td>\n",
       "      <td>...</td>\n",
       "      <td>...</td>\n",
       "      <td>...</td>\n",
       "      <td>...</td>\n",
       "      <td>...</td>\n",
       "      <td>...</td>\n",
       "    </tr>\n",
       "    <tr>\n",
       "      <th>1235111</th>\n",
       "      <td>2020-05-30 19:57:07</td>\n",
       "      <td>4841313716651064</td>\n",
       "      <td>fraud_Kunze, Larkin and Mayert</td>\n",
       "      <td>travel</td>\n",
       "      <td>9.23</td>\n",
       "      <td>Omar</td>\n",
       "      <td>Gay</td>\n",
       "      <td>M</td>\n",
       "      <td>2161 Blankenship Freeway</td>\n",
       "      <td>West Hartford</td>\n",
       "      <td>VT</td>\n",
       "      <td>5084</td>\n",
       "      <td>43.7185</td>\n",
       "      <td>-72.4439</td>\n",
       "      <td>140</td>\n",
       "      <td>Development worker, community</td>\n",
       "      <td>1989-10-28</td>\n",
       "      <td>44.215232</td>\n",
       "      <td>-71.477553</td>\n",
       "      <td>1</td>\n",
       "    </tr>\n",
       "    <tr>\n",
       "      <th>1261421</th>\n",
       "      <td>2020-06-08 16:59:00</td>\n",
       "      <td>3562793934111141</td>\n",
       "      <td>fraud_McLaughlin, Armstrong and Koepp</td>\n",
       "      <td>travel</td>\n",
       "      <td>11.12</td>\n",
       "      <td>Meagan</td>\n",
       "      <td>Edwards</td>\n",
       "      <td>F</td>\n",
       "      <td>10376 Bullock Rapid</td>\n",
       "      <td>Queen Anne</td>\n",
       "      <td>MD</td>\n",
       "      <td>21657</td>\n",
       "      <td>38.9456</td>\n",
       "      <td>-75.9777</td>\n",
       "      <td>777</td>\n",
       "      <td>Television production assistant</td>\n",
       "      <td>1997-04-17</td>\n",
       "      <td>38.079395</td>\n",
       "      <td>-76.176270</td>\n",
       "      <td>1</td>\n",
       "    </tr>\n",
       "    <tr>\n",
       "      <th>1262318</th>\n",
       "      <td>2020-06-08 21:02:08</td>\n",
       "      <td>676372984911</td>\n",
       "      <td>fraud_Boyer-Haley</td>\n",
       "      <td>travel</td>\n",
       "      <td>10.33</td>\n",
       "      <td>Vicki</td>\n",
       "      <td>Mendoza</td>\n",
       "      <td>F</td>\n",
       "      <td>3645 Atkins Island Apt. 238</td>\n",
       "      <td>Esbon</td>\n",
       "      <td>KS</td>\n",
       "      <td>66941</td>\n",
       "      <td>39.7562</td>\n",
       "      <td>-98.4462</td>\n",
       "      <td>242</td>\n",
       "      <td>Tourism officer</td>\n",
       "      <td>1987-07-18</td>\n",
       "      <td>39.647883</td>\n",
       "      <td>-99.273257</td>\n",
       "      <td>1</td>\n",
       "    </tr>\n",
       "    <tr>\n",
       "      <th>1262873</th>\n",
       "      <td>2020-06-08 23:41:38</td>\n",
       "      <td>4681601008538160</td>\n",
       "      <td>fraud_Hahn, Douglas and Schowalter</td>\n",
       "      <td>travel</td>\n",
       "      <td>9.34</td>\n",
       "      <td>Tammy</td>\n",
       "      <td>Davis</td>\n",
       "      <td>F</td>\n",
       "      <td>77663 Colleen Freeway</td>\n",
       "      <td>Moundsville</td>\n",
       "      <td>WV</td>\n",
       "      <td>26041</td>\n",
       "      <td>39.9148</td>\n",
       "      <td>-80.7310</td>\n",
       "      <td>16183</td>\n",
       "      <td>Physiotherapist</td>\n",
       "      <td>1977-08-12</td>\n",
       "      <td>39.892369</td>\n",
       "      <td>-81.004168</td>\n",
       "      <td>1</td>\n",
       "    </tr>\n",
       "    <tr>\n",
       "      <th>1290347</th>\n",
       "      <td>2020-06-18 22:16:28</td>\n",
       "      <td>3527536963490470</td>\n",
       "      <td>fraud_Satterfield-Lowe</td>\n",
       "      <td>travel</td>\n",
       "      <td>9.72</td>\n",
       "      <td>Teresa</td>\n",
       "      <td>Stein</td>\n",
       "      <td>F</td>\n",
       "      <td>2838 White Fields Apt. 473</td>\n",
       "      <td>Brunson</td>\n",
       "      <td>SC</td>\n",
       "      <td>29911</td>\n",
       "      <td>32.9413</td>\n",
       "      <td>-81.1807</td>\n",
       "      <td>1725</td>\n",
       "      <td>Social researcher</td>\n",
       "      <td>1974-12-05</td>\n",
       "      <td>33.762304</td>\n",
       "      <td>-81.404825</td>\n",
       "      <td>1</td>\n",
       "    </tr>\n",
       "  </tbody>\n",
       "</table>\n",
       "<p>116 rows × 20 columns</p>\n",
       "</div>"
      ],
      "text/plain": [
       "        trans_date_trans_time            cc_num  \\\n",
       "4693      2019-01-03 22:58:44  4922710831011201   \n",
       "15472     2019-01-09 22:23:50   342035762534413   \n",
       "15508     2019-01-09 22:58:24     4806443445305   \n",
       "24097     2019-01-14 23:36:30   180031190491743   \n",
       "26270     2019-01-15 22:05:57  3595192916105588   \n",
       "...                       ...               ...   \n",
       "1235111   2020-05-30 19:57:07  4841313716651064   \n",
       "1261421   2020-06-08 16:59:00  3562793934111141   \n",
       "1262318   2020-06-08 21:02:08      676372984911   \n",
       "1262873   2020-06-08 23:41:38  4681601008538160   \n",
       "1290347   2020-06-18 22:16:28  3527536963490470   \n",
       "\n",
       "                                      merchant category    amt     first  \\\n",
       "4693                      fraud_Mosciski Group   travel   4.50   Heather   \n",
       "15472                       fraud_Treutel-King   travel  10.53  Jennifer   \n",
       "15508                        fraud_Boyer-Haley   travel   9.91      Eric   \n",
       "24097                        fraud_Fritsch LLC   travel  10.20     Becky   \n",
       "26270                        fraud_Kovacek Ltd   travel  10.29    Dustin   \n",
       "...                                        ...      ...    ...       ...   \n",
       "1235111         fraud_Kunze, Larkin and Mayert   travel   9.23      Omar   \n",
       "1261421  fraud_McLaughlin, Armstrong and Koepp   travel  11.12    Meagan   \n",
       "1262318                      fraud_Boyer-Haley   travel  10.33     Vicki   \n",
       "1262873     fraud_Hahn, Douglas and Schowalter   travel   9.34     Tammy   \n",
       "1290347                 fraud_Satterfield-Lowe   travel   9.72    Teresa   \n",
       "\n",
       "             last gender                         street           city state  \\\n",
       "4693        Chase      F    6888 Hicks Stream Suite 954          Manor    PA   \n",
       "15472    Carrillo      F    334 Adam Mountains Apt. 868        Manquin    VA   \n",
       "15508       Patel      M  69459 Rachel Prairie Apt. 850        Ironton    OH   \n",
       "24097    Mckinney      F     250 Benjamin Hill Apt. 026         Mobile    AL   \n",
       "26270     Roberts      M             3283 James Station   Fayetteville    NC   \n",
       "...           ...    ...                            ...            ...   ...   \n",
       "1235111       Gay      M       2161 Blankenship Freeway  West Hartford    VT   \n",
       "1261421   Edwards      F            10376 Bullock Rapid     Queen Anne    MD   \n",
       "1262318   Mendoza      F    3645 Atkins Island Apt. 238          Esbon    KS   \n",
       "1262873     Davis      F          77663 Colleen Freeway    Moundsville    WV   \n",
       "1290347     Stein      F     2838 White Fields Apt. 473        Brunson    SC   \n",
       "\n",
       "           zip      lat     long  city_pop                              job  \\\n",
       "4693     15665  40.3359 -79.6607      1472        Public affairs consultant   \n",
       "15472    23106  37.7184 -77.1860       976             Engineer, automotive   \n",
       "15508    45638  38.5294 -82.6654     21635                       Geochemist   \n",
       "24097    36617  30.7145 -88.0918    270712         Surveyor, land/geomatics   \n",
       "26270    28314  35.0583 -79.0080    238602      Scientist, research (maths)   \n",
       "...        ...      ...      ...       ...                              ...   \n",
       "1235111   5084  43.7185 -72.4439       140    Development worker, community   \n",
       "1261421  21657  38.9456 -75.9777       777  Television production assistant   \n",
       "1262318  66941  39.7562 -98.4462       242                  Tourism officer   \n",
       "1262873  26041  39.9148 -80.7310     16183                  Physiotherapist   \n",
       "1290347  29911  32.9413 -81.1807      1725                Social researcher   \n",
       "\n",
       "                dob  merch_lat  merch_long  is_fraud  \n",
       "4693     1941-03-07  39.492341  -78.859114         1  \n",
       "15472    1999-06-19  37.988194  -77.332289         1  \n",
       "15508    2001-07-10  39.080891  -83.365176         1  \n",
       "24097    1972-01-05  31.648465  -88.117149         1  \n",
       "26270    1993-05-14  35.102385  -79.953349         1  \n",
       "...             ...        ...         ...       ...  \n",
       "1235111  1989-10-28  44.215232  -71.477553         1  \n",
       "1261421  1997-04-17  38.079395  -76.176270         1  \n",
       "1262318  1987-07-18  39.647883  -99.273257         1  \n",
       "1262873  1977-08-12  39.892369  -81.004168         1  \n",
       "1290347  1974-12-05  33.762304  -81.404825         1  \n",
       "\n",
       "[116 rows x 20 columns]"
      ]
     },
     "execution_count": 36,
     "metadata": {},
     "output_type": "execute_result"
    }
   ],
   "source": [
    "#Take a quick look at all FRAUDULENT TRAVEL RELATED transactions\n",
    "#Look at transactions that are >= $15,000\n",
    "cc_data_fraud[cc_data_fraud['category']=='travel']"
   ]
  },
  {
   "cell_type": "code",
   "execution_count": 37,
   "id": "fe2e40a6",
   "metadata": {
    "scrolled": false
   },
   "outputs": [
    {
     "data": {
      "text/plain": [
       "Text(0.5, 1.0, 'Distribution of Fraudulent Travel Transaction Amounts')"
      ]
     },
     "execution_count": 37,
     "metadata": {},
     "output_type": "execute_result"
    },
    {
     "data": {
      "image/png": "[encoded data removed]",
      "text/plain": [
       "<Figure size 432x288 with 1 Axes>"
      ]
     },
     "metadata": {
      "needs_background": "light"
     },
     "output_type": "display_data"
    }
   ],
   "source": [
    "#Get a distribution of fraudulent transaction amounts that are travel related.\n",
    "cc_data_fraud[cc_data_fraud['category']=='travel']['amt'].hist(bins = 10)\n",
    "plt.xlabel('Transaction amount')\n",
    "plt.ylabel('Count')\n",
    "plt.title('Distribution of Fraudulent Travel Transaction Amounts')"
   ]
  },
  {
   "cell_type": "markdown",
   "id": "97cf4d85",
   "metadata": {},
   "source": [
    "Since all the fraudulent transactions that are TRAVEL related are under $13, we can probably remove a fair number of our travel related outliers from the valid transactions data frame."
   ]
  },
  {
   "cell_type": "code",
   "execution_count": 38,
   "id": "73778d60",
   "metadata": {
    "scrolled": true
   },
   "outputs": [
    {
     "name": "stdout",
     "output_type": "stream",
     "text": [
      "There are 40285 valid travel transactions that are less than $5000\n"
     ]
    }
   ],
   "source": [
    "#How many VALID, TRAVEL transactions are there under $5000?\n",
    "num_less_5000 = len(cc_data_valid[(cc_data_valid['amt']<5000) & (cc_data_valid['category']=='travel')])\n",
    "print('There are {} valid travel transactions that are less than $5000'.format(num_less_5000))"
   ]
  },
  {
   "cell_type": "code",
   "execution_count": 39,
   "id": "d641e706",
   "metadata": {
    "scrolled": true
   },
   "outputs": [
    {
     "data": {
      "text/plain": [
       "Text(0.5, 1.0, 'Distribution of Valid Travel Transaction Amounts')"
      ]
     },
     "execution_count": 39,
     "metadata": {},
     "output_type": "execute_result"
    },
    {
     "data": {
      "image/png": "[encoded data removed]",
      "text/plain": [
       "<Figure size 432x288 with 1 Axes>"
      ]
     },
     "metadata": {
      "needs_background": "light"
     },
     "output_type": "display_data"
    }
   ],
   "source": [
    "#Get a histogram of VALID, TRAVEL, transactions\n",
    "cc_data_valid[cc_data_valid['category']=='travel']['amt'].hist(bins = 10)\n",
    "plt.xlabel('Transaction amount')\n",
    "plt.ylabel('Count')\n",
    "plt.title('Distribution of Valid Travel Transaction Amounts')"
   ]
  },
  {
   "cell_type": "code",
   "execution_count": 40,
   "id": "d7a300ee",
   "metadata": {
    "scrolled": true
   },
   "outputs": [
    {
     "data": {
      "text/plain": [
       "Text(0.5, 1.0, 'Distribution of Valid Travel Transaction Amounts Greater than $5000')"
      ]
     },
     "execution_count": 40,
     "metadata": {},
     "output_type": "execute_result"
    },
    {
     "data": {
      "image/png": "[encoded data removed]",
      "text/plain": [
       "<Figure size 432x288 with 1 Axes>"
      ]
     },
     "metadata": {
      "needs_background": "light"
     },
     "output_type": "display_data"
    }
   ],
   "source": [
    "#Get a histogram of VALID, TRAVEL, transactions that are greater than or equal to $5000\n",
    "cc_data_valid[(cc_data_valid['category']=='travel') & (cc_data_valid['amt'] >= 5000)]['amt'].hist(bins = 10)\n",
    "plt.xlabel('Transaction amount')\n",
    "plt.ylabel('Count')\n",
    "plt.title('Distribution of Valid Travel Transaction Amounts Greater than $5000')"
   ]
  },
  {
   "cell_type": "code",
   "execution_count": 41,
   "id": "4fd6976b",
   "metadata": {
    "scrolled": false
   },
   "outputs": [
    {
     "data": {
      "text/plain": [
       "Text(0.5, 1.0, 'Distribution of Valid Travel Transaction Amounts Less than $5000')"
      ]
     },
     "execution_count": 41,
     "metadata": {},
     "output_type": "execute_result"
    },
    {
     "data": {
      "image/png": "[encoded data removed]",
      "text/plain": [
       "<Figure size 432x288 with 1 Axes>"
      ]
     },
     "metadata": {
      "needs_background": "light"
     },
     "output_type": "display_data"
    }
   ],
   "source": [
    "#Get a histogram of VALID, TRAVEL, transactions that are less than $5000\n",
    "cc_data_valid[(cc_data_valid['category']=='travel') & (cc_data_valid['amt'] < 5000)]['amt'].hist(bins = 10)\n",
    "plt.xlabel('Transaction amount')\n",
    "plt.ylabel('Count')\n",
    "plt.title('Distribution of Valid Travel Transaction Amounts Less than $5000')"
   ]
  },
  {
   "cell_type": "markdown",
   "id": "7c896572",
   "metadata": {},
   "source": [
    "Check if all valid travel transactions >= $5000 are travel related"
   ]
  },
  {
   "cell_type": "code",
   "execution_count": 42,
   "id": "02c505fd",
   "metadata": {},
   "outputs": [
    {
     "data": {
      "text/plain": [
       "travel          106\n",
       "shopping_pos     15\n",
       "shopping_net     15\n",
       "Name: category, dtype: int64"
      ]
     },
     "execution_count": 42,
     "metadata": {},
     "output_type": "execute_result"
    }
   ],
   "source": [
    "cc_data_valid[cc_data_valid['amt']>=5000]['category'].value_counts()"
   ]
  },
  {
   "cell_type": "markdown",
   "id": "0b3473a3",
   "metadata": {},
   "source": [
    "We'll use $5000 as the threshold for removing outliers, provided that they are travel related expenses. Will keep shopping_net and shopping_pos outliers since there are a fair number of fraudulent transactions under these categories."
   ]
  },
  {
   "cell_type": "code",
   "execution_count": 43,
   "id": "c53549fa",
   "metadata": {},
   "outputs": [],
   "source": [
    "cc_data = cc_data.drop(cc_data[(cc_data.amt >= 5000) & (cc_data.category == 'travel')].index)"
   ]
  },
  {
   "cell_type": "code",
   "execution_count": 44,
   "id": "1f71fc74",
   "metadata": {
    "scrolled": false
   },
   "outputs": [
    {
     "data": {
      "text/plain": [
       "Text(0.5, 1.0, 'Distribution of transaction amounts')"
      ]
     },
     "execution_count": 44,
     "metadata": {},
     "output_type": "execute_result"
    },
    {
     "data": {
      "image/png": "[encoded data removed]",
      "text/plain": [
       "<Figure size 432x288 with 1 Axes>"
      ]
     },
     "metadata": {
      "needs_background": "light"
     },
     "output_type": "display_data"
    }
   ],
   "source": [
    "#check histogram of transaction amounts for whole dataset\n",
    "cc_data['amt'].hist(bins = 20)\n",
    "plt.xlabel('Transaction amount')\n",
    "plt.ylabel('Count')\n",
    "plt.title('Distribution of transaction amounts')"
   ]
  },
  {
   "cell_type": "code",
   "execution_count": 45,
   "id": "10e8c1e9",
   "metadata": {},
   "outputs": [
    {
     "data": {
      "text/html": [
       "<div>\n",
       "<style scoped>\n",
       "    .dataframe tbody tr th:only-of-type {\n",
       "        vertical-align: middle;\n",
       "    }\n",
       "\n",
       "    .dataframe tbody tr th {\n",
       "        vertical-align: top;\n",
       "    }\n",
       "\n",
       "    .dataframe thead th {\n",
       "        text-align: right;\n",
       "    }\n",
       "</style>\n",
       "<table border=\"1\" class=\"dataframe\">\n",
       "  <thead>\n",
       "    <tr style=\"text-align: right;\">\n",
       "      <th></th>\n",
       "      <th>trans_date_trans_time</th>\n",
       "      <th>cc_num</th>\n",
       "      <th>merchant</th>\n",
       "      <th>category</th>\n",
       "      <th>amt</th>\n",
       "      <th>first</th>\n",
       "      <th>last</th>\n",
       "      <th>gender</th>\n",
       "      <th>street</th>\n",
       "      <th>city</th>\n",
       "      <th>state</th>\n",
       "      <th>zip</th>\n",
       "      <th>lat</th>\n",
       "      <th>long</th>\n",
       "      <th>city_pop</th>\n",
       "      <th>job</th>\n",
       "      <th>dob</th>\n",
       "      <th>merch_lat</th>\n",
       "      <th>merch_long</th>\n",
       "      <th>is_fraud</th>\n",
       "    </tr>\n",
       "  </thead>\n",
       "  <tbody>\n",
       "  </tbody>\n",
       "</table>\n",
       "</div>"
      ],
      "text/plain": [
       "Empty DataFrame\n",
       "Columns: [trans_date_trans_time, cc_num, merchant, category, amt, first, last, gender, street, city, state, zip, lat, long, city_pop, job, dob, merch_lat, merch_long, is_fraud]\n",
       "Index: []"
      ]
     },
     "execution_count": 45,
     "metadata": {},
     "output_type": "execute_result"
    }
   ],
   "source": [
    "#check for travel transactions >=$5000\n",
    "cc_data[(cc_data['category']=='travel') & (cc_data['amt']>=5000)]"
   ]
  },
  {
   "cell_type": "code",
   "execution_count": 46,
   "id": "ba161e19",
   "metadata": {},
   "outputs": [],
   "source": [
    "#Reassign fraudulent dataframe and valid dataframe\n",
    "cc_data_fraud = cc_data[cc_data['is_fraud']==1]\n",
    "cc_data_valid = cc_data[cc_data['is_fraud']==0]"
   ]
  },
  {
   "cell_type": "markdown",
   "id": "850d983f",
   "metadata": {},
   "source": [
    "# Examine gender column"
   ]
  },
  {
   "cell_type": "code",
   "execution_count": 47,
   "id": "c1ccd62c",
   "metadata": {},
   "outputs": [
    {
     "data": {
      "text/plain": [
       "F    709805\n",
       "M    586764\n",
       "Name: gender, dtype: int64"
      ]
     },
     "execution_count": 47,
     "metadata": {},
     "output_type": "execute_result"
    }
   ],
   "source": [
    "cc_data['gender'].value_counts()"
   ]
  },
  {
   "cell_type": "code",
   "execution_count": 48,
   "id": "1eff29cf",
   "metadata": {},
   "outputs": [
    {
     "data": {
      "text/plain": [
       "Text(0.5, 1.0, 'Transaction count by gender (all transactions)')"
      ]
     },
     "execution_count": 48,
     "metadata": {},
     "output_type": "execute_result"
    },
    {
     "data": {
      "image/png": "[encoded data removed]",
      "text/plain": [
       "<Figure size 432x288 with 1 Axes>"
      ]
     },
     "metadata": {
      "needs_background": "light"
     },
     "output_type": "display_data"
    }
   ],
   "source": [
    "cc_data['gender'].value_counts().plot(kind='bar')\n",
    "plt.xlabel('Gender')\n",
    "plt.ylabel('Count')\n",
    "plt.title('Transaction count by gender (all transactions)')"
   ]
  },
  {
   "cell_type": "code",
   "execution_count": 49,
   "id": "e1307432",
   "metadata": {},
   "outputs": [
    {
     "data": {
      "text/plain": [
       "Text(0.5, 1.0, 'Transaction count by gender (VALID transactions only)')"
      ]
     },
     "execution_count": 49,
     "metadata": {},
     "output_type": "execute_result"
    },
    {
     "data": {
      "image/png": "[encoded data removed]",
      "text/plain": [
       "<Figure size 432x288 with 1 Axes>"
      ]
     },
     "metadata": {
      "needs_background": "light"
     },
     "output_type": "display_data"
    }
   ],
   "source": [
    "cc_data_valid['gender'].value_counts().plot(kind='bar')\n",
    "plt.xlabel('Gender')\n",
    "plt.ylabel('Count')\n",
    "plt.title('Transaction count by gender (VALID transactions only)')"
   ]
  },
  {
   "cell_type": "code",
   "execution_count": 50,
   "id": "36186e2e",
   "metadata": {},
   "outputs": [
    {
     "data": {
      "text/plain": [
       "Text(0.5, 1.0, 'Transaction count by gender (FRAUD transactions only)')"
      ]
     },
     "execution_count": 50,
     "metadata": {},
     "output_type": "execute_result"
    },
    {
     "data": {
      "image/png": "[encoded data removed]",
      "text/plain": [
       "<Figure size 432x288 with 1 Axes>"
      ]
     },
     "metadata": {
      "needs_background": "light"
     },
     "output_type": "display_data"
    }
   ],
   "source": [
    "cc_data_fraud['gender'].value_counts().plot(kind='bar')\n",
    "plt.xlabel('Gender')\n",
    "plt.ylabel('Count')\n",
    "plt.title('Transaction count by gender (FRAUD transactions only)')"
   ]
  },
  {
   "cell_type": "markdown",
   "id": "3b216f8e",
   "metadata": {},
   "source": [
    "# Convert trans_date_trans_time and dob columns into datetime"
   ]
  },
  {
   "cell_type": "code",
   "execution_count": 51,
   "id": "35663473",
   "metadata": {},
   "outputs": [],
   "source": [
    "cc_data['trans_date_trans_time']=pd.to_datetime(cc_data['trans_date_trans_time'])"
   ]
  },
  {
   "cell_type": "code",
   "execution_count": 52,
   "id": "e83d79e3",
   "metadata": {},
   "outputs": [
    {
     "name": "stdout",
     "output_type": "stream",
     "text": [
      "<class 'pandas.core.frame.DataFrame'>\n",
      "Int64Index: 1296569 entries, 0 to 1296674\n",
      "Data columns (total 20 columns):\n",
      " #   Column                 Non-Null Count    Dtype         \n",
      "---  ------                 --------------    -----         \n",
      " 0   trans_date_trans_time  1296569 non-null  datetime64[ns]\n",
      " 1   cc_num                 1296569 non-null  int64         \n",
      " 2   merchant               1296569 non-null  object        \n",
      " 3   category               1296569 non-null  object        \n",
      " 4   amt                    1296569 non-null  float64       \n",
      " 5   first                  1296569 non-null  object        \n",
      " 6   last                   1296569 non-null  object        \n",
      " 7   gender                 1296569 non-null  object        \n",
      " 8   street                 1296569 non-null  object        \n",
      " 9   city                   1296569 non-null  object        \n",
      " 10  state                  1296569 non-null  object        \n",
      " 11  zip                    1296569 non-null  int64         \n",
      " 12  lat                    1296569 non-null  float64       \n",
      " 13  long                   1296569 non-null  float64       \n",
      " 14  city_pop               1296569 non-null  int64         \n",
      " 15  job                    1296569 non-null  object        \n",
      " 16  dob                    1296569 non-null  object        \n",
      " 17  merch_lat              1296569 non-null  float64       \n",
      " 18  merch_long             1296569 non-null  float64       \n",
      " 19  is_fraud               1296569 non-null  int64         \n",
      "dtypes: datetime64[ns](1), float64(5), int64(4), object(10)\n",
      "memory usage: 207.7+ MB\n"
     ]
    }
   ],
   "source": [
    "cc_data.info()"
   ]
  },
  {
   "cell_type": "code",
   "execution_count": 53,
   "id": "7a06281a",
   "metadata": {},
   "outputs": [
    {
     "data": {
      "text/plain": [
       "Timestamp('2020-06-21 12:13:37')"
      ]
     },
     "execution_count": 53,
     "metadata": {},
     "output_type": "execute_result"
    }
   ],
   "source": [
    "cc_data['trans_date_trans_time'].max()"
   ]
  },
  {
   "cell_type": "code",
   "execution_count": 54,
   "id": "4e20973c",
   "metadata": {},
   "outputs": [
    {
     "data": {
      "text/plain": [
       "Timestamp('2019-01-01 00:00:18')"
      ]
     },
     "execution_count": 54,
     "metadata": {},
     "output_type": "execute_result"
    }
   ],
   "source": [
    "cc_data['trans_date_trans_time'].min()"
   ]
  },
  {
   "cell_type": "code",
   "execution_count": 55,
   "id": "676fd379",
   "metadata": {},
   "outputs": [],
   "source": [
    "cc_data['dob']=pd.to_datetime(cc_data['dob'])"
   ]
  },
  {
   "cell_type": "code",
   "execution_count": 56,
   "id": "db3436b7",
   "metadata": {},
   "outputs": [
    {
     "name": "stdout",
     "output_type": "stream",
     "text": [
      "<class 'pandas.core.frame.DataFrame'>\n",
      "Int64Index: 1296569 entries, 0 to 1296674\n",
      "Data columns (total 20 columns):\n",
      " #   Column                 Non-Null Count    Dtype         \n",
      "---  ------                 --------------    -----         \n",
      " 0   trans_date_trans_time  1296569 non-null  datetime64[ns]\n",
      " 1   cc_num                 1296569 non-null  int64         \n",
      " 2   merchant               1296569 non-null  object        \n",
      " 3   category               1296569 non-null  object        \n",
      " 4   amt                    1296569 non-null  float64       \n",
      " 5   first                  1296569 non-null  object        \n",
      " 6   last                   1296569 non-null  object        \n",
      " 7   gender                 1296569 non-null  object        \n",
      " 8   street                 1296569 non-null  object        \n",
      " 9   city                   1296569 non-null  object        \n",
      " 10  state                  1296569 non-null  object        \n",
      " 11  zip                    1296569 non-null  int64         \n",
      " 12  lat                    1296569 non-null  float64       \n",
      " 13  long                   1296569 non-null  float64       \n",
      " 14  city_pop               1296569 non-null  int64         \n",
      " 15  job                    1296569 non-null  object        \n",
      " 16  dob                    1296569 non-null  datetime64[ns]\n",
      " 17  merch_lat              1296569 non-null  float64       \n",
      " 18  merch_long             1296569 non-null  float64       \n",
      " 19  is_fraud               1296569 non-null  int64         \n",
      "dtypes: datetime64[ns](2), float64(5), int64(4), object(9)\n",
      "memory usage: 207.7+ MB\n"
     ]
    }
   ],
   "source": [
    "cc_data.info()"
   ]
  },
  {
   "cell_type": "code",
   "execution_count": 57,
   "id": "728fe3ee",
   "metadata": {},
   "outputs": [
    {
     "data": {
      "text/plain": [
       "Timestamp('2005-01-29 00:00:00')"
      ]
     },
     "execution_count": 57,
     "metadata": {},
     "output_type": "execute_result"
    }
   ],
   "source": [
    "cc_data['dob'].max()"
   ]
  },
  {
   "cell_type": "code",
   "execution_count": 58,
   "id": "cac6fb44",
   "metadata": {},
   "outputs": [
    {
     "data": {
      "text/plain": [
       "Timestamp('1924-10-30 00:00:00')"
      ]
     },
     "execution_count": 58,
     "metadata": {},
     "output_type": "execute_result"
    }
   ],
   "source": [
    "cc_data['dob'].min()"
   ]
  },
  {
   "cell_type": "code",
   "execution_count": 59,
   "id": "4fb47888",
   "metadata": {},
   "outputs": [],
   "source": [
    "cc_data['dob'] = cc_data['dob'].dt.date"
   ]
  },
  {
   "cell_type": "code",
   "execution_count": 60,
   "id": "ad525397",
   "metadata": {},
   "outputs": [
    {
     "data": {
      "text/plain": [
       "datetime.date(2005, 1, 29)"
      ]
     },
     "execution_count": 60,
     "metadata": {},
     "output_type": "execute_result"
    }
   ],
   "source": [
    "cc_data['dob'].max()"
   ]
  },
  {
   "cell_type": "markdown",
   "id": "30de3e4e",
   "metadata": {},
   "source": [
    "# Examine state column"
   ]
  },
  {
   "cell_type": "code",
   "execution_count": 61,
   "id": "54145de7",
   "metadata": {},
   "outputs": [
    {
     "data": {
      "text/plain": [
       "TX    94862\n",
       "NY    83492\n",
       "PA    79843\n",
       "CA    56355\n",
       "OH    46476\n",
       "MI    46151\n",
       "IL    43251\n",
       "FL    42666\n",
       "AL    40987\n",
       "MO    38399\n",
       "MN    31711\n",
       "AR    31125\n",
       "NC    30264\n",
       "WI    29365\n",
       "VA    29246\n",
       "SC    29188\n",
       "KY    28475\n",
       "IN    27578\n",
       "IA    26982\n",
       "OK    26668\n",
       "MD    26190\n",
       "GA    26062\n",
       "WV    25689\n",
       "NJ    24602\n",
       "NE    24164\n",
       "KS    22996\n",
       "MS    21185\n",
       "LA    20963\n",
       "WY    19320\n",
       "WA    18923\n",
       "OR    18596\n",
       "TN    17554\n",
       "ME    16505\n",
       "NM    16405\n",
       "ND    14786\n",
       "CO    13879\n",
       "MA    12375\n",
       "SD    12324\n",
       "VT    11768\n",
       "MT    11754\n",
       "AZ    10770\n",
       "UT    10699\n",
       "NH     8275\n",
       "CT     7700\n",
       "NV     5607\n",
       "ID     5545\n",
       "DC     3612\n",
       "HI     2559\n",
       "AK     2120\n",
       "RI      549\n",
       "DE        9\n",
       "Name: state, dtype: int64"
      ]
     },
     "execution_count": 61,
     "metadata": {},
     "output_type": "execute_result"
    }
   ],
   "source": [
    "cc_data['state'].value_counts()"
   ]
  },
  {
   "cell_type": "code",
   "execution_count": 62,
   "id": "2e58c2c3",
   "metadata": {},
   "outputs": [
    {
     "data": {
      "text/plain": [
       "TX    94383\n",
       "NY    82937\n",
       "PA    79385\n",
       "CA    56029\n",
       "OH    46155\n",
       "MI    45913\n",
       "IL    43003\n",
       "FL    42385\n",
       "AL    40772\n",
       "MO    38208\n",
       "MN    31504\n",
       "AR    30964\n",
       "NC    30115\n",
       "WI    29202\n",
       "VA    29048\n",
       "SC    28995\n",
       "KY    28320\n",
       "IN    27436\n",
       "IA    26840\n",
       "OK    26525\n",
       "MD    26033\n",
       "GA    25916\n",
       "WV    25543\n",
       "NJ    24484\n",
       "NE    23984\n",
       "KS    22840\n",
       "MS    21070\n",
       "LA    20872\n",
       "WY    19210\n",
       "WA    18827\n",
       "OR    18447\n",
       "TN    17414\n",
       "ME    16386\n",
       "NM    16323\n",
       "ND    14729\n",
       "CO    13766\n",
       "MA    12306\n",
       "SD    12250\n",
       "MT    11722\n",
       "VT    11696\n",
       "AZ    10733\n",
       "UT    10638\n",
       "NH     8216\n",
       "CT     7684\n",
       "NV     5560\n",
       "ID     5534\n",
       "DC     3591\n",
       "HI     2552\n",
       "AK     2084\n",
       "RI      534\n",
       "Name: state, dtype: int64"
      ]
     },
     "execution_count": 62,
     "metadata": {},
     "output_type": "execute_result"
    }
   ],
   "source": [
    "# Checking state count for VALID transactions\n",
    "cc_data_valid['state'].value_counts()"
   ]
  },
  {
   "cell_type": "code",
   "execution_count": 63,
   "id": "46d1b8f2",
   "metadata": {},
   "outputs": [
    {
     "data": {
      "text/plain": [
       "NY    555\n",
       "TX    479\n",
       "PA    458\n",
       "CA    326\n",
       "OH    321\n",
       "FL    281\n",
       "IL    248\n",
       "MI    238\n",
       "AL    215\n",
       "MN    207\n",
       "VA    198\n",
       "SC    193\n",
       "MO    191\n",
       "NE    180\n",
       "WI    163\n",
       "AR    161\n",
       "MD    157\n",
       "KS    156\n",
       "KY    155\n",
       "OR    149\n",
       "NC    149\n",
       "GA    146\n",
       "WV    146\n",
       "OK    143\n",
       "IA    142\n",
       "IN    142\n",
       "TN    140\n",
       "ME    119\n",
       "NJ    118\n",
       "MS    115\n",
       "CO    113\n",
       "WY    110\n",
       "WA     96\n",
       "LA     91\n",
       "NM     82\n",
       "SD     74\n",
       "VT     72\n",
       "MA     69\n",
       "UT     61\n",
       "NH     59\n",
       "ND     57\n",
       "NV     47\n",
       "AZ     37\n",
       "AK     36\n",
       "MT     32\n",
       "DC     21\n",
       "CT     16\n",
       "RI     15\n",
       "ID     11\n",
       "DE      9\n",
       "HI      7\n",
       "Name: state, dtype: int64"
      ]
     },
     "execution_count": 63,
     "metadata": {},
     "output_type": "execute_result"
    }
   ],
   "source": [
    "# Checking state count for FRAUD transactions\n",
    "cc_data_fraud['state'].value_counts()"
   ]
  },
  {
   "cell_type": "markdown",
   "id": "b4a30994",
   "metadata": {},
   "source": [
    "<b>Questions: </b> \n",
    "1. Given the number of different states, is it worth creating binary columns for each state? (such as: is_Texas, is_NY, etc)?\n",
    "2. Would it make sense to get another dataset on state populations and merge with cc_data?"
   ]
  },
  {
   "cell_type": "code",
   "execution_count": 64,
   "id": "0eed4a81",
   "metadata": {},
   "outputs": [
    {
     "data": {
      "text/plain": [
       "<AxesSubplot:>"
      ]
     },
     "execution_count": 64,
     "metadata": {},
     "output_type": "execute_result"
    },
    {
     "data": {
      "image/png": "[encoded data removed]",
      "text/plain": [
       "<Figure size 432x288 with 1 Axes>"
      ]
     },
     "metadata": {
      "needs_background": "light"
     },
     "output_type": "display_data"
    }
   ],
   "source": [
    "#Create viz for fraud transactions by state:\n",
    "cc_data_fraud['state'].value_counts().plot(kind='bar')"
   ]
  },
  {
   "cell_type": "markdown",
   "id": "59111fe3",
   "metadata": {},
   "source": [
    "# Save cleaned dataframe"
   ]
  },
  {
   "cell_type": "code",
   "execution_count": 65,
   "id": "9cc2fdca",
   "metadata": {},
   "outputs": [],
   "source": [
    "#save the data to a new csv file\n",
    "cc_data.to_csv('../raw_data/fraudTrain_cleaned.csv')"
   ]
  }
 ],
 "metadata": {
  "kernelspec": {
   "display_name": "Python 3 (ipykernel)",
   "language": "python",
   "name": "python3"
  },
  "language_info": {
   "codemirror_mode": {
    "name": "ipython",
    "version": 3
   },
   "file_extension": ".py",
   "mimetype": "text/x-python",
   "name": "python",
   "nbconvert_exporter": "python",
   "pygments_lexer": "ipython3",
   "version": "3.8.12"
  }
 },
 "nbformat": 4,
 "nbformat_minor": 5
}
