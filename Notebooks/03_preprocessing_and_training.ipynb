{
 "cells": [
  {
   "cell_type": "markdown",
   "id": "789b6ebd",
   "metadata": {},
   "source": [
    "## Imports"
   ]
  },
  {
   "cell_type": "code",
   "execution_count": 2,
   "id": "5cef43d3",
   "metadata": {},
   "outputs": [],
   "source": [
    "import pandas as pd\n",
    "import numpy as np\n",
    "import matplotlib.pyplot as plt\n",
    "import seaborn as sns\n",
    "from sklearn.model_selection import train_test_split, cross_validate, GridSearchCV, learning_curve"
   ]
  },
  {
   "cell_type": "markdown",
   "id": "96c8b7de",
   "metadata": {},
   "source": [
    "## Load dataset"
   ]
  },
  {
   "cell_type": "code",
   "execution_count": 3,
   "id": "09e744f8",
   "metadata": {},
   "outputs": [],
   "source": [
    "df = pd.read_csv('../raw_data/fraudTrain_cleaned2.csv', index_col=0)"
   ]
  },
  {
   "cell_type": "code",
   "execution_count": 4,
   "id": "80d41c6b",
   "metadata": {},
   "outputs": [
    {
     "name": "stdout",
     "output_type": "stream",
     "text": [
      "<class 'pandas.core.frame.DataFrame'>\n",
      "Int64Index: 1295379 entries, 0 to 1295378\n",
      "Data columns (total 42 columns):\n",
      " #   Column                   Non-Null Count    Dtype  \n",
      "---  ------                   --------------    -----  \n",
      " 0   trans_date_trans_time    1295379 non-null  object \n",
      " 1   cc_num                   1295379 non-null  int64  \n",
      " 2   merchant                 1295379 non-null  object \n",
      " 3   category                 1295379 non-null  object \n",
      " 4   amt                      1295379 non-null  float64\n",
      " 5   first                    1295379 non-null  object \n",
      " 6   last                     1295379 non-null  object \n",
      " 7   state                    1295379 non-null  object \n",
      " 8   lat                      1295379 non-null  float64\n",
      " 9   long                     1295379 non-null  float64\n",
      " 10  city_pop                 1295379 non-null  int64  \n",
      " 11  job                      1295379 non-null  object \n",
      " 12  dob                      1295379 non-null  object \n",
      " 13  merch_lat                1295379 non-null  float64\n",
      " 14  merch_long               1295379 non-null  float64\n",
      " 15  is_fraud                 1295379 non-null  int64  \n",
      " 16  val_mean_amt             1295379 non-null  float64\n",
      " 17  val_mean_amt_dist        1295379 non-null  float64\n",
      " 18  category_entertainment   1295379 non-null  int64  \n",
      " 19  category_food_dining     1295379 non-null  int64  \n",
      " 20  category_gas_transport   1295379 non-null  int64  \n",
      " 21  category_grocery_net     1295379 non-null  int64  \n",
      " 22  category_grocery_pos     1295379 non-null  int64  \n",
      " 23  category_health_fitness  1295379 non-null  int64  \n",
      " 24  category_home            1295379 non-null  int64  \n",
      " 25  category_kids_pets       1295379 non-null  int64  \n",
      " 26  category_misc_net        1295379 non-null  int64  \n",
      " 27  category_misc_pos        1295379 non-null  int64  \n",
      " 28  category_personal_care   1295379 non-null  int64  \n",
      " 29  category_shopping_net    1295379 non-null  int64  \n",
      " 30  category_shopping_pos    1295379 non-null  int64  \n",
      " 31  category_travel          1295379 non-null  int64  \n",
      " 32  is_M                     1295379 non-null  int64  \n",
      " 33  day_of_week              1295379 non-null  int64  \n",
      " 34  month                    1295379 non-null  int64  \n",
      " 35  hour                     1295379 non-null  int64  \n",
      " 36  hr_22to23                1295379 non-null  int64  \n",
      " 37  hr_0to4                  1295379 non-null  int64  \n",
      " 38  hr_12to23                1295379 non-null  int64  \n",
      " 39  age                      1295379 non-null  int64  \n",
      " 40  distance                 1295379 non-null  object \n",
      " 41  distance2                1295379 non-null  float64\n",
      "dtypes: float64(8), int64(25), object(9)\n",
      "memory usage: 425.0+ MB\n"
     ]
    }
   ],
   "source": [
    "df.info()"
   ]
  },
  {
   "cell_type": "markdown",
   "id": "7e1c52b5",
   "metadata": {},
   "source": [
    "## One hot encoding categorical variables"
   ]
  },
  {
   "cell_type": "code",
   "execution_count": 5,
   "id": "b9341d12",
   "metadata": {},
   "outputs": [],
   "source": [
    "# get dummies for 'state'\n",
    "state_dummies = pd.get_dummies(df['state'],prefix='state')\n",
    "\n",
    "# Concatenate one-hot encoded dataframe to main dataframe.\n",
    "df = pd.concat([df, state_dummies], axis=1)"
   ]
  },
  {
   "cell_type": "code",
   "execution_count": 6,
   "id": "e3202373",
   "metadata": {
    "scrolled": false
   },
   "outputs": [],
   "source": [
    "# get dummies for 'day_of_week'\n",
    "day_dummies = pd.get_dummies(df['day_of_week'],prefix='day')\n",
    "\n",
    "# Concatenate one-hot encoded dataframe to main dataframe.\n",
    "df = pd.concat([df, day_dummies], axis=1)"
   ]
  },
  {
   "cell_type": "code",
   "execution_count": 7,
   "id": "6d7b7940",
   "metadata": {},
   "outputs": [],
   "source": [
    "# get dummies for 'month'\n",
    "month_dummies = pd.get_dummies(df['month'],prefix='month')\n",
    "\n",
    "# Concatenate one-hot encoded dataframe to main dataframe.\n",
    "df = pd.concat([df, month_dummies], axis=1)"
   ]
  },
  {
   "cell_type": "code",
   "execution_count": 8,
   "id": "e4f355b4",
   "metadata": {},
   "outputs": [
    {
     "name": "stdout",
     "output_type": "stream",
     "text": [
      "<class 'pandas.core.frame.DataFrame'>\n",
      "Int64Index: 1295379 entries, 0 to 1295378\n",
      "Columns: 112 entries, trans_date_trans_time to month_12\n",
      "dtypes: float64(8), int64(25), object(9), uint8(70)\n",
      "memory usage: 511.4+ MB\n"
     ]
    }
   ],
   "source": [
    "df.info()"
   ]
  },
  {
   "cell_type": "markdown",
   "id": "e999212a",
   "metadata": {},
   "source": [
    "## Drop unnecessary columns"
   ]
  },
  {
   "cell_type": "code",
   "execution_count": 9,
   "id": "6afb0da6",
   "metadata": {},
   "outputs": [],
   "source": [
    "drop_columns = ['val_mean_amt', 'state', 'job', 'dob', 'day_of_week', 'month', 'hour', 'distance', 'distance2', 'lat', 'long', 'merch_lat', 'merch_long']\n",
    "df.drop(drop_columns, axis = 1, inplace=True)"
   ]
  },
  {
   "cell_type": "code",
   "execution_count": 10,
   "id": "4d0f2a5d",
   "metadata": {},
   "outputs": [
    {
     "name": "stdout",
     "output_type": "stream",
     "text": [
      "<class 'pandas.core.frame.DataFrame'>\n",
      "Int64Index: 1295379 entries, 0 to 1295378\n",
      "Data columns (total 99 columns):\n",
      " #   Column                   Non-Null Count    Dtype  \n",
      "---  ------                   --------------    -----  \n",
      " 0   trans_date_trans_time    1295379 non-null  object \n",
      " 1   cc_num                   1295379 non-null  int64  \n",
      " 2   merchant                 1295379 non-null  object \n",
      " 3   category                 1295379 non-null  object \n",
      " 4   amt                      1295379 non-null  float64\n",
      " 5   first                    1295379 non-null  object \n",
      " 6   last                     1295379 non-null  object \n",
      " 7   city_pop                 1295379 non-null  int64  \n",
      " 8   is_fraud                 1295379 non-null  int64  \n",
      " 9   val_mean_amt_dist        1295379 non-null  float64\n",
      " 10  category_entertainment   1295379 non-null  int64  \n",
      " 11  category_food_dining     1295379 non-null  int64  \n",
      " 12  category_gas_transport   1295379 non-null  int64  \n",
      " 13  category_grocery_net     1295379 non-null  int64  \n",
      " 14  category_grocery_pos     1295379 non-null  int64  \n",
      " 15  category_health_fitness  1295379 non-null  int64  \n",
      " 16  category_home            1295379 non-null  int64  \n",
      " 17  category_kids_pets       1295379 non-null  int64  \n",
      " 18  category_misc_net        1295379 non-null  int64  \n",
      " 19  category_misc_pos        1295379 non-null  int64  \n",
      " 20  category_personal_care   1295379 non-null  int64  \n",
      " 21  category_shopping_net    1295379 non-null  int64  \n",
      " 22  category_shopping_pos    1295379 non-null  int64  \n",
      " 23  category_travel          1295379 non-null  int64  \n",
      " 24  is_M                     1295379 non-null  int64  \n",
      " 25  hr_22to23                1295379 non-null  int64  \n",
      " 26  hr_0to4                  1295379 non-null  int64  \n",
      " 27  hr_12to23                1295379 non-null  int64  \n",
      " 28  age                      1295379 non-null  int64  \n",
      " 29  state_AK                 1295379 non-null  uint8  \n",
      " 30  state_AL                 1295379 non-null  uint8  \n",
      " 31  state_AR                 1295379 non-null  uint8  \n",
      " 32  state_AZ                 1295379 non-null  uint8  \n",
      " 33  state_CA                 1295379 non-null  uint8  \n",
      " 34  state_CO                 1295379 non-null  uint8  \n",
      " 35  state_CT                 1295379 non-null  uint8  \n",
      " 36  state_DC                 1295379 non-null  uint8  \n",
      " 37  state_DE                 1295379 non-null  uint8  \n",
      " 38  state_FL                 1295379 non-null  uint8  \n",
      " 39  state_GA                 1295379 non-null  uint8  \n",
      " 40  state_HI                 1295379 non-null  uint8  \n",
      " 41  state_IA                 1295379 non-null  uint8  \n",
      " 42  state_ID                 1295379 non-null  uint8  \n",
      " 43  state_IL                 1295379 non-null  uint8  \n",
      " 44  state_IN                 1295379 non-null  uint8  \n",
      " 45  state_KS                 1295379 non-null  uint8  \n",
      " 46  state_KY                 1295379 non-null  uint8  \n",
      " 47  state_LA                 1295379 non-null  uint8  \n",
      " 48  state_MA                 1295379 non-null  uint8  \n",
      " 49  state_MD                 1295379 non-null  uint8  \n",
      " 50  state_ME                 1295379 non-null  uint8  \n",
      " 51  state_MI                 1295379 non-null  uint8  \n",
      " 52  state_MN                 1295379 non-null  uint8  \n",
      " 53  state_MO                 1295379 non-null  uint8  \n",
      " 54  state_MS                 1295379 non-null  uint8  \n",
      " 55  state_MT                 1295379 non-null  uint8  \n",
      " 56  state_NC                 1295379 non-null  uint8  \n",
      " 57  state_ND                 1295379 non-null  uint8  \n",
      " 58  state_NE                 1295379 non-null  uint8  \n",
      " 59  state_NH                 1295379 non-null  uint8  \n",
      " 60  state_NJ                 1295379 non-null  uint8  \n",
      " 61  state_NM                 1295379 non-null  uint8  \n",
      " 62  state_NV                 1295379 non-null  uint8  \n",
      " 63  state_NY                 1295379 non-null  uint8  \n",
      " 64  state_OH                 1295379 non-null  uint8  \n",
      " 65  state_OK                 1295379 non-null  uint8  \n",
      " 66  state_OR                 1295379 non-null  uint8  \n",
      " 67  state_PA                 1295379 non-null  uint8  \n",
      " 68  state_RI                 1295379 non-null  uint8  \n",
      " 69  state_SC                 1295379 non-null  uint8  \n",
      " 70  state_SD                 1295379 non-null  uint8  \n",
      " 71  state_TN                 1295379 non-null  uint8  \n",
      " 72  state_TX                 1295379 non-null  uint8  \n",
      " 73  state_UT                 1295379 non-null  uint8  \n",
      " 74  state_VA                 1295379 non-null  uint8  \n",
      " 75  state_VT                 1295379 non-null  uint8  \n",
      " 76  state_WA                 1295379 non-null  uint8  \n",
      " 77  state_WI                 1295379 non-null  uint8  \n",
      " 78  state_WV                 1295379 non-null  uint8  \n",
      " 79  state_WY                 1295379 non-null  uint8  \n",
      " 80  day_0                    1295379 non-null  uint8  \n",
      " 81  day_1                    1295379 non-null  uint8  \n",
      " 82  day_2                    1295379 non-null  uint8  \n",
      " 83  day_3                    1295379 non-null  uint8  \n",
      " 84  day_4                    1295379 non-null  uint8  \n",
      " 85  day_5                    1295379 non-null  uint8  \n",
      " 86  day_6                    1295379 non-null  uint8  \n",
      " 87  month_1                  1295379 non-null  uint8  \n",
      " 88  month_2                  1295379 non-null  uint8  \n",
      " 89  month_3                  1295379 non-null  uint8  \n",
      " 90  month_4                  1295379 non-null  uint8  \n",
      " 91  month_5                  1295379 non-null  uint8  \n",
      " 92  month_6                  1295379 non-null  uint8  \n",
      " 93  month_7                  1295379 non-null  uint8  \n",
      " 94  month_8                  1295379 non-null  uint8  \n",
      " 95  month_9                  1295379 non-null  uint8  \n",
      " 96  month_10                 1295379 non-null  uint8  \n",
      " 97  month_11                 1295379 non-null  uint8  \n",
      " 98  month_12                 1295379 non-null  uint8  \n",
      "dtypes: float64(2), int64(22), object(5), uint8(70)\n",
      "memory usage: 383.0+ MB\n"
     ]
    }
   ],
   "source": [
    "df.info()"
   ]
  },
  {
   "cell_type": "markdown",
   "id": "d3a5be59",
   "metadata": {},
   "source": [
    "## Split data into training and testing sets."
   ]
  },
  {
   "cell_type": "code",
   "execution_count": 11,
   "id": "6cc3870e",
   "metadata": {},
   "outputs": [
    {
     "data": {
      "text/plain": [
       "(906765.2999999999, 388613.7)"
      ]
     },
     "execution_count": 11,
     "metadata": {},
     "output_type": "execute_result"
    }
   ],
   "source": [
    "#Check partition sizes with 70/30 train/test split\n",
    "len(df) * .7, len(df) * .3"
   ]
  },
  {
   "cell_type": "code",
   "execution_count": 12,
   "id": "c323589a",
   "metadata": {},
   "outputs": [],
   "source": [
    "X_train, X_test, y_train, y_test = train_test_split(df.drop(columns='is_fraud'), \n",
    "                                                    df.is_fraud, test_size=0.3, \n",
    "                                                    random_state=47)"
   ]
  },
  {
   "cell_type": "code",
   "execution_count": 13,
   "id": "9a02b6fd",
   "metadata": {},
   "outputs": [
    {
     "data": {
      "text/plain": [
       "((906765, 98), (388614, 98))"
      ]
     },
     "execution_count": 13,
     "metadata": {},
     "output_type": "execute_result"
    }
   ],
   "source": [
    "X_train.shape, X_test.shape"
   ]
  },
  {
   "cell_type": "code",
   "execution_count": 14,
   "id": "4c1f2c61",
   "metadata": {
    "scrolled": true
   },
   "outputs": [
    {
     "data": {
      "text/plain": [
       "((906765,), (388614,))"
      ]
     },
     "execution_count": 14,
     "metadata": {},
     "output_type": "execute_result"
    }
   ],
   "source": [
    "y_train.shape, y_test.shape"
   ]
  },
  {
   "cell_type": "code",
   "execution_count": 15,
   "id": "a56bd712",
   "metadata": {},
   "outputs": [
    {
     "data": {
      "text/plain": [
       "((906765, 92), (388614, 92))"
      ]
     },
     "execution_count": 15,
     "metadata": {},
     "output_type": "execute_result"
    }
   ],
   "source": [
    "#Save the 'trans_date_trans_time', 'cc_num', 'merchant', 'category', 'first', 'last' columns \n",
    "#from the train/test data into labels_train and labels_test\n",
    "#Then drop those columns from `X_train` and `X_test`.\n",
    "\n",
    "labels_list = ['trans_date_trans_time', 'cc_num', 'merchant', 'category', 'first', 'last']\n",
    "labels_train = X_train[['trans_date_trans_time', 'cc_num', 'merchant', 'category', 'first', 'last']]\n",
    "labels_test = X_test[['trans_date_trans_time', 'cc_num', 'merchant', 'category', 'first', 'last']]\n",
    "X_train.drop(columns=labels_list, inplace=True)\n",
    "X_test.drop(columns=labels_list, inplace=True)\n",
    "X_train.shape, X_test.shape"
   ]
  },
  {
   "cell_type": "code",
   "execution_count": 16,
   "id": "9de0ecf6",
   "metadata": {},
   "outputs": [
    {
     "name": "stdout",
     "output_type": "stream",
     "text": [
      "<class 'pandas.core.frame.DataFrame'>\n",
      "Int64Index: 906765 entries, 825668 to 889991\n",
      "Data columns (total 92 columns):\n",
      " #   Column                   Non-Null Count   Dtype  \n",
      "---  ------                   --------------   -----  \n",
      " 0   amt                      906765 non-null  float64\n",
      " 1   city_pop                 906765 non-null  int64  \n",
      " 2   val_mean_amt_dist        906765 non-null  float64\n",
      " 3   category_entertainment   906765 non-null  int64  \n",
      " 4   category_food_dining     906765 non-null  int64  \n",
      " 5   category_gas_transport   906765 non-null  int64  \n",
      " 6   category_grocery_net     906765 non-null  int64  \n",
      " 7   category_grocery_pos     906765 non-null  int64  \n",
      " 8   category_health_fitness  906765 non-null  int64  \n",
      " 9   category_home            906765 non-null  int64  \n",
      " 10  category_kids_pets       906765 non-null  int64  \n",
      " 11  category_misc_net        906765 non-null  int64  \n",
      " 12  category_misc_pos        906765 non-null  int64  \n",
      " 13  category_personal_care   906765 non-null  int64  \n",
      " 14  category_shopping_net    906765 non-null  int64  \n",
      " 15  category_shopping_pos    906765 non-null  int64  \n",
      " 16  category_travel          906765 non-null  int64  \n",
      " 17  is_M                     906765 non-null  int64  \n",
      " 18  hr_22to23                906765 non-null  int64  \n",
      " 19  hr_0to4                  906765 non-null  int64  \n",
      " 20  hr_12to23                906765 non-null  int64  \n",
      " 21  age                      906765 non-null  int64  \n",
      " 22  state_AK                 906765 non-null  uint8  \n",
      " 23  state_AL                 906765 non-null  uint8  \n",
      " 24  state_AR                 906765 non-null  uint8  \n",
      " 25  state_AZ                 906765 non-null  uint8  \n",
      " 26  state_CA                 906765 non-null  uint8  \n",
      " 27  state_CO                 906765 non-null  uint8  \n",
      " 28  state_CT                 906765 non-null  uint8  \n",
      " 29  state_DC                 906765 non-null  uint8  \n",
      " 30  state_DE                 906765 non-null  uint8  \n",
      " 31  state_FL                 906765 non-null  uint8  \n",
      " 32  state_GA                 906765 non-null  uint8  \n",
      " 33  state_HI                 906765 non-null  uint8  \n",
      " 34  state_IA                 906765 non-null  uint8  \n",
      " 35  state_ID                 906765 non-null  uint8  \n",
      " 36  state_IL                 906765 non-null  uint8  \n",
      " 37  state_IN                 906765 non-null  uint8  \n",
      " 38  state_KS                 906765 non-null  uint8  \n",
      " 39  state_KY                 906765 non-null  uint8  \n",
      " 40  state_LA                 906765 non-null  uint8  \n",
      " 41  state_MA                 906765 non-null  uint8  \n",
      " 42  state_MD                 906765 non-null  uint8  \n",
      " 43  state_ME                 906765 non-null  uint8  \n",
      " 44  state_MI                 906765 non-null  uint8  \n",
      " 45  state_MN                 906765 non-null  uint8  \n",
      " 46  state_MO                 906765 non-null  uint8  \n",
      " 47  state_MS                 906765 non-null  uint8  \n",
      " 48  state_MT                 906765 non-null  uint8  \n",
      " 49  state_NC                 906765 non-null  uint8  \n",
      " 50  state_ND                 906765 non-null  uint8  \n",
      " 51  state_NE                 906765 non-null  uint8  \n",
      " 52  state_NH                 906765 non-null  uint8  \n",
      " 53  state_NJ                 906765 non-null  uint8  \n",
      " 54  state_NM                 906765 non-null  uint8  \n",
      " 55  state_NV                 906765 non-null  uint8  \n",
      " 56  state_NY                 906765 non-null  uint8  \n",
      " 57  state_OH                 906765 non-null  uint8  \n",
      " 58  state_OK                 906765 non-null  uint8  \n",
      " 59  state_OR                 906765 non-null  uint8  \n",
      " 60  state_PA                 906765 non-null  uint8  \n",
      " 61  state_RI                 906765 non-null  uint8  \n",
      " 62  state_SC                 906765 non-null  uint8  \n",
      " 63  state_SD                 906765 non-null  uint8  \n",
      " 64  state_TN                 906765 non-null  uint8  \n",
      " 65  state_TX                 906765 non-null  uint8  \n",
      " 66  state_UT                 906765 non-null  uint8  \n",
      " 67  state_VA                 906765 non-null  uint8  \n",
      " 68  state_VT                 906765 non-null  uint8  \n",
      " 69  state_WA                 906765 non-null  uint8  \n",
      " 70  state_WI                 906765 non-null  uint8  \n",
      " 71  state_WV                 906765 non-null  uint8  \n",
      " 72  state_WY                 906765 non-null  uint8  \n",
      " 73  day_0                    906765 non-null  uint8  \n",
      " 74  day_1                    906765 non-null  uint8  \n",
      " 75  day_2                    906765 non-null  uint8  \n",
      " 76  day_3                    906765 non-null  uint8  \n",
      " 77  day_4                    906765 non-null  uint8  \n",
      " 78  day_5                    906765 non-null  uint8  \n",
      " 79  day_6                    906765 non-null  uint8  \n",
      " 80  month_1                  906765 non-null  uint8  \n",
      " 81  month_2                  906765 non-null  uint8  \n",
      " 82  month_3                  906765 non-null  uint8  \n",
      " 83  month_4                  906765 non-null  uint8  \n",
      " 84  month_5                  906765 non-null  uint8  \n",
      " 85  month_6                  906765 non-null  uint8  \n",
      " 86  month_7                  906765 non-null  uint8  \n",
      " 87  month_8                  906765 non-null  uint8  \n",
      " 88  month_9                  906765 non-null  uint8  \n",
      " 89  month_10                 906765 non-null  uint8  \n",
      " 90  month_11                 906765 non-null  uint8  \n",
      " 91  month_12                 906765 non-null  uint8  \n",
      "dtypes: float64(2), int64(20), uint8(70)\n",
      "memory usage: 219.6 MB\n"
     ]
    }
   ],
   "source": [
    "#Check the `info` method of `X_train` to verify all features are numeric\n",
    "X_train.info()"
   ]
  },
  {
   "cell_type": "code",
   "execution_count": 17,
   "id": "6c00ad94",
   "metadata": {
    "scrolled": false
   },
   "outputs": [
    {
     "name": "stdout",
     "output_type": "stream",
     "text": [
      "<class 'pandas.core.frame.DataFrame'>\n",
      "Int64Index: 388614 entries, 1133158 to 157046\n",
      "Data columns (total 92 columns):\n",
      " #   Column                   Non-Null Count   Dtype  \n",
      "---  ------                   --------------   -----  \n",
      " 0   amt                      388614 non-null  float64\n",
      " 1   city_pop                 388614 non-null  int64  \n",
      " 2   val_mean_amt_dist        388614 non-null  float64\n",
      " 3   category_entertainment   388614 non-null  int64  \n",
      " 4   category_food_dining     388614 non-null  int64  \n",
      " 5   category_gas_transport   388614 non-null  int64  \n",
      " 6   category_grocery_net     388614 non-null  int64  \n",
      " 7   category_grocery_pos     388614 non-null  int64  \n",
      " 8   category_health_fitness  388614 non-null  int64  \n",
      " 9   category_home            388614 non-null  int64  \n",
      " 10  category_kids_pets       388614 non-null  int64  \n",
      " 11  category_misc_net        388614 non-null  int64  \n",
      " 12  category_misc_pos        388614 non-null  int64  \n",
      " 13  category_personal_care   388614 non-null  int64  \n",
      " 14  category_shopping_net    388614 non-null  int64  \n",
      " 15  category_shopping_pos    388614 non-null  int64  \n",
      " 16  category_travel          388614 non-null  int64  \n",
      " 17  is_M                     388614 non-null  int64  \n",
      " 18  hr_22to23                388614 non-null  int64  \n",
      " 19  hr_0to4                  388614 non-null  int64  \n",
      " 20  hr_12to23                388614 non-null  int64  \n",
      " 21  age                      388614 non-null  int64  \n",
      " 22  state_AK                 388614 non-null  uint8  \n",
      " 23  state_AL                 388614 non-null  uint8  \n",
      " 24  state_AR                 388614 non-null  uint8  \n",
      " 25  state_AZ                 388614 non-null  uint8  \n",
      " 26  state_CA                 388614 non-null  uint8  \n",
      " 27  state_CO                 388614 non-null  uint8  \n",
      " 28  state_CT                 388614 non-null  uint8  \n",
      " 29  state_DC                 388614 non-null  uint8  \n",
      " 30  state_DE                 388614 non-null  uint8  \n",
      " 31  state_FL                 388614 non-null  uint8  \n",
      " 32  state_GA                 388614 non-null  uint8  \n",
      " 33  state_HI                 388614 non-null  uint8  \n",
      " 34  state_IA                 388614 non-null  uint8  \n",
      " 35  state_ID                 388614 non-null  uint8  \n",
      " 36  state_IL                 388614 non-null  uint8  \n",
      " 37  state_IN                 388614 non-null  uint8  \n",
      " 38  state_KS                 388614 non-null  uint8  \n",
      " 39  state_KY                 388614 non-null  uint8  \n",
      " 40  state_LA                 388614 non-null  uint8  \n",
      " 41  state_MA                 388614 non-null  uint8  \n",
      " 42  state_MD                 388614 non-null  uint8  \n",
      " 43  state_ME                 388614 non-null  uint8  \n",
      " 44  state_MI                 388614 non-null  uint8  \n",
      " 45  state_MN                 388614 non-null  uint8  \n",
      " 46  state_MO                 388614 non-null  uint8  \n",
      " 47  state_MS                 388614 non-null  uint8  \n",
      " 48  state_MT                 388614 non-null  uint8  \n",
      " 49  state_NC                 388614 non-null  uint8  \n",
      " 50  state_ND                 388614 non-null  uint8  \n",
      " 51  state_NE                 388614 non-null  uint8  \n",
      " 52  state_NH                 388614 non-null  uint8  \n",
      " 53  state_NJ                 388614 non-null  uint8  \n",
      " 54  state_NM                 388614 non-null  uint8  \n",
      " 55  state_NV                 388614 non-null  uint8  \n",
      " 56  state_NY                 388614 non-null  uint8  \n",
      " 57  state_OH                 388614 non-null  uint8  \n",
      " 58  state_OK                 388614 non-null  uint8  \n",
      " 59  state_OR                 388614 non-null  uint8  \n",
      " 60  state_PA                 388614 non-null  uint8  \n",
      " 61  state_RI                 388614 non-null  uint8  \n",
      " 62  state_SC                 388614 non-null  uint8  \n",
      " 63  state_SD                 388614 non-null  uint8  \n",
      " 64  state_TN                 388614 non-null  uint8  \n",
      " 65  state_TX                 388614 non-null  uint8  \n",
      " 66  state_UT                 388614 non-null  uint8  \n",
      " 67  state_VA                 388614 non-null  uint8  \n",
      " 68  state_VT                 388614 non-null  uint8  \n",
      " 69  state_WA                 388614 non-null  uint8  \n",
      " 70  state_WI                 388614 non-null  uint8  \n",
      " 71  state_WV                 388614 non-null  uint8  \n",
      " 72  state_WY                 388614 non-null  uint8  \n",
      " 73  day_0                    388614 non-null  uint8  \n",
      " 74  day_1                    388614 non-null  uint8  \n",
      " 75  day_2                    388614 non-null  uint8  \n",
      " 76  day_3                    388614 non-null  uint8  \n",
      " 77  day_4                    388614 non-null  uint8  \n",
      " 78  day_5                    388614 non-null  uint8  \n",
      " 79  day_6                    388614 non-null  uint8  \n",
      " 80  month_1                  388614 non-null  uint8  \n",
      " 81  month_2                  388614 non-null  uint8  \n",
      " 82  month_3                  388614 non-null  uint8  \n",
      " 83  month_4                  388614 non-null  uint8  \n",
      " 84  month_5                  388614 non-null  uint8  \n",
      " 85  month_6                  388614 non-null  uint8  \n",
      " 86  month_7                  388614 non-null  uint8  \n",
      " 87  month_8                  388614 non-null  uint8  \n",
      " 88  month_9                  388614 non-null  uint8  \n",
      " 89  month_10                 388614 non-null  uint8  \n",
      " 90  month_11                 388614 non-null  uint8  \n",
      " 91  month_12                 388614 non-null  uint8  \n",
      "dtypes: float64(2), int64(20), uint8(70)\n",
      "memory usage: 94.1 MB\n"
     ]
    }
   ],
   "source": [
    "X_test.info()"
   ]
  },
  {
   "cell_type": "markdown",
   "id": "f2ad825b",
   "metadata": {},
   "source": [
    "## Initial baseline modeling"
   ]
  },
  {
   "cell_type": "code",
   "execution_count": 18,
   "id": "3bdfefde",
   "metadata": {},
   "outputs": [
    {
     "name": "stdout",
     "output_type": "stream",
     "text": [
      "0.9942668045927321\n"
     ]
    }
   ],
   "source": [
    "from sklearn.linear_model import LogisticRegression\n",
    "from sklearn.metrics import accuracy_score\n",
    "\n",
    "logreg = LogisticRegression()\n",
    "# Fit the model on the trainng data.\n",
    "logreg.fit(X_train, y_train)\n",
    "\n",
    "y_pred_train = logreg.predict(X_train)\n",
    "y_pred_test = logreg.predict(X_test)\n",
    "\n",
    "# Print the accuracy from the testing data.\n",
    "print(accuracy_score(y_pred_test, y_test))"
   ]
  },
  {
   "cell_type": "markdown",
   "id": "c3e206a5",
   "metadata": {},
   "source": [
    "This doesn't tell us very much because of the imbalanced nature of the data. It's possible that the model has accurately predicted EVERY transaction as non-fraud and still have a high accuracy score."
   ]
  },
  {
   "cell_type": "code",
   "execution_count": 19,
   "id": "1b8a7a7f",
   "metadata": {},
   "outputs": [
    {
     "name": "stdout",
     "output_type": "stream",
     "text": [
      "[Training Classification Report]\n",
      "              precision    recall  f1-score   support\n",
      "\n",
      "           0       1.00      1.00      1.00    901486\n",
      "           1       0.48      0.19      0.27      5279\n",
      "\n",
      "    accuracy                           0.99    906765\n",
      "   macro avg       0.74      0.59      0.63    906765\n",
      "weighted avg       0.99      0.99      0.99    906765\n",
      "\n",
      "[Test Classification Report]\n",
      "              precision    recall  f1-score   support\n",
      "\n",
      "           0       1.00      1.00      1.00    386387\n",
      "           1       0.50      0.22      0.31      2227\n",
      "\n",
      "    accuracy                           0.99    388614\n",
      "   macro avg       0.75      0.61      0.65    388614\n",
      "weighted avg       0.99      0.99      0.99    388614\n",
      "\n"
     ]
    }
   ],
   "source": [
    "from sklearn.metrics import classification_report\n",
    "\n",
    "print(\"[Training Classification Report]\")\n",
    "print(classification_report(y_train, y_pred_train))\n",
    "\n",
    "print(\"[Test Classification Report]\")\n",
    "print(classification_report(y_test, y_pred_test))"
   ]
  },
  {
   "cell_type": "markdown",
   "id": "73ca3772",
   "metadata": {},
   "source": [
    "Based on the precision values, this tells us that ~50% of our current \"out of the box\" model's fraud predictions are correctly classifications. Based on our recall values, our model was only able to correctly classify ~20% of our positive cases.\n",
    "\n",
    "Because the objective of this problem is to catch fraudulent transactions, we want to aim for high recall."
   ]
  },
  {
   "cell_type": "markdown",
   "id": "17abb4ce",
   "metadata": {},
   "source": [
    "## Scaling features"
   ]
  },
  {
   "cell_type": "markdown",
   "id": "cbde257b",
   "metadata": {},
   "source": [
    "Is it better to scale only nonbinary features, or to scale ALL features?  We'll create two different versions of this."
   ]
  },
  {
   "cell_type": "code",
   "execution_count": 20,
   "id": "240d7fa0",
   "metadata": {},
   "outputs": [],
   "source": [
    "#Scale all features\n",
    "from sklearn.preprocessing import StandardScaler\n",
    "\n",
    "scaler = StandardScaler()\n",
    "scaler.fit(X_train)\n",
    "X_train_scaled = scaler.transform(X_train)\n",
    "X_test_scaled = scaler.transform(X_test)"
   ]
  },
  {
   "cell_type": "markdown",
   "id": "50e46d9d",
   "metadata": {},
   "source": [
    "## GridSearchCV to tune parameters"
   ]
  },
  {
   "cell_type": "code",
   "execution_count": 21,
   "id": "754c183a",
   "metadata": {},
   "outputs": [],
   "source": [
    "from sklearn.model_selection import GridSearchCV\n",
    "from sklearn.metrics import recall_score"
   ]
  },
  {
   "cell_type": "code",
   "execution_count": null,
   "id": "4f47bfe7",
   "metadata": {},
   "outputs": [
    {
     "name": "stderr",
     "output_type": "stream",
     "text": [
      "/Users/chrischung/opt/anaconda3/envs/snowflakes/lib/python3.8/site-packages/sklearn/linear_model/_sag.py:329: ConvergenceWarning: The max_iter was reached which means the coef_ did not converge\n",
      "  warnings.warn(\"The max_iter was reached which means \"\n",
      "/Users/chrischung/opt/anaconda3/envs/snowflakes/lib/python3.8/site-packages/sklearn/linear_model/_sag.py:329: ConvergenceWarning: The max_iter was reached which means the coef_ did not converge\n",
      "  warnings.warn(\"The max_iter was reached which means \"\n"
     ]
    }
   ],
   "source": [
    "logreg2 = LogisticRegression(solver='saga')\n",
    "params = {\"C\":np.logspace(-3,3,5,7), \"penalty\":[\"l1\", \"l2\", 'none']}\n",
    "\n",
    "clf2 = GridSearchCV(logreg2, params, cv=5, scoring = 'recall')\n",
    "\n",
    "clf2.fit(X_train_scaled, y_train)\n",
    "\n",
    "print(clf2.best_params_, clf2.best_score_)"
   ]
  },
  {
   "cell_type": "code",
   "execution_count": null,
   "id": "50f30c37",
   "metadata": {},
   "outputs": [],
   "source": [
    "y_pred_train2 = clf2.predict(X_train_scaled)\n",
    "y_pred_test2 = clf2.predict(X_test_scaled)"
   ]
  },
  {
   "cell_type": "code",
   "execution_count": null,
   "id": "9fcfe94c",
   "metadata": {},
   "outputs": [],
   "source": [
    "print(\"[Training Classification Report]\")\n",
    "print(classification_report(y_train, y_pred_train2))\n",
    "\n",
    "print(\"[Test Classification Report]\")\n",
    "print(classification_report(y_test, y_pred_test2))"
   ]
  }
 ],
 "metadata": {
  "kernelspec": {
   "display_name": "Python 3 (ipykernel)",
   "language": "python",
   "name": "python3"
  },
  "language_info": {
   "codemirror_mode": {
    "name": "ipython",
    "version": 3
   },
   "file_extension": ".py",
   "mimetype": "text/x-python",
   "name": "python",
   "nbconvert_exporter": "python",
   "pygments_lexer": "ipython3",
   "version": "3.8.12"
  }
 },
 "nbformat": 4,
 "nbformat_minor": 5
}
