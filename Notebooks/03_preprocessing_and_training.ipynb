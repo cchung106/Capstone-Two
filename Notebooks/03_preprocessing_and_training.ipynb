{
 "cells": [
  {
   "cell_type": "markdown",
   "id": "789b6ebd",
   "metadata": {},
   "source": [
    "## Imports"
   ]
  },
  {
   "cell_type": "code",
   "execution_count": 1,
   "id": "5cef43d3",
   "metadata": {},
   "outputs": [],
   "source": [
    "import pandas as pd\n",
    "import numpy as np\n",
    "import matplotlib.pyplot as plt\n",
    "import seaborn as sns\n",
    "from sklearn.model_selection import train_test_split, cross_validate, GridSearchCV, learning_curve"
   ]
  },
  {
   "cell_type": "markdown",
   "id": "96c8b7de",
   "metadata": {},
   "source": [
    "## Load dataset"
   ]
  },
  {
   "cell_type": "code",
   "execution_count": 2,
   "id": "09e744f8",
   "metadata": {},
   "outputs": [],
   "source": [
    "df = pd.read_csv('../raw_data/fraudTrain_cleaned2.csv', index_col=0)"
   ]
  },
  {
   "cell_type": "code",
   "execution_count": 3,
   "id": "80d41c6b",
   "metadata": {},
   "outputs": [
    {
     "name": "stdout",
     "output_type": "stream",
     "text": [
      "<class 'pandas.core.frame.DataFrame'>\n",
      "Int64Index: 1295379 entries, 0 to 1295378\n",
      "Data columns (total 42 columns):\n",
      " #   Column                   Non-Null Count    Dtype  \n",
      "---  ------                   --------------    -----  \n",
      " 0   trans_date_trans_time    1295379 non-null  object \n",
      " 1   cc_num                   1295379 non-null  int64  \n",
      " 2   merchant                 1295379 non-null  object \n",
      " 3   category                 1295379 non-null  object \n",
      " 4   amt                      1295379 non-null  float64\n",
      " 5   first                    1295379 non-null  object \n",
      " 6   last                     1295379 non-null  object \n",
      " 7   state                    1295379 non-null  object \n",
      " 8   lat                      1295379 non-null  float64\n",
      " 9   long                     1295379 non-null  float64\n",
      " 10  city_pop                 1295379 non-null  int64  \n",
      " 11  job                      1295379 non-null  object \n",
      " 12  dob                      1295379 non-null  object \n",
      " 13  merch_lat                1295379 non-null  float64\n",
      " 14  merch_long               1295379 non-null  float64\n",
      " 15  is_fraud                 1295379 non-null  int64  \n",
      " 16  val_mean_amt             1295379 non-null  float64\n",
      " 17  val_mean_amt_dist        1295379 non-null  float64\n",
      " 18  category_entertainment   1295379 non-null  int64  \n",
      " 19  category_food_dining     1295379 non-null  int64  \n",
      " 20  category_gas_transport   1295379 non-null  int64  \n",
      " 21  category_grocery_net     1295379 non-null  int64  \n",
      " 22  category_grocery_pos     1295379 non-null  int64  \n",
      " 23  category_health_fitness  1295379 non-null  int64  \n",
      " 24  category_home            1295379 non-null  int64  \n",
      " 25  category_kids_pets       1295379 non-null  int64  \n",
      " 26  category_misc_net        1295379 non-null  int64  \n",
      " 27  category_misc_pos        1295379 non-null  int64  \n",
      " 28  category_personal_care   1295379 non-null  int64  \n",
      " 29  category_shopping_net    1295379 non-null  int64  \n",
      " 30  category_shopping_pos    1295379 non-null  int64  \n",
      " 31  category_travel          1295379 non-null  int64  \n",
      " 32  is_M                     1295379 non-null  int64  \n",
      " 33  day_of_week              1295379 non-null  int64  \n",
      " 34  month                    1295379 non-null  int64  \n",
      " 35  hour                     1295379 non-null  int64  \n",
      " 36  hr_22to23                1295379 non-null  int64  \n",
      " 37  hr_0to4                  1295379 non-null  int64  \n",
      " 38  hr_12to23                1295379 non-null  int64  \n",
      " 39  age                      1295379 non-null  int64  \n",
      " 40  distance                 1295379 non-null  object \n",
      " 41  distance2                1295379 non-null  float64\n",
      "dtypes: float64(8), int64(25), object(9)\n",
      "memory usage: 425.0+ MB\n"
     ]
    }
   ],
   "source": [
    "df.info()"
   ]
  },
  {
   "cell_type": "markdown",
   "id": "7e1c52b5",
   "metadata": {},
   "source": [
    "## One hot encoding categorical variables"
   ]
  },
  {
   "cell_type": "code",
   "execution_count": 4,
   "id": "b9341d12",
   "metadata": {},
   "outputs": [],
   "source": [
    "# get dummies for 'state'\n",
    "state_dummies = pd.get_dummies(df['state'],prefix='state')\n",
    "\n",
    "# Concatenate one-hot encoded dataframe to main dataframe.\n",
    "df = pd.concat([df, state_dummies], axis=1)"
   ]
  },
  {
   "cell_type": "code",
   "execution_count": 5,
   "id": "e3202373",
   "metadata": {
    "scrolled": false
   },
   "outputs": [],
   "source": [
    "# get dummies for 'day_of_week'\n",
    "day_dummies = pd.get_dummies(df['day_of_week'],prefix='day')\n",
    "\n",
    "# Concatenate one-hot encoded dataframe to main dataframe.\n",
    "df = pd.concat([df, day_dummies], axis=1)"
   ]
  },
  {
   "cell_type": "code",
   "execution_count": 6,
   "id": "6d7b7940",
   "metadata": {},
   "outputs": [],
   "source": [
    "# get dummies for 'month'\n",
    "month_dummies = pd.get_dummies(df['month'],prefix='month')\n",
    "\n",
    "# Concatenate one-hot encoded dataframe to main dataframe.\n",
    "df = pd.concat([df, month_dummies], axis=1)"
   ]
  },
  {
   "cell_type": "code",
   "execution_count": 7,
   "id": "e4f355b4",
   "metadata": {},
   "outputs": [
    {
     "name": "stdout",
     "output_type": "stream",
     "text": [
      "<class 'pandas.core.frame.DataFrame'>\n",
      "Int64Index: 1295379 entries, 0 to 1295378\n",
      "Columns: 112 entries, trans_date_trans_time to month_12\n",
      "dtypes: float64(8), int64(25), object(9), uint8(70)\n",
      "memory usage: 511.4+ MB\n"
     ]
    }
   ],
   "source": [
    "df.info()"
   ]
  },
  {
   "cell_type": "markdown",
   "id": "e999212a",
   "metadata": {},
   "source": [
    "## Drop unnecessary columns"
   ]
  },
  {
   "cell_type": "code",
   "execution_count": 8,
   "id": "6afb0da6",
   "metadata": {},
   "outputs": [],
   "source": [
    "drop_columns = ['val_mean_amt', 'state', 'job', 'dob', 'day_of_week', 'month', 'hour', 'distance', 'distance2', 'lat', 'long', 'merch_lat', 'merch_long']\n",
    "df.drop(drop_columns, axis = 1, inplace=True)"
   ]
  },
  {
   "cell_type": "code",
   "execution_count": 9,
   "id": "4d0f2a5d",
   "metadata": {},
   "outputs": [
    {
     "name": "stdout",
     "output_type": "stream",
     "text": [
      "<class 'pandas.core.frame.DataFrame'>\n",
      "Int64Index: 1295379 entries, 0 to 1295378\n",
      "Data columns (total 99 columns):\n",
      " #   Column                   Non-Null Count    Dtype  \n",
      "---  ------                   --------------    -----  \n",
      " 0   trans_date_trans_time    1295379 non-null  object \n",
      " 1   cc_num                   1295379 non-null  int64  \n",
      " 2   merchant                 1295379 non-null  object \n",
      " 3   category                 1295379 non-null  object \n",
      " 4   amt                      1295379 non-null  float64\n",
      " 5   first                    1295379 non-null  object \n",
      " 6   last                     1295379 non-null  object \n",
      " 7   city_pop                 1295379 non-null  int64  \n",
      " 8   is_fraud                 1295379 non-null  int64  \n",
      " 9   val_mean_amt_dist        1295379 non-null  float64\n",
      " 10  category_entertainment   1295379 non-null  int64  \n",
      " 11  category_food_dining     1295379 non-null  int64  \n",
      " 12  category_gas_transport   1295379 non-null  int64  \n",
      " 13  category_grocery_net     1295379 non-null  int64  \n",
      " 14  category_grocery_pos     1295379 non-null  int64  \n",
      " 15  category_health_fitness  1295379 non-null  int64  \n",
      " 16  category_home            1295379 non-null  int64  \n",
      " 17  category_kids_pets       1295379 non-null  int64  \n",
      " 18  category_misc_net        1295379 non-null  int64  \n",
      " 19  category_misc_pos        1295379 non-null  int64  \n",
      " 20  category_personal_care   1295379 non-null  int64  \n",
      " 21  category_shopping_net    1295379 non-null  int64  \n",
      " 22  category_shopping_pos    1295379 non-null  int64  \n",
      " 23  category_travel          1295379 non-null  int64  \n",
      " 24  is_M                     1295379 non-null  int64  \n",
      " 25  hr_22to23                1295379 non-null  int64  \n",
      " 26  hr_0to4                  1295379 non-null  int64  \n",
      " 27  hr_12to23                1295379 non-null  int64  \n",
      " 28  age                      1295379 non-null  int64  \n",
      " 29  state_AK                 1295379 non-null  uint8  \n",
      " 30  state_AL                 1295379 non-null  uint8  \n",
      " 31  state_AR                 1295379 non-null  uint8  \n",
      " 32  state_AZ                 1295379 non-null  uint8  \n",
      " 33  state_CA                 1295379 non-null  uint8  \n",
      " 34  state_CO                 1295379 non-null  uint8  \n",
      " 35  state_CT                 1295379 non-null  uint8  \n",
      " 36  state_DC                 1295379 non-null  uint8  \n",
      " 37  state_DE                 1295379 non-null  uint8  \n",
      " 38  state_FL                 1295379 non-null  uint8  \n",
      " 39  state_GA                 1295379 non-null  uint8  \n",
      " 40  state_HI                 1295379 non-null  uint8  \n",
      " 41  state_IA                 1295379 non-null  uint8  \n",
      " 42  state_ID                 1295379 non-null  uint8  \n",
      " 43  state_IL                 1295379 non-null  uint8  \n",
      " 44  state_IN                 1295379 non-null  uint8  \n",
      " 45  state_KS                 1295379 non-null  uint8  \n",
      " 46  state_KY                 1295379 non-null  uint8  \n",
      " 47  state_LA                 1295379 non-null  uint8  \n",
      " 48  state_MA                 1295379 non-null  uint8  \n",
      " 49  state_MD                 1295379 non-null  uint8  \n",
      " 50  state_ME                 1295379 non-null  uint8  \n",
      " 51  state_MI                 1295379 non-null  uint8  \n",
      " 52  state_MN                 1295379 non-null  uint8  \n",
      " 53  state_MO                 1295379 non-null  uint8  \n",
      " 54  state_MS                 1295379 non-null  uint8  \n",
      " 55  state_MT                 1295379 non-null  uint8  \n",
      " 56  state_NC                 1295379 non-null  uint8  \n",
      " 57  state_ND                 1295379 non-null  uint8  \n",
      " 58  state_NE                 1295379 non-null  uint8  \n",
      " 59  state_NH                 1295379 non-null  uint8  \n",
      " 60  state_NJ                 1295379 non-null  uint8  \n",
      " 61  state_NM                 1295379 non-null  uint8  \n",
      " 62  state_NV                 1295379 non-null  uint8  \n",
      " 63  state_NY                 1295379 non-null  uint8  \n",
      " 64  state_OH                 1295379 non-null  uint8  \n",
      " 65  state_OK                 1295379 non-null  uint8  \n",
      " 66  state_OR                 1295379 non-null  uint8  \n",
      " 67  state_PA                 1295379 non-null  uint8  \n",
      " 68  state_RI                 1295379 non-null  uint8  \n",
      " 69  state_SC                 1295379 non-null  uint8  \n",
      " 70  state_SD                 1295379 non-null  uint8  \n",
      " 71  state_TN                 1295379 non-null  uint8  \n",
      " 72  state_TX                 1295379 non-null  uint8  \n",
      " 73  state_UT                 1295379 non-null  uint8  \n",
      " 74  state_VA                 1295379 non-null  uint8  \n",
      " 75  state_VT                 1295379 non-null  uint8  \n",
      " 76  state_WA                 1295379 non-null  uint8  \n",
      " 77  state_WI                 1295379 non-null  uint8  \n",
      " 78  state_WV                 1295379 non-null  uint8  \n",
      " 79  state_WY                 1295379 non-null  uint8  \n",
      " 80  day_0                    1295379 non-null  uint8  \n",
      " 81  day_1                    1295379 non-null  uint8  \n",
      " 82  day_2                    1295379 non-null  uint8  \n",
      " 83  day_3                    1295379 non-null  uint8  \n",
      " 84  day_4                    1295379 non-null  uint8  \n",
      " 85  day_5                    1295379 non-null  uint8  \n",
      " 86  day_6                    1295379 non-null  uint8  \n",
      " 87  month_1                  1295379 non-null  uint8  \n",
      " 88  month_2                  1295379 non-null  uint8  \n",
      " 89  month_3                  1295379 non-null  uint8  \n",
      " 90  month_4                  1295379 non-null  uint8  \n",
      " 91  month_5                  1295379 non-null  uint8  \n",
      " 92  month_6                  1295379 non-null  uint8  \n",
      " 93  month_7                  1295379 non-null  uint8  \n",
      " 94  month_8                  1295379 non-null  uint8  \n",
      " 95  month_9                  1295379 non-null  uint8  \n",
      " 96  month_10                 1295379 non-null  uint8  \n",
      " 97  month_11                 1295379 non-null  uint8  \n",
      " 98  month_12                 1295379 non-null  uint8  \n",
      "dtypes: float64(2), int64(22), object(5), uint8(70)\n",
      "memory usage: 383.0+ MB\n"
     ]
    }
   ],
   "source": [
    "df.info()"
   ]
  },
  {
   "cell_type": "markdown",
   "id": "d3a5be59",
   "metadata": {},
   "source": [
    "## Split data into training and testing sets."
   ]
  },
  {
   "cell_type": "code",
   "execution_count": 10,
   "id": "6cc3870e",
   "metadata": {},
   "outputs": [
    {
     "data": {
      "text/plain": [
       "(906765.2999999999, 388613.7)"
      ]
     },
     "execution_count": 10,
     "metadata": {},
     "output_type": "execute_result"
    }
   ],
   "source": [
    "#Check partition sizes with 70/30 train/test split\n",
    "len(df) * .7, len(df) * .3"
   ]
  },
  {
   "cell_type": "code",
   "execution_count": 11,
   "id": "c323589a",
   "metadata": {},
   "outputs": [],
   "source": [
    "X_train, X_test, y_train, y_test = train_test_split(df.drop(columns='is_fraud'), \n",
    "                                                    df.is_fraud, test_size=0.3, \n",
    "                                                    random_state=47)"
   ]
  },
  {
   "cell_type": "code",
   "execution_count": 12,
   "id": "9a02b6fd",
   "metadata": {},
   "outputs": [
    {
     "data": {
      "text/plain": [
       "((906765, 98), (388614, 98))"
      ]
     },
     "execution_count": 12,
     "metadata": {},
     "output_type": "execute_result"
    }
   ],
   "source": [
    "X_train.shape, X_test.shape"
   ]
  },
  {
   "cell_type": "code",
   "execution_count": 13,
   "id": "4c1f2c61",
   "metadata": {
    "scrolled": true
   },
   "outputs": [
    {
     "data": {
      "text/plain": [
       "((906765,), (388614,))"
      ]
     },
     "execution_count": 13,
     "metadata": {},
     "output_type": "execute_result"
    }
   ],
   "source": [
    "y_train.shape, y_test.shape"
   ]
  },
  {
   "cell_type": "code",
   "execution_count": 14,
   "id": "a56bd712",
   "metadata": {},
   "outputs": [
    {
     "data": {
      "text/plain": [
       "((906765, 92), (388614, 92))"
      ]
     },
     "execution_count": 14,
     "metadata": {},
     "output_type": "execute_result"
    }
   ],
   "source": [
    "#Save the 'trans_date_trans_time', 'cc_num', 'merchant', 'category', 'first', 'last' columns \n",
    "#from the train/test data into labels_train and labels_test\n",
    "#Then drop those columns from `X_train` and `X_test`.\n",
    "\n",
    "labels_list = ['trans_date_trans_time', 'cc_num', 'merchant', 'category', 'first', 'last']\n",
    "labels_train = X_train[['trans_date_trans_time', 'cc_num', 'merchant', 'category', 'first', 'last']]\n",
    "labels_test = X_test[['trans_date_trans_time', 'cc_num', 'merchant', 'category', 'first', 'last']]\n",
    "X_train.drop(columns=labels_list, inplace=True)\n",
    "X_test.drop(columns=labels_list, inplace=True)\n",
    "X_train.shape, X_test.shape"
   ]
  },
  {
   "cell_type": "code",
   "execution_count": 15,
   "id": "9de0ecf6",
   "metadata": {},
   "outputs": [
    {
     "name": "stdout",
     "output_type": "stream",
     "text": [
      "<class 'pandas.core.frame.DataFrame'>\n",
      "Int64Index: 906765 entries, 825668 to 889991\n",
      "Data columns (total 92 columns):\n",
      " #   Column                   Non-Null Count   Dtype  \n",
      "---  ------                   --------------   -----  \n",
      " 0   amt                      906765 non-null  float64\n",
      " 1   city_pop                 906765 non-null  int64  \n",
      " 2   val_mean_amt_dist        906765 non-null  float64\n",
      " 3   category_entertainment   906765 non-null  int64  \n",
      " 4   category_food_dining     906765 non-null  int64  \n",
      " 5   category_gas_transport   906765 non-null  int64  \n",
      " 6   category_grocery_net     906765 non-null  int64  \n",
      " 7   category_grocery_pos     906765 non-null  int64  \n",
      " 8   category_health_fitness  906765 non-null  int64  \n",
      " 9   category_home            906765 non-null  int64  \n",
      " 10  category_kids_pets       906765 non-null  int64  \n",
      " 11  category_misc_net        906765 non-null  int64  \n",
      " 12  category_misc_pos        906765 non-null  int64  \n",
      " 13  category_personal_care   906765 non-null  int64  \n",
      " 14  category_shopping_net    906765 non-null  int64  \n",
      " 15  category_shopping_pos    906765 non-null  int64  \n",
      " 16  category_travel          906765 non-null  int64  \n",
      " 17  is_M                     906765 non-null  int64  \n",
      " 18  hr_22to23                906765 non-null  int64  \n",
      " 19  hr_0to4                  906765 non-null  int64  \n",
      " 20  hr_12to23                906765 non-null  int64  \n",
      " 21  age                      906765 non-null  int64  \n",
      " 22  state_AK                 906765 non-null  uint8  \n",
      " 23  state_AL                 906765 non-null  uint8  \n",
      " 24  state_AR                 906765 non-null  uint8  \n",
      " 25  state_AZ                 906765 non-null  uint8  \n",
      " 26  state_CA                 906765 non-null  uint8  \n",
      " 27  state_CO                 906765 non-null  uint8  \n",
      " 28  state_CT                 906765 non-null  uint8  \n",
      " 29  state_DC                 906765 non-null  uint8  \n",
      " 30  state_DE                 906765 non-null  uint8  \n",
      " 31  state_FL                 906765 non-null  uint8  \n",
      " 32  state_GA                 906765 non-null  uint8  \n",
      " 33  state_HI                 906765 non-null  uint8  \n",
      " 34  state_IA                 906765 non-null  uint8  \n",
      " 35  state_ID                 906765 non-null  uint8  \n",
      " 36  state_IL                 906765 non-null  uint8  \n",
      " 37  state_IN                 906765 non-null  uint8  \n",
      " 38  state_KS                 906765 non-null  uint8  \n",
      " 39  state_KY                 906765 non-null  uint8  \n",
      " 40  state_LA                 906765 non-null  uint8  \n",
      " 41  state_MA                 906765 non-null  uint8  \n",
      " 42  state_MD                 906765 non-null  uint8  \n",
      " 43  state_ME                 906765 non-null  uint8  \n",
      " 44  state_MI                 906765 non-null  uint8  \n",
      " 45  state_MN                 906765 non-null  uint8  \n",
      " 46  state_MO                 906765 non-null  uint8  \n",
      " 47  state_MS                 906765 non-null  uint8  \n",
      " 48  state_MT                 906765 non-null  uint8  \n",
      " 49  state_NC                 906765 non-null  uint8  \n",
      " 50  state_ND                 906765 non-null  uint8  \n",
      " 51  state_NE                 906765 non-null  uint8  \n",
      " 52  state_NH                 906765 non-null  uint8  \n",
      " 53  state_NJ                 906765 non-null  uint8  \n",
      " 54  state_NM                 906765 non-null  uint8  \n",
      " 55  state_NV                 906765 non-null  uint8  \n",
      " 56  state_NY                 906765 non-null  uint8  \n",
      " 57  state_OH                 906765 non-null  uint8  \n",
      " 58  state_OK                 906765 non-null  uint8  \n",
      " 59  state_OR                 906765 non-null  uint8  \n",
      " 60  state_PA                 906765 non-null  uint8  \n",
      " 61  state_RI                 906765 non-null  uint8  \n",
      " 62  state_SC                 906765 non-null  uint8  \n",
      " 63  state_SD                 906765 non-null  uint8  \n",
      " 64  state_TN                 906765 non-null  uint8  \n",
      " 65  state_TX                 906765 non-null  uint8  \n",
      " 66  state_UT                 906765 non-null  uint8  \n",
      " 67  state_VA                 906765 non-null  uint8  \n",
      " 68  state_VT                 906765 non-null  uint8  \n",
      " 69  state_WA                 906765 non-null  uint8  \n",
      " 70  state_WI                 906765 non-null  uint8  \n",
      " 71  state_WV                 906765 non-null  uint8  \n",
      " 72  state_WY                 906765 non-null  uint8  \n",
      " 73  day_0                    906765 non-null  uint8  \n",
      " 74  day_1                    906765 non-null  uint8  \n",
      " 75  day_2                    906765 non-null  uint8  \n",
      " 76  day_3                    906765 non-null  uint8  \n",
      " 77  day_4                    906765 non-null  uint8  \n",
      " 78  day_5                    906765 non-null  uint8  \n",
      " 79  day_6                    906765 non-null  uint8  \n",
      " 80  month_1                  906765 non-null  uint8  \n",
      " 81  month_2                  906765 non-null  uint8  \n",
      " 82  month_3                  906765 non-null  uint8  \n",
      " 83  month_4                  906765 non-null  uint8  \n",
      " 84  month_5                  906765 non-null  uint8  \n",
      " 85  month_6                  906765 non-null  uint8  \n",
      " 86  month_7                  906765 non-null  uint8  \n",
      " 87  month_8                  906765 non-null  uint8  \n",
      " 88  month_9                  906765 non-null  uint8  \n",
      " 89  month_10                 906765 non-null  uint8  \n",
      " 90  month_11                 906765 non-null  uint8  \n",
      " 91  month_12                 906765 non-null  uint8  \n",
      "dtypes: float64(2), int64(20), uint8(70)\n",
      "memory usage: 219.6 MB\n"
     ]
    }
   ],
   "source": [
    "#Check the `info` method of `X_train` to verify all features are numeric\n",
    "X_train.info()"
   ]
  },
  {
   "cell_type": "code",
   "execution_count": 16,
   "id": "6c00ad94",
   "metadata": {
    "scrolled": false
   },
   "outputs": [
    {
     "name": "stdout",
     "output_type": "stream",
     "text": [
      "<class 'pandas.core.frame.DataFrame'>\n",
      "Int64Index: 388614 entries, 1133158 to 157046\n",
      "Data columns (total 92 columns):\n",
      " #   Column                   Non-Null Count   Dtype  \n",
      "---  ------                   --------------   -----  \n",
      " 0   amt                      388614 non-null  float64\n",
      " 1   city_pop                 388614 non-null  int64  \n",
      " 2   val_mean_amt_dist        388614 non-null  float64\n",
      " 3   category_entertainment   388614 non-null  int64  \n",
      " 4   category_food_dining     388614 non-null  int64  \n",
      " 5   category_gas_transport   388614 non-null  int64  \n",
      " 6   category_grocery_net     388614 non-null  int64  \n",
      " 7   category_grocery_pos     388614 non-null  int64  \n",
      " 8   category_health_fitness  388614 non-null  int64  \n",
      " 9   category_home            388614 non-null  int64  \n",
      " 10  category_kids_pets       388614 non-null  int64  \n",
      " 11  category_misc_net        388614 non-null  int64  \n",
      " 12  category_misc_pos        388614 non-null  int64  \n",
      " 13  category_personal_care   388614 non-null  int64  \n",
      " 14  category_shopping_net    388614 non-null  int64  \n",
      " 15  category_shopping_pos    388614 non-null  int64  \n",
      " 16  category_travel          388614 non-null  int64  \n",
      " 17  is_M                     388614 non-null  int64  \n",
      " 18  hr_22to23                388614 non-null  int64  \n",
      " 19  hr_0to4                  388614 non-null  int64  \n",
      " 20  hr_12to23                388614 non-null  int64  \n",
      " 21  age                      388614 non-null  int64  \n",
      " 22  state_AK                 388614 non-null  uint8  \n",
      " 23  state_AL                 388614 non-null  uint8  \n",
      " 24  state_AR                 388614 non-null  uint8  \n",
      " 25  state_AZ                 388614 non-null  uint8  \n",
      " 26  state_CA                 388614 non-null  uint8  \n",
      " 27  state_CO                 388614 non-null  uint8  \n",
      " 28  state_CT                 388614 non-null  uint8  \n",
      " 29  state_DC                 388614 non-null  uint8  \n",
      " 30  state_DE                 388614 non-null  uint8  \n",
      " 31  state_FL                 388614 non-null  uint8  \n",
      " 32  state_GA                 388614 non-null  uint8  \n",
      " 33  state_HI                 388614 non-null  uint8  \n",
      " 34  state_IA                 388614 non-null  uint8  \n",
      " 35  state_ID                 388614 non-null  uint8  \n",
      " 36  state_IL                 388614 non-null  uint8  \n",
      " 37  state_IN                 388614 non-null  uint8  \n",
      " 38  state_KS                 388614 non-null  uint8  \n",
      " 39  state_KY                 388614 non-null  uint8  \n",
      " 40  state_LA                 388614 non-null  uint8  \n",
      " 41  state_MA                 388614 non-null  uint8  \n",
      " 42  state_MD                 388614 non-null  uint8  \n",
      " 43  state_ME                 388614 non-null  uint8  \n",
      " 44  state_MI                 388614 non-null  uint8  \n",
      " 45  state_MN                 388614 non-null  uint8  \n",
      " 46  state_MO                 388614 non-null  uint8  \n",
      " 47  state_MS                 388614 non-null  uint8  \n",
      " 48  state_MT                 388614 non-null  uint8  \n",
      " 49  state_NC                 388614 non-null  uint8  \n",
      " 50  state_ND                 388614 non-null  uint8  \n",
      " 51  state_NE                 388614 non-null  uint8  \n",
      " 52  state_NH                 388614 non-null  uint8  \n",
      " 53  state_NJ                 388614 non-null  uint8  \n",
      " 54  state_NM                 388614 non-null  uint8  \n",
      " 55  state_NV                 388614 non-null  uint8  \n",
      " 56  state_NY                 388614 non-null  uint8  \n",
      " 57  state_OH                 388614 non-null  uint8  \n",
      " 58  state_OK                 388614 non-null  uint8  \n",
      " 59  state_OR                 388614 non-null  uint8  \n",
      " 60  state_PA                 388614 non-null  uint8  \n",
      " 61  state_RI                 388614 non-null  uint8  \n",
      " 62  state_SC                 388614 non-null  uint8  \n",
      " 63  state_SD                 388614 non-null  uint8  \n",
      " 64  state_TN                 388614 non-null  uint8  \n",
      " 65  state_TX                 388614 non-null  uint8  \n",
      " 66  state_UT                 388614 non-null  uint8  \n",
      " 67  state_VA                 388614 non-null  uint8  \n",
      " 68  state_VT                 388614 non-null  uint8  \n",
      " 69  state_WA                 388614 non-null  uint8  \n",
      " 70  state_WI                 388614 non-null  uint8  \n",
      " 71  state_WV                 388614 non-null  uint8  \n",
      " 72  state_WY                 388614 non-null  uint8  \n",
      " 73  day_0                    388614 non-null  uint8  \n",
      " 74  day_1                    388614 non-null  uint8  \n",
      " 75  day_2                    388614 non-null  uint8  \n",
      " 76  day_3                    388614 non-null  uint8  \n",
      " 77  day_4                    388614 non-null  uint8  \n",
      " 78  day_5                    388614 non-null  uint8  \n",
      " 79  day_6                    388614 non-null  uint8  \n",
      " 80  month_1                  388614 non-null  uint8  \n",
      " 81  month_2                  388614 non-null  uint8  \n",
      " 82  month_3                  388614 non-null  uint8  \n",
      " 83  month_4                  388614 non-null  uint8  \n",
      " 84  month_5                  388614 non-null  uint8  \n",
      " 85  month_6                  388614 non-null  uint8  \n",
      " 86  month_7                  388614 non-null  uint8  \n",
      " 87  month_8                  388614 non-null  uint8  \n",
      " 88  month_9                  388614 non-null  uint8  \n",
      " 89  month_10                 388614 non-null  uint8  \n",
      " 90  month_11                 388614 non-null  uint8  \n",
      " 91  month_12                 388614 non-null  uint8  \n",
      "dtypes: float64(2), int64(20), uint8(70)\n",
      "memory usage: 94.1 MB\n"
     ]
    }
   ],
   "source": [
    "X_test.info()"
   ]
  },
  {
   "cell_type": "markdown",
   "id": "f2ad825b",
   "metadata": {},
   "source": [
    "## Initial baseline modeling"
   ]
  },
  {
   "cell_type": "code",
   "execution_count": 17,
   "id": "3bdfefde",
   "metadata": {},
   "outputs": [
    {
     "name": "stdout",
     "output_type": "stream",
     "text": [
      "0.9942668045927321\n"
     ]
    }
   ],
   "source": [
    "from sklearn.linear_model import LogisticRegression\n",
    "from sklearn.metrics import accuracy_score\n",
    "\n",
    "logreg = LogisticRegression()\n",
    "# Fit the model on the trainng data.\n",
    "logreg.fit(X_train, y_train)\n",
    "\n",
    "y_pred_train = logreg.predict(X_train)\n",
    "y_pred_test = logreg.predict(X_test)\n",
    "\n",
    "# Print the accuracy from the testing data.\n",
    "print(accuracy_score(y_pred_test, y_test))"
   ]
  },
  {
   "cell_type": "markdown",
   "id": "c3e206a5",
   "metadata": {},
   "source": [
    "This doesn't tell us very much because of the imbalanced nature of the data. It's possible that the model has accurately predicted EVERY transaction as non-fraud and still have a high accuracy score."
   ]
  },
  {
   "cell_type": "code",
   "execution_count": 18,
   "id": "1b8a7a7f",
   "metadata": {},
   "outputs": [
    {
     "name": "stdout",
     "output_type": "stream",
     "text": [
      "[Training Classification Report]\n",
      "              precision    recall  f1-score   support\n",
      "\n",
      "           0       1.00      1.00      1.00    901486\n",
      "           1       0.48      0.19      0.27      5279\n",
      "\n",
      "    accuracy                           0.99    906765\n",
      "   macro avg       0.74      0.59      0.63    906765\n",
      "weighted avg       0.99      0.99      0.99    906765\n",
      "\n",
      "[Test Classification Report]\n",
      "              precision    recall  f1-score   support\n",
      "\n",
      "           0       1.00      1.00      1.00    386387\n",
      "           1       0.50      0.22      0.31      2227\n",
      "\n",
      "    accuracy                           0.99    388614\n",
      "   macro avg       0.75      0.61      0.65    388614\n",
      "weighted avg       0.99      0.99      0.99    388614\n",
      "\n"
     ]
    }
   ],
   "source": [
    "from sklearn.metrics import classification_report\n",
    "\n",
    "print(\"[Training Classification Report]\")\n",
    "print(classification_report(y_train, y_pred_train))\n",
    "\n",
    "print(\"[Test Classification Report]\")\n",
    "print(classification_report(y_test, y_pred_test))"
   ]
  },
  {
   "cell_type": "markdown",
   "id": "73ca3772",
   "metadata": {},
   "source": [
    "Based on the precision values, this tells us that ~50% of our current \"out of the box\" model's fraud predictions are correct classifications. Based on our recall values, our model was only able to correctly classify ~20% of our positive cases.\n",
    "\n",
    "Because the objective of this problem is to catch fraudulent transactions, we want to aim for high recall."
   ]
  },
  {
   "cell_type": "markdown",
   "id": "17abb4ce",
   "metadata": {},
   "source": [
    "## Scaling features"
   ]
  },
  {
   "cell_type": "markdown",
   "id": "cbde257b",
   "metadata": {},
   "source": [
    "Is it better to scale only nonbinary features, or to scale ALL features?  We'll create two different versions of this."
   ]
  },
  {
   "cell_type": "code",
   "execution_count": 19,
   "id": "240d7fa0",
   "metadata": {},
   "outputs": [],
   "source": [
    "#Scale all features\n",
    "\n",
    "from sklearn.preprocessing import StandardScaler\n",
    "\n",
    "scaler = StandardScaler()\n",
    "scaler.fit(X_train)\n",
    "X_train_scaled = scaler.transform(X_train)\n",
    "X_test_scaled = scaler.transform(X_test)"
   ]
  },
  {
   "cell_type": "markdown",
   "id": "50e46d9d",
   "metadata": {},
   "source": [
    "## GridSearchCV to tune parameters"
   ]
  },
  {
   "cell_type": "code",
   "execution_count": 37,
   "id": "754c183a",
   "metadata": {},
   "outputs": [],
   "source": [
    "from sklearn.model_selection import GridSearchCV\n",
    "from sklearn.metrics import recall_score"
   ]
  },
  {
   "cell_type": "code",
   "execution_count": null,
   "id": "4f47bfe7",
   "metadata": {},
   "outputs": [],
   "source": [
    "logreg2 = LogisticRegression()\n",
    "penalty = ['l2']\n",
    "c_values = [100, 10, 1.0, 0.1, 0.01]\n",
    "# define grid search\n",
    "grid = dict(penalty=penalty,C=c_values)\n",
    "\n",
    "\n",
    "logreg2_cv = GridSearchCV(estimator = logreg2, param_grid = grid, cv=5, scoring = 'recall')\n",
    "\n",
    "logreg2_cv.fit(X_train, y_train)\n",
    "\n",
    "print(clf2.best_params_, clf2.best_score_)"
   ]
  },
  {
   "cell_type": "code",
   "execution_count": null,
   "id": "50f30c37",
   "metadata": {},
   "outputs": [],
   "source": [
    "y_pred_train2 = clf2.predict(X_train)\n",
    "y_pred_test2 = clf2.predict(X_test)"
   ]
  },
  {
   "cell_type": "code",
   "execution_count": null,
   "id": "9fcfe94c",
   "metadata": {},
   "outputs": [],
   "source": [
    "print(\"[Training Classification Report]\")\n",
    "print(classification_report(y_train, y_pred_train2))\n",
    "\n",
    "print(\"[Test Classification Report]\")\n",
    "print(classification_report(y_test, y_pred_test2))"
   ]
  },
  {
   "cell_type": "markdown",
   "id": "d65c8b4c",
   "metadata": {},
   "source": [
    "## PCA\n",
    "\n",
    "Goal is to reduce the dimension"
   ]
  },
  {
   "cell_type": "code",
   "execution_count": 20,
   "id": "dd1e48c1",
   "metadata": {},
   "outputs": [],
   "source": [
    "from sklearn.decomposition import PCA"
   ]
  },
  {
   "cell_type": "code",
   "execution_count": 21,
   "id": "d080ea5a",
   "metadata": {},
   "outputs": [
    {
     "data": {
      "text/plain": [
       "PCA()"
      ]
     },
     "execution_count": 21,
     "metadata": {},
     "output_type": "execute_result"
    }
   ],
   "source": [
    "model = PCA()\n",
    "model.fit(X_train_scaled)"
   ]
  },
  {
   "cell_type": "code",
   "execution_count": 22,
   "id": "d9cb4ace",
   "metadata": {},
   "outputs": [],
   "source": [
    "transformed = model.transform(X_train_scaled)"
   ]
  },
  {
   "cell_type": "code",
   "execution_count": 23,
   "id": "99ad1d1c",
   "metadata": {
    "scrolled": true
   },
   "outputs": [
    {
     "name": "stdout",
     "output_type": "stream",
     "text": [
      "[[-7.18825858e-01  8.64497555e-01 -2.82995169e-01 ...  7.18175519e-16\n",
      "  -1.88737914e-15 -8.42208248e-16]\n",
      " [-1.04141446e+00 -3.32229746e-01 -1.23080785e+00 ...  3.64552138e-15\n",
      "   1.13797860e-15 -3.09550562e-15]\n",
      " [ 1.67664174e+00 -1.40603996e+00 -2.75494275e-01 ... -3.46077333e-16\n",
      "  -2.41473508e-15 -1.32001615e-15]\n",
      " ...\n",
      " [-9.30486269e-01 -4.32044670e-01  4.45346436e-01 ...  1.95763544e-15\n",
      "  -3.30291350e-15 -1.55073437e-15]\n",
      " [ 2.93521696e+00  2.95170683e-01  8.64417745e-02 ... -1.14491749e-16\n",
      "  -2.77555756e-15 -4.53630189e-16]\n",
      " [ 1.81230648e+00 -1.84812094e+00 -1.17811428e+00 ...  1.63064007e-16\n",
      "   3.33066907e-16  1.04517089e-15]]\n"
     ]
    }
   ],
   "source": [
    "print(transformed)"
   ]
  },
  {
   "cell_type": "code",
   "execution_count": 24,
   "id": "7e6cff56",
   "metadata": {},
   "outputs": [
    {
     "name": "stdout",
     "output_type": "stream",
     "text": [
      "[[ 2.50402691e-01 -2.61840570e-02  2.52858153e-01 ... -5.02247734e-04\n",
      "  -4.19984803e-04 -2.64515164e-03]\n",
      " [ 6.39656476e-01  3.34140620e-02  6.36609686e-01 ...  2.21721076e-03\n",
      "  -1.32708475e-03  8.26427148e-05]\n",
      " [-1.83143812e-02  5.79010275e-01 -3.47157762e-02 ... -1.55463052e-03\n",
      "   7.65842667e-03  2.69859624e-02]\n",
      " ...\n",
      " [ 3.26162899e-16  2.37335904e-16 -2.04992013e-16 ... -2.18543645e-03\n",
      "  -2.20434381e-03 -3.02638310e-03]\n",
      " [ 1.34191897e-16  4.57369246e-18 -1.33851243e-16 ...  2.33035023e-01\n",
      "   2.35051132e-01  3.22705909e-01]\n",
      " [ 5.45509230e-16  3.15331659e-16 -4.15303818e-16 ... -1.86184630e-03\n",
      "  -1.87795411e-03 -2.57827684e-03]]\n"
     ]
    }
   ],
   "source": [
    "print(model.components_)"
   ]
  },
  {
   "cell_type": "code",
   "execution_count": 25,
   "id": "3ff2bbc3",
   "metadata": {},
   "outputs": [],
   "source": [
    "features = range(model.n_components_)"
   ]
  },
  {
   "cell_type": "code",
   "execution_count": 28,
   "id": "b1c8af50",
   "metadata": {},
   "outputs": [
    {
     "data": {
      "text/plain": [
       "Text(0.5, 1.0, 'Variance of PCA Features')"
      ]
     },
     "execution_count": 28,
     "metadata": {},
     "output_type": "execute_result"
    },
    {
     "data": {
      "image/png": "[encoded data removed]",
      "text/plain": [
       "<Figure size 1440x288 with 1 Axes>"
      ]
     },
     "metadata": {
      "needs_background": "light"
     },
     "output_type": "display_data"
    }
   ],
   "source": [
    "plt.figure(figsize=(20,4))\n",
    "plt.bar(features, model.explained_variance_)\n",
    "plt.xticks(features)\n",
    "plt.xlabel('PCA feature')\n",
    "plt.ylabel('Variance')\n",
    "plt.title('Variance of PCA Features')"
   ]
  },
  {
   "cell_type": "markdown",
   "id": "7ceab9d9",
   "metadata": {},
   "source": [
    "Not sure if PCA is helpful to reduce the dimension, primarily because the majority of our features are dummy variables which naturally has variance of approximately 1."
   ]
  },
  {
   "cell_type": "code",
   "execution_count": 29,
   "id": "d0615e90",
   "metadata": {},
   "outputs": [
    {
     "data": {
      "text/plain": [
       "PCA(n_components=2)"
      ]
     },
     "execution_count": 29,
     "metadata": {},
     "output_type": "execute_result"
    }
   ],
   "source": [
    "pca = PCA(n_components = 2)\n",
    "pca.fit(X_train_scaled)"
   ]
  },
  {
   "cell_type": "code",
   "execution_count": 30,
   "id": "0e96cc0f",
   "metadata": {},
   "outputs": [],
   "source": [
    "transformed = pca.transform(X_train_scaled)"
   ]
  },
  {
   "cell_type": "code",
   "execution_count": 31,
   "id": "25c12017",
   "metadata": {},
   "outputs": [
    {
     "name": "stdout",
     "output_type": "stream",
     "text": [
      "(906765, 2)\n"
     ]
    }
   ],
   "source": [
    "print(transformed.shape)"
   ]
  },
  {
   "cell_type": "code",
   "execution_count": 33,
   "id": "4c478df7",
   "metadata": {},
   "outputs": [
    {
     "data": {
      "image/png": "[encoded data removed]",
      "text/plain": [
       "<Figure size 432x288 with 1 Axes>"
      ]
     },
     "metadata": {
      "needs_background": "light"
     },
     "output_type": "display_data"
    }
   ],
   "source": [
    "xs = transformed[:,0]\n",
    "ys = transformed[:, 1]\n",
    "plt.scatter(xs, ys, c = y_train)\n",
    "plt.show()"
   ]
  },
  {
   "cell_type": "code",
   "execution_count": 36,
   "id": "01d5a093",
   "metadata": {},
   "outputs": [
    {
     "name": "stdout",
     "output_type": "stream",
     "text": [
      "[Training Classification Report]\n",
      "              precision    recall  f1-score   support\n",
      "\n",
      "           0       1.00      1.00      1.00    901486\n",
      "           1       0.48      0.19      0.27      5279\n",
      "\n",
      "    accuracy                           0.99    906765\n",
      "   macro avg       0.74      0.59      0.63    906765\n",
      "weighted avg       0.99      0.99      0.99    906765\n",
      "\n"
     ]
    }
   ],
   "source": [
    "logreg3 = LogisticRegression()\n",
    "logreg3.fit(transformed, y_train)\n",
    "\n",
    "y_pred_train2 = logreg3.predict(transformed)\n",
    "\n",
    "\n",
    "print(\"[Training Classification Report]\")\n",
    "print(classification_report(y_train, y_pred_train))"
   ]
  },
  {
   "cell_type": "markdown",
   "id": "27232b88",
   "metadata": {},
   "source": [
    "## Try Min-Max Scaling"
   ]
  },
  {
   "cell_type": "code",
   "execution_count": 38,
   "id": "2731fe53",
   "metadata": {},
   "outputs": [],
   "source": [
    "from sklearn.preprocessing import MinMaxScaler"
   ]
  },
  {
   "cell_type": "code",
   "execution_count": 47,
   "id": "6a10e130",
   "metadata": {},
   "outputs": [],
   "source": [
    "minmaxscaler = MinMaxScaler()\n",
    "\n",
    "minmaxscaler.fit(X_train)\n",
    "\n",
    "X_train_minmax = minmaxscaler.transform(X_train)\n",
    "X_test_minmax = minmaxscaler.transform(X_test)"
   ]
  },
  {
   "cell_type": "code",
   "execution_count": 48,
   "id": "978d124f",
   "metadata": {},
   "outputs": [],
   "source": [
    "logreg4 = LogisticRegression(solver='liblinear')\n",
    "# Fit the model on the trainng data.\n",
    "logreg4.fit(X_train_minmax, y_train)\n",
    "\n",
    "y_pred_train = logreg4.predict(X_train_minmax)\n",
    "y_pred_test = logreg4.predict(X_test_minmax)"
   ]
  },
  {
   "cell_type": "code",
   "execution_count": 49,
   "id": "b9e710f3",
   "metadata": {},
   "outputs": [
    {
     "name": "stdout",
     "output_type": "stream",
     "text": [
      "[Training Classification Report]\n",
      "              precision    recall  f1-score   support\n",
      "\n",
      "           0       1.00      1.00      1.00    901486\n",
      "           1       0.73      0.34      0.46      5279\n",
      "\n",
      "    accuracy                           1.00    906765\n",
      "   macro avg       0.86      0.67      0.73    906765\n",
      "weighted avg       0.99      1.00      0.99    906765\n",
      "\n",
      "[Test Classification Report]\n",
      "              precision    recall  f1-score   support\n",
      "\n",
      "           0       1.00      1.00      1.00    386387\n",
      "           1       0.72      0.36      0.48      2227\n",
      "\n",
      "    accuracy                           1.00    388614\n",
      "   macro avg       0.86      0.68      0.74    388614\n",
      "weighted avg       0.99      1.00      0.99    388614\n",
      "\n"
     ]
    }
   ],
   "source": [
    "print(\"[Training Classification Report]\")\n",
    "print(classification_report(y_train, y_pred_train))\n",
    "\n",
    "print(\"[Test Classification Report]\")\n",
    "print(classification_report(y_test, y_pred_test))"
   ]
  },
  {
   "cell_type": "markdown",
   "id": "ad5643b1",
   "metadata": {},
   "source": [
    "Running logistic regression on min-max scaled variables produce slightly better results.  "
   ]
  },
  {
   "cell_type": "code",
   "execution_count": 50,
   "id": "72c80340",
   "metadata": {},
   "outputs": [],
   "source": [
    "from sklearn.metrics import precision_recall_curve\n",
    "from sklearn.metrics import f1_score\n",
    "from sklearn.metrics import auc"
   ]
  },
  {
   "cell_type": "code",
   "execution_count": 52,
   "id": "031884be",
   "metadata": {},
   "outputs": [
    {
     "name": "stdout",
     "output_type": "stream",
     "text": [
      "Logistic: f1=0.479 auc=0.476\n"
     ]
    },
    {
     "data": {
      "image/png": "[encoded data removed]",
      "text/plain": [
       "<Figure size 432x288 with 1 Axes>"
      ]
     },
     "metadata": {
      "needs_background": "light"
     },
     "output_type": "display_data"
    }
   ],
   "source": [
    "lr_probs = logreg4.predict_proba(X_test_minmax)\n",
    "\n",
    "# keep probabilities for the positive outcome only\n",
    "lr_probs = lr_probs[:, 1]\n",
    "\n",
    "lr_precision, lr_recall, _ = precision_recall_curve(y_test, lr_probs)\n",
    "lr_f1, lr_auc = f1_score(y_test, y_pred_test), auc(lr_recall, lr_precision)\n",
    "\n",
    "# summarize scores\n",
    "print('Logistic: f1=%.3f auc=%.3f' % (lr_f1, lr_auc))\n",
    "\n",
    "# plot the precision-recall curves\n",
    "no_skill = len(y_test[y_test==1]) / len(y_test)\n",
    "plt.plot([0, 1], [no_skill, no_skill], linestyle='--', label='No Skill')\n",
    "plt.plot(lr_recall, lr_precision, marker='.', label='Logistic')\n",
    "plt.xlabel('Recall')\n",
    "plt.ylabel('Precision')\n",
    "plt.legend()\n",
    "plt.show()"
   ]
  }
 ],
 "metadata": {
  "kernelspec": {
   "display_name": "Python 3 (ipykernel)",
   "language": "python",
   "name": "python3"
  },
  "language_info": {
   "codemirror_mode": {
    "name": "ipython",
    "version": 3
   },
   "file_extension": ".py",
   "mimetype": "text/x-python",
   "name": "python",
   "nbconvert_exporter": "python",
   "pygments_lexer": "ipython3",
   "version": "3.8.12"
  }
 },
 "nbformat": 4,
 "nbformat_minor": 5
}
