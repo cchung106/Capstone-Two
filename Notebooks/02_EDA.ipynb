{
 "cells": [
  {
   "cell_type": "markdown",
   "id": "674f0b92",
   "metadata": {},
   "source": [
    "## Imports"
   ]
  },
  {
   "cell_type": "code",
   "execution_count": 1,
   "id": "353998e1",
   "metadata": {},
   "outputs": [],
   "source": [
    "import pandas as pd\n",
    "import numpy as np\n",
    "import matplotlib.pyplot as plt\n",
    "import seaborn as sns"
   ]
  },
  {
   "cell_type": "markdown",
   "id": "f64d41c9",
   "metadata": {},
   "source": [
    "## Load dataset"
   ]
  },
  {
   "cell_type": "code",
   "execution_count": 2,
   "id": "1079fd98",
   "metadata": {
    "scrolled": true
   },
   "outputs": [
    {
     "name": "stderr",
     "output_type": "stream",
     "text": [
      "/Users/chrischung/opt/anaconda3/lib/python3.8/site-packages/numpy/lib/arraysetops.py:583: FutureWarning: elementwise comparison failed; returning scalar instead, but in the future will perform elementwise comparison\n",
      "  mask |= (ar1 == a)\n"
     ]
    }
   ],
   "source": [
    "cc_data = pd.read_csv('../raw_data/fraudTrain_cleaned.csv', index_col=0)"
   ]
  },
  {
   "cell_type": "code",
   "execution_count": 3,
   "id": "7d4b7251",
   "metadata": {},
   "outputs": [
    {
     "data": {
      "text/html": [
       "<div>\n",
       "<style scoped>\n",
       "    .dataframe tbody tr th:only-of-type {\n",
       "        vertical-align: middle;\n",
       "    }\n",
       "\n",
       "    .dataframe tbody tr th {\n",
       "        vertical-align: top;\n",
       "    }\n",
       "\n",
       "    .dataframe thead th {\n",
       "        text-align: right;\n",
       "    }\n",
       "</style>\n",
       "<table border=\"1\" class=\"dataframe\">\n",
       "  <thead>\n",
       "    <tr style=\"text-align: right;\">\n",
       "      <th></th>\n",
       "      <th>trans_date_trans_time</th>\n",
       "      <th>cc_num</th>\n",
       "      <th>merchant</th>\n",
       "      <th>category</th>\n",
       "      <th>amt</th>\n",
       "      <th>first</th>\n",
       "      <th>last</th>\n",
       "      <th>gender</th>\n",
       "      <th>street</th>\n",
       "      <th>city</th>\n",
       "      <th>state</th>\n",
       "      <th>zip</th>\n",
       "      <th>city_pop</th>\n",
       "      <th>job</th>\n",
       "      <th>dob</th>\n",
       "      <th>is_fraud</th>\n",
       "    </tr>\n",
       "  </thead>\n",
       "  <tbody>\n",
       "    <tr>\n",
       "      <th>0</th>\n",
       "      <td>2019-01-01 00:00:18</td>\n",
       "      <td>2703186189652095</td>\n",
       "      <td>fraud_Rippin, Kub and Mann</td>\n",
       "      <td>misc_net</td>\n",
       "      <td>4.97</td>\n",
       "      <td>Jennifer</td>\n",
       "      <td>Banks</td>\n",
       "      <td>F</td>\n",
       "      <td>561 Perry Cove</td>\n",
       "      <td>Moravian Falls</td>\n",
       "      <td>NC</td>\n",
       "      <td>28654</td>\n",
       "      <td>3495</td>\n",
       "      <td>Psychologist, counselling</td>\n",
       "      <td>1988-03-09</td>\n",
       "      <td>0</td>\n",
       "    </tr>\n",
       "    <tr>\n",
       "      <th>1</th>\n",
       "      <td>2019-01-01 00:00:44</td>\n",
       "      <td>630423337322</td>\n",
       "      <td>fraud_Heller, Gutmann and Zieme</td>\n",
       "      <td>grocery_pos</td>\n",
       "      <td>107.23</td>\n",
       "      <td>Stephanie</td>\n",
       "      <td>Gill</td>\n",
       "      <td>F</td>\n",
       "      <td>43039 Riley Greens Suite 393</td>\n",
       "      <td>Orient</td>\n",
       "      <td>WA</td>\n",
       "      <td>99160</td>\n",
       "      <td>149</td>\n",
       "      <td>Special educational needs teacher</td>\n",
       "      <td>1978-06-21</td>\n",
       "      <td>0</td>\n",
       "    </tr>\n",
       "    <tr>\n",
       "      <th>2</th>\n",
       "      <td>2019-01-01 00:00:51</td>\n",
       "      <td>38859492057661</td>\n",
       "      <td>fraud_Lind-Buckridge</td>\n",
       "      <td>entertainment</td>\n",
       "      <td>220.11</td>\n",
       "      <td>Edward</td>\n",
       "      <td>Sanchez</td>\n",
       "      <td>M</td>\n",
       "      <td>594 White Dale Suite 530</td>\n",
       "      <td>Malad City</td>\n",
       "      <td>ID</td>\n",
       "      <td>83252</td>\n",
       "      <td>4154</td>\n",
       "      <td>Nature conservation officer</td>\n",
       "      <td>1962-01-19</td>\n",
       "      <td>0</td>\n",
       "    </tr>\n",
       "    <tr>\n",
       "      <th>3</th>\n",
       "      <td>2019-01-01 00:01:16</td>\n",
       "      <td>3534093764340240</td>\n",
       "      <td>fraud_Kutch, Hermiston and Farrell</td>\n",
       "      <td>gas_transport</td>\n",
       "      <td>45.00</td>\n",
       "      <td>Jeremy</td>\n",
       "      <td>White</td>\n",
       "      <td>M</td>\n",
       "      <td>9443 Cynthia Court Apt. 038</td>\n",
       "      <td>Boulder</td>\n",
       "      <td>MT</td>\n",
       "      <td>59632</td>\n",
       "      <td>1939</td>\n",
       "      <td>Patent attorney</td>\n",
       "      <td>1967-01-12</td>\n",
       "      <td>0</td>\n",
       "    </tr>\n",
       "    <tr>\n",
       "      <th>4</th>\n",
       "      <td>2019-01-01 00:03:06</td>\n",
       "      <td>375534208663984</td>\n",
       "      <td>fraud_Keeling-Crist</td>\n",
       "      <td>misc_pos</td>\n",
       "      <td>41.96</td>\n",
       "      <td>Tyler</td>\n",
       "      <td>Garcia</td>\n",
       "      <td>M</td>\n",
       "      <td>408 Bradley Rest</td>\n",
       "      <td>Doe Hill</td>\n",
       "      <td>VA</td>\n",
       "      <td>24433</td>\n",
       "      <td>99</td>\n",
       "      <td>Dance movement psychotherapist</td>\n",
       "      <td>1986-03-28</td>\n",
       "      <td>0</td>\n",
       "    </tr>\n",
       "  </tbody>\n",
       "</table>\n",
       "</div>"
      ],
      "text/plain": [
       "  trans_date_trans_time            cc_num                            merchant  \\\n",
       "0   2019-01-01 00:00:18  2703186189652095          fraud_Rippin, Kub and Mann   \n",
       "1   2019-01-01 00:00:44      630423337322     fraud_Heller, Gutmann and Zieme   \n",
       "2   2019-01-01 00:00:51    38859492057661                fraud_Lind-Buckridge   \n",
       "3   2019-01-01 00:01:16  3534093764340240  fraud_Kutch, Hermiston and Farrell   \n",
       "4   2019-01-01 00:03:06   375534208663984                 fraud_Keeling-Crist   \n",
       "\n",
       "        category     amt      first     last gender  \\\n",
       "0       misc_net    4.97   Jennifer    Banks      F   \n",
       "1    grocery_pos  107.23  Stephanie     Gill      F   \n",
       "2  entertainment  220.11     Edward  Sanchez      M   \n",
       "3  gas_transport   45.00     Jeremy    White      M   \n",
       "4       misc_pos   41.96      Tyler   Garcia      M   \n",
       "\n",
       "                         street            city state    zip  city_pop  \\\n",
       "0                561 Perry Cove  Moravian Falls    NC  28654      3495   \n",
       "1  43039 Riley Greens Suite 393          Orient    WA  99160       149   \n",
       "2      594 White Dale Suite 530      Malad City    ID  83252      4154   \n",
       "3   9443 Cynthia Court Apt. 038         Boulder    MT  59632      1939   \n",
       "4              408 Bradley Rest        Doe Hill    VA  24433        99   \n",
       "\n",
       "                                 job         dob  is_fraud  \n",
       "0          Psychologist, counselling  1988-03-09         0  \n",
       "1  Special educational needs teacher  1978-06-21         0  \n",
       "2        Nature conservation officer  1962-01-19         0  \n",
       "3                    Patent attorney  1967-01-12         0  \n",
       "4     Dance movement psychotherapist  1986-03-28         0  "
      ]
     },
     "execution_count": 3,
     "metadata": {},
     "output_type": "execute_result"
    }
   ],
   "source": [
    "cc_data.head()"
   ]
  },
  {
   "cell_type": "code",
   "execution_count": 4,
   "id": "54059d74",
   "metadata": {
    "scrolled": true
   },
   "outputs": [
    {
     "name": "stdout",
     "output_type": "stream",
     "text": [
      "<class 'pandas.core.frame.DataFrame'>\n",
      "Int64Index: 1296569 entries, 0 to 1296674\n",
      "Data columns (total 16 columns):\n",
      " #   Column                 Non-Null Count    Dtype  \n",
      "---  ------                 --------------    -----  \n",
      " 0   trans_date_trans_time  1296569 non-null  object \n",
      " 1   cc_num                 1296569 non-null  int64  \n",
      " 2   merchant               1296569 non-null  object \n",
      " 3   category               1296569 non-null  object \n",
      " 4   amt                    1296569 non-null  float64\n",
      " 5   first                  1296569 non-null  object \n",
      " 6   last                   1296569 non-null  object \n",
      " 7   gender                 1296569 non-null  object \n",
      " 8   street                 1296569 non-null  object \n",
      " 9   city                   1296569 non-null  object \n",
      " 10  state                  1296569 non-null  object \n",
      " 11  zip                    1296569 non-null  int64  \n",
      " 12  city_pop               1296569 non-null  int64  \n",
      " 13  job                    1296569 non-null  object \n",
      " 14  dob                    1296569 non-null  object \n",
      " 15  is_fraud               1296569 non-null  int64  \n",
      "dtypes: float64(1), int64(4), object(11)\n",
      "memory usage: 168.2+ MB\n"
     ]
    }
   ],
   "source": [
    "cc_data.info()"
   ]
  },
  {
   "cell_type": "code",
   "execution_count": 5,
   "id": "3568de46",
   "metadata": {},
   "outputs": [],
   "source": [
    "# Filter out 'street', 'city', 'zip' columns\n",
    "cc_data.drop(['street', 'city', 'zip'], axis=1, inplace=True)"
   ]
  },
  {
   "cell_type": "code",
   "execution_count": 6,
   "id": "058ee8b8",
   "metadata": {},
   "outputs": [
    {
     "data": {
      "text/html": [
       "<div>\n",
       "<style scoped>\n",
       "    .dataframe tbody tr th:only-of-type {\n",
       "        vertical-align: middle;\n",
       "    }\n",
       "\n",
       "    .dataframe tbody tr th {\n",
       "        vertical-align: top;\n",
       "    }\n",
       "\n",
       "    .dataframe thead th {\n",
       "        text-align: right;\n",
       "    }\n",
       "</style>\n",
       "<table border=\"1\" class=\"dataframe\">\n",
       "  <thead>\n",
       "    <tr style=\"text-align: right;\">\n",
       "      <th></th>\n",
       "      <th>trans_date_trans_time</th>\n",
       "      <th>cc_num</th>\n",
       "      <th>merchant</th>\n",
       "      <th>category</th>\n",
       "      <th>amt</th>\n",
       "      <th>first</th>\n",
       "      <th>last</th>\n",
       "      <th>gender</th>\n",
       "      <th>state</th>\n",
       "      <th>city_pop</th>\n",
       "      <th>job</th>\n",
       "      <th>dob</th>\n",
       "      <th>is_fraud</th>\n",
       "    </tr>\n",
       "  </thead>\n",
       "  <tbody>\n",
       "    <tr>\n",
       "      <th>0</th>\n",
       "      <td>2019-01-01 00:00:18</td>\n",
       "      <td>2703186189652095</td>\n",
       "      <td>fraud_Rippin, Kub and Mann</td>\n",
       "      <td>misc_net</td>\n",
       "      <td>4.97</td>\n",
       "      <td>Jennifer</td>\n",
       "      <td>Banks</td>\n",
       "      <td>F</td>\n",
       "      <td>NC</td>\n",
       "      <td>3495</td>\n",
       "      <td>Psychologist, counselling</td>\n",
       "      <td>1988-03-09</td>\n",
       "      <td>0</td>\n",
       "    </tr>\n",
       "    <tr>\n",
       "      <th>1</th>\n",
       "      <td>2019-01-01 00:00:44</td>\n",
       "      <td>630423337322</td>\n",
       "      <td>fraud_Heller, Gutmann and Zieme</td>\n",
       "      <td>grocery_pos</td>\n",
       "      <td>107.23</td>\n",
       "      <td>Stephanie</td>\n",
       "      <td>Gill</td>\n",
       "      <td>F</td>\n",
       "      <td>WA</td>\n",
       "      <td>149</td>\n",
       "      <td>Special educational needs teacher</td>\n",
       "      <td>1978-06-21</td>\n",
       "      <td>0</td>\n",
       "    </tr>\n",
       "    <tr>\n",
       "      <th>2</th>\n",
       "      <td>2019-01-01 00:00:51</td>\n",
       "      <td>38859492057661</td>\n",
       "      <td>fraud_Lind-Buckridge</td>\n",
       "      <td>entertainment</td>\n",
       "      <td>220.11</td>\n",
       "      <td>Edward</td>\n",
       "      <td>Sanchez</td>\n",
       "      <td>M</td>\n",
       "      <td>ID</td>\n",
       "      <td>4154</td>\n",
       "      <td>Nature conservation officer</td>\n",
       "      <td>1962-01-19</td>\n",
       "      <td>0</td>\n",
       "    </tr>\n",
       "    <tr>\n",
       "      <th>3</th>\n",
       "      <td>2019-01-01 00:01:16</td>\n",
       "      <td>3534093764340240</td>\n",
       "      <td>fraud_Kutch, Hermiston and Farrell</td>\n",
       "      <td>gas_transport</td>\n",
       "      <td>45.00</td>\n",
       "      <td>Jeremy</td>\n",
       "      <td>White</td>\n",
       "      <td>M</td>\n",
       "      <td>MT</td>\n",
       "      <td>1939</td>\n",
       "      <td>Patent attorney</td>\n",
       "      <td>1967-01-12</td>\n",
       "      <td>0</td>\n",
       "    </tr>\n",
       "    <tr>\n",
       "      <th>4</th>\n",
       "      <td>2019-01-01 00:03:06</td>\n",
       "      <td>375534208663984</td>\n",
       "      <td>fraud_Keeling-Crist</td>\n",
       "      <td>misc_pos</td>\n",
       "      <td>41.96</td>\n",
       "      <td>Tyler</td>\n",
       "      <td>Garcia</td>\n",
       "      <td>M</td>\n",
       "      <td>VA</td>\n",
       "      <td>99</td>\n",
       "      <td>Dance movement psychotherapist</td>\n",
       "      <td>1986-03-28</td>\n",
       "      <td>0</td>\n",
       "    </tr>\n",
       "  </tbody>\n",
       "</table>\n",
       "</div>"
      ],
      "text/plain": [
       "  trans_date_trans_time            cc_num                            merchant  \\\n",
       "0   2019-01-01 00:00:18  2703186189652095          fraud_Rippin, Kub and Mann   \n",
       "1   2019-01-01 00:00:44      630423337322     fraud_Heller, Gutmann and Zieme   \n",
       "2   2019-01-01 00:00:51    38859492057661                fraud_Lind-Buckridge   \n",
       "3   2019-01-01 00:01:16  3534093764340240  fraud_Kutch, Hermiston and Farrell   \n",
       "4   2019-01-01 00:03:06   375534208663984                 fraud_Keeling-Crist   \n",
       "\n",
       "        category     amt      first     last gender state  city_pop  \\\n",
       "0       misc_net    4.97   Jennifer    Banks      F    NC      3495   \n",
       "1    grocery_pos  107.23  Stephanie     Gill      F    WA       149   \n",
       "2  entertainment  220.11     Edward  Sanchez      M    ID      4154   \n",
       "3  gas_transport   45.00     Jeremy    White      M    MT      1939   \n",
       "4       misc_pos   41.96      Tyler   Garcia      M    VA        99   \n",
       "\n",
       "                                 job         dob  is_fraud  \n",
       "0          Psychologist, counselling  1988-03-09         0  \n",
       "1  Special educational needs teacher  1978-06-21         0  \n",
       "2        Nature conservation officer  1962-01-19         0  \n",
       "3                    Patent attorney  1967-01-12         0  \n",
       "4     Dance movement psychotherapist  1986-03-28         0  "
      ]
     },
     "execution_count": 6,
     "metadata": {},
     "output_type": "execute_result"
    }
   ],
   "source": [
    "#Check dataframe\n",
    "cc_data.head()"
   ]
  },
  {
   "cell_type": "code",
   "execution_count": 7,
   "id": "383786f1",
   "metadata": {},
   "outputs": [],
   "source": [
    "#Subset dataset into fraud and valid datasets\n",
    "cc_data_fraud = cc_data[cc_data['is_fraud']==1]\n",
    "cc_data_valid = cc_data[cc_data['is_fraud']==0]"
   ]
  },
  {
   "cell_type": "code",
   "execution_count": 12,
   "id": "d601a820",
   "metadata": {},
   "outputs": [
    {
     "name": "stdout",
     "output_type": "stream",
     "text": [
      "<class 'pandas.core.frame.DataFrame'>\n",
      "Int64Index: 7506 entries, 2449 to 1295733\n",
      "Data columns (total 13 columns):\n",
      " #   Column                 Non-Null Count  Dtype  \n",
      "---  ------                 --------------  -----  \n",
      " 0   trans_date_trans_time  7506 non-null   object \n",
      " 1   cc_num                 7506 non-null   int64  \n",
      " 2   merchant               7506 non-null   object \n",
      " 3   category               7506 non-null   object \n",
      " 4   amt                    7506 non-null   float64\n",
      " 5   first                  7506 non-null   object \n",
      " 6   last                   7506 non-null   object \n",
      " 7   gender                 7506 non-null   object \n",
      " 8   state                  7506 non-null   object \n",
      " 9   city_pop               7506 non-null   int64  \n",
      " 10  job                    7506 non-null   object \n",
      " 11  dob                    7506 non-null   object \n",
      " 12  is_fraud               7506 non-null   int64  \n",
      "dtypes: float64(1), int64(3), object(9)\n",
      "memory usage: 821.0+ KB\n"
     ]
    }
   ],
   "source": [
    "#Examine fraud data\n",
    "cc_data_fraud.info()"
   ]
  },
  {
   "cell_type": "code",
   "execution_count": 13,
   "id": "1f05b869",
   "metadata": {},
   "outputs": [
    {
     "name": "stdout",
     "output_type": "stream",
     "text": [
      "<class 'pandas.core.frame.DataFrame'>\n",
      "Int64Index: 1289063 entries, 0 to 1296674\n",
      "Data columns (total 13 columns):\n",
      " #   Column                 Non-Null Count    Dtype  \n",
      "---  ------                 --------------    -----  \n",
      " 0   trans_date_trans_time  1289063 non-null  object \n",
      " 1   cc_num                 1289063 non-null  int64  \n",
      " 2   merchant               1289063 non-null  object \n",
      " 3   category               1289063 non-null  object \n",
      " 4   amt                    1289063 non-null  float64\n",
      " 5   first                  1289063 non-null  object \n",
      " 6   last                   1289063 non-null  object \n",
      " 7   gender                 1289063 non-null  object \n",
      " 8   state                  1289063 non-null  object \n",
      " 9   city_pop               1289063 non-null  int64  \n",
      " 10  job                    1289063 non-null  object \n",
      " 11  dob                    1289063 non-null  object \n",
      " 12  is_fraud               1289063 non-null  int64  \n",
      "dtypes: float64(1), int64(3), object(9)\n",
      "memory usage: 137.7+ MB\n"
     ]
    }
   ],
   "source": [
    "#Examine valid transactions\n",
    "cc_data_valid.info()"
   ]
  },
  {
   "cell_type": "code",
   "execution_count": null,
   "id": "b3d36a5e",
   "metadata": {},
   "outputs": [],
   "source": [
    "#Filter out more outliers from cc_data_valid\n",
    "\n",
    "#cc_data_valid = cc_data_valid[cc_data_valid['amt']<=1500]\n",
    "#cc_data_valid.head()"
   ]
  },
  {
   "cell_type": "markdown",
   "id": "9cf1d7ea",
   "metadata": {},
   "source": [
    "## Examine 'amt' column"
   ]
  },
  {
   "cell_type": "code",
   "execution_count": 14,
   "id": "184812ac",
   "metadata": {
    "scrolled": false
   },
   "outputs": [
    {
     "data": {
      "text/plain": [
       "Text(0.5, 1.0, 'Histogram of Fraud Transaction Amounts')"
      ]
     },
     "execution_count": 14,
     "metadata": {},
     "output_type": "execute_result"
    },
    {
     "data": {
      "image/png": "[encoded data removed]",
      "text/plain": [
       "<Figure size 1440x360 with 2 Axes>"
      ]
     },
     "metadata": {
      "needs_background": "light"
     },
     "output_type": "display_data"
    }
   ],
   "source": [
    "#Histogram of 'amt' column\n",
    "fig, ax = plt.subplots(1, 2, figsize=(20, 5))\n",
    "ax[0].hist(cc_data_valid['amt'], color = 'blue')\n",
    "ax[1].hist(cc_data_fraud['amt'], color = 'red')\n",
    "\n",
    "ax[0].set_xlabel('Amounts from Valid Transactions')\n",
    "ax[0].set_ylabel('Number of transactions')\n",
    "ax[0].set_title('Histogram of Valid Transaction Amounts')\n",
    "\n",
    "ax[1].set_xlabel('Amounts from Fraud Transactions')\n",
    "ax[1].set_ylabel('Number of transactions')\n",
    "ax[1].set_title('Histogram of Fraud Transaction Amounts')\n",
    "\n",
    "#Are histograms an effective way to visualize this column due to the unbalanced nature of fraud vs valid?"
   ]
  },
  {
   "cell_type": "code",
   "execution_count": 15,
   "id": "7cc1dbb5",
   "metadata": {
    "scrolled": false
   },
   "outputs": [
    {
     "data": {
      "text/plain": [
       "Text(0, 0.5, 'Amount')"
      ]
     },
     "execution_count": 15,
     "metadata": {},
     "output_type": "execute_result"
    },
    {
     "data": {
      "image/png": "[encoded data removed]",
      "text/plain": [
       "<Figure size 432x288 with 1 Axes>"
      ]
     },
     "metadata": {
      "needs_background": "light"
     },
     "output_type": "display_data"
    }
   ],
   "source": [
    "#Boxplots of 'amt' column\n",
    "plt.boxplot([cc_data_valid['amt'], cc_data_fraud['amt']])\n",
    "plt.xticks([1, 2], ['Valid', 'Fraud'])\n",
    "plt.ylabel('Amount')"
   ]
  },
  {
   "cell_type": "code",
   "execution_count": 16,
   "id": "22049693",
   "metadata": {},
   "outputs": [
    {
     "name": "stdout",
     "output_type": "stream",
     "text": [
      "Mean of valid transaction amounts: 66.88413217972892\n",
      "Mean of fraud transaction amounts: 531.3200919264573\n"
     ]
    }
   ],
   "source": [
    "#Compare means of amounts for valid vs fraud.\n",
    "valid_amt_mean = np.mean(cc_data_valid['amt'])\n",
    "fraud_amt_mean = np.mean(cc_data_fraud['amt'])\n",
    "print(\"Mean of valid transaction amounts:\", valid_amt_mean)\n",
    "print(\"Mean of fraud transaction amounts:\", fraud_amt_mean)"
   ]
  },
  {
   "cell_type": "markdown",
   "id": "1fa652ed",
   "metadata": {},
   "source": [
    "Even with large number of outliers from valid transactions, the mean of fraud transactions is still SIGNIFICANTLY higher than valid transactions.  The 'amt' column can definitely be a good predictor of fraud.  \n",
    "\n",
    "Still, we will remove some outliers."
   ]
  },
  {
   "cell_type": "code",
   "execution_count": 17,
   "id": "1e2db6d1",
   "metadata": {},
   "outputs": [],
   "source": [
    "#Remove outliers \n",
    "cc_data = cc_data[cc_data['amt']<=1500]\n",
    "\n",
    "#Reassign valid and fraud dataframes\n",
    "cc_data_fraud = cc_data[cc_data['is_fraud']==1]\n",
    "cc_data_valid = cc_data[cc_data['is_fraud']==0]"
   ]
  },
  {
   "cell_type": "code",
   "execution_count": 19,
   "id": "102be72c",
   "metadata": {},
   "outputs": [
    {
     "data": {
      "text/plain": [
       "Text(0.5, 1.0, 'Histogram of Fraud Transaction Amounts')"
      ]
     },
     "execution_count": 19,
     "metadata": {},
     "output_type": "execute_result"
    },
    {
     "data": {
      "image/png": "[encoded data removed]",
      "text/plain": [
       "<Figure size 1440x360 with 2 Axes>"
      ]
     },
     "metadata": {
      "needs_background": "light"
     },
     "output_type": "display_data"
    }
   ],
   "source": [
    "#Check histograms again\n",
    "fig, ax = plt.subplots(1, 2, figsize=(20, 5))\n",
    "ax[0].hist(cc_data_valid['amt'], color = 'blue')\n",
    "ax[1].hist(cc_data_fraud['amt'], color = 'red')\n",
    "\n",
    "ax[0].set_xlabel('Amounts from Valid Transactions')\n",
    "ax[0].set_ylabel('Number of transactions')\n",
    "ax[0].set_title('Histogram of Valid Transaction Amounts (OUTLIERS REMOVED)')\n",
    "\n",
    "ax[1].set_xlabel('Amounts from Fraud Transactions')\n",
    "ax[1].set_ylabel('Number of transactions')\n",
    "ax[1].set_title('Histogram of Fraud Transaction Amounts')"
   ]
  },
  {
   "cell_type": "code",
   "execution_count": 21,
   "id": "d2f95bc1",
   "metadata": {
    "scrolled": true
   },
   "outputs": [
    {
     "data": {
      "text/plain": [
       "Text(0, 0.5, 'Amount')"
      ]
     },
     "execution_count": 21,
     "metadata": {},
     "output_type": "execute_result"
    },
    {
     "data": {
      "image/png": "[encoded data removed]",
      "text/plain": [
       "<Figure size 432x288 with 1 Axes>"
      ]
     },
     "metadata": {
      "needs_background": "light"
     },
     "output_type": "display_data"
    }
   ],
   "source": [
    "#Check boxplots again\n",
    "plt.boxplot([cc_data_valid['amt'], cc_data_fraud['amt']])\n",
    "plt.xticks([1, 2], ['Valid (OUTLIERS REMOVED)', 'Fraud'])\n",
    "plt.ylabel('Amount')"
   ]
  },
  {
   "cell_type": "markdown",
   "id": "3ab0575f",
   "metadata": {},
   "source": [
    "## Examine 'city_pop' column"
   ]
  },
  {
   "cell_type": "code",
   "execution_count": 22,
   "id": "00cb1adf",
   "metadata": {
    "scrolled": false
   },
   "outputs": [
    {
     "data": {
      "text/plain": [
       "(array([6924.,  200.,  145.,   62.,   63.,   54.,    0.,    0.,   19.,\n",
       "          39.]),\n",
       " array([2.3000000e+01, 2.9069070e+05, 5.8135840e+05, 8.7202610e+05,\n",
       "        1.1626938e+06, 1.4533615e+06, 1.7440292e+06, 2.0346969e+06,\n",
       "        2.3253646e+06, 2.6160323e+06, 2.9067000e+06]),\n",
       " <BarContainer object of 10 artists>)"
      ]
     },
     "execution_count": 22,
     "metadata": {},
     "output_type": "execute_result"
    },
    {
     "data": {
      "image/png": "[encoded data removed]",
      "text/plain": [
       "<Figure size 1440x360 with 2 Axes>"
      ]
     },
     "metadata": {
      "needs_background": "light"
     },
     "output_type": "display_data"
    }
   ],
   "source": [
    "# Histogram of 'city_pop' column\n",
    "fig, ax = plt.subplots(1,2, figsize = (20, 5))\n",
    "ax[0].hist(cc_data_valid['city_pop'], color = 'blue')\n",
    "ax[1].hist(cc_data_fraud['city_pop'], color = 'red')"
   ]
  },
  {
   "cell_type": "code",
   "execution_count": 23,
   "id": "40e2a7f5",
   "metadata": {
    "scrolled": true
   },
   "outputs": [
    {
     "data": {
      "text/plain": [
       "Text(0, 0.5, 'City Population')"
      ]
     },
     "execution_count": 23,
     "metadata": {},
     "output_type": "execute_result"
    },
    {
     "data": {
      "image/png": "[encoded data removed]",
      "text/plain": [
       "<Figure size 432x288 with 1 Axes>"
      ]
     },
     "metadata": {
      "needs_background": "light"
     },
     "output_type": "display_data"
    }
   ],
   "source": [
    "#Boxplot of 'city_pop' column\n",
    "#Boxplots of 'amt' column\n",
    "plt.boxplot([cc_data_valid['city_pop'], cc_data_fraud['city_pop']])\n",
    "plt.xticks([1, 2], ['Valid', 'Fraud'])\n",
    "plt.ylabel('City Population')"
   ]
  },
  {
   "cell_type": "markdown",
   "id": "a8bfd7f5",
   "metadata": {},
   "source": [
    "Not sure if we can extract any meaningful information from the 'city_pop' column.  They are too similar between valid and fraud transactions.  <b>Should we remove this column? <b/>"
   ]
  },
  {
   "cell_type": "markdown",
   "id": "905a8177",
   "metadata": {},
   "source": [
    "## Examine visualizations of 'category' variable (categorical)"
   ]
  },
  {
   "cell_type": "markdown",
   "id": "8240dbce",
   "metadata": {},
   "source": [
    "#### Does the transaction category affect our target variable?"
   ]
  },
  {
   "cell_type": "code",
   "execution_count": 24,
   "id": "6598a8be",
   "metadata": {},
   "outputs": [],
   "source": [
    "valid_cat_count = cc_data_valid['category'].value_counts().sort_index()\n",
    "fraud_cat_count = cc_data_fraud['category'].value_counts().sort_index()"
   ]
  },
  {
   "cell_type": "code",
   "execution_count": 25,
   "id": "cb811638",
   "metadata": {},
   "outputs": [
    {
     "name": "stderr",
     "output_type": "stream",
     "text": [
      "<ipython-input-25-a98afde5cca9>:7: UserWarning: FixedFormatter should only be used together with FixedLocator\n",
      "  ax[0].set_xticklabels(valid_cat_count.index, rotation=90)\n",
      "<ipython-input-25-a98afde5cca9>:10: UserWarning: FixedFormatter should only be used together with FixedLocator\n",
      "  ax[1].set_xticklabels(fraud_cat_count.index, rotation=90)\n"
     ]
    },
    {
     "data": {
      "image/png": "[encoded data removed]",
      "text/plain": [
       "<Figure size 1440x360 with 2 Axes>"
      ]
     },
     "metadata": {
      "needs_background": "light"
     },
     "output_type": "display_data"
    }
   ],
   "source": [
    "# Category column\n",
    "fig, ax = plt.subplots(1, 2, figsize=(20,5))\n",
    "\n",
    "ax[0].bar(valid_cat_count.index, valid_cat_count, color = 'blue')\n",
    "ax[1].bar(fraud_cat_count.index, fraud_cat_count, color = 'red')\n",
    "\n",
    "ax[0].set_xticklabels(valid_cat_count.index, rotation=90)\n",
    "ax[0].set_ylabel('Number of transactions')\n",
    "ax[0].set_title('Valid transactions by category')\n",
    "ax[1].set_xticklabels(fraud_cat_count.index, rotation=90)\n",
    "ax[1].set_ylabel('Number of transactions')\n",
    "ax[1].set_title('Fraud transactions by category')\n",
    "\n",
    "plt.show()\n"
   ]
  },
  {
   "cell_type": "markdown",
   "id": "ce66aca1",
   "metadata": {},
   "source": [
    "Valid transactions are spread out among categories, with a few that have significantly lower transactions (grocery_net, travel).\n",
    "\n",
    "Fraud transactions are primarily in 'grocery_pos' and 'shopping_net' categories, with 'misc_net', 'shopping_pos', and 'gas_transport' as the next tier of transaction categories.  \n",
    "\n",
    "'category' can be a decent predictor of fraud."
   ]
  },
  {
   "cell_type": "markdown",
   "id": "f6f8b545",
   "metadata": {},
   "source": [
    "## One-hot encoding for 'category' variable"
   ]
  },
  {
   "cell_type": "code",
   "execution_count": 26,
   "id": "51e45c94",
   "metadata": {
    "scrolled": false
   },
   "outputs": [],
   "source": [
    "cat_dummies = pd.get_dummies(cc_data['category'],prefix='category')"
   ]
  },
  {
   "cell_type": "code",
   "execution_count": 28,
   "id": "ec8fb43c",
   "metadata": {},
   "outputs": [],
   "source": [
    "# Concatenate one-hot encoded dataframes to main dataframe.\n",
    "cc_data = pd.concat([cc_data, cat_dummies], axis=1)"
   ]
  },
  {
   "cell_type": "code",
   "execution_count": 29,
   "id": "20719bb4",
   "metadata": {
    "scrolled": false
   },
   "outputs": [
    {
     "data": {
      "text/html": [
       "<div>\n",
       "<style scoped>\n",
       "    .dataframe tbody tr th:only-of-type {\n",
       "        vertical-align: middle;\n",
       "    }\n",
       "\n",
       "    .dataframe tbody tr th {\n",
       "        vertical-align: top;\n",
       "    }\n",
       "\n",
       "    .dataframe thead th {\n",
       "        text-align: right;\n",
       "    }\n",
       "</style>\n",
       "<table border=\"1\" class=\"dataframe\">\n",
       "  <thead>\n",
       "    <tr style=\"text-align: right;\">\n",
       "      <th></th>\n",
       "      <th>trans_date_trans_time</th>\n",
       "      <th>cc_num</th>\n",
       "      <th>merchant</th>\n",
       "      <th>category</th>\n",
       "      <th>amt</th>\n",
       "      <th>first</th>\n",
       "      <th>last</th>\n",
       "      <th>gender</th>\n",
       "      <th>state</th>\n",
       "      <th>city_pop</th>\n",
       "      <th>...</th>\n",
       "      <th>category_grocery_pos</th>\n",
       "      <th>category_health_fitness</th>\n",
       "      <th>category_home</th>\n",
       "      <th>category_kids_pets</th>\n",
       "      <th>category_misc_net</th>\n",
       "      <th>category_misc_pos</th>\n",
       "      <th>category_personal_care</th>\n",
       "      <th>category_shopping_net</th>\n",
       "      <th>category_shopping_pos</th>\n",
       "      <th>category_travel</th>\n",
       "    </tr>\n",
       "  </thead>\n",
       "  <tbody>\n",
       "    <tr>\n",
       "      <th>0</th>\n",
       "      <td>2019-01-01 00:00:18</td>\n",
       "      <td>2703186189652095</td>\n",
       "      <td>fraud_Rippin, Kub and Mann</td>\n",
       "      <td>misc_net</td>\n",
       "      <td>4.97</td>\n",
       "      <td>Jennifer</td>\n",
       "      <td>Banks</td>\n",
       "      <td>F</td>\n",
       "      <td>NC</td>\n",
       "      <td>3495</td>\n",
       "      <td>...</td>\n",
       "      <td>0</td>\n",
       "      <td>0</td>\n",
       "      <td>0</td>\n",
       "      <td>0</td>\n",
       "      <td>1</td>\n",
       "      <td>0</td>\n",
       "      <td>0</td>\n",
       "      <td>0</td>\n",
       "      <td>0</td>\n",
       "      <td>0</td>\n",
       "    </tr>\n",
       "    <tr>\n",
       "      <th>1</th>\n",
       "      <td>2019-01-01 00:00:44</td>\n",
       "      <td>630423337322</td>\n",
       "      <td>fraud_Heller, Gutmann and Zieme</td>\n",
       "      <td>grocery_pos</td>\n",
       "      <td>107.23</td>\n",
       "      <td>Stephanie</td>\n",
       "      <td>Gill</td>\n",
       "      <td>F</td>\n",
       "      <td>WA</td>\n",
       "      <td>149</td>\n",
       "      <td>...</td>\n",
       "      <td>1</td>\n",
       "      <td>0</td>\n",
       "      <td>0</td>\n",
       "      <td>0</td>\n",
       "      <td>0</td>\n",
       "      <td>0</td>\n",
       "      <td>0</td>\n",
       "      <td>0</td>\n",
       "      <td>0</td>\n",
       "      <td>0</td>\n",
       "    </tr>\n",
       "    <tr>\n",
       "      <th>2</th>\n",
       "      <td>2019-01-01 00:00:51</td>\n",
       "      <td>38859492057661</td>\n",
       "      <td>fraud_Lind-Buckridge</td>\n",
       "      <td>entertainment</td>\n",
       "      <td>220.11</td>\n",
       "      <td>Edward</td>\n",
       "      <td>Sanchez</td>\n",
       "      <td>M</td>\n",
       "      <td>ID</td>\n",
       "      <td>4154</td>\n",
       "      <td>...</td>\n",
       "      <td>0</td>\n",
       "      <td>0</td>\n",
       "      <td>0</td>\n",
       "      <td>0</td>\n",
       "      <td>0</td>\n",
       "      <td>0</td>\n",
       "      <td>0</td>\n",
       "      <td>0</td>\n",
       "      <td>0</td>\n",
       "      <td>0</td>\n",
       "    </tr>\n",
       "    <tr>\n",
       "      <th>3</th>\n",
       "      <td>2019-01-01 00:01:16</td>\n",
       "      <td>3534093764340240</td>\n",
       "      <td>fraud_Kutch, Hermiston and Farrell</td>\n",
       "      <td>gas_transport</td>\n",
       "      <td>45.00</td>\n",
       "      <td>Jeremy</td>\n",
       "      <td>White</td>\n",
       "      <td>M</td>\n",
       "      <td>MT</td>\n",
       "      <td>1939</td>\n",
       "      <td>...</td>\n",
       "      <td>0</td>\n",
       "      <td>0</td>\n",
       "      <td>0</td>\n",
       "      <td>0</td>\n",
       "      <td>0</td>\n",
       "      <td>0</td>\n",
       "      <td>0</td>\n",
       "      <td>0</td>\n",
       "      <td>0</td>\n",
       "      <td>0</td>\n",
       "    </tr>\n",
       "    <tr>\n",
       "      <th>4</th>\n",
       "      <td>2019-01-01 00:03:06</td>\n",
       "      <td>375534208663984</td>\n",
       "      <td>fraud_Keeling-Crist</td>\n",
       "      <td>misc_pos</td>\n",
       "      <td>41.96</td>\n",
       "      <td>Tyler</td>\n",
       "      <td>Garcia</td>\n",
       "      <td>M</td>\n",
       "      <td>VA</td>\n",
       "      <td>99</td>\n",
       "      <td>...</td>\n",
       "      <td>0</td>\n",
       "      <td>0</td>\n",
       "      <td>0</td>\n",
       "      <td>0</td>\n",
       "      <td>0</td>\n",
       "      <td>1</td>\n",
       "      <td>0</td>\n",
       "      <td>0</td>\n",
       "      <td>0</td>\n",
       "      <td>0</td>\n",
       "    </tr>\n",
       "  </tbody>\n",
       "</table>\n",
       "<p>5 rows × 27 columns</p>\n",
       "</div>"
      ],
      "text/plain": [
       "  trans_date_trans_time            cc_num                            merchant  \\\n",
       "0   2019-01-01 00:00:18  2703186189652095          fraud_Rippin, Kub and Mann   \n",
       "1   2019-01-01 00:00:44      630423337322     fraud_Heller, Gutmann and Zieme   \n",
       "2   2019-01-01 00:00:51    38859492057661                fraud_Lind-Buckridge   \n",
       "3   2019-01-01 00:01:16  3534093764340240  fraud_Kutch, Hermiston and Farrell   \n",
       "4   2019-01-01 00:03:06   375534208663984                 fraud_Keeling-Crist   \n",
       "\n",
       "        category     amt      first     last gender state  city_pop  ...  \\\n",
       "0       misc_net    4.97   Jennifer    Banks      F    NC      3495  ...   \n",
       "1    grocery_pos  107.23  Stephanie     Gill      F    WA       149  ...   \n",
       "2  entertainment  220.11     Edward  Sanchez      M    ID      4154  ...   \n",
       "3  gas_transport   45.00     Jeremy    White      M    MT      1939  ...   \n",
       "4       misc_pos   41.96      Tyler   Garcia      M    VA        99  ...   \n",
       "\n",
       "  category_grocery_pos category_health_fitness  category_home  \\\n",
       "0                    0                       0              0   \n",
       "1                    1                       0              0   \n",
       "2                    0                       0              0   \n",
       "3                    0                       0              0   \n",
       "4                    0                       0              0   \n",
       "\n",
       "   category_kids_pets  category_misc_net  category_misc_pos  \\\n",
       "0                   0                  1                  0   \n",
       "1                   0                  0                  0   \n",
       "2                   0                  0                  0   \n",
       "3                   0                  0                  0   \n",
       "4                   0                  0                  1   \n",
       "\n",
       "   category_personal_care  category_shopping_net  category_shopping_pos  \\\n",
       "0                       0                      0                      0   \n",
       "1                       0                      0                      0   \n",
       "2                       0                      0                      0   \n",
       "3                       0                      0                      0   \n",
       "4                       0                      0                      0   \n",
       "\n",
       "   category_travel  \n",
       "0                0  \n",
       "1                0  \n",
       "2                0  \n",
       "3                0  \n",
       "4                0  \n",
       "\n",
       "[5 rows x 27 columns]"
      ]
     },
     "execution_count": 29,
     "metadata": {},
     "output_type": "execute_result"
    }
   ],
   "source": [
    "# Check dataframe\n",
    "cc_data.head()"
   ]
  },
  {
   "cell_type": "code",
   "execution_count": 30,
   "id": "06813b8a",
   "metadata": {},
   "outputs": [],
   "source": [
    "#Redefine valid and fraud dataframes\n",
    "cc_data_fraud = cc_data[cc_data['is_fraud']==1]\n",
    "cc_data_valid = cc_data[cc_data['is_fraud']==0]"
   ]
  },
  {
   "cell_type": "markdown",
   "id": "6fa7321c",
   "metadata": {},
   "source": [
    "## Examine 'gender' column"
   ]
  },
  {
   "cell_type": "code",
   "execution_count": 33,
   "id": "04e8534e",
   "metadata": {},
   "outputs": [
    {
     "data": {
      "text/plain": [
       "Text(0.5, 1.0, 'Fraud transactions by gender')"
      ]
     },
     "execution_count": 33,
     "metadata": {},
     "output_type": "execute_result"
    },
    {
     "data": {
      "image/png": "[encoded data removed]",
      "text/plain": [
       "<Figure size 720x360 with 2 Axes>"
      ]
     },
     "metadata": {
      "needs_background": "light"
     },
     "output_type": "display_data"
    }
   ],
   "source": [
    "fig, ax = plt.subplots(1,2, figsize=(10,5))\n",
    "\n",
    "ax[0].bar(cc_data_valid['gender'].value_counts().sort_index().index, cc_data_valid['gender'].value_counts().sort_index(), color = 'blue')\n",
    "ax[1].bar(cc_data_fraud['gender'].value_counts().sort_index().index, cc_data_fraud['gender'].value_counts().sort_index(), color = 'red')\n",
    "\n",
    "ax[0].set_xlabel('Gender')\n",
    "ax[0].set_ylabel('Number of transactions')\n",
    "ax[0].set_title('Valid transactions by gender')\n",
    "\n",
    "ax[1].set_xlabel('Gender')\n",
    "ax[1].set_ylabel('Number of transactions')\n",
    "ax[1].set_title('Fraud transactions by gender')"
   ]
  },
  {
   "cell_type": "markdown",
   "id": "a8967e6a",
   "metadata": {},
   "source": [
    "Does not seem like gender is a strong predictor of fraud.  We can remove this column."
   ]
  },
  {
   "cell_type": "code",
   "execution_count": 34,
   "id": "ac2d28a1",
   "metadata": {},
   "outputs": [],
   "source": [
    "# Filter out 'gender' column\n",
    "cc_data.drop('gender', axis=1, inplace=True)"
   ]
  },
  {
   "cell_type": "code",
   "execution_count": 36,
   "id": "2cc82da7",
   "metadata": {},
   "outputs": [],
   "source": [
    "#Redefine valid and fraud dataframes\n",
    "cc_data_fraud = cc_data[cc_data['is_fraud']==1]\n",
    "cc_data_valid = cc_data[cc_data['is_fraud']==0]"
   ]
  },
  {
   "cell_type": "markdown",
   "id": "629f2ca7",
   "metadata": {},
   "source": [
    "## Examine 'state' column"
   ]
  },
  {
   "cell_type": "code",
   "execution_count": 37,
   "id": "8d99a18a",
   "metadata": {},
   "outputs": [],
   "source": [
    "#Check number of unique states from valid transactions\n",
    "valid_state_count = cc_data_valid['state'].value_counts().sort_index()"
   ]
  },
  {
   "cell_type": "code",
   "execution_count": 38,
   "id": "d9798a3f",
   "metadata": {},
   "outputs": [],
   "source": [
    "# Check number of unique states from fraud transactions\n",
    "fraud_state_count = cc_data_fraud['state'].value_counts().sort_index()"
   ]
  },
  {
   "cell_type": "code",
   "execution_count": 39,
   "id": "879eb628",
   "metadata": {
    "scrolled": true
   },
   "outputs": [
    {
     "data": {
      "image/png": "[encoded data removed]",
      "text/plain": [
       "<Figure size 1080x360 with 2 Axes>"
      ]
     },
     "metadata": {
      "needs_background": "light"
     },
     "output_type": "display_data"
    }
   ],
   "source": [
    "fig, ax = plt.subplots(1, 2, figsize=(15, 5))\n",
    "\n",
    "# Define bar width.\n",
    "bar_width = 0.8\n",
    "\n",
    "# Note we add the `width` parameter now which sets the width of each bar.\n",
    "b1 = ax[0].bar(valid_state_count.index, valid_state_count, width = bar_width, color = 'blue')\n",
    "b2 = ax[1].bar(fraud_state_count.index, fraud_state_count, width = bar_width, color = 'red')\n",
    "\n",
    "plt.xticks(rotation=90)\n",
    "plt.show()"
   ]
  },
  {
   "cell_type": "markdown",
   "id": "fee669ca",
   "metadata": {},
   "source": [
    "### Feature hashing the state column"
   ]
  },
  {
   "cell_type": "code",
   "execution_count": 40,
   "id": "0be27fad",
   "metadata": {},
   "outputs": [],
   "source": [
    "from sklearn.feature_extraction import FeatureHasher\n",
    "\n",
    "h = FeatureHasher(n_features = 10, input_type = 'string')\n",
    "\n",
    "valid_hash = h.transform(cc_data['state']).toarray()\n",
    "cc_data = pd.concat([cc_data, pd.DataFrame(valid_hash)], axis = 1)"
   ]
  },
  {
   "cell_type": "code",
   "execution_count": 41,
   "id": "7a2bfd5e",
   "metadata": {
    "scrolled": false
   },
   "outputs": [
    {
     "name": "stdout",
     "output_type": "stream",
     "text": [
      "<class 'pandas.core.frame.DataFrame'>\n",
      "Int64Index: 1296675 entries, 0 to 1296674\n",
      "Data columns (total 36 columns):\n",
      " #   Column                   Non-Null Count    Dtype  \n",
      "---  ------                   --------------    -----  \n",
      " 0   trans_date_trans_time    1295379 non-null  object \n",
      " 1   cc_num                   1295379 non-null  float64\n",
      " 2   merchant                 1295379 non-null  object \n",
      " 3   category                 1295379 non-null  object \n",
      " 4   amt                      1295379 non-null  float64\n",
      " 5   first                    1295379 non-null  object \n",
      " 6   last                     1295379 non-null  object \n",
      " 7   state                    1295379 non-null  object \n",
      " 8   city_pop                 1295379 non-null  float64\n",
      " 9   job                      1295379 non-null  object \n",
      " 10  dob                      1295379 non-null  object \n",
      " 11  is_fraud                 1295379 non-null  float64\n",
      " 12  category_entertainment   1295379 non-null  float64\n",
      " 13  category_food_dining     1295379 non-null  float64\n",
      " 14  category_gas_transport   1295379 non-null  float64\n",
      " 15  category_grocery_net     1295379 non-null  float64\n",
      " 16  category_grocery_pos     1295379 non-null  float64\n",
      " 17  category_health_fitness  1295379 non-null  float64\n",
      " 18  category_home            1295379 non-null  float64\n",
      " 19  category_kids_pets       1295379 non-null  float64\n",
      " 20  category_misc_net        1295379 non-null  float64\n",
      " 21  category_misc_pos        1295379 non-null  float64\n",
      " 22  category_personal_care   1295379 non-null  float64\n",
      " 23  category_shopping_net    1295379 non-null  float64\n",
      " 24  category_shopping_pos    1295379 non-null  float64\n",
      " 25  category_travel          1295379 non-null  float64\n",
      " 26  0                        1295379 non-null  float64\n",
      " 27  1                        1295379 non-null  float64\n",
      " 28  2                        1295379 non-null  float64\n",
      " 29  3                        1295379 non-null  float64\n",
      " 30  4                        1295379 non-null  float64\n",
      " 31  5                        1295379 non-null  float64\n",
      " 32  6                        1295379 non-null  float64\n",
      " 33  7                        1295379 non-null  float64\n",
      " 34  8                        1295379 non-null  float64\n",
      " 35  9                        1295379 non-null  float64\n",
      "dtypes: float64(28), object(8)\n",
      "memory usage: 366.0+ MB\n"
     ]
    }
   ],
   "source": [
    "#Check dataframe\n",
    "cc_data.info()"
   ]
  },
  {
   "cell_type": "code",
   "execution_count": 42,
   "id": "2cb75ad0",
   "metadata": {},
   "outputs": [],
   "source": [
    "#Redefine valid and fraud dataframes\n",
    "cc_data_fraud = cc_data[cc_data['is_fraud']==1]\n",
    "cc_data_valid = cc_data[cc_data['is_fraud']==0]"
   ]
  },
  {
   "cell_type": "markdown",
   "id": "228e9543",
   "metadata": {},
   "source": [
    "Transaction time\n",
    "- time of day of transaction (grouped by morning, evening, night?)\n",
    "- day of week of transaction\n",
    "\n",
    "birthdate\n",
    "- difference from transaction time for age"
   ]
  },
  {
   "cell_type": "markdown",
   "id": "a4ba4b19",
   "metadata": {},
   "source": [
    "## Examining 'trans_date_trans_time' column"
   ]
  },
  {
   "cell_type": "markdown",
   "id": "1ddce629",
   "metadata": {},
   "source": [
    "- convert trans_date_trans_time into datetime object\n",
    "- separate transaction date and transaction time into separate columns (is this necessary?)\n",
    "- make new column, extracting day of week from transaction date\n",
    "- make new column, grouping transaction times into categories (morning, afternoon, evening)\n",
    "- examine day of week\n",
    "- examine transaction times"
   ]
  },
  {
   "cell_type": "code",
   "execution_count": 43,
   "id": "ee8599b8",
   "metadata": {},
   "outputs": [],
   "source": [
    "# Convert to datetime object\n",
    "cc_data['trans_date_trans_time']=pd.to_datetime(cc_data['trans_date_trans_time'])\n",
    "\n",
    "#Redefine valid and fraud dataframes\n",
    "cc_data_fraud = cc_data[cc_data['is_fraud']==1]\n",
    "cc_data_valid = cc_data[cc_data['is_fraud']==0]"
   ]
  },
  {
   "cell_type": "code",
   "execution_count": 45,
   "id": "de7f4bca",
   "metadata": {},
   "outputs": [
    {
     "name": "stdout",
     "output_type": "stream",
     "text": [
      "<class 'pandas.core.frame.DataFrame'>\n",
      "Int64Index: 1287873 entries, 0 to 1296674\n",
      "Data columns (total 36 columns):\n",
      " #   Column                   Non-Null Count    Dtype         \n",
      "---  ------                   --------------    -----         \n",
      " 0   trans_date_trans_time    1287873 non-null  datetime64[ns]\n",
      " 1   cc_num                   1287873 non-null  float64       \n",
      " 2   merchant                 1287873 non-null  object        \n",
      " 3   category                 1287873 non-null  object        \n",
      " 4   amt                      1287873 non-null  float64       \n",
      " 5   first                    1287873 non-null  object        \n",
      " 6   last                     1287873 non-null  object        \n",
      " 7   state                    1287873 non-null  object        \n",
      " 8   city_pop                 1287873 non-null  float64       \n",
      " 9   job                      1287873 non-null  object        \n",
      " 10  dob                      1287873 non-null  object        \n",
      " 11  is_fraud                 1287873 non-null  float64       \n",
      " 12  category_entertainment   1287873 non-null  float64       \n",
      " 13  category_food_dining     1287873 non-null  float64       \n",
      " 14  category_gas_transport   1287873 non-null  float64       \n",
      " 15  category_grocery_net     1287873 non-null  float64       \n",
      " 16  category_grocery_pos     1287873 non-null  float64       \n",
      " 17  category_health_fitness  1287873 non-null  float64       \n",
      " 18  category_home            1287873 non-null  float64       \n",
      " 19  category_kids_pets       1287873 non-null  float64       \n",
      " 20  category_misc_net        1287873 non-null  float64       \n",
      " 21  category_misc_pos        1287873 non-null  float64       \n",
      " 22  category_personal_care   1287873 non-null  float64       \n",
      " 23  category_shopping_net    1287873 non-null  float64       \n",
      " 24  category_shopping_pos    1287873 non-null  float64       \n",
      " 25  category_travel          1287873 non-null  float64       \n",
      " 26  0                        1286582 non-null  float64       \n",
      " 27  1                        1286582 non-null  float64       \n",
      " 28  2                        1286582 non-null  float64       \n",
      " 29  3                        1286582 non-null  float64       \n",
      " 30  4                        1286582 non-null  float64       \n",
      " 31  5                        1286582 non-null  float64       \n",
      " 32  6                        1286582 non-null  float64       \n",
      " 33  7                        1286582 non-null  float64       \n",
      " 34  8                        1286582 non-null  float64       \n",
      " 35  9                        1286582 non-null  float64       \n",
      "dtypes: datetime64[ns](1), float64(28), object(7)\n",
      "memory usage: 363.6+ MB\n"
     ]
    }
   ],
   "source": [
    "#Check datatypes\n",
    "cc_data_valid.info()"
   ]
  },
  {
   "cell_type": "code",
   "execution_count": 46,
   "id": "979c41b3",
   "metadata": {},
   "outputs": [
    {
     "name": "stdout",
     "output_type": "stream",
     "text": [
      "<class 'pandas.core.frame.DataFrame'>\n",
      "Int64Index: 7506 entries, 2449 to 1295733\n",
      "Data columns (total 36 columns):\n",
      " #   Column                   Non-Null Count  Dtype         \n",
      "---  ------                   --------------  -----         \n",
      " 0   trans_date_trans_time    7506 non-null   datetime64[ns]\n",
      " 1   cc_num                   7506 non-null   float64       \n",
      " 2   merchant                 7506 non-null   object        \n",
      " 3   category                 7506 non-null   object        \n",
      " 4   amt                      7506 non-null   float64       \n",
      " 5   first                    7506 non-null   object        \n",
      " 6   last                     7506 non-null   object        \n",
      " 7   state                    7506 non-null   object        \n",
      " 8   city_pop                 7506 non-null   float64       \n",
      " 9   job                      7506 non-null   object        \n",
      " 10  dob                      7506 non-null   object        \n",
      " 11  is_fraud                 7506 non-null   float64       \n",
      " 12  category_entertainment   7506 non-null   float64       \n",
      " 13  category_food_dining     7506 non-null   float64       \n",
      " 14  category_gas_transport   7506 non-null   float64       \n",
      " 15  category_grocery_net     7506 non-null   float64       \n",
      " 16  category_grocery_pos     7506 non-null   float64       \n",
      " 17  category_health_fitness  7506 non-null   float64       \n",
      " 18  category_home            7506 non-null   float64       \n",
      " 19  category_kids_pets       7506 non-null   float64       \n",
      " 20  category_misc_net        7506 non-null   float64       \n",
      " 21  category_misc_pos        7506 non-null   float64       \n",
      " 22  category_personal_care   7506 non-null   float64       \n",
      " 23  category_shopping_net    7506 non-null   float64       \n",
      " 24  category_shopping_pos    7506 non-null   float64       \n",
      " 25  category_travel          7506 non-null   float64       \n",
      " 26  0                        7501 non-null   float64       \n",
      " 27  1                        7501 non-null   float64       \n",
      " 28  2                        7501 non-null   float64       \n",
      " 29  3                        7501 non-null   float64       \n",
      " 30  4                        7501 non-null   float64       \n",
      " 31  5                        7501 non-null   float64       \n",
      " 32  6                        7501 non-null   float64       \n",
      " 33  7                        7501 non-null   float64       \n",
      " 34  8                        7501 non-null   float64       \n",
      " 35  9                        7501 non-null   float64       \n",
      "dtypes: datetime64[ns](1), float64(28), object(7)\n",
      "memory usage: 2.1+ MB\n"
     ]
    }
   ],
   "source": [
    "cc_data_fraud.info()"
   ]
  },
  {
   "cell_type": "code",
   "execution_count": 47,
   "id": "fa888a05",
   "metadata": {},
   "outputs": [],
   "source": [
    "#Get day of week, create new columns\n",
    "cc_data['day_of_week'] = cc_data['trans_date_trans_time'].dt.dayofweek\n",
    "\n",
    "#Redefine valid and fraud dataframes\n",
    "cc_data_fraud = cc_data[cc_data['is_fraud']==1]\n",
    "cc_data_valid = cc_data[cc_data['is_fraud']==0]"
   ]
  },
  {
   "cell_type": "code",
   "execution_count": 48,
   "id": "dabe128c",
   "metadata": {},
   "outputs": [],
   "source": [
    "valid_dayofweek_count = cc_data_valid.groupby('day_of_week').count()\n",
    "fraud_dayofweek_count = cc_data_fraud.groupby('day_of_week').count()"
   ]
  },
  {
   "cell_type": "code",
   "execution_count": 50,
   "id": "403e3830",
   "metadata": {},
   "outputs": [
    {
     "data": {
      "text/plain": [
       "Text(0.5, 1.0, 'Fraud transactions by day of week')"
      ]
     },
     "execution_count": 50,
     "metadata": {},
     "output_type": "execute_result"
    },
    {
     "data": {
      "image/png": "[encoded data removed]",
      "text/plain": [
       "<Figure size 720x360 with 2 Axes>"
      ]
     },
     "metadata": {
      "needs_background": "light"
     },
     "output_type": "display_data"
    }
   ],
   "source": [
    "fig, ax = plt.subplots(1, 2, figsize = (10, 5))\n",
    "\n",
    "ax[0].bar(valid_dayofweek_count.index, valid_dayofweek_count['trans_date_trans_time'], color = 'blue')\n",
    "ax[1].bar(fraud_dayofweek_count.index, fraud_dayofweek_count['trans_date_trans_time'], color = 'red')\n",
    "\n",
    "ax[0].set_xlabel('Day of week')\n",
    "ax[0].set_ylabel('Number of transactions')\n",
    "ax[0].set_title('Valid transactions by day of week')\n",
    "\n",
    "ax[1].set_xlabel('Day of week')\n",
    "ax[1].set_ylabel('Number of transactions')\n",
    "ax[1].set_title('Fraud transactions by day of week')"
   ]
  },
  {
   "cell_type": "markdown",
   "id": "999b088c",
   "metadata": {},
   "source": [
    "Most valid transactions happen on days 0, 5, and 6 (Monday, Saturday, and Sunday).\n",
    "\n",
    "Similar pattern for fraud transactions, but not as much of a stark contrast between days.\n",
    "\n",
    "Not sure if we can get much out of day of week.  Let's inspect the number of transactions for each month for valid vs fraud."
   ]
  },
  {
   "cell_type": "code",
   "execution_count": 51,
   "id": "eff652d7",
   "metadata": {},
   "outputs": [],
   "source": [
    "#Get month, create new column\n",
    "cc_data['month'] = cc_data['trans_date_trans_time'].dt.month\n",
    "\n",
    "#Redefine valid and fraud dataframes\n",
    "cc_data_fraud = cc_data[cc_data['is_fraud']==1]\n",
    "cc_data_valid = cc_data[cc_data['is_fraud']==0]"
   ]
  },
  {
   "cell_type": "code",
   "execution_count": 53,
   "id": "da9ef824",
   "metadata": {
    "scrolled": false
   },
   "outputs": [
    {
     "data": {
      "text/plain": [
       "Text(0.5, 1.0, 'Fraud transactions by month')"
      ]
     },
     "execution_count": 53,
     "metadata": {},
     "output_type": "execute_result"
    },
    {
     "data": {
      "image/png": "[encoded data removed]",
      "text/plain": [
       "<Figure size 1080x360 with 2 Axes>"
      ]
     },
     "metadata": {
      "needs_background": "light"
     },
     "output_type": "display_data"
    }
   ],
   "source": [
    "fig, ax = plt.subplots(1,2, figsize=(15,5))\n",
    "\n",
    "ax[0].bar(cc_data_valid['month'].value_counts().sort_index().index, cc_data_valid['month'].value_counts().sort_index(), color = 'blue')\n",
    "ax[1].bar(cc_data_fraud['month'].value_counts().sort_index().index, cc_data_fraud['month'].value_counts().sort_index(), color = 'red')\n",
    "\n",
    "ax[0].set_xlabel('month')\n",
    "ax[0].set_ylabel('Number of transactions')\n",
    "ax[0].set_title('Valid transactions by month')\n",
    "\n",
    "ax[1].set_xlabel('month')\n",
    "ax[1].set_ylabel('Number of transactions')\n",
    "ax[1].set_title('Fraud transactions by month')"
   ]
  },
  {
   "cell_type": "markdown",
   "id": "86c5010b",
   "metadata": {},
   "source": [
    "Most valid transactions happen during:\n",
    "- March\n",
    "- April\n",
    "- May\n",
    "- June\n",
    "- December\n",
    "\n",
    "Most fraud transactions happen during\n",
    "- January\n",
    "- February\n",
    "- March\n",
    "- April\n",
    "- May\n",
    "- June\n",
    "- December\n",
    "\n",
    "Month could be a possible predictor of fraud transactions."
   ]
  },
  {
   "cell_type": "code",
   "execution_count": 54,
   "id": "04327140",
   "metadata": {},
   "outputs": [],
   "source": [
    "# Checking time of day (hour) of transactions\n",
    "cc_data['hour'] = cc_data['trans_date_trans_time'].dt.hour\n",
    "\n",
    "#Redefine valid and fraud dataframes\n",
    "cc_data_fraud = cc_data[cc_data['is_fraud']==1]\n",
    "cc_data_valid = cc_data[cc_data['is_fraud']==0]"
   ]
  },
  {
   "cell_type": "code",
   "execution_count": 55,
   "id": "1af10407",
   "metadata": {
    "scrolled": true
   },
   "outputs": [
    {
     "data": {
      "text/plain": [
       "Text(0.5, 1.0, 'Fraud transactions by hour of day')"
      ]
     },
     "execution_count": 55,
     "metadata": {},
     "output_type": "execute_result"
    },
    {
     "data": {
      "image/png": "[encoded data removed]",
      "text/plain": [
       "<Figure size 1080x360 with 2 Axes>"
      ]
     },
     "metadata": {
      "needs_background": "light"
     },
     "output_type": "display_data"
    }
   ],
   "source": [
    "fig, ax = plt.subplots(1,2, figsize=(15,5))\n",
    "\n",
    "ax[0].bar(cc_data_valid['hour'].value_counts().sort_index().index, cc_data_valid['hour'].value_counts().sort_index(), color = 'blue')\n",
    "ax[1].bar(cc_data_fraud['hour'].value_counts().sort_index().index, cc_data_fraud['hour'].value_counts().sort_index(), color = 'red')\n",
    "\n",
    "ax[0].set_xlabel('Hour of day')\n",
    "ax[0].set_ylabel('Number of transactions')\n",
    "ax[0].set_title('Valid transactions by hour of day')\n",
    "\n",
    "ax[1].set_xlabel('Hour of day')\n",
    "ax[1].set_ylabel('Number of transactions')\n",
    "ax[1].set_title('Fraud transactions by hour of day')"
   ]
  },
  {
   "cell_type": "markdown",
   "id": "063ad6bf",
   "metadata": {},
   "source": [
    "Time of day is DEFINITELY a predictor of fraud transactions.  Most fraud transactions take place in the 22nd and 23 hour of the day (10 PM - 12 AM), then there's another group of fraud transactions taking place from the 0th hour to the 3rd hour of the day (12 AM - 4 AM)"
   ]
  },
  {
   "cell_type": "markdown",
   "id": "91d80c05",
   "metadata": {},
   "source": [
    "## Examine 'dob' column"
   ]
  },
  {
   "cell_type": "code",
   "execution_count": 56,
   "id": "f308555f",
   "metadata": {},
   "outputs": [],
   "source": [
    "# Convert to datetime object\n",
    "cc_data['dob']=pd.to_datetime(cc_data['dob'])"
   ]
  },
  {
   "cell_type": "code",
   "execution_count": 57,
   "id": "e608a993",
   "metadata": {},
   "outputs": [],
   "source": [
    "#create age column\n",
    "cc_data['age'] = cc_data['trans_date_trans_time'].dt.year - cc_data['dob'].dt.year"
   ]
  },
  {
   "cell_type": "code",
   "execution_count": 58,
   "id": "b73fdec1",
   "metadata": {},
   "outputs": [],
   "source": [
    "#Redefine valid and fraud dataframes\n",
    "cc_data_fraud = cc_data[cc_data['is_fraud']==1]\n",
    "cc_data_valid = cc_data[cc_data['is_fraud']==0]"
   ]
  },
  {
   "cell_type": "code",
   "execution_count": 59,
   "id": "08d1d3fb",
   "metadata": {
    "scrolled": false
   },
   "outputs": [
    {
     "data": {
      "text/plain": [
       "Text(0.5, 1.0, 'Fraud transactions by age')"
      ]
     },
     "execution_count": 59,
     "metadata": {},
     "output_type": "execute_result"
    },
    {
     "data": {
      "image/png": "[encoded data removed]",
      "text/plain": [
       "<Figure size 1080x360 with 2 Axes>"
      ]
     },
     "metadata": {
      "needs_background": "light"
     },
     "output_type": "display_data"
    }
   ],
   "source": [
    "#check histograms\n",
    "fig, ax = plt.subplots(1, 2, figsize=(15,5))\n",
    "\n",
    "bins =[0, 10, 20, 30, 40, 50, 60, 70, 80, 90, 100]\n",
    "\n",
    "ax[0].hist(cc_data_valid['age'], color = 'blue', bins = bins)\n",
    "ax[1].hist(cc_data_fraud['age'], color = 'red', bins = bins)\n",
    "\n",
    "ax[0].set_xlabel('age')\n",
    "ax[0].set_ylabel('Number of transactions')\n",
    "ax[0].set_title('Valid transactions by age')\n",
    "\n",
    "ax[1].set_xlabel('age')\n",
    "ax[1].set_ylabel('Number of transactions')\n",
    "ax[1].set_title('Fraud transactions by age')"
   ]
  },
  {
   "cell_type": "markdown",
   "id": "f23a5626",
   "metadata": {},
   "source": [
    "Most fraud transactions are coming from customers whose age is from 20-60. Most valid transactions are from customers whose age is from 30-50. "
   ]
  },
  {
   "cell_type": "markdown",
   "id": "fea2c077",
   "metadata": {},
   "source": [
    "#### Good predictors of fraud\n",
    "- 'amt'\n",
    "- 'category'\n",
    "- 'state'\n",
    "- 'month'\n",
    "- 'hour'\n",
    "- 'age'"
   ]
  },
  {
   "cell_type": "code",
   "execution_count": 60,
   "id": "8e938484",
   "metadata": {},
   "outputs": [],
   "source": [
    "#save the data to a new csv file\n",
    "cc_data.to_csv('../raw_data/fraudTrain_cleaned2.csv')"
   ]
  }
 ],
 "metadata": {
  "kernelspec": {
   "display_name": "Python 3",
   "language": "python",
   "name": "python3"
  },
  "language_info": {
   "codemirror_mode": {
    "name": "ipython",
    "version": 3
   },
   "file_extension": ".py",
   "mimetype": "text/x-python",
   "name": "python",
   "nbconvert_exporter": "python",
   "pygments_lexer": "ipython3",
   "version": "3.8.8"
  }
 },
 "nbformat": 4,
 "nbformat_minor": 5
}
