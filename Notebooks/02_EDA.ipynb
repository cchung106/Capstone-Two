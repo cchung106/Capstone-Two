{
 "cells": [
  {
   "cell_type": "markdown",
   "id": "674f0b92",
   "metadata": {},
   "source": [
    "## Imports"
   ]
  },
  {
   "cell_type": "code",
   "execution_count": 28,
   "id": "353998e1",
   "metadata": {},
   "outputs": [],
   "source": [
    "import pandas as pd\n",
    "import numpy as np\n",
    "import matplotlib.pyplot as plt\n",
    "import seaborn as sns"
   ]
  },
  {
   "cell_type": "markdown",
   "id": "f64d41c9",
   "metadata": {},
   "source": [
    "## Load dataset"
   ]
  },
  {
   "cell_type": "code",
   "execution_count": 11,
   "id": "1079fd98",
   "metadata": {
    "scrolled": true
   },
   "outputs": [
    {
     "name": "stderr",
     "output_type": "stream",
     "text": [
      "/Users/chrischung/opt/anaconda3/lib/python3.8/site-packages/numpy/lib/arraysetops.py:583: FutureWarning: elementwise comparison failed; returning scalar instead, but in the future will perform elementwise comparison\n",
      "  mask |= (ar1 == a)\n"
     ]
    }
   ],
   "source": [
    "cc_data = pd.read_csv('../raw_data/fraudTrain_cleaned.csv', index_col=0)"
   ]
  },
  {
   "cell_type": "code",
   "execution_count": 12,
   "id": "7d4b7251",
   "metadata": {},
   "outputs": [
    {
     "data": {
      "text/html": [
       "<div>\n",
       "<style scoped>\n",
       "    .dataframe tbody tr th:only-of-type {\n",
       "        vertical-align: middle;\n",
       "    }\n",
       "\n",
       "    .dataframe tbody tr th {\n",
       "        vertical-align: top;\n",
       "    }\n",
       "\n",
       "    .dataframe thead th {\n",
       "        text-align: right;\n",
       "    }\n",
       "</style>\n",
       "<table border=\"1\" class=\"dataframe\">\n",
       "  <thead>\n",
       "    <tr style=\"text-align: right;\">\n",
       "      <th></th>\n",
       "      <th>trans_date_trans_time</th>\n",
       "      <th>cc_num</th>\n",
       "      <th>merchant</th>\n",
       "      <th>category</th>\n",
       "      <th>amt</th>\n",
       "      <th>first</th>\n",
       "      <th>last</th>\n",
       "      <th>gender</th>\n",
       "      <th>street</th>\n",
       "      <th>city</th>\n",
       "      <th>state</th>\n",
       "      <th>zip</th>\n",
       "      <th>city_pop</th>\n",
       "      <th>job</th>\n",
       "      <th>dob</th>\n",
       "      <th>is_fraud</th>\n",
       "    </tr>\n",
       "  </thead>\n",
       "  <tbody>\n",
       "    <tr>\n",
       "      <th>0</th>\n",
       "      <td>2019-01-01 00:00:18</td>\n",
       "      <td>2703186189652095</td>\n",
       "      <td>fraud_Rippin, Kub and Mann</td>\n",
       "      <td>misc_net</td>\n",
       "      <td>4.97</td>\n",
       "      <td>Jennifer</td>\n",
       "      <td>Banks</td>\n",
       "      <td>F</td>\n",
       "      <td>561 Perry Cove</td>\n",
       "      <td>Moravian Falls</td>\n",
       "      <td>NC</td>\n",
       "      <td>28654</td>\n",
       "      <td>3495</td>\n",
       "      <td>Psychologist, counselling</td>\n",
       "      <td>1988-03-09</td>\n",
       "      <td>0</td>\n",
       "    </tr>\n",
       "    <tr>\n",
       "      <th>1</th>\n",
       "      <td>2019-01-01 00:00:44</td>\n",
       "      <td>630423337322</td>\n",
       "      <td>fraud_Heller, Gutmann and Zieme</td>\n",
       "      <td>grocery_pos</td>\n",
       "      <td>107.23</td>\n",
       "      <td>Stephanie</td>\n",
       "      <td>Gill</td>\n",
       "      <td>F</td>\n",
       "      <td>43039 Riley Greens Suite 393</td>\n",
       "      <td>Orient</td>\n",
       "      <td>WA</td>\n",
       "      <td>99160</td>\n",
       "      <td>149</td>\n",
       "      <td>Special educational needs teacher</td>\n",
       "      <td>1978-06-21</td>\n",
       "      <td>0</td>\n",
       "    </tr>\n",
       "    <tr>\n",
       "      <th>2</th>\n",
       "      <td>2019-01-01 00:00:51</td>\n",
       "      <td>38859492057661</td>\n",
       "      <td>fraud_Lind-Buckridge</td>\n",
       "      <td>entertainment</td>\n",
       "      <td>220.11</td>\n",
       "      <td>Edward</td>\n",
       "      <td>Sanchez</td>\n",
       "      <td>M</td>\n",
       "      <td>594 White Dale Suite 530</td>\n",
       "      <td>Malad City</td>\n",
       "      <td>ID</td>\n",
       "      <td>83252</td>\n",
       "      <td>4154</td>\n",
       "      <td>Nature conservation officer</td>\n",
       "      <td>1962-01-19</td>\n",
       "      <td>0</td>\n",
       "    </tr>\n",
       "    <tr>\n",
       "      <th>3</th>\n",
       "      <td>2019-01-01 00:01:16</td>\n",
       "      <td>3534093764340240</td>\n",
       "      <td>fraud_Kutch, Hermiston and Farrell</td>\n",
       "      <td>gas_transport</td>\n",
       "      <td>45.00</td>\n",
       "      <td>Jeremy</td>\n",
       "      <td>White</td>\n",
       "      <td>M</td>\n",
       "      <td>9443 Cynthia Court Apt. 038</td>\n",
       "      <td>Boulder</td>\n",
       "      <td>MT</td>\n",
       "      <td>59632</td>\n",
       "      <td>1939</td>\n",
       "      <td>Patent attorney</td>\n",
       "      <td>1967-01-12</td>\n",
       "      <td>0</td>\n",
       "    </tr>\n",
       "    <tr>\n",
       "      <th>4</th>\n",
       "      <td>2019-01-01 00:03:06</td>\n",
       "      <td>375534208663984</td>\n",
       "      <td>fraud_Keeling-Crist</td>\n",
       "      <td>misc_pos</td>\n",
       "      <td>41.96</td>\n",
       "      <td>Tyler</td>\n",
       "      <td>Garcia</td>\n",
       "      <td>M</td>\n",
       "      <td>408 Bradley Rest</td>\n",
       "      <td>Doe Hill</td>\n",
       "      <td>VA</td>\n",
       "      <td>24433</td>\n",
       "      <td>99</td>\n",
       "      <td>Dance movement psychotherapist</td>\n",
       "      <td>1986-03-28</td>\n",
       "      <td>0</td>\n",
       "    </tr>\n",
       "  </tbody>\n",
       "</table>\n",
       "</div>"
      ],
      "text/plain": [
       "  trans_date_trans_time            cc_num                            merchant  \\\n",
       "0   2019-01-01 00:00:18  2703186189652095          fraud_Rippin, Kub and Mann   \n",
       "1   2019-01-01 00:00:44      630423337322     fraud_Heller, Gutmann and Zieme   \n",
       "2   2019-01-01 00:00:51    38859492057661                fraud_Lind-Buckridge   \n",
       "3   2019-01-01 00:01:16  3534093764340240  fraud_Kutch, Hermiston and Farrell   \n",
       "4   2019-01-01 00:03:06   375534208663984                 fraud_Keeling-Crist   \n",
       "\n",
       "        category     amt      first     last gender  \\\n",
       "0       misc_net    4.97   Jennifer    Banks      F   \n",
       "1    grocery_pos  107.23  Stephanie     Gill      F   \n",
       "2  entertainment  220.11     Edward  Sanchez      M   \n",
       "3  gas_transport   45.00     Jeremy    White      M   \n",
       "4       misc_pos   41.96      Tyler   Garcia      M   \n",
       "\n",
       "                         street            city state    zip  city_pop  \\\n",
       "0                561 Perry Cove  Moravian Falls    NC  28654      3495   \n",
       "1  43039 Riley Greens Suite 393          Orient    WA  99160       149   \n",
       "2      594 White Dale Suite 530      Malad City    ID  83252      4154   \n",
       "3   9443 Cynthia Court Apt. 038         Boulder    MT  59632      1939   \n",
       "4              408 Bradley Rest        Doe Hill    VA  24433        99   \n",
       "\n",
       "                                 job         dob  is_fraud  \n",
       "0          Psychologist, counselling  1988-03-09         0  \n",
       "1  Special educational needs teacher  1978-06-21         0  \n",
       "2        Nature conservation officer  1962-01-19         0  \n",
       "3                    Patent attorney  1967-01-12         0  \n",
       "4     Dance movement psychotherapist  1986-03-28         0  "
      ]
     },
     "execution_count": 12,
     "metadata": {},
     "output_type": "execute_result"
    }
   ],
   "source": [
    "cc_data.head()"
   ]
  },
  {
   "cell_type": "code",
   "execution_count": 13,
   "id": "54059d74",
   "metadata": {},
   "outputs": [
    {
     "name": "stdout",
     "output_type": "stream",
     "text": [
      "<class 'pandas.core.frame.DataFrame'>\n",
      "Int64Index: 1296569 entries, 0 to 1296674\n",
      "Data columns (total 16 columns):\n",
      " #   Column                 Non-Null Count    Dtype  \n",
      "---  ------                 --------------    -----  \n",
      " 0   trans_date_trans_time  1296569 non-null  object \n",
      " 1   cc_num                 1296569 non-null  int64  \n",
      " 2   merchant               1296569 non-null  object \n",
      " 3   category               1296569 non-null  object \n",
      " 4   amt                    1296569 non-null  float64\n",
      " 5   first                  1296569 non-null  object \n",
      " 6   last                   1296569 non-null  object \n",
      " 7   gender                 1296569 non-null  object \n",
      " 8   street                 1296569 non-null  object \n",
      " 9   city                   1296569 non-null  object \n",
      " 10  state                  1296569 non-null  object \n",
      " 11  zip                    1296569 non-null  int64  \n",
      " 12  city_pop               1296569 non-null  int64  \n",
      " 13  job                    1296569 non-null  object \n",
      " 14  dob                    1296569 non-null  object \n",
      " 15  is_fraud               1296569 non-null  int64  \n",
      "dtypes: float64(1), int64(4), object(11)\n",
      "memory usage: 168.2+ MB\n"
     ]
    }
   ],
   "source": [
    "cc_data.info()"
   ]
  },
  {
   "cell_type": "code",
   "execution_count": 14,
   "id": "383786f1",
   "metadata": {},
   "outputs": [],
   "source": [
    "#Subset dataset into fraud and valid datasets\n",
    "cc_data_fraud = cc_data[cc_data['is_fraud']==1]\n",
    "cc_data_valid = cc_data[cc_data['is_fraud']==0]"
   ]
  },
  {
   "cell_type": "code",
   "execution_count": 15,
   "id": "d601a820",
   "metadata": {},
   "outputs": [
    {
     "data": {
      "text/html": [
       "<div>\n",
       "<style scoped>\n",
       "    .dataframe tbody tr th:only-of-type {\n",
       "        vertical-align: middle;\n",
       "    }\n",
       "\n",
       "    .dataframe tbody tr th {\n",
       "        vertical-align: top;\n",
       "    }\n",
       "\n",
       "    .dataframe thead th {\n",
       "        text-align: right;\n",
       "    }\n",
       "</style>\n",
       "<table border=\"1\" class=\"dataframe\">\n",
       "  <thead>\n",
       "    <tr style=\"text-align: right;\">\n",
       "      <th></th>\n",
       "      <th>trans_date_trans_time</th>\n",
       "      <th>cc_num</th>\n",
       "      <th>merchant</th>\n",
       "      <th>category</th>\n",
       "      <th>amt</th>\n",
       "      <th>first</th>\n",
       "      <th>last</th>\n",
       "      <th>gender</th>\n",
       "      <th>street</th>\n",
       "      <th>city</th>\n",
       "      <th>state</th>\n",
       "      <th>zip</th>\n",
       "      <th>city_pop</th>\n",
       "      <th>job</th>\n",
       "      <th>dob</th>\n",
       "      <th>is_fraud</th>\n",
       "    </tr>\n",
       "  </thead>\n",
       "  <tbody>\n",
       "    <tr>\n",
       "      <th>2449</th>\n",
       "      <td>2019-01-02 01:06:37</td>\n",
       "      <td>4613314721966</td>\n",
       "      <td>fraud_Rutherford-Mertz</td>\n",
       "      <td>grocery_pos</td>\n",
       "      <td>281.06</td>\n",
       "      <td>Jason</td>\n",
       "      <td>Murphy</td>\n",
       "      <td>M</td>\n",
       "      <td>542 Steve Curve Suite 011</td>\n",
       "      <td>Collettsville</td>\n",
       "      <td>NC</td>\n",
       "      <td>28611</td>\n",
       "      <td>885</td>\n",
       "      <td>Soil scientist</td>\n",
       "      <td>1988-09-15</td>\n",
       "      <td>1</td>\n",
       "    </tr>\n",
       "    <tr>\n",
       "      <th>2472</th>\n",
       "      <td>2019-01-02 01:47:29</td>\n",
       "      <td>340187018810220</td>\n",
       "      <td>fraud_Jenkins, Hauck and Friesen</td>\n",
       "      <td>gas_transport</td>\n",
       "      <td>11.52</td>\n",
       "      <td>Misty</td>\n",
       "      <td>Hart</td>\n",
       "      <td>F</td>\n",
       "      <td>27954 Hall Mill Suite 575</td>\n",
       "      <td>San Antonio</td>\n",
       "      <td>TX</td>\n",
       "      <td>78208</td>\n",
       "      <td>1595797</td>\n",
       "      <td>Horticultural consultant</td>\n",
       "      <td>1960-10-28</td>\n",
       "      <td>1</td>\n",
       "    </tr>\n",
       "    <tr>\n",
       "      <th>2523</th>\n",
       "      <td>2019-01-02 03:05:23</td>\n",
       "      <td>340187018810220</td>\n",
       "      <td>fraud_Goodwin-Nitzsche</td>\n",
       "      <td>grocery_pos</td>\n",
       "      <td>276.31</td>\n",
       "      <td>Misty</td>\n",
       "      <td>Hart</td>\n",
       "      <td>F</td>\n",
       "      <td>27954 Hall Mill Suite 575</td>\n",
       "      <td>San Antonio</td>\n",
       "      <td>TX</td>\n",
       "      <td>78208</td>\n",
       "      <td>1595797</td>\n",
       "      <td>Horticultural consultant</td>\n",
       "      <td>1960-10-28</td>\n",
       "      <td>1</td>\n",
       "    </tr>\n",
       "    <tr>\n",
       "      <th>2546</th>\n",
       "      <td>2019-01-02 03:38:03</td>\n",
       "      <td>4613314721966</td>\n",
       "      <td>fraud_Erdman-Kertzmann</td>\n",
       "      <td>gas_transport</td>\n",
       "      <td>7.03</td>\n",
       "      <td>Jason</td>\n",
       "      <td>Murphy</td>\n",
       "      <td>M</td>\n",
       "      <td>542 Steve Curve Suite 011</td>\n",
       "      <td>Collettsville</td>\n",
       "      <td>NC</td>\n",
       "      <td>28611</td>\n",
       "      <td>885</td>\n",
       "      <td>Soil scientist</td>\n",
       "      <td>1988-09-15</td>\n",
       "      <td>1</td>\n",
       "    </tr>\n",
       "    <tr>\n",
       "      <th>2553</th>\n",
       "      <td>2019-01-02 03:55:47</td>\n",
       "      <td>340187018810220</td>\n",
       "      <td>fraud_Koepp-Parker</td>\n",
       "      <td>grocery_pos</td>\n",
       "      <td>275.73</td>\n",
       "      <td>Misty</td>\n",
       "      <td>Hart</td>\n",
       "      <td>F</td>\n",
       "      <td>27954 Hall Mill Suite 575</td>\n",
       "      <td>San Antonio</td>\n",
       "      <td>TX</td>\n",
       "      <td>78208</td>\n",
       "      <td>1595797</td>\n",
       "      <td>Horticultural consultant</td>\n",
       "      <td>1960-10-28</td>\n",
       "      <td>1</td>\n",
       "    </tr>\n",
       "  </tbody>\n",
       "</table>\n",
       "</div>"
      ],
      "text/plain": [
       "     trans_date_trans_time           cc_num                          merchant  \\\n",
       "2449   2019-01-02 01:06:37    4613314721966            fraud_Rutherford-Mertz   \n",
       "2472   2019-01-02 01:47:29  340187018810220  fraud_Jenkins, Hauck and Friesen   \n",
       "2523   2019-01-02 03:05:23  340187018810220            fraud_Goodwin-Nitzsche   \n",
       "2546   2019-01-02 03:38:03    4613314721966            fraud_Erdman-Kertzmann   \n",
       "2553   2019-01-02 03:55:47  340187018810220                fraud_Koepp-Parker   \n",
       "\n",
       "           category     amt  first    last gender                     street  \\\n",
       "2449    grocery_pos  281.06  Jason  Murphy      M  542 Steve Curve Suite 011   \n",
       "2472  gas_transport   11.52  Misty    Hart      F  27954 Hall Mill Suite 575   \n",
       "2523    grocery_pos  276.31  Misty    Hart      F  27954 Hall Mill Suite 575   \n",
       "2546  gas_transport    7.03  Jason  Murphy      M  542 Steve Curve Suite 011   \n",
       "2553    grocery_pos  275.73  Misty    Hart      F  27954 Hall Mill Suite 575   \n",
       "\n",
       "               city state    zip  city_pop                       job  \\\n",
       "2449  Collettsville    NC  28611       885            Soil scientist   \n",
       "2472    San Antonio    TX  78208   1595797  Horticultural consultant   \n",
       "2523    San Antonio    TX  78208   1595797  Horticultural consultant   \n",
       "2546  Collettsville    NC  28611       885            Soil scientist   \n",
       "2553    San Antonio    TX  78208   1595797  Horticultural consultant   \n",
       "\n",
       "             dob  is_fraud  \n",
       "2449  1988-09-15         1  \n",
       "2472  1960-10-28         1  \n",
       "2523  1960-10-28         1  \n",
       "2546  1988-09-15         1  \n",
       "2553  1960-10-28         1  "
      ]
     },
     "execution_count": 15,
     "metadata": {},
     "output_type": "execute_result"
    }
   ],
   "source": [
    "#Examine fraud data\n",
    "cc_data_fraud.head()"
   ]
  },
  {
   "cell_type": "code",
   "execution_count": 16,
   "id": "087d6d43",
   "metadata": {
    "scrolled": true
   },
   "outputs": [
    {
     "name": "stdout",
     "output_type": "stream",
     "text": [
      "<class 'pandas.core.frame.DataFrame'>\n",
      "Int64Index: 7506 entries, 2449 to 1295733\n",
      "Data columns (total 16 columns):\n",
      " #   Column                 Non-Null Count  Dtype  \n",
      "---  ------                 --------------  -----  \n",
      " 0   trans_date_trans_time  7506 non-null   object \n",
      " 1   cc_num                 7506 non-null   int64  \n",
      " 2   merchant               7506 non-null   object \n",
      " 3   category               7506 non-null   object \n",
      " 4   amt                    7506 non-null   float64\n",
      " 5   first                  7506 non-null   object \n",
      " 6   last                   7506 non-null   object \n",
      " 7   gender                 7506 non-null   object \n",
      " 8   street                 7506 non-null   object \n",
      " 9   city                   7506 non-null   object \n",
      " 10  state                  7506 non-null   object \n",
      " 11  zip                    7506 non-null   int64  \n",
      " 12  city_pop               7506 non-null   int64  \n",
      " 13  job                    7506 non-null   object \n",
      " 14  dob                    7506 non-null   object \n",
      " 15  is_fraud               7506 non-null   int64  \n",
      "dtypes: float64(1), int64(4), object(11)\n",
      "memory usage: 996.9+ KB\n"
     ]
    }
   ],
   "source": [
    "cc_data_fraud.info()"
   ]
  },
  {
   "cell_type": "code",
   "execution_count": 17,
   "id": "1f05b869",
   "metadata": {},
   "outputs": [
    {
     "data": {
      "text/html": [
       "<div>\n",
       "<style scoped>\n",
       "    .dataframe tbody tr th:only-of-type {\n",
       "        vertical-align: middle;\n",
       "    }\n",
       "\n",
       "    .dataframe tbody tr th {\n",
       "        vertical-align: top;\n",
       "    }\n",
       "\n",
       "    .dataframe thead th {\n",
       "        text-align: right;\n",
       "    }\n",
       "</style>\n",
       "<table border=\"1\" class=\"dataframe\">\n",
       "  <thead>\n",
       "    <tr style=\"text-align: right;\">\n",
       "      <th></th>\n",
       "      <th>trans_date_trans_time</th>\n",
       "      <th>cc_num</th>\n",
       "      <th>merchant</th>\n",
       "      <th>category</th>\n",
       "      <th>amt</th>\n",
       "      <th>first</th>\n",
       "      <th>last</th>\n",
       "      <th>gender</th>\n",
       "      <th>street</th>\n",
       "      <th>city</th>\n",
       "      <th>state</th>\n",
       "      <th>zip</th>\n",
       "      <th>city_pop</th>\n",
       "      <th>job</th>\n",
       "      <th>dob</th>\n",
       "      <th>is_fraud</th>\n",
       "    </tr>\n",
       "  </thead>\n",
       "  <tbody>\n",
       "    <tr>\n",
       "      <th>0</th>\n",
       "      <td>2019-01-01 00:00:18</td>\n",
       "      <td>2703186189652095</td>\n",
       "      <td>fraud_Rippin, Kub and Mann</td>\n",
       "      <td>misc_net</td>\n",
       "      <td>4.97</td>\n",
       "      <td>Jennifer</td>\n",
       "      <td>Banks</td>\n",
       "      <td>F</td>\n",
       "      <td>561 Perry Cove</td>\n",
       "      <td>Moravian Falls</td>\n",
       "      <td>NC</td>\n",
       "      <td>28654</td>\n",
       "      <td>3495</td>\n",
       "      <td>Psychologist, counselling</td>\n",
       "      <td>1988-03-09</td>\n",
       "      <td>0</td>\n",
       "    </tr>\n",
       "    <tr>\n",
       "      <th>1</th>\n",
       "      <td>2019-01-01 00:00:44</td>\n",
       "      <td>630423337322</td>\n",
       "      <td>fraud_Heller, Gutmann and Zieme</td>\n",
       "      <td>grocery_pos</td>\n",
       "      <td>107.23</td>\n",
       "      <td>Stephanie</td>\n",
       "      <td>Gill</td>\n",
       "      <td>F</td>\n",
       "      <td>43039 Riley Greens Suite 393</td>\n",
       "      <td>Orient</td>\n",
       "      <td>WA</td>\n",
       "      <td>99160</td>\n",
       "      <td>149</td>\n",
       "      <td>Special educational needs teacher</td>\n",
       "      <td>1978-06-21</td>\n",
       "      <td>0</td>\n",
       "    </tr>\n",
       "    <tr>\n",
       "      <th>2</th>\n",
       "      <td>2019-01-01 00:00:51</td>\n",
       "      <td>38859492057661</td>\n",
       "      <td>fraud_Lind-Buckridge</td>\n",
       "      <td>entertainment</td>\n",
       "      <td>220.11</td>\n",
       "      <td>Edward</td>\n",
       "      <td>Sanchez</td>\n",
       "      <td>M</td>\n",
       "      <td>594 White Dale Suite 530</td>\n",
       "      <td>Malad City</td>\n",
       "      <td>ID</td>\n",
       "      <td>83252</td>\n",
       "      <td>4154</td>\n",
       "      <td>Nature conservation officer</td>\n",
       "      <td>1962-01-19</td>\n",
       "      <td>0</td>\n",
       "    </tr>\n",
       "    <tr>\n",
       "      <th>3</th>\n",
       "      <td>2019-01-01 00:01:16</td>\n",
       "      <td>3534093764340240</td>\n",
       "      <td>fraud_Kutch, Hermiston and Farrell</td>\n",
       "      <td>gas_transport</td>\n",
       "      <td>45.00</td>\n",
       "      <td>Jeremy</td>\n",
       "      <td>White</td>\n",
       "      <td>M</td>\n",
       "      <td>9443 Cynthia Court Apt. 038</td>\n",
       "      <td>Boulder</td>\n",
       "      <td>MT</td>\n",
       "      <td>59632</td>\n",
       "      <td>1939</td>\n",
       "      <td>Patent attorney</td>\n",
       "      <td>1967-01-12</td>\n",
       "      <td>0</td>\n",
       "    </tr>\n",
       "    <tr>\n",
       "      <th>4</th>\n",
       "      <td>2019-01-01 00:03:06</td>\n",
       "      <td>375534208663984</td>\n",
       "      <td>fraud_Keeling-Crist</td>\n",
       "      <td>misc_pos</td>\n",
       "      <td>41.96</td>\n",
       "      <td>Tyler</td>\n",
       "      <td>Garcia</td>\n",
       "      <td>M</td>\n",
       "      <td>408 Bradley Rest</td>\n",
       "      <td>Doe Hill</td>\n",
       "      <td>VA</td>\n",
       "      <td>24433</td>\n",
       "      <td>99</td>\n",
       "      <td>Dance movement psychotherapist</td>\n",
       "      <td>1986-03-28</td>\n",
       "      <td>0</td>\n",
       "    </tr>\n",
       "  </tbody>\n",
       "</table>\n",
       "</div>"
      ],
      "text/plain": [
       "  trans_date_trans_time            cc_num                            merchant  \\\n",
       "0   2019-01-01 00:00:18  2703186189652095          fraud_Rippin, Kub and Mann   \n",
       "1   2019-01-01 00:00:44      630423337322     fraud_Heller, Gutmann and Zieme   \n",
       "2   2019-01-01 00:00:51    38859492057661                fraud_Lind-Buckridge   \n",
       "3   2019-01-01 00:01:16  3534093764340240  fraud_Kutch, Hermiston and Farrell   \n",
       "4   2019-01-01 00:03:06   375534208663984                 fraud_Keeling-Crist   \n",
       "\n",
       "        category     amt      first     last gender  \\\n",
       "0       misc_net    4.97   Jennifer    Banks      F   \n",
       "1    grocery_pos  107.23  Stephanie     Gill      F   \n",
       "2  entertainment  220.11     Edward  Sanchez      M   \n",
       "3  gas_transport   45.00     Jeremy    White      M   \n",
       "4       misc_pos   41.96      Tyler   Garcia      M   \n",
       "\n",
       "                         street            city state    zip  city_pop  \\\n",
       "0                561 Perry Cove  Moravian Falls    NC  28654      3495   \n",
       "1  43039 Riley Greens Suite 393          Orient    WA  99160       149   \n",
       "2      594 White Dale Suite 530      Malad City    ID  83252      4154   \n",
       "3   9443 Cynthia Court Apt. 038         Boulder    MT  59632      1939   \n",
       "4              408 Bradley Rest        Doe Hill    VA  24433        99   \n",
       "\n",
       "                                 job         dob  is_fraud  \n",
       "0          Psychologist, counselling  1988-03-09         0  \n",
       "1  Special educational needs teacher  1978-06-21         0  \n",
       "2        Nature conservation officer  1962-01-19         0  \n",
       "3                    Patent attorney  1967-01-12         0  \n",
       "4     Dance movement psychotherapist  1986-03-28         0  "
      ]
     },
     "execution_count": 17,
     "metadata": {},
     "output_type": "execute_result"
    }
   ],
   "source": [
    "#Examine valid transactions\n",
    "cc_data_valid.head()"
   ]
  },
  {
   "cell_type": "code",
   "execution_count": 18,
   "id": "28545aea",
   "metadata": {},
   "outputs": [
    {
     "name": "stdout",
     "output_type": "stream",
     "text": [
      "<class 'pandas.core.frame.DataFrame'>\n",
      "Int64Index: 1289063 entries, 0 to 1296674\n",
      "Data columns (total 16 columns):\n",
      " #   Column                 Non-Null Count    Dtype  \n",
      "---  ------                 --------------    -----  \n",
      " 0   trans_date_trans_time  1289063 non-null  object \n",
      " 1   cc_num                 1289063 non-null  int64  \n",
      " 2   merchant               1289063 non-null  object \n",
      " 3   category               1289063 non-null  object \n",
      " 4   amt                    1289063 non-null  float64\n",
      " 5   first                  1289063 non-null  object \n",
      " 6   last                   1289063 non-null  object \n",
      " 7   gender                 1289063 non-null  object \n",
      " 8   street                 1289063 non-null  object \n",
      " 9   city                   1289063 non-null  object \n",
      " 10  state                  1289063 non-null  object \n",
      " 11  zip                    1289063 non-null  int64  \n",
      " 12  city_pop               1289063 non-null  int64  \n",
      " 13  job                    1289063 non-null  object \n",
      " 14  dob                    1289063 non-null  object \n",
      " 15  is_fraud               1289063 non-null  int64  \n",
      "dtypes: float64(1), int64(4), object(11)\n",
      "memory usage: 167.2+ MB\n"
     ]
    }
   ],
   "source": [
    "cc_data_valid.info()"
   ]
  },
  {
   "cell_type": "markdown",
   "id": "9cf1d7ea",
   "metadata": {},
   "source": [
    "## Visualizations of continuous variable columns for fraud vs. valid"
   ]
  },
  {
   "cell_type": "code",
   "execution_count": 27,
   "id": "184812ac",
   "metadata": {},
   "outputs": [
    {
     "data": {
      "text/plain": [
       "(array([1786.,  290., 1689.,  144.,  172.,  896., 1241.,  989.,  273.,\n",
       "          26.]),\n",
       " array([1.060000e+00, 1.385580e+02, 2.760560e+02, 4.135540e+02,\n",
       "        5.510520e+02, 6.885500e+02, 8.260480e+02, 9.635460e+02,\n",
       "        1.101044e+03, 1.238542e+03, 1.376040e+03]),\n",
       " [<matplotlib.patches.Polygon at 0x7fab85107bb0>])"
      ]
     },
     "execution_count": 27,
     "metadata": {},
     "output_type": "execute_result"
    },
    {
     "data": {
      "image/png": "[encoded data removed]",
      "text/plain": [
       "<Figure size 432x288 with 1 Axes>"
      ]
     },
     "metadata": {
      "needs_background": "light"
     },
     "output_type": "display_data"
    }
   ],
   "source": [
    "#Histogram of 'amt' column\n",
    "plt.hist(cc_data_valid['amt'], color = 'blue', histtype='step')\n",
    "plt.hist(cc_data_fraud['amt'], color = 'red', histtype='step')\n",
    "\n",
    "#Are histograms an effective way to visualize this column due to the unbalanced nature of fraud vs valid?"
   ]
  },
  {
   "cell_type": "code",
   "execution_count": 39,
   "id": "7cc1dbb5",
   "metadata": {},
   "outputs": [
    {
     "data": {
      "text/plain": [
       "Text(0, 0.5, 'Amount')"
      ]
     },
     "execution_count": 39,
     "metadata": {},
     "output_type": "execute_result"
    },
    {
     "data": {
      "image/png": "[encoded data removed]",
      "text/plain": [
       "<Figure size 432x288 with 1 Axes>"
      ]
     },
     "metadata": {
      "needs_background": "light"
     },
     "output_type": "display_data"
    }
   ],
   "source": [
    "#Boxplots of 'amt' column\n",
    "plt.boxplot([cc_data_valid['amt'], cc_data_fraud['amt']])\n",
    "plt.xticks([1, 2], ['Valid', 'Fraud'])\n",
    "plt.ylabel('Amount')\n",
    "\n",
    "#Should we remove more outliers from the valid dataset?"
   ]
  },
  {
   "cell_type": "code",
   "execution_count": 42,
   "id": "00cb1adf",
   "metadata": {},
   "outputs": [
    {
     "data": {
      "text/plain": [
       "(array([6924.,  200.,  145.,   62.,   63.,   54.,    0.,    0.,   19.,\n",
       "          39.]),\n",
       " array([2.3000000e+01, 2.9069070e+05, 5.8135840e+05, 8.7202610e+05,\n",
       "        1.1626938e+06, 1.4533615e+06, 1.7440292e+06, 2.0346969e+06,\n",
       "        2.3253646e+06, 2.6160323e+06, 2.9067000e+06]),\n",
       " [<matplotlib.patches.Polygon at 0x7fab131af910>])"
      ]
     },
     "execution_count": 42,
     "metadata": {},
     "output_type": "execute_result"
    },
    {
     "data": {
      "image/png": "[encoded data removed]",
      "text/plain": [
       "<Figure size 432x288 with 1 Axes>"
      ]
     },
     "metadata": {
      "needs_background": "light"
     },
     "output_type": "display_data"
    }
   ],
   "source": [
    "# Histogram of 'city_pop' column\n",
    "plt.hist(cc_data_valid['city_pop'], color = 'blue', histtype='step')\n",
    "plt.hist(cc_data_fraud['city_pop'], color = 'red', histtype='step')"
   ]
  },
  {
   "cell_type": "code",
   "execution_count": 43,
   "id": "40e2a7f5",
   "metadata": {
    "scrolled": true
   },
   "outputs": [
    {
     "data": {
      "text/plain": [
       "Text(0, 0.5, 'City Population')"
      ]
     },
     "execution_count": 43,
     "metadata": {},
     "output_type": "execute_result"
    },
    {
     "data": {
      "image/png": "[encoded data removed]",
      "text/plain": [
       "<Figure size 432x288 with 1 Axes>"
      ]
     },
     "metadata": {
      "needs_background": "light"
     },
     "output_type": "display_data"
    }
   ],
   "source": [
    "#Boxplot of 'city_pop' column\n",
    "#Boxplots of 'amt' column\n",
    "plt.boxplot([cc_data_valid['city_pop'], cc_data_fraud['city_pop']])\n",
    "plt.xticks([1, 2], ['Valid', 'Fraud'])\n",
    "plt.ylabel('City Population')"
   ]
  },
  {
   "cell_type": "markdown",
   "id": "905a8177",
   "metadata": {},
   "source": [
    "## Examine visualizations of categorical variables"
   ]
  },
  {
   "cell_type": "markdown",
   "id": "8240dbce",
   "metadata": {},
   "source": [
    "#### Does the transaction category affect our target variable?"
   ]
  },
  {
   "cell_type": "code",
   "execution_count": 46,
   "id": "cb811638",
   "metadata": {},
   "outputs": [
    {
     "data": {
      "text/plain": [
       "Text(0.5, 1.0, 'Bar Graph of Transaction Categories')"
      ]
     },
     "execution_count": 46,
     "metadata": {},
     "output_type": "execute_result"
    },
    {
     "data": {
      "image/png": "[encoded data removed]",
      "text/plain": [
       "<Figure size 432x288 with 1 Axes>"
      ]
     },
     "metadata": {
      "needs_background": "light"
     },
     "output_type": "display_data"
    }
   ],
   "source": [
    "# Category column\n",
    "cc_data_valid['category'].value_counts().plot(kind='bar', color = 'blue')\n",
    "cc_data_fraud['category'].value_counts().plot(kind='bar', color = 'red')\n",
    "plt.xlabel('Category')\n",
    "plt.ylabel('Number of transactions')\n",
    "plt.title('Bar Graph of Transaction Categories')"
   ]
  },
  {
   "cell_type": "code",
   "execution_count": 56,
   "id": "76debaab",
   "metadata": {},
   "outputs": [
    {
     "name": "stderr",
     "output_type": "stream",
     "text": [
      "<ipython-input-56-93d0822a70cb>:4: UserWarning: FixedFormatter should only be used together with FixedLocator\n",
      "  ax.set_xticklabels(cc_data_fraud['category'].value_counts().index, rotation = 90)\n"
     ]
    },
    {
     "data": {
      "text/plain": [
       "[Text(0, 0, 'grocery_pos'),\n",
       " Text(1, 0, 'shopping_net'),\n",
       " Text(2, 0, 'misc_net'),\n",
       " Text(3, 0, 'shopping_pos'),\n",
       " Text(4, 0, 'gas_transport'),\n",
       " Text(5, 0, 'misc_pos'),\n",
       " Text(6, 0, 'kids_pets'),\n",
       " Text(7, 0, 'entertainment'),\n",
       " Text(8, 0, 'personal_care'),\n",
       " Text(9, 0, 'home'),\n",
       " Text(10, 0, 'food_dining'),\n",
       " Text(11, 0, 'grocery_net'),\n",
       " Text(12, 0, 'health_fitness'),\n",
       " Text(13, 0, 'travel')]"
      ]
     },
     "execution_count": 56,
     "metadata": {},
     "output_type": "execute_result"
    },
    {
     "data": {
      "image/png": "[encoded data removed]",
      "text/plain": [
       "<Figure size 432x288 with 1 Axes>"
      ]
     },
     "metadata": {
      "needs_background": "light"
     },
     "output_type": "display_data"
    }
   ],
   "source": [
    "fig, ax = plt.subplots()\n",
    "b1 = ax.bar(cc_data_valid['category'].value_counts().index, cc_data_valid['category'].value_counts())\n",
    "b2 = ax.bar(cc_data_fraud['category'].value_counts().index, cc_data_fraud['category'].value_counts())\n",
    "ax.set_xticklabels(cc_data_fraud['category'].value_counts().index, rotation = 90)"
   ]
  },
  {
   "cell_type": "code",
   "execution_count": 47,
   "id": "ac6e18c8",
   "metadata": {},
   "outputs": [
    {
     "data": {
      "text/plain": [
       "Text(0.5, 1.0, 'Bar Graph of VALID Transaction Categories')"
      ]
     },
     "execution_count": 47,
     "metadata": {},
     "output_type": "execute_result"
    },
    {
     "data": {
      "image/png": "[encoded data removed]",
      "text/plain": [
       "<Figure size 432x288 with 1 Axes>"
      ]
     },
     "metadata": {
      "needs_background": "light"
     },
     "output_type": "display_data"
    }
   ],
   "source": [
    "cc_data_valid['category'].value_counts().plot(kind='bar', color = 'blue')\n",
    "plt.xlabel('Category')\n",
    "plt.ylabel('Number of transactions')\n",
    "plt.title('Bar Graph of VALID Transaction Categories')"
   ]
  },
  {
   "cell_type": "code",
   "execution_count": 49,
   "id": "80f16696",
   "metadata": {},
   "outputs": [
    {
     "data": {
      "text/plain": [
       "Text(0.5, 1.0, 'Bar Graph of FRAUD Transaction Categories')"
      ]
     },
     "execution_count": 49,
     "metadata": {},
     "output_type": "execute_result"
    },
    {
     "data": {
      "image/png": "[encoded data removed]",
      "text/plain": [
       "<Figure size 432x288 with 1 Axes>"
      ]
     },
     "metadata": {
      "needs_background": "light"
     },
     "output_type": "display_data"
    }
   ],
   "source": [
    "cc_data_fraud['category'].value_counts().plot(kind='bar', color = 'red')\n",
    "plt.xlabel('Category')\n",
    "plt.ylabel('Number of transactions')\n",
    "plt.title('Bar Graph of FRAUD Transaction Categories')"
   ]
  },
  {
   "cell_type": "markdown",
   "id": "629f2ca7",
   "metadata": {},
   "source": [
    "### Does state affect target variable?"
   ]
  },
  {
   "cell_type": "code",
   "execution_count": null,
   "id": "55544868",
   "metadata": {},
   "outputs": [],
   "source": []
  }
 ],
 "metadata": {
  "kernelspec": {
   "display_name": "Python 3",
   "language": "python",
   "name": "python3"
  },
  "language_info": {
   "codemirror_mode": {
    "name": "ipython",
    "version": 3
   },
   "file_extension": ".py",
   "mimetype": "text/x-python",
   "name": "python",
   "nbconvert_exporter": "python",
   "pygments_lexer": "ipython3",
   "version": "3.8.8"
  }
 },
 "nbformat": 4,
 "nbformat_minor": 5
}
